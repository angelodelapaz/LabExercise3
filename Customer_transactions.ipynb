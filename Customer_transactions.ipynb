{
 "cells": [
  {
   "cell_type": "markdown",
   "id": "8e062264",
   "metadata": {},
   "source": [
    "# Customer transactions"
   ]
  },
  {
   "cell_type": "markdown",
   "id": "f578e531-74d8-4345-92bb-6b1cb087fdfd",
   "metadata": {},
   "source": [
    "## Imports"
   ]
  },
  {
   "cell_type": "code",
   "execution_count": 2,
   "id": "1b9c28d3-c2a1-42d8-94af-fb9f95bef2b3",
   "metadata": {},
   "outputs": [],
   "source": [
    "import pandas as pd\n",
    "import numpy as np\n",
    "import datetime\n",
    "import re\n",
    "from datetime import date\n",
    "# from sqlalchemy import create_engine,VARCHAR, DATE"
   ]
  },
  {
   "cell_type": "markdown",
   "id": "50fbed4b-f91a-46e4-9bbd-0b304ea882e5",
   "metadata": {},
   "source": [
    "## Read the JSON file"
   ]
  },
  {
   "cell_type": "code",
   "execution_count": 3,
   "id": "1aa66b96-c3ef-4a54-9c4d-0c3f50e2b28a",
   "metadata": {},
   "outputs": [],
   "source": [
    "df_customer_transaction = pd.read_json(\"customer_transaction_info.json\")"
   ]
  },
  {
   "cell_type": "markdown",
   "id": "f91d3b67-e7d8-45ad-80da-126203583f63",
   "metadata": {},
   "source": [
    "# Profiling the Data\n"
   ]
  },
  {
   "cell_type": "markdown",
   "id": "80c7abd5-8dbd-4a40-a33e-4925b9605bd3",
   "metadata": {},
   "source": [
    "## Initial rows and columns"
   ]
  },
  {
   "cell_type": "code",
   "execution_count": 4,
   "id": "beca849c-da68-4db8-9027-554137231feb",
   "metadata": {},
   "outputs": [
    {
     "name": "stdout",
     "output_type": "stream",
     "text": [
      "(130653, 5)\n"
     ]
    }
   ],
   "source": [
    "print(df_customer_transaction.shape) "
   ]
  },
  {
   "cell_type": "code",
   "execution_count": 5,
   "id": "a590a830-f923-4e08-9450-9fa79fdc6911",
   "metadata": {},
   "outputs": [
    {
     "data": {
      "text/html": [
       "<div>\n",
       "<style scoped>\n",
       "    .dataframe tbody tr th:only-of-type {\n",
       "        vertical-align: middle;\n",
       "    }\n",
       "\n",
       "    .dataframe tbody tr th {\n",
       "        vertical-align: top;\n",
       "    }\n",
       "\n",
       "    .dataframe thead th {\n",
       "        text-align: right;\n",
       "    }\n",
       "</style>\n",
       "<table border=\"1\" class=\"dataframe\">\n",
       "  <thead>\n",
       "    <tr style=\"text-align: right;\">\n",
       "      <th></th>\n",
       "      <th>txn_id</th>\n",
       "      <th>avail_date</th>\n",
       "      <th>last_name</th>\n",
       "      <th>first_name</th>\n",
       "      <th>birthday</th>\n",
       "    </tr>\n",
       "  </thead>\n",
       "  <tbody>\n",
       "    <tr>\n",
       "      <th>0</th>\n",
       "      <td>TXN-24546</td>\n",
       "      <td>2030-09-08</td>\n",
       "      <td>ORTIZ</td>\n",
       "      <td>EDUARDO</td>\n",
       "      <td>1990-07-08</td>\n",
       "    </tr>\n",
       "    <tr>\n",
       "      <th>1</th>\n",
       "      <td>TXN-14642</td>\n",
       "      <td>2026-05-26</td>\n",
       "      <td>NIENOW</td>\n",
       "      <td>LEA</td>\n",
       "      <td>2000-11-26</td>\n",
       "    </tr>\n",
       "    <tr>\n",
       "      <th>2</th>\n",
       "      <td>TXN-60295</td>\n",
       "      <td>2006-09-25</td>\n",
       "      <td>LESCH</td>\n",
       "      <td>FLETA</td>\n",
       "      <td>1993-05-22</td>\n",
       "    </tr>\n",
       "    <tr>\n",
       "      <th>3</th>\n",
       "      <td>TXN-60295</td>\n",
       "      <td>2006-09-25</td>\n",
       "      <td>LESCH</td>\n",
       "      <td>FLETA</td>\n",
       "      <td>1993-05-22</td>\n",
       "    </tr>\n",
       "    <tr>\n",
       "      <th>4</th>\n",
       "      <td>TXN-60295</td>\n",
       "      <td>2006-09-25</td>\n",
       "      <td>LESCH</td>\n",
       "      <td>FLETA</td>\n",
       "      <td>1993-05-22</td>\n",
       "    </tr>\n",
       "    <tr>\n",
       "      <th>...</th>\n",
       "      <td>...</td>\n",
       "      <td>...</td>\n",
       "      <td>...</td>\n",
       "      <td>...</td>\n",
       "      <td>...</td>\n",
       "    </tr>\n",
       "    <tr>\n",
       "      <th>130648</th>\n",
       "      <td>TXN-65468</td>\n",
       "      <td>2012-06-16</td>\n",
       "      <td>Cummings</td>\n",
       "      <td>Henry</td>\n",
       "      <td>2005-08-14</td>\n",
       "    </tr>\n",
       "    <tr>\n",
       "      <th>130649</th>\n",
       "      <td>TXN-60822</td>\n",
       "      <td>2020-09-28</td>\n",
       "      <td>Feil</td>\n",
       "      <td>Jermey</td>\n",
       "      <td>2010-06-15</td>\n",
       "    </tr>\n",
       "    <tr>\n",
       "      <th>130650</th>\n",
       "      <td>TXN-60822</td>\n",
       "      <td>2020-09-28</td>\n",
       "      <td>Feil</td>\n",
       "      <td>Jermey</td>\n",
       "      <td>2010-06-15</td>\n",
       "    </tr>\n",
       "    <tr>\n",
       "      <th>130651</th>\n",
       "      <td>TXN-01784</td>\n",
       "      <td>2015-01-11</td>\n",
       "      <td>Schmidt</td>\n",
       "      <td>Emilie</td>\n",
       "      <td>1996-05-21</td>\n",
       "    </tr>\n",
       "    <tr>\n",
       "      <th>130652</th>\n",
       "      <td>TXN-01784</td>\n",
       "      <td>2015-01-11</td>\n",
       "      <td>Schmidt</td>\n",
       "      <td>Emilie</td>\n",
       "      <td>1996-05-21</td>\n",
       "    </tr>\n",
       "  </tbody>\n",
       "</table>\n",
       "<p>130653 rows × 5 columns</p>\n",
       "</div>"
      ],
      "text/plain": [
       "           txn_id  avail_date last_name first_name    birthday\n",
       "0       TXN-24546  2030-09-08     ORTIZ    EDUARDO  1990-07-08\n",
       "1       TXN-14642  2026-05-26    NIENOW        LEA  2000-11-26\n",
       "2       TXN-60295  2006-09-25     LESCH      FLETA  1993-05-22\n",
       "3       TXN-60295  2006-09-25     LESCH      FLETA  1993-05-22\n",
       "4       TXN-60295  2006-09-25     LESCH      FLETA  1993-05-22\n",
       "...           ...         ...       ...        ...         ...\n",
       "130648  TXN-65468  2012-06-16  Cummings      Henry  2005-08-14\n",
       "130649  TXN-60822  2020-09-28      Feil     Jermey  2010-06-15\n",
       "130650  TXN-60822  2020-09-28      Feil     Jermey  2010-06-15\n",
       "130651  TXN-01784  2015-01-11   Schmidt     Emilie  1996-05-21\n",
       "130652  TXN-01784  2015-01-11   Schmidt     Emilie  1996-05-21\n",
       "\n",
       "[130653 rows x 5 columns]"
      ]
     },
     "execution_count": 5,
     "metadata": {},
     "output_type": "execute_result"
    }
   ],
   "source": [
    "length = len(df_customer_transaction)\n",
    "df_customer_transaction.head(length)"
   ]
  },
  {
   "cell_type": "markdown",
   "id": "140861f9-1420-4b8f-8cf8-718998b67fb5",
   "metadata": {},
   "source": [
    "## Getting the key columns"
   ]
  },
  {
   "cell_type": "code",
   "execution_count": 6,
   "id": "f4a660f2-0cc6-408d-a48e-7599a28ff19b",
   "metadata": {},
   "outputs": [
    {
     "name": "stdout",
     "output_type": "stream",
     "text": [
      "Index(['txn_id', 'avail_date', 'last_name', 'first_name', 'birthday'], dtype='object')\n"
     ]
    }
   ],
   "source": [
    "print(df_customer_transaction.columns)"
   ]
  },
  {
   "cell_type": "markdown",
   "id": "b6614de5-81a7-4877-93a3-f2ceabe5e34a",
   "metadata": {},
   "source": [
    "## Initial Data Checking"
   ]
  },
  {
   "cell_type": "markdown",
   "id": "7076b148-4268-465e-9bb4-ab2140eb8dfc",
   "metadata": {},
   "source": [
    "## Number Of Unique Transactions"
   ]
  },
  {
   "cell_type": "code",
   "execution_count": 7,
   "id": "133d16c5-1a5b-4146-b4f5-dc3b5376ad46",
   "metadata": {},
   "outputs": [
    {
     "name": "stdout",
     "output_type": "stream",
     "text": [
      "62354\n"
     ]
    }
   ],
   "source": [
    "print(df_customer_transaction['txn_id'].nunique())"
   ]
  },
  {
   "cell_type": "markdown",
   "id": "15c43584-8a12-4132-abc6-2a9e5c761c84",
   "metadata": {},
   "source": [
    "## Total Number of Duplicated Transactions (Ground for Duplication)"
   ]
  },
  {
   "cell_type": "code",
   "execution_count": 30,
   "id": "b872a25f-76a8-445f-b637-e2aee5c5334c",
   "metadata": {},
   "outputs": [
    {
     "name": "stdout",
     "output_type": "stream",
     "text": [
      "58298\n"
     ]
    }
   ],
   "source": [
    "print(df_customer_transaction.duplicated().sum())"
   ]
  },
  {
   "cell_type": "markdown",
   "id": "3c850a1a-f522-4de2-a35e-844da5eb6208",
   "metadata": {},
   "source": [
    "## Null Checking for Transactions (For Removal)"
   ]
  },
  {
   "cell_type": "code",
   "execution_count": 8,
   "id": "c232c185-e2a2-45ef-99ce-3a324649a7b7",
   "metadata": {},
   "outputs": [
    {
     "name": "stdout",
     "output_type": "stream",
     "text": [
      "Empty DataFrame\n",
      "Columns: [txn_id, avail_date, last_name, first_name, birthday]\n",
      "Index: []\n"
     ]
    }
   ],
   "source": [
    "filtered_txn = df_customer_transaction[df_customer_transaction['txn_id'].isnull()]\n",
    "print(filtered_txn)"
   ]
  },
  {
   "cell_type": "markdown",
   "id": "91a0efa6-fe3e-4b6d-9f96-c0388f391723",
   "metadata": {},
   "source": [
    "## Date Checking for Future Avail Dates "
   ]
  },
  {
   "cell_type": "code",
   "execution_count": 9,
   "id": "7a2e56c0-b7b6-4e6d-a94b-4b3e1eed0319",
   "metadata": {},
   "outputs": [
    {
     "name": "stdout",
     "output_type": "stream",
     "text": [
      "           txn_id avail_date  last_name first_name    birthday\n",
      "0       TXN-24546 2030-09-08      ORTIZ    EDUARDO  1990-07-08\n",
      "1       TXN-14642 2026-05-26     NIENOW        LEA  2000-11-26\n",
      "15      TXN-41934 2025-03-07       HANE     SYLVAN  2007-07-02\n",
      "16      TXN-41934 2025-03-07       HANE     SYLVAN  2007-07-02\n",
      "17      TXN-41934 2025-03-07       HANE     SYLVAN  2007-07-02\n",
      "...           ...        ...        ...        ...         ...\n",
      "130641  TXN-16095 2027-08-19  Bergstrom    Dedrick  2000-04-15\n",
      "130642  TXN-16095 2027-08-19  Bergstrom    Dedrick  2000-04-15\n",
      "130643  TXN-11897 2027-06-19    Reinger     Conrad  1996-12-03\n",
      "130644  TXN-11897 2027-06-19    Reinger     Conrad  1996-12-03\n",
      "130645  TXN-11897 2027-06-19    Reinger     Conrad  1996-12-03\n",
      "\n",
      "[35539 rows x 5 columns]\n"
     ]
    }
   ],
   "source": [
    "df_customer_transaction['avail_date'] = pd.to_datetime(df_customer_transaction['avail_date'])\n",
    "filtered_dates = df_customer_transaction.loc[(df_customer_transaction['avail_date'] > datetime.datetime.now())]\n",
    "print(filtered_dates)"
   ]
  },
  {
   "cell_type": "markdown",
   "id": "a7fb64d5-910e-412f-afff-077106ae01fa",
   "metadata": {},
   "source": [
    "## Date Checking for Future Birth Dates "
   ]
  },
  {
   "cell_type": "code",
   "execution_count": 10,
   "id": "0bc87afd-89a8-4d8b-8a3b-6d2c1a529866",
   "metadata": {},
   "outputs": [
    {
     "name": "stdout",
     "output_type": "stream",
     "text": [
      "Empty DataFrame\n",
      "Columns: [txn_id, avail_date, last_name, first_name, birthday]\n",
      "Index: []\n"
     ]
    }
   ],
   "source": [
    "df_customer_transaction['birthday'] = pd.to_datetime(df_customer_transaction['birthday'])\n",
    "filtered_dates = df_customer_transaction.loc[(df_customer_transaction['birthday'] > datetime.datetime.now())]\n",
    "print(filtered_dates)"
   ]
  },
  {
   "cell_type": "markdown",
   "id": "0573a912-d0b4-4ff1-a93e-ad3b5ae087d8",
   "metadata": {},
   "source": [
    "## Date Checking for Avail Dates being earlier than Birth Dates"
   ]
  },
  {
   "cell_type": "code",
   "execution_count": 11,
   "id": "1f62ed68-6539-45e6-a0bb-37b6eed2461d",
   "metadata": {},
   "outputs": [
    {
     "name": "stdout",
     "output_type": "stream",
     "text": [
      "           txn_id avail_date last_name first_name   birthday\n",
      "22      TXN-49423 2008-08-13     BERGE    RASHEED 2010-02-05\n",
      "23      TXN-49423 2008-08-13     BERGE    RASHEED 2010-02-05\n",
      "36      TXN-35244 2005-11-23    HAMMES     EUNICE 2006-06-13\n",
      "37      TXN-35244 2005-11-23    HAMMES     EUNICE 2006-06-13\n",
      "194     TXN-23898 2005-05-28  BOTSFORD     GIANNI 2009-03-30\n",
      "...           ...        ...       ...        ...        ...\n",
      "130512  TXN-53675 2005-03-29   Cormier  Adalberto 2008-11-06\n",
      "130513  TXN-53675 2005-03-29   Cormier  Adalberto 2008-11-06\n",
      "130595  TXN-30851 2006-03-21    Hessel     Kattie 2009-09-06\n",
      "130596  TXN-30851 2006-03-21    Hessel     Kattie 2009-09-06\n",
      "130597  TXN-30851 2006-03-21    Hessel     Kattie 2009-09-06\n",
      "\n",
      "[4233 rows x 5 columns]\n"
     ]
    }
   ],
   "source": [
    "filtered_dates = df_customer_transaction.loc[(df_customer_transaction['birthday'] > df_customer_transaction['avail_date'])]\n",
    "print(filtered_dates)"
   ]
  },
  {
   "cell_type": "markdown",
   "id": "60e5c904-98db-4540-8e62-1aac459e7583",
   "metadata": {},
   "source": [
    "## Name Checking for nonAlphaNumeric Characters (For fixing)"
   ]
  },
  {
   "cell_type": "code",
   "execution_count": 12,
   "id": "09177978-73fc-415c-a335-635e4f98a152",
   "metadata": {},
   "outputs": [
    {
     "name": "stdout",
     "output_type": "stream",
     "text": [
      "          txn_id avail_date        last_name       first_name   birthday\n",
      "60000  TXN-04581 2019-09-03     Will,,,,,,,,  Aurelio........ 1993-07-12\n",
      "60001  TXN-17309 2015-01-04  Krajcik,,,,,,,,    Ebony........ 2003-11-18\n",
      "60002  TXN-18201 2021-04-28  Gutmann,,,,,,,,  Agustin........ 2009-03-11\n",
      "60003  TXN-60631 2012-03-13   Kemmer,,,,,,,,     Alda........ 2004-08-18\n",
      "60004  TXN-60631 2012-03-13   Kemmer,,,,,,,,     Alda........ 2004-08-18\n",
      "...          ...        ...              ...              ...        ...\n",
      "79995  TXN-54391 2028-10-31    Johns,,,,,,,,   Turner........ 2010-04-16\n",
      "79996  TXN-54391 2028-10-31    Johns,,,,,,,,   Turner........ 2010-04-16\n",
      "79997  TXN-54391 2028-10-31    Johns,,,,,,,,   Turner........ 2010-04-16\n",
      "79998  TXN-54391 2028-10-31    Johns,,,,,,,,   Turner........ 2010-04-16\n",
      "79999  TXN-54391 2028-10-31    Johns,,,,,,,,   Turner........ 2010-04-16\n",
      "\n",
      "[20000 rows x 5 columns]\n"
     ]
    }
   ],
   "source": [
    "filtered_names = df_customer_transaction[df_customer_transaction['first_name'].str.contains(r'[^\\w\\s]')]\n",
    "print(filtered_names)"
   ]
  },
  {
   "cell_type": "code",
   "execution_count": 13,
   "id": "7cec8ee2-cb09-41ac-9a16-73855e351f9f",
   "metadata": {},
   "outputs": [
    {
     "name": "stdout",
     "output_type": "stream",
     "text": [
      "          txn_id avail_date        last_name       first_name   birthday\n",
      "60000  TXN-04581 2019-09-03     Will,,,,,,,,  Aurelio........ 1993-07-12\n",
      "60001  TXN-17309 2015-01-04  Krajcik,,,,,,,,    Ebony........ 2003-11-18\n",
      "60002  TXN-18201 2021-04-28  Gutmann,,,,,,,,  Agustin........ 2009-03-11\n",
      "60003  TXN-60631 2012-03-13   Kemmer,,,,,,,,     Alda........ 2004-08-18\n",
      "60004  TXN-60631 2012-03-13   Kemmer,,,,,,,,     Alda........ 2004-08-18\n",
      "...          ...        ...              ...              ...        ...\n",
      "79995  TXN-54391 2028-10-31    Johns,,,,,,,,   Turner........ 2010-04-16\n",
      "79996  TXN-54391 2028-10-31    Johns,,,,,,,,   Turner........ 2010-04-16\n",
      "79997  TXN-54391 2028-10-31    Johns,,,,,,,,   Turner........ 2010-04-16\n",
      "79998  TXN-54391 2028-10-31    Johns,,,,,,,,   Turner........ 2010-04-16\n",
      "79999  TXN-54391 2028-10-31    Johns,,,,,,,,   Turner........ 2010-04-16\n",
      "\n",
      "[20000 rows x 5 columns]\n"
     ]
    }
   ],
   "source": [
    "filtered_names = df_customer_transaction[df_customer_transaction['last_name'].str.contains(r'[^\\w\\s]')]\n",
    "print(filtered_names)"
   ]
  },
  {
   "cell_type": "markdown",
   "id": "a95a9250-dd17-4b1c-b03b-9eb960d9cba7",
   "metadata": {},
   "source": [
    "## Name Checking for All Capitals (For fixing)"
   ]
  },
  {
   "cell_type": "code",
   "execution_count": 14,
   "id": "cb69e1cf-e673-4a91-8ad2-c0f13056333b",
   "metadata": {},
   "outputs": [
    {
     "name": "stdout",
     "output_type": "stream",
     "text": [
      "          txn_id avail_date last_name first_name   birthday\n",
      "0      TXN-24546 2030-09-08     ORTIZ    EDUARDO 1990-07-08\n",
      "1      TXN-14642 2026-05-26    NIENOW        LEA 2000-11-26\n",
      "2      TXN-60295 2006-09-25     LESCH      FLETA 1993-05-22\n",
      "3      TXN-60295 2006-09-25     LESCH      FLETA 1993-05-22\n",
      "4      TXN-60295 2006-09-25     LESCH      FLETA 1993-05-22\n",
      "...          ...        ...       ...        ...        ...\n",
      "19995  TXN-11721 2006-08-09     LESCH      VICKY 1999-11-16\n",
      "19996  TXN-64348 2008-01-04    DURGAN     NANNIE 1995-04-22\n",
      "19997  TXN-64348 2008-01-04    DURGAN     NANNIE 1995-04-22\n",
      "19998  TXN-64348 2008-01-04    DURGAN     NANNIE 1995-04-22\n",
      "19999  TXN-05451 2021-10-24  PROHASKA   BERNEICE 1993-01-11\n",
      "\n",
      "[20000 rows x 5 columns]\n"
     ]
    }
   ],
   "source": [
    "filtered_names = df_customer_transaction[df_customer_transaction['first_name'].str.isupper()]\n",
    "print(filtered_names)"
   ]
  },
  {
   "cell_type": "code",
   "execution_count": 15,
   "id": "fa7cabc1-dd2a-43ad-8b7f-ac4bcd7ab327",
   "metadata": {},
   "outputs": [
    {
     "name": "stdout",
     "output_type": "stream",
     "text": [
      "          txn_id avail_date last_name first_name   birthday\n",
      "0      TXN-24546 2030-09-08     ORTIZ    EDUARDO 1990-07-08\n",
      "1      TXN-14642 2026-05-26    NIENOW        LEA 2000-11-26\n",
      "2      TXN-60295 2006-09-25     LESCH      FLETA 1993-05-22\n",
      "3      TXN-60295 2006-09-25     LESCH      FLETA 1993-05-22\n",
      "4      TXN-60295 2006-09-25     LESCH      FLETA 1993-05-22\n",
      "...          ...        ...       ...        ...        ...\n",
      "19995  TXN-11721 2006-08-09     LESCH      VICKY 1999-11-16\n",
      "19996  TXN-64348 2008-01-04    DURGAN     NANNIE 1995-04-22\n",
      "19997  TXN-64348 2008-01-04    DURGAN     NANNIE 1995-04-22\n",
      "19998  TXN-64348 2008-01-04    DURGAN     NANNIE 1995-04-22\n",
      "19999  TXN-05451 2021-10-24  PROHASKA   BERNEICE 1993-01-11\n",
      "\n",
      "[20000 rows x 5 columns]\n"
     ]
    }
   ],
   "source": [
    "filtered_names = df_customer_transaction[df_customer_transaction['last_name'].str.isupper()]\n",
    "print(filtered_names)"
   ]
  },
  {
   "cell_type": "markdown",
   "id": "801b9ba2-c718-4af4-bccc-5d2c103d2d06",
   "metadata": {},
   "source": [
    "## Name Checking for All Lowercase (For fixing)"
   ]
  },
  {
   "cell_type": "code",
   "execution_count": 16,
   "id": "8532e1bb-abc7-4659-a6d8-f72bef9522e4",
   "metadata": {},
   "outputs": [
    {
     "name": "stdout",
     "output_type": "stream",
     "text": [
      "          txn_id avail_date last_name first_name   birthday\n",
      "20000  TXN-05451 2021-10-24  prohaska   berneice 1993-01-11\n",
      "20001  TXN-05451 2021-10-24  prohaska   berneice 1993-01-11\n",
      "20002  TXN-02255 2010-03-26      hane        toy 2009-06-30\n",
      "20003  TXN-02255 2010-03-26      hane        toy 2009-06-30\n",
      "20004  TXN-02255 2010-03-26      hane        toy 2009-06-30\n",
      "...          ...        ...       ...        ...        ...\n",
      "39995  TXN-45930 2016-05-05      mann   vivianne 2000-12-19\n",
      "39996  TXN-03162 2015-12-07  jacobson     barney 2006-12-08\n",
      "39997  TXN-03162 2015-12-07  jacobson     barney 2006-12-08\n",
      "39998  TXN-16572 2006-05-31  turcotte     jazmyn 1993-06-20\n",
      "39999  TXN-16572 2006-05-31  turcotte     jazmyn 1993-06-20\n",
      "\n",
      "[20000 rows x 5 columns]\n"
     ]
    }
   ],
   "source": [
    "filtered_names = df_customer_transaction[df_customer_transaction['first_name'].str.islower()]\n",
    "print(filtered_names)"
   ]
  },
  {
   "cell_type": "code",
   "execution_count": 17,
   "id": "735ae487-5cb7-4b23-88b4-4516ed1eb2f4",
   "metadata": {},
   "outputs": [
    {
     "name": "stdout",
     "output_type": "stream",
     "text": [
      "          txn_id avail_date last_name first_name   birthday\n",
      "20000  TXN-05451 2021-10-24  prohaska   berneice 1993-01-11\n",
      "20001  TXN-05451 2021-10-24  prohaska   berneice 1993-01-11\n",
      "20002  TXN-02255 2010-03-26      hane        toy 2009-06-30\n",
      "20003  TXN-02255 2010-03-26      hane        toy 2009-06-30\n",
      "20004  TXN-02255 2010-03-26      hane        toy 2009-06-30\n",
      "...          ...        ...       ...        ...        ...\n",
      "39995  TXN-45930 2016-05-05      mann   vivianne 2000-12-19\n",
      "39996  TXN-03162 2015-12-07  jacobson     barney 2006-12-08\n",
      "39997  TXN-03162 2015-12-07  jacobson     barney 2006-12-08\n",
      "39998  TXN-16572 2006-05-31  turcotte     jazmyn 1993-06-20\n",
      "39999  TXN-16572 2006-05-31  turcotte     jazmyn 1993-06-20\n",
      "\n",
      "[20000 rows x 5 columns]\n"
     ]
    }
   ],
   "source": [
    "filtered_names = df_customer_transaction[df_customer_transaction['last_name'].str.islower()]\n",
    "print(filtered_names)"
   ]
  },
  {
   "cell_type": "markdown",
   "id": "e656f31e-849c-4a85-bea3-93a595d0ef77",
   "metadata": {},
   "source": [
    "## Null Checking for Dates (For Removal)"
   ]
  },
  {
   "cell_type": "code",
   "execution_count": 18,
   "id": "9e0adacb-8dff-4bc6-af36-cca534d79f11",
   "metadata": {},
   "outputs": [
    {
     "name": "stdout",
     "output_type": "stream",
     "text": [
      "Empty DataFrame\n",
      "Columns: [txn_id, avail_date, last_name, first_name, birthday]\n",
      "Index: []\n"
     ]
    }
   ],
   "source": [
    "filtered_dates = df_customer_transaction[df_customer_transaction['birthday'].isnull()]\n",
    "print(filtered_dates)"
   ]
  },
  {
   "cell_type": "code",
   "execution_count": 19,
   "id": "ed734a15-ab0b-4447-8171-895041db4a3f",
   "metadata": {},
   "outputs": [
    {
     "name": "stdout",
     "output_type": "stream",
     "text": [
      "Empty DataFrame\n",
      "Columns: [txn_id, avail_date, last_name, first_name, birthday]\n",
      "Index: []\n"
     ]
    }
   ],
   "source": [
    "filtered_dates = df_customer_transaction[df_customer_transaction['avail_date'].isnull()]\n",
    "print(filtered_dates)"
   ]
  },
  {
   "cell_type": "markdown",
   "id": "b8d7df19-d811-44e8-b064-dd23ef5adc85",
   "metadata": {},
   "source": [
    "## Null Checking for Names (For Removal)"
   ]
  },
  {
   "cell_type": "code",
   "execution_count": 20,
   "id": "c19fc68b-1330-419a-83f9-493a31a76ade",
   "metadata": {},
   "outputs": [
    {
     "name": "stdout",
     "output_type": "stream",
     "text": [
      "Empty DataFrame\n",
      "Columns: [txn_id, avail_date, last_name, first_name, birthday]\n",
      "Index: []\n"
     ]
    }
   ],
   "source": [
    "filtered_names = df_customer_transaction[df_customer_transaction['first_name'].isnull()]\n",
    "print(filtered_names)"
   ]
  },
  {
   "cell_type": "code",
   "execution_count": 21,
   "id": "686a0845-bfc2-4d4f-925a-a15178870409",
   "metadata": {},
   "outputs": [
    {
     "name": "stdout",
     "output_type": "stream",
     "text": [
      "Empty DataFrame\n",
      "Columns: [txn_id, avail_date, last_name, first_name, birthday]\n",
      "Index: []\n"
     ]
    }
   ],
   "source": [
    "filtered_names = df_customer_transaction[df_customer_transaction['last_name'].isnull()]\n",
    "print(filtered_names)"
   ]
  },
  {
   "cell_type": "markdown",
   "id": "cd771901",
   "metadata": {},
   "source": [
    "# Data Cleaning"
   ]
  },
  {
   "cell_type": "markdown",
   "id": "d33e3e7c-b4a1-4f0e-a844-cf17364dfebf",
   "metadata": {},
   "source": [
    "## Drop Inconsistent/Wrong Birth and Avail Dates"
   ]
  },
  {
   "cell_type": "code",
   "execution_count": 22,
   "id": "ca1650f1",
   "metadata": {},
   "outputs": [],
   "source": [
    "df_customer_transaction['avail_date'] = pd.to_datetime(df_customer_transaction['avail_date'], errors='coerce')\n",
    "df_customer_transaction['birthday'] = pd.to_datetime(df_customer_transaction['birthday'], errors='coerce')\n",
    "df_filt = df_customer_transaction[(df_customer_transaction['avail_date'] <= pd.to_datetime(date.today()))]\n",
    "df_filt = df_filt[(df_filt['birthday'] <= pd.to_datetime(date.today()))]\n",
    "df_bday_avail = df_filt[(df_filt['birthday'] < df_filt['avail_date'])]"
   ]
  },
  {
   "cell_type": "markdown",
   "id": "869de788",
   "metadata": {},
   "source": [
    "## Drop Duplicates"
   ]
  },
  {
   "cell_type": "code",
   "execution_count": 23,
   "id": "16d5ac33",
   "metadata": {},
   "outputs": [],
   "source": [
    "df_DropDuplicated_Customers = df_bday_avail.drop_duplicates()"
   ]
  },
  {
   "cell_type": "markdown",
   "id": "9f915d0b",
   "metadata": {},
   "source": [
    "## Fix Non Alpha First and Last"
   ]
  },
  {
   "cell_type": "code",
   "execution_count": 24,
   "id": "6d382a13",
   "metadata": {},
   "outputs": [],
   "source": [
    "df_DropDuplicated_Customers['last_name'] = df_DropDuplicated_Customers['last_name'].str.replace(r'[^a-z0-9]', '', regex=True, flags = re.IGNORECASE)\n",
    "df_DropDuplicated_Customers['first_name'] = df_DropDuplicated_Customers['first_name'].str.replace(r'[^a-z0-9]', '', regex=True, flags = re.IGNORECASE)"
   ]
  },
  {
   "cell_type": "code",
   "execution_count": 25,
   "id": "5debdcda",
   "metadata": {},
   "outputs": [],
   "source": [
    "df_DropDuplicated_Customers.to_parquet('finalcustomerinfo.parquet')"
   ]
  },
  {
   "cell_type": "code",
   "execution_count": 26,
   "id": "33d14d4d",
   "metadata": {},
   "outputs": [
    {
     "data": {
      "text/html": [
       "<div>\n",
       "<style scoped>\n",
       "    .dataframe tbody tr th:only-of-type {\n",
       "        vertical-align: middle;\n",
       "    }\n",
       "\n",
       "    .dataframe tbody tr th {\n",
       "        vertical-align: top;\n",
       "    }\n",
       "\n",
       "    .dataframe thead th {\n",
       "        text-align: right;\n",
       "    }\n",
       "</style>\n",
       "<table border=\"1\" class=\"dataframe\">\n",
       "  <thead>\n",
       "    <tr style=\"text-align: right;\">\n",
       "      <th></th>\n",
       "      <th>txn_id</th>\n",
       "      <th>avail_date</th>\n",
       "      <th>last_name</th>\n",
       "      <th>first_name</th>\n",
       "      <th>birthday</th>\n",
       "    </tr>\n",
       "  </thead>\n",
       "  <tbody>\n",
       "    <tr>\n",
       "      <th>2</th>\n",
       "      <td>TXN-60295</td>\n",
       "      <td>2006-09-25</td>\n",
       "      <td>Lesch</td>\n",
       "      <td>Fleta</td>\n",
       "      <td>1993-05-22</td>\n",
       "    </tr>\n",
       "    <tr>\n",
       "      <th>6</th>\n",
       "      <td>TXN-40462</td>\n",
       "      <td>2021-08-21</td>\n",
       "      <td>Kuhn</td>\n",
       "      <td>Tod</td>\n",
       "      <td>2002-11-25</td>\n",
       "    </tr>\n",
       "    <tr>\n",
       "      <th>8</th>\n",
       "      <td>TXN-08102</td>\n",
       "      <td>2010-04-03</td>\n",
       "      <td>Johnson</td>\n",
       "      <td>Milton</td>\n",
       "      <td>2003-07-10</td>\n",
       "    </tr>\n",
       "    <tr>\n",
       "      <th>12</th>\n",
       "      <td>TXN-64262</td>\n",
       "      <td>2018-11-23</td>\n",
       "      <td>Hackett</td>\n",
       "      <td>Maci</td>\n",
       "      <td>2005-06-20</td>\n",
       "    </tr>\n",
       "    <tr>\n",
       "      <th>24</th>\n",
       "      <td>TXN-59988</td>\n",
       "      <td>2021-02-01</td>\n",
       "      <td>Bashirian</td>\n",
       "      <td>Brice</td>\n",
       "      <td>2004-07-20</td>\n",
       "    </tr>\n",
       "    <tr>\n",
       "      <th>25</th>\n",
       "      <td>TXN-08158</td>\n",
       "      <td>2023-08-05</td>\n",
       "      <td>Batz</td>\n",
       "      <td>Timmothy</td>\n",
       "      <td>2008-10-06</td>\n",
       "    </tr>\n",
       "    <tr>\n",
       "      <th>30</th>\n",
       "      <td>TXN-37609</td>\n",
       "      <td>2022-09-04</td>\n",
       "      <td>Kunde</td>\n",
       "      <td>Mariana</td>\n",
       "      <td>1996-10-29</td>\n",
       "    </tr>\n",
       "    <tr>\n",
       "      <th>31</th>\n",
       "      <td>TXN-31294</td>\n",
       "      <td>2018-01-04</td>\n",
       "      <td>Breitenberg</td>\n",
       "      <td>Madge</td>\n",
       "      <td>2006-06-22</td>\n",
       "    </tr>\n",
       "    <tr>\n",
       "      <th>38</th>\n",
       "      <td>TXN-21732</td>\n",
       "      <td>2017-03-16</td>\n",
       "      <td>Turcotte</td>\n",
       "      <td>Hellen</td>\n",
       "      <td>1996-03-25</td>\n",
       "    </tr>\n",
       "    <tr>\n",
       "      <th>39</th>\n",
       "      <td>TXN-31732</td>\n",
       "      <td>2013-04-28</td>\n",
       "      <td>Lockman</td>\n",
       "      <td>Chadd</td>\n",
       "      <td>2003-06-17</td>\n",
       "    </tr>\n",
       "    <tr>\n",
       "      <th>41</th>\n",
       "      <td>TXN-38645</td>\n",
       "      <td>2021-07-21</td>\n",
       "      <td>Hammes</td>\n",
       "      <td>Antoinette</td>\n",
       "      <td>2001-07-20</td>\n",
       "    </tr>\n",
       "    <tr>\n",
       "      <th>46</th>\n",
       "      <td>TXN-34790</td>\n",
       "      <td>2023-01-04</td>\n",
       "      <td>Padberg</td>\n",
       "      <td>Shemar</td>\n",
       "      <td>2010-10-25</td>\n",
       "    </tr>\n",
       "    <tr>\n",
       "      <th>47</th>\n",
       "      <td>TXN-30063</td>\n",
       "      <td>2015-06-25</td>\n",
       "      <td>Zieme</td>\n",
       "      <td>Robyn</td>\n",
       "      <td>1991-05-10</td>\n",
       "    </tr>\n",
       "    <tr>\n",
       "      <th>57</th>\n",
       "      <td>TXN-13842</td>\n",
       "      <td>2022-08-31</td>\n",
       "      <td>Olson</td>\n",
       "      <td>Berry</td>\n",
       "      <td>2001-07-10</td>\n",
       "    </tr>\n",
       "    <tr>\n",
       "      <th>58</th>\n",
       "      <td>TXN-21223</td>\n",
       "      <td>2011-09-07</td>\n",
       "      <td>Stamm</td>\n",
       "      <td>Salvador</td>\n",
       "      <td>1991-12-29</td>\n",
       "    </tr>\n",
       "    <tr>\n",
       "      <th>61</th>\n",
       "      <td>TXN-09306</td>\n",
       "      <td>2023-07-24</td>\n",
       "      <td>Tillman</td>\n",
       "      <td>Lenna</td>\n",
       "      <td>1993-07-25</td>\n",
       "    </tr>\n",
       "    <tr>\n",
       "      <th>63</th>\n",
       "      <td>TXN-61437</td>\n",
       "      <td>2014-10-04</td>\n",
       "      <td>Connelly</td>\n",
       "      <td>Donnell</td>\n",
       "      <td>2007-01-06</td>\n",
       "    </tr>\n",
       "    <tr>\n",
       "      <th>66</th>\n",
       "      <td>TXN-08569</td>\n",
       "      <td>2016-06-28</td>\n",
       "      <td>Schamberger</td>\n",
       "      <td>Barry</td>\n",
       "      <td>1996-10-21</td>\n",
       "    </tr>\n",
       "    <tr>\n",
       "      <th>71</th>\n",
       "      <td>TXN-41623</td>\n",
       "      <td>2016-06-05</td>\n",
       "      <td>Reynolds</td>\n",
       "      <td>Allison</td>\n",
       "      <td>1997-07-26</td>\n",
       "    </tr>\n",
       "    <tr>\n",
       "      <th>74</th>\n",
       "      <td>TXN-28201</td>\n",
       "      <td>2006-06-15</td>\n",
       "      <td>Beier</td>\n",
       "      <td>Tyrese</td>\n",
       "      <td>2002-06-22</td>\n",
       "    </tr>\n",
       "    <tr>\n",
       "      <th>75</th>\n",
       "      <td>TXN-03974</td>\n",
       "      <td>2005-07-12</td>\n",
       "      <td>Mueller</td>\n",
       "      <td>Lysanne</td>\n",
       "      <td>1992-01-27</td>\n",
       "    </tr>\n",
       "    <tr>\n",
       "      <th>76</th>\n",
       "      <td>TXN-31636</td>\n",
       "      <td>2009-04-27</td>\n",
       "      <td>Shanahan</td>\n",
       "      <td>Ignatius</td>\n",
       "      <td>1990-10-25</td>\n",
       "    </tr>\n",
       "    <tr>\n",
       "      <th>79</th>\n",
       "      <td>TXN-51046</td>\n",
       "      <td>2007-10-01</td>\n",
       "      <td>Feest</td>\n",
       "      <td>Hattie</td>\n",
       "      <td>2000-06-20</td>\n",
       "    </tr>\n",
       "    <tr>\n",
       "      <th>82</th>\n",
       "      <td>TXN-31123</td>\n",
       "      <td>2019-06-23</td>\n",
       "      <td>Bartoletti</td>\n",
       "      <td>Joel</td>\n",
       "      <td>2009-10-25</td>\n",
       "    </tr>\n",
       "    <tr>\n",
       "      <th>83</th>\n",
       "      <td>TXN-37101</td>\n",
       "      <td>2013-12-22</td>\n",
       "      <td>Rau</td>\n",
       "      <td>John</td>\n",
       "      <td>1990-07-31</td>\n",
       "    </tr>\n",
       "    <tr>\n",
       "      <th>84</th>\n",
       "      <td>TXN-56854</td>\n",
       "      <td>2014-02-24</td>\n",
       "      <td>Dach</td>\n",
       "      <td>Kory</td>\n",
       "      <td>2008-09-21</td>\n",
       "    </tr>\n",
       "    <tr>\n",
       "      <th>86</th>\n",
       "      <td>TXN-63806</td>\n",
       "      <td>2022-07-12</td>\n",
       "      <td>Dooley</td>\n",
       "      <td>Savanah</td>\n",
       "      <td>1996-04-13</td>\n",
       "    </tr>\n",
       "    <tr>\n",
       "      <th>88</th>\n",
       "      <td>TXN-04405</td>\n",
       "      <td>2011-03-18</td>\n",
       "      <td>Abernathy</td>\n",
       "      <td>Domenick</td>\n",
       "      <td>2001-11-11</td>\n",
       "    </tr>\n",
       "    <tr>\n",
       "      <th>91</th>\n",
       "      <td>TXN-52606</td>\n",
       "      <td>2020-02-24</td>\n",
       "      <td>Luettgen</td>\n",
       "      <td>Pablo</td>\n",
       "      <td>2001-09-23</td>\n",
       "    </tr>\n",
       "    <tr>\n",
       "      <th>94</th>\n",
       "      <td>TXN-13398</td>\n",
       "      <td>2023-09-02</td>\n",
       "      <td>Rogahn</td>\n",
       "      <td>Garland</td>\n",
       "      <td>1992-04-30</td>\n",
       "    </tr>\n",
       "  </tbody>\n",
       "</table>\n",
       "</div>"
      ],
      "text/plain": [
       "       txn_id avail_date    last_name  first_name   birthday\n",
       "2   TXN-60295 2006-09-25        Lesch       Fleta 1993-05-22\n",
       "6   TXN-40462 2021-08-21         Kuhn         Tod 2002-11-25\n",
       "8   TXN-08102 2010-04-03      Johnson      Milton 2003-07-10\n",
       "12  TXN-64262 2018-11-23      Hackett        Maci 2005-06-20\n",
       "24  TXN-59988 2021-02-01    Bashirian       Brice 2004-07-20\n",
       "25  TXN-08158 2023-08-05         Batz    Timmothy 2008-10-06\n",
       "30  TXN-37609 2022-09-04        Kunde     Mariana 1996-10-29\n",
       "31  TXN-31294 2018-01-04  Breitenberg       Madge 2006-06-22\n",
       "38  TXN-21732 2017-03-16     Turcotte      Hellen 1996-03-25\n",
       "39  TXN-31732 2013-04-28      Lockman       Chadd 2003-06-17\n",
       "41  TXN-38645 2021-07-21       Hammes  Antoinette 2001-07-20\n",
       "46  TXN-34790 2023-01-04      Padberg      Shemar 2010-10-25\n",
       "47  TXN-30063 2015-06-25        Zieme       Robyn 1991-05-10\n",
       "57  TXN-13842 2022-08-31        Olson       Berry 2001-07-10\n",
       "58  TXN-21223 2011-09-07        Stamm    Salvador 1991-12-29\n",
       "61  TXN-09306 2023-07-24      Tillman       Lenna 1993-07-25\n",
       "63  TXN-61437 2014-10-04     Connelly     Donnell 2007-01-06\n",
       "66  TXN-08569 2016-06-28  Schamberger       Barry 1996-10-21\n",
       "71  TXN-41623 2016-06-05     Reynolds     Allison 1997-07-26\n",
       "74  TXN-28201 2006-06-15        Beier      Tyrese 2002-06-22\n",
       "75  TXN-03974 2005-07-12      Mueller     Lysanne 1992-01-27\n",
       "76  TXN-31636 2009-04-27     Shanahan    Ignatius 1990-10-25\n",
       "79  TXN-51046 2007-10-01        Feest      Hattie 2000-06-20\n",
       "82  TXN-31123 2019-06-23   Bartoletti        Joel 2009-10-25\n",
       "83  TXN-37101 2013-12-22          Rau        John 1990-07-31\n",
       "84  TXN-56854 2014-02-24         Dach        Kory 2008-09-21\n",
       "86  TXN-63806 2022-07-12       Dooley     Savanah 1996-04-13\n",
       "88  TXN-04405 2011-03-18    Abernathy    Domenick 2001-11-11\n",
       "91  TXN-52606 2020-02-24     Luettgen       Pablo 2001-09-23\n",
       "94  TXN-13398 2023-09-02       Rogahn     Garland 1992-04-30"
      ]
     },
     "execution_count": 26,
     "metadata": {},
     "output_type": "execute_result"
    }
   ],
   "source": [
    "df_DropDuplicated_Customers.head(30)"
   ]
  },
  {
   "cell_type": "markdown",
   "id": "08d7bc84",
   "metadata": {},
   "source": [
    "## Export the Clean Data to SQL "
   ]
  },
  {
   "cell_type": "code",
   "execution_count": 28,
   "id": "80082125",
   "metadata": {},
   "outputs": [],
   "source": [
    "# df_DropDuplicated_Customers['avail_date'] = pd.to_datetime(df_customer_transaction['avail_date'], errors='coerce')\n",
    "# df_DropDuplicated_Customers['birthday'] = pd.to_datetime(df_customer_transaction['birthday'], errors='coerce')\n",
    "# engine = create_engine('sqlite:///customer_transactions.db', echo=True)\n",
    "# nonAlphaNames.to_sql('customer_transactions', con=engine, if_exists='replace', index=False,\n",
    "#                               dtype={\n",
    "#                                   \"txn_id\": VARCHAR(10),\n",
    "#                                   \"avail_date\" : DATE,\n",
    "#                                   \"last_name\" : VARCHAR(20),\n",
    "#                                   \"first_name\" : VARCHAR(20),\n",
    "#                                   \"birthday\" : DATE,\n",
    "#                               })"
   ]
  }
 ],
 "metadata": {
  "kernelspec": {
   "display_name": "Python 3 (ipykernel)",
   "language": "python",
   "name": "python3"
  },
  "language_info": {
   "codemirror_mode": {
    "name": "ipython",
    "version": 3
   },
   "file_extension": ".py",
   "mimetype": "text/x-python",
   "name": "python",
   "nbconvert_exporter": "python",
   "pygments_lexer": "ipython3",
   "version": "3.12.0"
  }
 },
 "nbformat": 4,
 "nbformat_minor": 5
}
