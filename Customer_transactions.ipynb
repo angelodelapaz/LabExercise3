{
 "cells": [
  {
   "cell_type": "markdown",
   "id": "8e062264",
   "metadata": {},
   "source": [
    "# Customer transactions"
   ]
  },
  {
   "cell_type": "code",
   "execution_count": 1,
   "id": "1b9c28d3-c2a1-42d8-94af-fb9f95bef2b3",
   "metadata": {},
   "outputs": [],
   "source": [
    "import pandas as pd\n",
    "import numpy as np"
   ]
  },
  {
   "cell_type": "markdown",
   "id": "664cf8cc",
   "metadata": {},
   "source": [
    "## Import classes to SQL "
   ]
  },
  {
   "cell_type": "code",
   "execution_count": 2,
   "id": "6f5fe042-8372-4ea3-80e9-b2f5b8664975",
   "metadata": {},
   "outputs": [],
   "source": [
    "from sqlalchemy import create_engine,VARCHAR, DATE"
   ]
  },
  {
   "cell_type": "markdown",
   "id": "904deddc",
   "metadata": {},
   "source": [
    "## Import classes for date"
   ]
  },
  {
   "cell_type": "code",
   "execution_count": 3,
   "id": "ebad3128",
   "metadata": {},
   "outputs": [],
   "source": [
    "from datetime import date"
   ]
  },
  {
   "cell_type": "markdown",
   "id": "50fbed4b-f91a-46e4-9bbd-0b304ea882e5",
   "metadata": {},
   "source": [
    "## Read the JSON file"
   ]
  },
  {
   "cell_type": "code",
   "execution_count": 4,
   "id": "1aa66b96-c3ef-4a54-9c4d-0c3f50e2b28a",
   "metadata": {},
   "outputs": [],
   "source": [
    "df_customer_transaction = pd.read_json(\"customer_transaction_info.json\")"
   ]
  },
  {
   "cell_type": "code",
   "execution_count": 5,
   "id": "a590a830-f923-4e08-9450-9fa79fdc6911",
   "metadata": {},
   "outputs": [
    {
     "data": {
      "text/html": [
       "<div>\n",
       "<style scoped>\n",
       "    .dataframe tbody tr th:only-of-type {\n",
       "        vertical-align: middle;\n",
       "    }\n",
       "\n",
       "    .dataframe tbody tr th {\n",
       "        vertical-align: top;\n",
       "    }\n",
       "\n",
       "    .dataframe thead th {\n",
       "        text-align: right;\n",
       "    }\n",
       "</style>\n",
       "<table border=\"1\" class=\"dataframe\">\n",
       "  <thead>\n",
       "    <tr style=\"text-align: right;\">\n",
       "      <th></th>\n",
       "      <th>txn_id</th>\n",
       "      <th>avail_date</th>\n",
       "      <th>last_name</th>\n",
       "      <th>first_name</th>\n",
       "      <th>birthday</th>\n",
       "    </tr>\n",
       "  </thead>\n",
       "  <tbody>\n",
       "    <tr>\n",
       "      <th>0</th>\n",
       "      <td>TXN-24546</td>\n",
       "      <td>2030-09-08</td>\n",
       "      <td>ORTIZ</td>\n",
       "      <td>EDUARDO</td>\n",
       "      <td>1990-07-08</td>\n",
       "    </tr>\n",
       "    <tr>\n",
       "      <th>1</th>\n",
       "      <td>TXN-14642</td>\n",
       "      <td>2026-05-26</td>\n",
       "      <td>NIENOW</td>\n",
       "      <td>LEA</td>\n",
       "      <td>2000-11-26</td>\n",
       "    </tr>\n",
       "    <tr>\n",
       "      <th>2</th>\n",
       "      <td>TXN-60295</td>\n",
       "      <td>2006-09-25</td>\n",
       "      <td>LESCH</td>\n",
       "      <td>FLETA</td>\n",
       "      <td>1993-05-22</td>\n",
       "    </tr>\n",
       "    <tr>\n",
       "      <th>3</th>\n",
       "      <td>TXN-60295</td>\n",
       "      <td>2006-09-25</td>\n",
       "      <td>LESCH</td>\n",
       "      <td>FLETA</td>\n",
       "      <td>1993-05-22</td>\n",
       "    </tr>\n",
       "    <tr>\n",
       "      <th>4</th>\n",
       "      <td>TXN-60295</td>\n",
       "      <td>2006-09-25</td>\n",
       "      <td>LESCH</td>\n",
       "      <td>FLETA</td>\n",
       "      <td>1993-05-22</td>\n",
       "    </tr>\n",
       "    <tr>\n",
       "      <th>...</th>\n",
       "      <td>...</td>\n",
       "      <td>...</td>\n",
       "      <td>...</td>\n",
       "      <td>...</td>\n",
       "      <td>...</td>\n",
       "    </tr>\n",
       "    <tr>\n",
       "      <th>130648</th>\n",
       "      <td>TXN-65468</td>\n",
       "      <td>2012-06-16</td>\n",
       "      <td>Cummings</td>\n",
       "      <td>Henry</td>\n",
       "      <td>2005-08-14</td>\n",
       "    </tr>\n",
       "    <tr>\n",
       "      <th>130649</th>\n",
       "      <td>TXN-60822</td>\n",
       "      <td>2020-09-28</td>\n",
       "      <td>Feil</td>\n",
       "      <td>Jermey</td>\n",
       "      <td>2010-06-15</td>\n",
       "    </tr>\n",
       "    <tr>\n",
       "      <th>130650</th>\n",
       "      <td>TXN-60822</td>\n",
       "      <td>2020-09-28</td>\n",
       "      <td>Feil</td>\n",
       "      <td>Jermey</td>\n",
       "      <td>2010-06-15</td>\n",
       "    </tr>\n",
       "    <tr>\n",
       "      <th>130651</th>\n",
       "      <td>TXN-01784</td>\n",
       "      <td>2015-01-11</td>\n",
       "      <td>Schmidt</td>\n",
       "      <td>Emilie</td>\n",
       "      <td>1996-05-21</td>\n",
       "    </tr>\n",
       "    <tr>\n",
       "      <th>130652</th>\n",
       "      <td>TXN-01784</td>\n",
       "      <td>2015-01-11</td>\n",
       "      <td>Schmidt</td>\n",
       "      <td>Emilie</td>\n",
       "      <td>1996-05-21</td>\n",
       "    </tr>\n",
       "  </tbody>\n",
       "</table>\n",
       "<p>130653 rows × 5 columns</p>\n",
       "</div>"
      ],
      "text/plain": [
       "           txn_id  avail_date last_name first_name    birthday\n",
       "0       TXN-24546  2030-09-08     ORTIZ    EDUARDO  1990-07-08\n",
       "1       TXN-14642  2026-05-26    NIENOW        LEA  2000-11-26\n",
       "2       TXN-60295  2006-09-25     LESCH      FLETA  1993-05-22\n",
       "3       TXN-60295  2006-09-25     LESCH      FLETA  1993-05-22\n",
       "4       TXN-60295  2006-09-25     LESCH      FLETA  1993-05-22\n",
       "...           ...         ...       ...        ...         ...\n",
       "130648  TXN-65468  2012-06-16  Cummings      Henry  2005-08-14\n",
       "130649  TXN-60822  2020-09-28      Feil     Jermey  2010-06-15\n",
       "130650  TXN-60822  2020-09-28      Feil     Jermey  2010-06-15\n",
       "130651  TXN-01784  2015-01-11   Schmidt     Emilie  1996-05-21\n",
       "130652  TXN-01784  2015-01-11   Schmidt     Emilie  1996-05-21\n",
       "\n",
       "[130653 rows x 5 columns]"
      ]
     },
     "execution_count": 5,
     "metadata": {},
     "output_type": "execute_result"
    }
   ],
   "source": [
    "length = len(df_customer_transaction)\n",
    "df_customer_transaction.head(length)"
   ]
  },
  {
   "cell_type": "markdown",
   "id": "cd771901",
   "metadata": {},
   "source": [
    "# Cleaning the Database"
   ]
  },
  {
   "cell_type": "markdown",
   "id": "6e141b70",
   "metadata": {},
   "source": [
    "## Drop Inconsistent avail_date and birthday"
   ]
  },
  {
   "cell_type": "code",
   "execution_count": 6,
   "id": "ca1650f1",
   "metadata": {},
   "outputs": [],
   "source": [
    "df_customer_transaction['avail_date'] = pd.to_datetime(df_customer_transaction['avail_date'], errors='coerce')\n",
    "df_customer_transaction['birthday'] = pd.to_datetime(df_customer_transaction['birthday'], errors='coerce')\n",
    "df_filt = df_customer_transaction[(df_customer_transaction['avail_date'] <= pd.to_datetime(date.today()))]\n",
    "df_filt = df_filt[(df_filt['birthday'] <= pd.to_datetime(date.today()))]\n",
    "df_bday_avail = df_filt[(df_filt['birthday'] < df_filt['avail_date'])]"
   ]
  },
  {
   "cell_type": "markdown",
   "id": "934eb86a",
   "metadata": {},
   "source": [
    "## Drop Duplicates"
   ]
  },
  {
   "cell_type": "code",
   "execution_count": 7,
   "id": "580aa0ef",
   "metadata": {},
   "outputs": [],
   "source": [
    "df_DropDuplicated_Customers = df_bday_avail.drop_duplicates()"
   ]
  },
  {
   "cell_type": "markdown",
   "id": "9f915d0b",
   "metadata": {},
   "source": [
    "## Drop Non Alpha First and Last Names"
   ]
  },
  {
   "cell_type": "code",
   "execution_count": 8,
   "id": "6d382a13",
   "metadata": {},
   "outputs": [],
   "source": [
    "nonAlphaNames = df_DropDuplicated_Customers[df_DropDuplicated_Customers['first_name'].str.isalpha()]\n",
    "nonAlphaNames = nonAlphaNames[nonAlphaNames['last_name'].str.isalpha()]"
   ]
  },
  {
   "cell_type": "markdown",
   "id": "08d7bc84",
   "metadata": {},
   "source": [
    "## Export the Clean Data to SQL "
   ]
  },
  {
   "cell_type": "code",
   "execution_count": 9,
   "id": "80082125",
   "metadata": {
    "jupyter": {
     "source_hidden": true
    }
   },
   "outputs": [
    {
     "name": "stdout",
     "output_type": "stream",
     "text": [
      "2023-11-23 00:29:24,752 INFO sqlalchemy.engine.Engine BEGIN (implicit)\n",
      "2023-11-23 00:29:24,758 INFO sqlalchemy.engine.Engine PRAGMA main.table_info(\"customer_transactions\")\n",
      "2023-11-23 00:29:24,758 INFO sqlalchemy.engine.Engine [raw sql] ()\n",
      "2023-11-23 00:29:24,758 INFO sqlalchemy.engine.Engine PRAGMA temp.table_info(\"customer_transactions\")\n",
      "2023-11-23 00:29:24,758 INFO sqlalchemy.engine.Engine [raw sql] ()\n",
      "2023-11-23 00:29:24,761 INFO sqlalchemy.engine.Engine \n",
      "CREATE TABLE customer_transactions (\n",
      "\ttxn_id VARCHAR(10), \n",
      "\tavail_date DATE, \n",
      "\tlast_name VARCHAR(20), \n",
      "\tfirst_name VARCHAR(20), \n",
      "\tbirthday DATE\n",
      ")\n",
      "\n",
      "\n",
      "2023-11-23 00:29:24,761 INFO sqlalchemy.engine.Engine [no key 0.00054s] ()\n",
      "2023-11-23 00:29:24,986 INFO sqlalchemy.engine.Engine INSERT INTO customer_transactions (txn_id, avail_date, last_name, first_name, birthday) VALUES (?, ?, ?, ?, ?)\n",
      "2023-11-23 00:29:24,988 INFO sqlalchemy.engine.Engine [generated in 0.17221s] [('TXN-60295', '2006-09-25', 'LESCH', 'FLETA', '1993-05-22'), ('TXN-40462', '2021-08-21', 'KUHN', 'TOD', '2002-11-25'), ('TXN-08102', '2010-04-03', 'JOHNSON', 'MILTON', '2003-07-10'), ('TXN-64262', '2018-11-23', 'HACKETT', 'MACI', '2005-06-20'), ('TXN-59988', '2021-02-01', 'BASHIRIAN', 'BRICE', '2004-07-20'), ('TXN-08158', '2023-08-05', 'BATZ', 'TIMMOTHY', '2008-10-06'), ('TXN-37609', '2022-09-04', 'KUNDE', 'MARIANA', '1996-10-29'), ('TXN-31294', '2018-01-04', 'BREITENBERG', 'MADGE', '2006-06-22')  ... displaying 10 of 34888 total bound parameter sets ...  ('TXN-60822', '2020-09-28', 'Feil', 'Jermey', '2010-06-15'), ('TXN-01784', '2015-01-11', 'Schmidt', 'Emilie', '1996-05-21')]\n",
      "2023-11-23 00:29:25,029 INFO sqlalchemy.engine.Engine COMMIT\n"
     ]
    },
    {
     "data": {
      "text/plain": [
       "34888"
      ]
     },
     "execution_count": 9,
     "metadata": {},
     "output_type": "execute_result"
    }
   ],
   "source": [
    "nonAlphaNames['avail_date'] = pd.to_datetime(df_customer_transaction['avail_date'], errors='coerce')\n",
    "nonAlphaNames['birthday'] = pd.to_datetime(df_customer_transaction['birthday'], errors='coerce')\n",
    "engine = create_engine('sqlite:///customer_transactions.db', echo=True)\n",
    "nonAlphaNames.to_sql('customer_transactions', con=engine, if_exists='replace', index=False,\n",
    "                              dtype={\n",
    "                                  \"txn_id\": VARCHAR(10),\n",
    "                                  \"avail_date\" : DATE,\n",
    "                                  \"last_name\" : VARCHAR(20),\n",
    "                                  \"first_name\" : VARCHAR(20),\n",
    "                                  \"birthday\" : DATE,\n",
    "                              })"
   ]
  }
 ],
 "metadata": {
  "kernelspec": {
   "display_name": "Python 3 (ipykernel)",
   "language": "python",
   "name": "python3"
  },
  "language_info": {
   "codemirror_mode": {
    "name": "ipython",
    "version": 3
   },
   "file_extension": ".py",
   "mimetype": "text/x-python",
   "name": "python",
   "nbconvert_exporter": "python",
   "pygments_lexer": "ipython3",
   "version": "3.12.0"
  }
 },
 "nbformat": 4,
 "nbformat_minor": 5
}
