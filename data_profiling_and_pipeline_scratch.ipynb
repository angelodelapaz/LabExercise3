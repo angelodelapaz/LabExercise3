{
 "cells": [
  {
   "cell_type": "code",
   "execution_count": 28,
   "id": "af7199a5-39cf-4d59-91e1-89b3a6aec216",
   "metadata": {},
   "outputs": [],
   "source": [
    "import pandas as pd\n",
    "import numpy as np"
   ]
  },
  {
   "cell_type": "markdown",
   "id": "ca337c04-b8f5-4020-8e8f-ea63979fed1c",
   "metadata": {},
   "source": [
    "## Loading the Data"
   ]
  },
  {
   "cell_type": "code",
   "execution_count": 83,
   "id": "35e32ddd-5f8b-4cba-9cc7-3123aabfe6fd",
   "metadata": {},
   "outputs": [],
   "source": [
    "df_branch_service = pd.read_json(\"branch_service_transaction_info.json\")\n",
    "df_customer_transaction = pd.read_json(\"customer_transaction_info.json\")"
   ]
  },
  {
   "cell_type": "markdown",
   "id": "1f2810b6-dac2-46a1-a146-9f234a3c12aa",
   "metadata": {},
   "source": [
    "## Profiling the Data"
   ]
  },
  {
   "cell_type": "markdown",
   "id": "9867f81b-c26b-4885-a06b-567b6a6be3d7",
   "metadata": {},
   "source": [
    "Checking the data high level"
   ]
  },
  {
   "cell_type": "code",
   "execution_count": 84,
   "id": "11d762f9-f3e8-48c5-aeb0-f4108d300c5f",
   "metadata": {},
   "outputs": [
    {
     "data": {
      "text/html": [
       "<div>\n",
       "<style scoped>\n",
       "    .dataframe tbody tr th:only-of-type {\n",
       "        vertical-align: middle;\n",
       "    }\n",
       "\n",
       "    .dataframe tbody tr th {\n",
       "        vertical-align: top;\n",
       "    }\n",
       "\n",
       "    .dataframe thead th {\n",
       "        text-align: right;\n",
       "    }\n",
       "</style>\n",
       "<table border=\"1\" class=\"dataframe\">\n",
       "  <thead>\n",
       "    <tr style=\"text-align: right;\">\n",
       "      <th></th>\n",
       "      <th>txn_id</th>\n",
       "      <th>avail_date</th>\n",
       "      <th>last_name</th>\n",
       "      <th>first_name</th>\n",
       "      <th>birthday</th>\n",
       "    </tr>\n",
       "  </thead>\n",
       "  <tbody>\n",
       "    <tr>\n",
       "      <th>0</th>\n",
       "      <td>TXN-24546</td>\n",
       "      <td>2030-09-08</td>\n",
       "      <td>ORTIZ</td>\n",
       "      <td>EDUARDO</td>\n",
       "      <td>1990-07-08</td>\n",
       "    </tr>\n",
       "    <tr>\n",
       "      <th>1</th>\n",
       "      <td>TXN-14642</td>\n",
       "      <td>2026-05-26</td>\n",
       "      <td>NIENOW</td>\n",
       "      <td>LEA</td>\n",
       "      <td>2000-11-26</td>\n",
       "    </tr>\n",
       "    <tr>\n",
       "      <th>2</th>\n",
       "      <td>TXN-60295</td>\n",
       "      <td>2006-09-25</td>\n",
       "      <td>LESCH</td>\n",
       "      <td>FLETA</td>\n",
       "      <td>1993-05-22</td>\n",
       "    </tr>\n",
       "    <tr>\n",
       "      <th>3</th>\n",
       "      <td>TXN-60295</td>\n",
       "      <td>2006-09-25</td>\n",
       "      <td>LESCH</td>\n",
       "      <td>FLETA</td>\n",
       "      <td>1993-05-22</td>\n",
       "    </tr>\n",
       "    <tr>\n",
       "      <th>4</th>\n",
       "      <td>TXN-60295</td>\n",
       "      <td>2006-09-25</td>\n",
       "      <td>LESCH</td>\n",
       "      <td>FLETA</td>\n",
       "      <td>1993-05-22</td>\n",
       "    </tr>\n",
       "    <tr>\n",
       "      <th>5</th>\n",
       "      <td>TXN-60295</td>\n",
       "      <td>2006-09-25</td>\n",
       "      <td>LESCH</td>\n",
       "      <td>FLETA</td>\n",
       "      <td>1993-05-22</td>\n",
       "    </tr>\n",
       "    <tr>\n",
       "      <th>6</th>\n",
       "      <td>TXN-40462</td>\n",
       "      <td>2021-08-21</td>\n",
       "      <td>KUHN</td>\n",
       "      <td>TOD</td>\n",
       "      <td>2002-11-25</td>\n",
       "    </tr>\n",
       "    <tr>\n",
       "      <th>7</th>\n",
       "      <td>TXN-40462</td>\n",
       "      <td>2021-08-21</td>\n",
       "      <td>KUHN</td>\n",
       "      <td>TOD</td>\n",
       "      <td>2002-11-25</td>\n",
       "    </tr>\n",
       "    <tr>\n",
       "      <th>8</th>\n",
       "      <td>TXN-08102</td>\n",
       "      <td>2010-04-03</td>\n",
       "      <td>JOHNSON</td>\n",
       "      <td>MILTON</td>\n",
       "      <td>2003-07-10</td>\n",
       "    </tr>\n",
       "    <tr>\n",
       "      <th>9</th>\n",
       "      <td>TXN-08102</td>\n",
       "      <td>2010-04-03</td>\n",
       "      <td>JOHNSON</td>\n",
       "      <td>MILTON</td>\n",
       "      <td>2003-07-10</td>\n",
       "    </tr>\n",
       "  </tbody>\n",
       "</table>\n",
       "</div>"
      ],
      "text/plain": [
       "      txn_id  avail_date last_name first_name    birthday\n",
       "0  TXN-24546  2030-09-08     ORTIZ    EDUARDO  1990-07-08\n",
       "1  TXN-14642  2026-05-26    NIENOW        LEA  2000-11-26\n",
       "2  TXN-60295  2006-09-25     LESCH      FLETA  1993-05-22\n",
       "3  TXN-60295  2006-09-25     LESCH      FLETA  1993-05-22\n",
       "4  TXN-60295  2006-09-25     LESCH      FLETA  1993-05-22\n",
       "5  TXN-60295  2006-09-25     LESCH      FLETA  1993-05-22\n",
       "6  TXN-40462  2021-08-21      KUHN        TOD  2002-11-25\n",
       "7  TXN-40462  2021-08-21      KUHN        TOD  2002-11-25\n",
       "8  TXN-08102  2010-04-03   JOHNSON     MILTON  2003-07-10\n",
       "9  TXN-08102  2010-04-03   JOHNSON     MILTON  2003-07-10"
      ]
     },
     "execution_count": 84,
     "metadata": {},
     "output_type": "execute_result"
    }
   ],
   "source": [
    "df_customer_transaction.head(10)"
   ]
  },
  {
   "cell_type": "code",
   "execution_count": 58,
   "id": "7869c7fc-4067-4bf9-b762-8c84e28485fb",
   "metadata": {},
   "outputs": [
    {
     "data": {
      "text/html": [
       "<div>\n",
       "<style scoped>\n",
       "    .dataframe tbody tr th:only-of-type {\n",
       "        vertical-align: middle;\n",
       "    }\n",
       "\n",
       "    .dataframe tbody tr th {\n",
       "        vertical-align: top;\n",
       "    }\n",
       "\n",
       "    .dataframe thead th {\n",
       "        text-align: right;\n",
       "    }\n",
       "</style>\n",
       "<table border=\"1\" class=\"dataframe\">\n",
       "  <thead>\n",
       "    <tr style=\"text-align: right;\">\n",
       "      <th></th>\n",
       "      <th>txn_id</th>\n",
       "      <th>branch_name</th>\n",
       "      <th>service</th>\n",
       "      <th>price</th>\n",
       "    </tr>\n",
       "  </thead>\n",
       "  <tbody>\n",
       "    <tr>\n",
       "      <th>0</th>\n",
       "      <td>TXN-24546</td>\n",
       "      <td>MallOfAsia</td>\n",
       "      <td>Manicure</td>\n",
       "      <td>NaN</td>\n",
       "    </tr>\n",
       "    <tr>\n",
       "      <th>1</th>\n",
       "      <td>TXN-14642</td>\n",
       "      <td>Starmall</td>\n",
       "      <td>HairColor</td>\n",
       "      <td>NaN</td>\n",
       "    </tr>\n",
       "    <tr>\n",
       "      <th>2</th>\n",
       "      <td>TXN-60295</td>\n",
       "      <td>SmallMall</td>\n",
       "      <td>FootSpa</td>\n",
       "      <td>NaN</td>\n",
       "    </tr>\n",
       "    <tr>\n",
       "      <th>3</th>\n",
       "      <td>TXN-60295</td>\n",
       "      <td>Starmall</td>\n",
       "      <td>FootSpa</td>\n",
       "      <td>NaN</td>\n",
       "    </tr>\n",
       "    <tr>\n",
       "      <th>4</th>\n",
       "      <td>TXN-60295</td>\n",
       "      <td>MayMall</td>\n",
       "      <td>FootSpa</td>\n",
       "      <td>NaN</td>\n",
       "    </tr>\n",
       "    <tr>\n",
       "      <th>5</th>\n",
       "      <td>TXN-60295</td>\n",
       "      <td>FrankMall</td>\n",
       "      <td>FootSpa</td>\n",
       "      <td>NaN</td>\n",
       "    </tr>\n",
       "    <tr>\n",
       "      <th>6</th>\n",
       "      <td>TXN-40462</td>\n",
       "      <td>Starmall</td>\n",
       "      <td>HairColor</td>\n",
       "      <td>NaN</td>\n",
       "    </tr>\n",
       "    <tr>\n",
       "      <th>7</th>\n",
       "      <td>TXN-40462</td>\n",
       "      <td>Megamall</td>\n",
       "      <td>HairColor</td>\n",
       "      <td>NaN</td>\n",
       "    </tr>\n",
       "    <tr>\n",
       "      <th>8</th>\n",
       "      <td>TXN-08102</td>\n",
       "      <td>RobinsonsMall</td>\n",
       "      <td>HairColor</td>\n",
       "      <td>NaN</td>\n",
       "    </tr>\n",
       "    <tr>\n",
       "      <th>9</th>\n",
       "      <td>TXN-08102</td>\n",
       "      <td>SmallMall</td>\n",
       "      <td>HairColor</td>\n",
       "      <td>NaN</td>\n",
       "    </tr>\n",
       "  </tbody>\n",
       "</table>\n",
       "</div>"
      ],
      "text/plain": [
       "      txn_id    branch_name    service  price\n",
       "0  TXN-24546     MallOfAsia   Manicure    NaN\n",
       "1  TXN-14642       Starmall  HairColor    NaN\n",
       "2  TXN-60295      SmallMall    FootSpa    NaN\n",
       "3  TXN-60295       Starmall    FootSpa    NaN\n",
       "4  TXN-60295        MayMall    FootSpa    NaN\n",
       "5  TXN-60295      FrankMall    FootSpa    NaN\n",
       "6  TXN-40462       Starmall  HairColor    NaN\n",
       "7  TXN-40462       Megamall  HairColor    NaN\n",
       "8  TXN-08102  RobinsonsMall  HairColor    NaN\n",
       "9  TXN-08102      SmallMall  HairColor    NaN"
      ]
     },
     "execution_count": 58,
     "metadata": {},
     "output_type": "execute_result"
    }
   ],
   "source": [
    "df_branch_service.head(10)"
   ]
  },
  {
   "cell_type": "code",
   "execution_count": 63,
   "id": "7a5d51c3-33a2-4a7e-85db-a6749b9e946a",
   "metadata": {},
   "outputs": [
    {
     "data": {
      "text/html": [
       "<div>\n",
       "<style scoped>\n",
       "    .dataframe tbody tr th:only-of-type {\n",
       "        vertical-align: middle;\n",
       "    }\n",
       "\n",
       "    .dataframe tbody tr th {\n",
       "        vertical-align: top;\n",
       "    }\n",
       "\n",
       "    .dataframe thead th {\n",
       "        text-align: right;\n",
       "    }\n",
       "</style>\n",
       "<table border=\"1\" class=\"dataframe\">\n",
       "  <thead>\n",
       "    <tr style=\"text-align: right;\">\n",
       "      <th></th>\n",
       "      <th>txn_id</th>\n",
       "      <th>branch_name</th>\n",
       "      <th>service</th>\n",
       "      <th>price</th>\n",
       "    </tr>\n",
       "  </thead>\n",
       "  <tbody>\n",
       "    <tr>\n",
       "      <th>130641</th>\n",
       "      <td>TXN-16095</td>\n",
       "      <td>FrankMall</td>\n",
       "      <td>HairColor</td>\n",
       "      <td>88.093930</td>\n",
       "    </tr>\n",
       "    <tr>\n",
       "      <th>130643</th>\n",
       "      <td>TXN-11897</td>\n",
       "      <td>FrankMall</td>\n",
       "      <td>FootSpa</td>\n",
       "      <td>100.121230</td>\n",
       "    </tr>\n",
       "    <tr>\n",
       "      <th>130644</th>\n",
       "      <td>TXN-11897</td>\n",
       "      <td>RobinsonsMall</td>\n",
       "      <td>FootSpa</td>\n",
       "      <td>100.121230</td>\n",
       "    </tr>\n",
       "    <tr>\n",
       "      <th>130646</th>\n",
       "      <td>TXN-43876</td>\n",
       "      <td></td>\n",
       "      <td>Haircut</td>\n",
       "      <td>66.123457</td>\n",
       "    </tr>\n",
       "    <tr>\n",
       "      <th>130647</th>\n",
       "      <td>TXN-65468</td>\n",
       "      <td>RobinsonsMall</td>\n",
       "      <td>Haircut</td>\n",
       "      <td>66.123457</td>\n",
       "    </tr>\n",
       "    <tr>\n",
       "      <th>130648</th>\n",
       "      <td>TXN-65468</td>\n",
       "      <td>MallOfAsia</td>\n",
       "      <td>Haircut</td>\n",
       "      <td>66.123457</td>\n",
       "    </tr>\n",
       "    <tr>\n",
       "      <th>130649</th>\n",
       "      <td>TXN-60822</td>\n",
       "      <td>MallOfAsia</td>\n",
       "      <td>Rebond</td>\n",
       "      <td>400.231230</td>\n",
       "    </tr>\n",
       "    <tr>\n",
       "      <th>130650</th>\n",
       "      <td>TXN-60822</td>\n",
       "      <td>FrankMall</td>\n",
       "      <td>Rebond</td>\n",
       "      <td>400.231230</td>\n",
       "    </tr>\n",
       "    <tr>\n",
       "      <th>130651</th>\n",
       "      <td>TXN-01784</td>\n",
       "      <td>RobinsonsMall</td>\n",
       "      <td>HairColor</td>\n",
       "      <td>88.093930</td>\n",
       "    </tr>\n",
       "    <tr>\n",
       "      <th>130652</th>\n",
       "      <td>TXN-01784</td>\n",
       "      <td>MallOfAsia</td>\n",
       "      <td>HairColor</td>\n",
       "      <td>88.093930</td>\n",
       "    </tr>\n",
       "  </tbody>\n",
       "</table>\n",
       "</div>"
      ],
      "text/plain": [
       "           txn_id    branch_name    service       price\n",
       "130641  TXN-16095      FrankMall  HairColor   88.093930\n",
       "130643  TXN-11897      FrankMall    FootSpa  100.121230\n",
       "130644  TXN-11897  RobinsonsMall    FootSpa  100.121230\n",
       "130646  TXN-43876                   Haircut   66.123457\n",
       "130647  TXN-65468  RobinsonsMall    Haircut   66.123457\n",
       "130648  TXN-65468     MallOfAsia    Haircut   66.123457\n",
       "130649  TXN-60822     MallOfAsia     Rebond  400.231230\n",
       "130650  TXN-60822      FrankMall     Rebond  400.231230\n",
       "130651  TXN-01784  RobinsonsMall  HairColor   88.093930\n",
       "130652  TXN-01784     MallOfAsia  HairColor   88.093930"
      ]
     },
     "execution_count": 63,
     "metadata": {},
     "output_type": "execute_result"
    }
   ],
   "source": [
    "df_branch_service.tail(10)"
   ]
  },
  {
   "cell_type": "code",
   "execution_count": 92,
   "id": "83893a2f",
   "metadata": {},
   "outputs": [
    {
     "name": "stdout",
     "output_type": "stream",
     "text": [
      "['MallOfAsia' 'Starmall' 'SmallMall' 'MayMall' 'FrankMall' 'Megamall'\n",
      " 'RobinsonsMall' '' None 'N/A']\n",
      "['Manicure' 'HairColor' 'FootSpa' 'Rebond' 'Haircut' 'NailColor'\n",
      " 'Pedicure']\n",
      "[         nan   0.          30.1237897   66.12345678  77.987989\n",
      " 100.12123    400.23123     55.2324      88.09393   ]\n"
     ]
    }
   ],
   "source": [
    "print(df_branch_service['branch_name'].unique())\n",
    "print(df_branch_service['service'].unique())\n",
    "print(df_branch_service['price'].unique())"
   ]
  },
  {
   "cell_type": "markdown",
   "id": "68e6b461-8317-488b-aa42-98613ee9b366",
   "metadata": {
    "jp-MarkdownHeadingCollapsed": true,
    "tags": []
   },
   "source": [
    "Checking the dataset shape"
   ]
  },
  {
   "cell_type": "code",
   "execution_count": 9,
   "id": "f4d47612-18cd-437c-93a4-fe9e2dd18b0a",
   "metadata": {},
   "outputs": [
    {
     "name": "stdout",
     "output_type": "stream",
     "text": [
      "(130653, 5)\n",
      "(130653, 4)\n"
     ]
    }
   ],
   "source": [
    "print(df_customer_transaction.shape)\n",
    "print(df_branch_service.shape)"
   ]
  },
  {
   "cell_type": "markdown",
   "id": "f1cacea5-23f1-4c48-81d8-c7137bcc7b00",
   "metadata": {},
   "source": [
    "Checking the unique Transaction IDs"
   ]
  },
  {
   "cell_type": "code",
   "execution_count": 21,
   "id": "fc10d2f4-ecd6-47a7-bf62-2d8dedc590e7",
   "metadata": {},
   "outputs": [
    {
     "name": "stdout",
     "output_type": "stream",
     "text": [
      "62354\n",
      "62354\n",
      "Index(['txn_id', 'branch_name', 'service', 'price'], dtype='object')\n"
     ]
    }
   ],
   "source": [
    "print(df_customer_transaction['txn_id'].nunique())\n",
    "print(df_branch_service['txn_id'].nunique())\n",
    "\n",
    "print(df_branch_service.columns)"
   ]
  },
  {
   "cell_type": "markdown",
   "id": "f95969cc",
   "metadata": {},
   "source": [
    "Checking Unique Columns"
   ]
  },
  {
   "cell_type": "code",
   "execution_count": 48,
   "id": "50cddb16",
   "metadata": {},
   "outputs": [
    {
     "name": "stdout",
     "output_type": "stream",
     "text": [
      "['MallOfAsia' 'Starmall' 'SmallMall' 'MayMall' 'FrankMall' 'Megamall'\n",
      " 'RobinsonsMall' '' None 'N/A']\n",
      "['Manicure' 'HairColor' 'FootSpa' 'Rebond' 'Haircut' 'NailColor'\n",
      " 'Pedicure']\n"
     ]
    }
   ],
   "source": [
    "print(df_branch_service['branch_name'].unique())   \n",
    "print(df_branch_service['service'].unique())   "
   ]
  },
  {
   "cell_type": "markdown",
   "id": "566f1dfe-c2c4-43ea-895f-3e3daab60379",
   "metadata": {},
   "source": [
    "Checking the services"
   ]
  },
  {
   "cell_type": "code",
   "execution_count": 47,
   "id": "b6b00eef-f48b-423b-bb8f-74de4d9405ad",
   "metadata": {},
   "outputs": [
    {
     "data": {
      "text/plain": [
       "array(['Manicure', 'HairColor', 'FootSpa', 'Rebond', 'Haircut',\n",
       "       'NailColor', 'Pedicure'], dtype=object)"
      ]
     },
     "execution_count": 47,
     "metadata": {},
     "output_type": "execute_result"
    }
   ],
   "source": [
    "df_branch_service['service'].unique()"
   ]
  },
  {
   "cell_type": "code",
   "execution_count": 28,
   "id": "5317d421-0a92-4630-abf2-99e28a68930f",
   "metadata": {},
   "outputs": [
    {
     "data": {
      "text/plain": [
       "count    110653.000000\n",
       "mean         95.966969\n",
       "std         115.874117\n",
       "min           0.000000\n",
       "25%          30.123790\n",
       "50%          66.123457\n",
       "75%          88.093930\n",
       "max         400.231230\n",
       "Name: price, dtype: float64"
      ]
     },
     "execution_count": 28,
     "metadata": {},
     "output_type": "execute_result"
    }
   ],
   "source": [
    "df_branch_service['price'].describe()"
   ]
  },
  {
   "cell_type": "markdown",
   "id": "41587142-9d4a-4c78-a067-fc1ffb65a559",
   "metadata": {},
   "source": [
    "Checking the availment dates"
   ]
  },
  {
   "cell_type": "code",
   "execution_count": 37,
   "id": "e62dd43e-f3ea-481d-80a7-0be8fd38bd1d",
   "metadata": {},
   "outputs": [
    {
     "name": "stdout",
     "output_type": "stream",
     "text": [
      "2005-01-01\n",
      "2030-12-30\n"
     ]
    }
   ],
   "source": [
    "print(df_customer_transaction['avail_date'].min())\n",
    "print(df_customer_transaction['avail_date'].max())"
   ]
  },
  {
   "cell_type": "markdown",
   "id": "ad01c4a1-09cb-4421-a584-3a5b82fe148d",
   "metadata": {},
   "source": [
    "## Creating the Data Pipeline Diagram"
   ]
  },
  {
   "cell_type": "markdown",
   "id": "ef44589d-a75c-4f42-ae21-3dcff6af21c0",
   "metadata": {},
   "source": [
    "Go to draw.io"
   ]
  },
  {
   "cell_type": "markdown",
   "id": "d7fce714-520d-44d3-bd04-49bc35fa3cb6",
   "metadata": {},
   "source": [
    "## Data Cleaning"
   ]
  },
  {
   "cell_type": "markdown",
   "id": "4faa021f-93cc-485e-bd81-1550c25075ea",
   "metadata": {},
   "source": [
    "Removing duplicates"
   ]
  },
  {
   "cell_type": "code",
   "execution_count": 49,
   "id": "593c6f29-0863-46bc-9ca2-c04cc71e797e",
   "metadata": {},
   "outputs": [
    {
     "name": "stdout",
     "output_type": "stream",
     "text": [
      "(130653, 5)\n",
      "(72355, 5)\n"
     ]
    }
   ],
   "source": [
    "print(df_customer_transaction.shape)\n",
    "df_customer_transaction = df_customer_transaction.drop_duplicates()\n",
    "print(df_customer_transaction.shape)"
   ]
  },
  {
   "cell_type": "code",
   "execution_count": 81,
   "id": "404e3faa",
   "metadata": {},
   "outputs": [
    {
     "name": "stdout",
     "output_type": "stream",
     "text": [
      "(87831, 4)\n",
      "(87831, 4)\n"
     ]
    }
   ],
   "source": [
    "print(df_branch_service.shape)\n",
    "df_branch_service = df_branch_service.drop_duplicates()\n",
    "print(df_branch_service.shape)\n",
    "\n",
    "df_customer_transaction.to_parquet('branch_service_nullbranch_removed.parquet')"
   ]
  },
  {
   "cell_type": "code",
   "execution_count": 82,
   "id": "a5c980ae",
   "metadata": {},
   "outputs": [
    {
     "name": "stdout",
     "output_type": "stream",
     "text": [
      "(87831, 4)\n"
     ]
    }
   ],
   "source": [
    "df_branch_service = df_branch_service.dropna(subset=['branch_name'])\n",
    "df_branch_service = df_branch_service.dropna(subset=['service'])\n",
    "df_branch_service = df_branch_service.dropna(subset=['price'])\n",
    "print(df_branch_service.shape)\n",
    "\n",
    "df_customer_transaction.to_parquet('branch_service_nullbranch_removed.parquet')"
   ]
  },
  {
   "cell_type": "code",
   "execution_count": 79,
   "id": "cb17991b",
   "metadata": {},
   "outputs": [
    {
     "data": {
      "text/html": [
       "<div>\n",
       "<style scoped>\n",
       "    .dataframe tbody tr th:only-of-type {\n",
       "        vertical-align: middle;\n",
       "    }\n",
       "\n",
       "    .dataframe tbody tr th {\n",
       "        vertical-align: top;\n",
       "    }\n",
       "\n",
       "    .dataframe thead th {\n",
       "        text-align: right;\n",
       "    }\n",
       "</style>\n",
       "<table border=\"1\" class=\"dataframe\">\n",
       "  <thead>\n",
       "    <tr style=\"text-align: right;\">\n",
       "      <th></th>\n",
       "      <th>txn_id</th>\n",
       "      <th>branch_name</th>\n",
       "      <th>service</th>\n",
       "      <th>price</th>\n",
       "    </tr>\n",
       "  </thead>\n",
       "  <tbody>\n",
       "    <tr>\n",
       "      <th>20000</th>\n",
       "      <td>TXN-05451</td>\n",
       "      <td>MayMall</td>\n",
       "      <td>HairColor</td>\n",
       "      <td>0.0</td>\n",
       "    </tr>\n",
       "    <tr>\n",
       "      <th>20001</th>\n",
       "      <td>TXN-05451</td>\n",
       "      <td>Starmall</td>\n",
       "      <td>HairColor</td>\n",
       "      <td>0.0</td>\n",
       "    </tr>\n",
       "    <tr>\n",
       "      <th>20002</th>\n",
       "      <td>TXN-02255</td>\n",
       "      <td>FrankMall</td>\n",
       "      <td>Rebond</td>\n",
       "      <td>0.0</td>\n",
       "    </tr>\n",
       "    <tr>\n",
       "      <th>20003</th>\n",
       "      <td>TXN-02255</td>\n",
       "      <td>Megamall</td>\n",
       "      <td>Rebond</td>\n",
       "      <td>0.0</td>\n",
       "    </tr>\n",
       "    <tr>\n",
       "      <th>20004</th>\n",
       "      <td>TXN-02255</td>\n",
       "      <td>MayMall</td>\n",
       "      <td>Rebond</td>\n",
       "      <td>0.0</td>\n",
       "    </tr>\n",
       "    <tr>\n",
       "      <th>20005</th>\n",
       "      <td>TXN-02255</td>\n",
       "      <td>SmallMall</td>\n",
       "      <td>Rebond</td>\n",
       "      <td>0.0</td>\n",
       "    </tr>\n",
       "    <tr>\n",
       "      <th>20006</th>\n",
       "      <td>TXN-59105</td>\n",
       "      <td>FrankMall</td>\n",
       "      <td>FootSpa</td>\n",
       "      <td>0.0</td>\n",
       "    </tr>\n",
       "    <tr>\n",
       "      <th>20007</th>\n",
       "      <td>TXN-59105</td>\n",
       "      <td>Starmall</td>\n",
       "      <td>FootSpa</td>\n",
       "      <td>0.0</td>\n",
       "    </tr>\n",
       "    <tr>\n",
       "      <th>20008</th>\n",
       "      <td>TXN-57176</td>\n",
       "      <td>MallOfAsia</td>\n",
       "      <td>Rebond</td>\n",
       "      <td>0.0</td>\n",
       "    </tr>\n",
       "    <tr>\n",
       "      <th>20010</th>\n",
       "      <td>TXN-57176</td>\n",
       "      <td>FrankMall</td>\n",
       "      <td>Rebond</td>\n",
       "      <td>0.0</td>\n",
       "    </tr>\n",
       "  </tbody>\n",
       "</table>\n",
       "</div>"
      ],
      "text/plain": [
       "          txn_id branch_name    service  price\n",
       "20000  TXN-05451     MayMall  HairColor    0.0\n",
       "20001  TXN-05451    Starmall  HairColor    0.0\n",
       "20002  TXN-02255   FrankMall     Rebond    0.0\n",
       "20003  TXN-02255    Megamall     Rebond    0.0\n",
       "20004  TXN-02255     MayMall     Rebond    0.0\n",
       "20005  TXN-02255   SmallMall     Rebond    0.0\n",
       "20006  TXN-59105   FrankMall    FootSpa    0.0\n",
       "20007  TXN-59105    Starmall    FootSpa    0.0\n",
       "20008  TXN-57176  MallOfAsia     Rebond    0.0\n",
       "20010  TXN-57176   FrankMall     Rebond    0.0"
      ]
     },
     "execution_count": 79,
     "metadata": {},
     "output_type": "execute_result"
    }
   ],
   "source": [
    "df_branch_service.head(10)"
   ]
  },
  {
   "cell_type": "code",
   "execution_count": 69,
   "id": "a7d2a2ab-a97a-472b-ab92-d0f75579ef39",
   "metadata": {},
   "outputs": [],
   "source": [
    "df_customer_transaction.to_parquet('customer_txn_duplicates_removed.parquet')"
   ]
  },
  {
   "cell_type": "markdown",
   "id": "ad936e81-fd90-4a03-b2bc-816edf0f37cf",
   "metadata": {},
   "source": [
    "Converting last name to lower case"
   ]
  },
  {
   "cell_type": "code",
   "execution_count": 15,
   "id": "b61d73c7-c8b1-4743-b739-8d11cff53502",
   "metadata": {},
   "outputs": [
    {
     "data": {
      "text/html": [
       "<div>\n",
       "<style scoped>\n",
       "    .dataframe tbody tr th:only-of-type {\n",
       "        vertical-align: middle;\n",
       "    }\n",
       "\n",
       "    .dataframe tbody tr th {\n",
       "        vertical-align: top;\n",
       "    }\n",
       "\n",
       "    .dataframe thead th {\n",
       "        text-align: right;\n",
       "    }\n",
       "</style>\n",
       "<table border=\"1\" class=\"dataframe\">\n",
       "  <thead>\n",
       "    <tr style=\"text-align: right;\">\n",
       "      <th></th>\n",
       "      <th>txn_id</th>\n",
       "      <th>avail_date</th>\n",
       "      <th>last_name</th>\n",
       "      <th>first_name</th>\n",
       "      <th>birthday</th>\n",
       "    </tr>\n",
       "  </thead>\n",
       "  <tbody>\n",
       "    <tr>\n",
       "      <th>0</th>\n",
       "      <td>TXN-24546</td>\n",
       "      <td>2030-09-08</td>\n",
       "      <td>ORTIZ</td>\n",
       "      <td>EDUARDO</td>\n",
       "      <td>1990-07-08</td>\n",
       "    </tr>\n",
       "    <tr>\n",
       "      <th>1</th>\n",
       "      <td>TXN-14642</td>\n",
       "      <td>2026-05-26</td>\n",
       "      <td>NIENOW</td>\n",
       "      <td>LEA</td>\n",
       "      <td>2000-11-26</td>\n",
       "    </tr>\n",
       "  </tbody>\n",
       "</table>\n",
       "</div>"
      ],
      "text/plain": [
       "      txn_id  avail_date last_name first_name    birthday\n",
       "0  TXN-24546  2030-09-08     ORTIZ    EDUARDO  1990-07-08\n",
       "1  TXN-14642  2026-05-26    NIENOW        LEA  2000-11-26"
      ]
     },
     "execution_count": 15,
     "metadata": {},
     "output_type": "execute_result"
    }
   ],
   "source": [
    "df_customer_transaction.head(2)"
   ]
  },
  {
   "cell_type": "code",
   "execution_count": 33,
   "id": "9c3b95f8-a1de-4d5c-960f-b3f080f45120",
   "metadata": {},
   "outputs": [
    {
     "data": {
      "text/html": [
       "<div>\n",
       "<style scoped>\n",
       "    .dataframe tbody tr th:only-of-type {\n",
       "        vertical-align: middle;\n",
       "    }\n",
       "\n",
       "    .dataframe tbody tr th {\n",
       "        vertical-align: top;\n",
       "    }\n",
       "\n",
       "    .dataframe thead th {\n",
       "        text-align: right;\n",
       "    }\n",
       "</style>\n",
       "<table border=\"1\" class=\"dataframe\">\n",
       "  <thead>\n",
       "    <tr style=\"text-align: right;\">\n",
       "      <th></th>\n",
       "      <th>txn_id</th>\n",
       "      <th>avail_date</th>\n",
       "      <th>last_name</th>\n",
       "      <th>first_name</th>\n",
       "      <th>birthday</th>\n",
       "    </tr>\n",
       "  </thead>\n",
       "  <tbody>\n",
       "    <tr>\n",
       "      <th>0</th>\n",
       "      <td>TXN-24546</td>\n",
       "      <td>2030-09-08</td>\n",
       "      <td>ortiz</td>\n",
       "      <td>EDUARDO</td>\n",
       "      <td>1990-07-08</td>\n",
       "    </tr>\n",
       "    <tr>\n",
       "      <th>1</th>\n",
       "      <td>TXN-14642</td>\n",
       "      <td>2026-05-26</td>\n",
       "      <td>nienow</td>\n",
       "      <td>LEA</td>\n",
       "      <td>2000-11-26</td>\n",
       "    </tr>\n",
       "  </tbody>\n",
       "</table>\n",
       "</div>"
      ],
      "text/plain": [
       "      txn_id  avail_date last_name first_name    birthday\n",
       "0  TXN-24546  2030-09-08     ortiz    EDUARDO  1990-07-08\n",
       "1  TXN-14642  2026-05-26    nienow        LEA  2000-11-26"
      ]
     },
     "execution_count": 33,
     "metadata": {},
     "output_type": "execute_result"
    }
   ],
   "source": [
    "df_customer_transaction['last_name'] = df_customer_transaction['last_name'].str.lower()\n",
    "df_customer_transaction.head(2)"
   ]
  },
  {
   "cell_type": "code",
   "execution_count": 80,
   "id": "96e140ec-ee9d-4bbb-953e-37ecae88c59f",
   "metadata": {},
   "outputs": [],
   "source": [
    "df_customer_transaction.to_parquet(\"customer_txn_last_name_clean.parquet\")"
   ]
  },
  {
   "cell_type": "markdown",
   "id": "94ee8fb8-8c7c-4b0a-889e-99aad65f481f",
   "metadata": {},
   "source": [
    "## Yearly Sales per Branch View"
   ]
  },
  {
   "cell_type": "code",
   "execution_count": 70,
   "id": "3bcc9f8f-d535-419d-b2e0-45599a7ed744",
   "metadata": {},
   "outputs": [
    {
     "data": {
      "text/html": [
       "<div>\n",
       "<style scoped>\n",
       "    .dataframe tbody tr th:only-of-type {\n",
       "        vertical-align: middle;\n",
       "    }\n",
       "\n",
       "    .dataframe tbody tr th {\n",
       "        vertical-align: top;\n",
       "    }\n",
       "\n",
       "    .dataframe thead th {\n",
       "        text-align: right;\n",
       "    }\n",
       "</style>\n",
       "<table border=\"1\" class=\"dataframe\">\n",
       "  <thead>\n",
       "    <tr style=\"text-align: right;\">\n",
       "      <th></th>\n",
       "      <th></th>\n",
       "      <th>price</th>\n",
       "    </tr>\n",
       "    <tr>\n",
       "      <th>avail_date</th>\n",
       "      <th>branch_name</th>\n",
       "      <th></th>\n",
       "    </tr>\n",
       "  </thead>\n",
       "  <tbody>\n",
       "    <tr>\n",
       "      <th rowspan=\"5\" valign=\"top\">2005</th>\n",
       "      <th></th>\n",
       "      <td>4298.024691</td>\n",
       "    </tr>\n",
       "    <tr>\n",
       "      <th>FrankMall</th>\n",
       "      <td>121802.964985</td>\n",
       "    </tr>\n",
       "    <tr>\n",
       "      <th>MallOfAsia</th>\n",
       "      <td>134477.566060</td>\n",
       "    </tr>\n",
       "    <tr>\n",
       "      <th>MayMall</th>\n",
       "      <td>137079.079594</td>\n",
       "    </tr>\n",
       "    <tr>\n",
       "      <th>Megamall</th>\n",
       "      <td>142955.903482</td>\n",
       "    </tr>\n",
       "    <tr>\n",
       "      <th>...</th>\n",
       "      <th>...</th>\n",
       "      <td>...</td>\n",
       "    </tr>\n",
       "    <tr>\n",
       "      <th rowspan=\"5\" valign=\"top\">2030</th>\n",
       "      <th>Megamall</th>\n",
       "      <td>130639.080429</td>\n",
       "    </tr>\n",
       "    <tr>\n",
       "      <th>N/A</th>\n",
       "      <td>2048.417700</td>\n",
       "    </tr>\n",
       "    <tr>\n",
       "      <th>RobinsonsMall</th>\n",
       "      <td>126197.920506</td>\n",
       "    </tr>\n",
       "    <tr>\n",
       "      <th>SmallMall</th>\n",
       "      <td>131526.305978</td>\n",
       "    </tr>\n",
       "    <tr>\n",
       "      <th>Starmall</th>\n",
       "      <td>137478.266959</td>\n",
       "    </tr>\n",
       "  </tbody>\n",
       "</table>\n",
       "<p>234 rows × 1 columns</p>\n",
       "</div>"
      ],
      "text/plain": [
       "                                  price\n",
       "avail_date branch_name                 \n",
       "2005                        4298.024691\n",
       "           FrankMall      121802.964985\n",
       "           MallOfAsia     134477.566060\n",
       "           MayMall        137079.079594\n",
       "           Megamall       142955.903482\n",
       "...                                 ...\n",
       "2030       Megamall       130639.080429\n",
       "           N/A              2048.417700\n",
       "           RobinsonsMall  126197.920506\n",
       "           SmallMall      131526.305978\n",
       "           Starmall       137478.266959\n",
       "\n",
       "[234 rows x 1 columns]"
      ]
     },
     "execution_count": 70,
     "metadata": {},
     "output_type": "execute_result"
    }
   ],
   "source": [
    "df_merged = pd.merge(df_customer_transaction, df_branch_service)\n",
    "df_merged.to_parquet(\"merged_data.parquet\")\n",
    "\n",
    "df_merged['avail_date'] = pd.to_datetime(df_merged['avail_date'])\n",
    "df_merged.groupby([df_merged.avail_date.dt.year, 'branch_name'])['price'].sum().to_frame()"
   ]
  },
  {
   "cell_type": "code",
   "execution_count": null,
   "id": "eaee2378-5022-48ff-94f7-5c35b8143da8",
   "metadata": {},
   "outputs": [],
   "source": []
  }
 ],
 "metadata": {
  "kernelspec": {
   "display_name": "Python 3 (ipykernel)",
   "language": "python",
   "name": "python3"
  },
  "language_info": {
   "codemirror_mode": {
    "name": "ipython",
    "version": 3
   },
   "file_extension": ".py",
   "mimetype": "text/x-python",
   "name": "python",
   "nbconvert_exporter": "python",
   "pygments_lexer": "ipython3",
   "version": "3.11.4"
  }
 },
 "nbformat": 4,
 "nbformat_minor": 5
}
