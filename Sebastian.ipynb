{
 "cells": [
  {
   "cell_type": "code",
   "execution_count": 1,
   "id": "2f85895e-7bbb-4606-9c4d-53ea16333025",
   "metadata": {},
   "outputs": [],
   "source": [
    "import pandas as pd\n",
    "import numpy as np"
   ]
  },
  {
   "cell_type": "code",
   "execution_count": null,
   "id": "4c6408f7-efca-4be8-97f3-d53e459f5e3b",
   "metadata": {},
   "outputs": [],
   "source": [
    "## Import classes to SQL "
   ]
  },
  {
   "cell_type": "code",
   "execution_count": 6,
   "id": "44ca5de3-80ed-40dc-81ea-469fa6d377f3",
   "metadata": {},
   "outputs": [],
   "source": [
    "#### Reads the JSON file (Pandas)"
   ]
  },
  {
   "cell_type": "code",
   "execution_count": 2,
   "id": "976c7ee6-64da-4411-a50e-2a8e8dbc11fa",
   "metadata": {},
   "outputs": [],
   "source": [
    "df_customer_transaction = pd.read_json(\"customer_transaction_info.json\")"
   ]
  },
  {
   "cell_type": "code",
   "execution_count": 8,
   "id": "0c2b26b0-12c8-4d1f-86a8-c4a172273c6d",
   "metadata": {},
   "outputs": [],
   "source": [
    "#### Shows the first number of students "
   ]
  },
  {
   "cell_type": "code",
   "execution_count": 3,
   "id": "acf19bbf-8b46-4c53-abee-da491f6db2a4",
   "metadata": {},
   "outputs": [
    {
     "data": {
      "text/html": [
       "<div>\n",
       "<style scoped>\n",
       "    .dataframe tbody tr th:only-of-type {\n",
       "        vertical-align: middle;\n",
       "    }\n",
       "\n",
       "    .dataframe tbody tr th {\n",
       "        vertical-align: top;\n",
       "    }\n",
       "\n",
       "    .dataframe thead th {\n",
       "        text-align: right;\n",
       "    }\n",
       "</style>\n",
       "<table border=\"1\" class=\"dataframe\">\n",
       "  <thead>\n",
       "    <tr style=\"text-align: right;\">\n",
       "      <th></th>\n",
       "      <th>txn_id</th>\n",
       "      <th>avail_date</th>\n",
       "      <th>last_name</th>\n",
       "      <th>first_name</th>\n",
       "      <th>birthday</th>\n",
       "    </tr>\n",
       "  </thead>\n",
       "  <tbody>\n",
       "    <tr>\n",
       "      <th>0</th>\n",
       "      <td>TXN-24546</td>\n",
       "      <td>2030-09-08</td>\n",
       "      <td>ORTIZ</td>\n",
       "      <td>EDUARDO</td>\n",
       "      <td>1990-07-08</td>\n",
       "    </tr>\n",
       "    <tr>\n",
       "      <th>1</th>\n",
       "      <td>TXN-14642</td>\n",
       "      <td>2026-05-26</td>\n",
       "      <td>NIENOW</td>\n",
       "      <td>LEA</td>\n",
       "      <td>2000-11-26</td>\n",
       "    </tr>\n",
       "    <tr>\n",
       "      <th>2</th>\n",
       "      <td>TXN-60295</td>\n",
       "      <td>2006-09-25</td>\n",
       "      <td>LESCH</td>\n",
       "      <td>FLETA</td>\n",
       "      <td>1993-05-22</td>\n",
       "    </tr>\n",
       "    <tr>\n",
       "      <th>3</th>\n",
       "      <td>TXN-60295</td>\n",
       "      <td>2006-09-25</td>\n",
       "      <td>LESCH</td>\n",
       "      <td>FLETA</td>\n",
       "      <td>1993-05-22</td>\n",
       "    </tr>\n",
       "    <tr>\n",
       "      <th>4</th>\n",
       "      <td>TXN-60295</td>\n",
       "      <td>2006-09-25</td>\n",
       "      <td>LESCH</td>\n",
       "      <td>FLETA</td>\n",
       "      <td>1993-05-22</td>\n",
       "    </tr>\n",
       "  </tbody>\n",
       "</table>\n",
       "</div>"
      ],
      "text/plain": [
       "      txn_id  avail_date last_name first_name    birthday\n",
       "0  TXN-24546  2030-09-08     ORTIZ    EDUARDO  1990-07-08\n",
       "1  TXN-14642  2026-05-26    NIENOW        LEA  2000-11-26\n",
       "2  TXN-60295  2006-09-25     LESCH      FLETA  1993-05-22\n",
       "3  TXN-60295  2006-09-25     LESCH      FLETA  1993-05-22\n",
       "4  TXN-60295  2006-09-25     LESCH      FLETA  1993-05-22"
      ]
     },
     "execution_count": 3,
     "metadata": {},
     "output_type": "execute_result"
    }
   ],
   "source": [
    "df_customer_transaction.head()"
   ]
  },
  {
   "cell_type": "code",
   "execution_count": 9,
   "id": "46b8e6e8-5f54-4578-9c89-6d5090a1b389",
   "metadata": {},
   "outputs": [],
   "source": [
    "#### Shows the length of columns (data) in the json file"
   ]
  },
  {
   "cell_type": "code",
   "execution_count": 4,
   "id": "dafde3d4-f335-4b08-bfc9-605372563217",
   "metadata": {},
   "outputs": [
    {
     "data": {
      "text/plain": [
       "130653"
      ]
     },
     "execution_count": 4,
     "metadata": {},
     "output_type": "execute_result"
    }
   ],
   "source": [
    "len(df_customer_transaction)"
   ]
  },
  {
   "cell_type": "code",
   "execution_count": 5,
   "id": "9766f9c8-b44e-439e-b0db-56e5d3816297",
   "metadata": {},
   "outputs": [
    {
     "data": {
      "text/html": [
       "<div>\n",
       "<style scoped>\n",
       "    .dataframe tbody tr th:only-of-type {\n",
       "        vertical-align: middle;\n",
       "    }\n",
       "\n",
       "    .dataframe tbody tr th {\n",
       "        vertical-align: top;\n",
       "    }\n",
       "\n",
       "    .dataframe thead th {\n",
       "        text-align: right;\n",
       "    }\n",
       "</style>\n",
       "<table border=\"1\" class=\"dataframe\">\n",
       "  <thead>\n",
       "    <tr style=\"text-align: right;\">\n",
       "      <th></th>\n",
       "      <th>txn_id</th>\n",
       "      <th>avail_date</th>\n",
       "      <th>last_name</th>\n",
       "      <th>first_name</th>\n",
       "      <th>birthday</th>\n",
       "    </tr>\n",
       "  </thead>\n",
       "  <tbody>\n",
       "    <tr>\n",
       "      <th>0</th>\n",
       "      <td>TXN-24546</td>\n",
       "      <td>2030-09-08</td>\n",
       "      <td>ORTIZ</td>\n",
       "      <td>EDUARDO</td>\n",
       "      <td>1990-07-08</td>\n",
       "    </tr>\n",
       "    <tr>\n",
       "      <th>1</th>\n",
       "      <td>TXN-14642</td>\n",
       "      <td>2026-05-26</td>\n",
       "      <td>NIENOW</td>\n",
       "      <td>LEA</td>\n",
       "      <td>2000-11-26</td>\n",
       "    </tr>\n",
       "    <tr>\n",
       "      <th>2</th>\n",
       "      <td>TXN-60295</td>\n",
       "      <td>2006-09-25</td>\n",
       "      <td>LESCH</td>\n",
       "      <td>FLETA</td>\n",
       "      <td>1993-05-22</td>\n",
       "    </tr>\n",
       "    <tr>\n",
       "      <th>3</th>\n",
       "      <td>TXN-60295</td>\n",
       "      <td>2006-09-25</td>\n",
       "      <td>LESCH</td>\n",
       "      <td>FLETA</td>\n",
       "      <td>1993-05-22</td>\n",
       "    </tr>\n",
       "    <tr>\n",
       "      <th>4</th>\n",
       "      <td>TXN-60295</td>\n",
       "      <td>2006-09-25</td>\n",
       "      <td>LESCH</td>\n",
       "      <td>FLETA</td>\n",
       "      <td>1993-05-22</td>\n",
       "    </tr>\n",
       "    <tr>\n",
       "      <th>...</th>\n",
       "      <td>...</td>\n",
       "      <td>...</td>\n",
       "      <td>...</td>\n",
       "      <td>...</td>\n",
       "      <td>...</td>\n",
       "    </tr>\n",
       "    <tr>\n",
       "      <th>130648</th>\n",
       "      <td>TXN-65468</td>\n",
       "      <td>2012-06-16</td>\n",
       "      <td>Cummings</td>\n",
       "      <td>Henry</td>\n",
       "      <td>2005-08-14</td>\n",
       "    </tr>\n",
       "    <tr>\n",
       "      <th>130649</th>\n",
       "      <td>TXN-60822</td>\n",
       "      <td>2020-09-28</td>\n",
       "      <td>Feil</td>\n",
       "      <td>Jermey</td>\n",
       "      <td>2010-06-15</td>\n",
       "    </tr>\n",
       "    <tr>\n",
       "      <th>130650</th>\n",
       "      <td>TXN-60822</td>\n",
       "      <td>2020-09-28</td>\n",
       "      <td>Feil</td>\n",
       "      <td>Jermey</td>\n",
       "      <td>2010-06-15</td>\n",
       "    </tr>\n",
       "    <tr>\n",
       "      <th>130651</th>\n",
       "      <td>TXN-01784</td>\n",
       "      <td>2015-01-11</td>\n",
       "      <td>Schmidt</td>\n",
       "      <td>Emilie</td>\n",
       "      <td>1996-05-21</td>\n",
       "    </tr>\n",
       "    <tr>\n",
       "      <th>130652</th>\n",
       "      <td>TXN-01784</td>\n",
       "      <td>2015-01-11</td>\n",
       "      <td>Schmidt</td>\n",
       "      <td>Emilie</td>\n",
       "      <td>1996-05-21</td>\n",
       "    </tr>\n",
       "  </tbody>\n",
       "</table>\n",
       "<p>130653 rows × 5 columns</p>\n",
       "</div>"
      ],
      "text/plain": [
       "           txn_id  avail_date last_name first_name    birthday\n",
       "0       TXN-24546  2030-09-08     ORTIZ    EDUARDO  1990-07-08\n",
       "1       TXN-14642  2026-05-26    NIENOW        LEA  2000-11-26\n",
       "2       TXN-60295  2006-09-25     LESCH      FLETA  1993-05-22\n",
       "3       TXN-60295  2006-09-25     LESCH      FLETA  1993-05-22\n",
       "4       TXN-60295  2006-09-25     LESCH      FLETA  1993-05-22\n",
       "...           ...         ...       ...        ...         ...\n",
       "130648  TXN-65468  2012-06-16  Cummings      Henry  2005-08-14\n",
       "130649  TXN-60822  2020-09-28      Feil     Jermey  2010-06-15\n",
       "130650  TXN-60822  2020-09-28      Feil     Jermey  2010-06-15\n",
       "130651  TXN-01784  2015-01-11   Schmidt     Emilie  1996-05-21\n",
       "130652  TXN-01784  2015-01-11   Schmidt     Emilie  1996-05-21\n",
       "\n",
       "[130653 rows x 5 columns]"
      ]
     },
     "execution_count": 5,
     "metadata": {},
     "output_type": "execute_result"
    }
   ],
   "source": [
    "df_customer_transaction.head(130654)"
   ]
  },
  {
   "cell_type": "code",
   "execution_count": null,
   "id": "1f03067f-531b-4d35-862c-10ef97ff16fd",
   "metadata": {},
   "outputs": [],
   "source": [
    "## Convert the original customer.json file to sqlite"
   ]
  },
  {
   "cell_type": "code",
   "execution_count": 17,
   "id": "e8c6b221-0ee2-409b-a254-60d15d517317",
   "metadata": {},
   "outputs": [],
   "source": [
    "from sqlalchemy import create_engine\n",
    "from sqlalchemy import VARCHAR, DATE"
   ]
  },
  {
   "cell_type": "raw",
   "id": "dd93224f-4764-4eb3-a2cd-870ba0f5e649",
   "metadata": {},
   "source": []
  },
  {
   "cell_type": "code",
   "execution_count": 21,
   "id": "4a6c4adc-2df6-4aa8-94e9-841cfe70ca25",
   "metadata": {},
   "outputs": [
    {
     "name": "stdout",
     "output_type": "stream",
     "text": [
      "2023-11-22 09:55:15,401 INFO sqlalchemy.engine.Engine BEGIN (implicit)\n",
      "2023-11-22 09:55:15,402 INFO sqlalchemy.engine.Engine PRAGMA main.table_info(\"customer_transactions\")\n",
      "2023-11-22 09:55:15,403 INFO sqlalchemy.engine.Engine [raw sql] ()\n",
      "2023-11-22 09:55:15,404 INFO sqlalchemy.engine.Engine PRAGMA main.table_info(\"customer_transactions\")\n",
      "2023-11-22 09:55:15,404 INFO sqlalchemy.engine.Engine [raw sql] ()\n",
      "2023-11-22 09:55:15,405 INFO sqlalchemy.engine.Engine SELECT name FROM sqlite_master WHERE type='table' AND name NOT LIKE 'sqlite~_%' ESCAPE '~' ORDER BY name\n",
      "2023-11-22 09:55:15,405 INFO sqlalchemy.engine.Engine [raw sql] ()\n",
      "2023-11-22 09:55:15,406 INFO sqlalchemy.engine.Engine SELECT name FROM sqlite_master WHERE type='view' AND name NOT LIKE 'sqlite~_%' ESCAPE '~' ORDER BY name\n",
      "2023-11-22 09:55:15,406 INFO sqlalchemy.engine.Engine [raw sql] ()\n",
      "2023-11-22 09:55:15,407 INFO sqlalchemy.engine.Engine PRAGMA main.table_xinfo(\"customer_transactions\")\n",
      "2023-11-22 09:55:15,407 INFO sqlalchemy.engine.Engine [raw sql] ()\n",
      "2023-11-22 09:55:15,407 INFO sqlalchemy.engine.Engine SELECT sql FROM  (SELECT * FROM sqlite_master UNION ALL   SELECT * FROM sqlite_temp_master) WHERE name = ? AND type in ('table', 'view')\n",
      "2023-11-22 09:55:15,409 INFO sqlalchemy.engine.Engine [raw sql] ('customer_transactions',)\n",
      "2023-11-22 09:55:15,409 INFO sqlalchemy.engine.Engine PRAGMA main.foreign_key_list(\"customer_transactions\")\n",
      "2023-11-22 09:55:15,410 INFO sqlalchemy.engine.Engine [raw sql] ()\n",
      "2023-11-22 09:55:15,410 INFO sqlalchemy.engine.Engine PRAGMA temp.foreign_key_list(\"customer_transactions\")\n",
      "2023-11-22 09:55:15,411 INFO sqlalchemy.engine.Engine [raw sql] ()\n",
      "2023-11-22 09:55:15,411 INFO sqlalchemy.engine.Engine SELECT sql FROM  (SELECT * FROM sqlite_master UNION ALL   SELECT * FROM sqlite_temp_master) WHERE name = ? AND type in ('table', 'view')\n",
      "2023-11-22 09:55:15,411 INFO sqlalchemy.engine.Engine [raw sql] ('customer_transactions',)\n",
      "2023-11-22 09:55:15,412 INFO sqlalchemy.engine.Engine PRAGMA main.index_list(\"customer_transactions\")\n",
      "2023-11-22 09:55:15,412 INFO sqlalchemy.engine.Engine [raw sql] ()\n",
      "2023-11-22 09:55:15,413 INFO sqlalchemy.engine.Engine PRAGMA temp.index_list(\"customer_transactions\")\n",
      "2023-11-22 09:55:15,413 INFO sqlalchemy.engine.Engine [raw sql] ()\n",
      "2023-11-22 09:55:15,414 INFO sqlalchemy.engine.Engine PRAGMA main.table_info(\"customer_transactions\")\n",
      "2023-11-22 09:55:15,414 INFO sqlalchemy.engine.Engine [raw sql] ()\n",
      "2023-11-22 09:55:15,415 INFO sqlalchemy.engine.Engine PRAGMA main.index_list(\"customer_transactions\")\n",
      "2023-11-22 09:55:15,415 INFO sqlalchemy.engine.Engine [raw sql] ()\n",
      "2023-11-22 09:55:15,416 INFO sqlalchemy.engine.Engine PRAGMA temp.index_list(\"customer_transactions\")\n",
      "2023-11-22 09:55:15,416 INFO sqlalchemy.engine.Engine [raw sql] ()\n",
      "2023-11-22 09:55:15,416 INFO sqlalchemy.engine.Engine PRAGMA main.table_info(\"customer_transactions\")\n",
      "2023-11-22 09:55:15,417 INFO sqlalchemy.engine.Engine [raw sql] ()\n",
      "2023-11-22 09:55:15,417 INFO sqlalchemy.engine.Engine SELECT sql FROM  (SELECT * FROM sqlite_master UNION ALL   SELECT * FROM sqlite_temp_master) WHERE name = ? AND type in ('table', 'view')\n",
      "2023-11-22 09:55:15,419 INFO sqlalchemy.engine.Engine [raw sql] ('customer_transactions',)\n",
      "2023-11-22 09:55:15,420 INFO sqlalchemy.engine.Engine \n",
      "DROP TABLE customer_transactions\n",
      "2023-11-22 09:55:15,420 INFO sqlalchemy.engine.Engine [no key 0.00051s] ()\n",
      "2023-11-22 09:55:15,432 INFO sqlalchemy.engine.Engine \n",
      "CREATE TABLE customer_transactions (\n",
      "\ttxn_id VARCHAR(10), \n",
      "\tavail_date DATE, \n",
      "\tlast_name VARCHAR(20), \n",
      "\tfirst_name VARCHAR(20), \n",
      "\tbirthday DATE\n",
      ")\n",
      "\n",
      "\n",
      "2023-11-22 09:55:15,432 INFO sqlalchemy.engine.Engine [no key 0.00106s] ()\n",
      "2023-11-22 09:55:15,830 INFO sqlalchemy.engine.Engine COMMIT\n"
     ]
    },
    {
     "ename": "StatementError",
     "evalue": "(builtins.TypeError) SQLite Date type only accepts Python date objects as input.\n[SQL: INSERT INTO customer_transactions (txn_id, avail_date, last_name, first_name, birthday) VALUES (?, ?, ?, ?, ?)]\n[parameters: [{'txn_id': 'TXN-24546', 'avail_date': '2030-09-08', 'last_name': 'ORTIZ', 'first_name': 'EDUARDO', 'birthday': '1990-07-08'}, {'txn_id': 'TXN-14642', 'avail_date': '2026-05-26', 'last_name': 'NIENOW', 'first_name': 'LEA', 'birthday': '2000-11-26'}, {'txn_id': 'TXN-60295', 'avail_date': '2006-09-25', 'last_name': 'LESCH', 'first_name': 'FLETA', 'birthday': '1993-05-22'}, {'txn_id': 'TXN-60295', 'avail_date': '2006-09-25', 'last_name': 'LESCH', 'first_name': 'FLETA', 'birthday': '1993-05-22'}, {'txn_id': 'TXN-60295', 'avail_date': '2006-09-25', 'last_name': 'LESCH', 'first_name': 'FLETA', 'birthday': '1993-05-22'}, {'txn_id': 'TXN-60295', 'avail_date': '2006-09-25', 'last_name': 'LESCH', 'first_name': 'FLETA', 'birthday': '1993-05-22'}, {'txn_id': 'TXN-40462', 'avail_date': '2021-08-21', 'last_name': 'KUHN', 'first_name': 'TOD', 'birthday': '2002-11-25'}, {'txn_id': 'TXN-40462', 'avail_date': '2021-08-21', 'last_name': 'KUHN', 'first_name': 'TOD', 'birthday': '2002-11-25'}, {'txn_id': 'TXN-08102', 'avail_date': '2010-04-03', 'last_name': 'JOHNSON', 'first_name': 'MILTON', 'birthday': '2003-07-10'}, {'txn_id': 'TXN-08102', 'avail_date': '2010-04-03', 'last_name': 'JOHNSON', 'first_name': 'MILTON', 'birthday': '2003-07-10'}, {'txn_id': 'TXN-08102', 'avail_date': '2010-04-03', 'last_name': 'JOHNSON', 'first_name': 'MILTON', 'birthday': '2003-07-10'}, {'txn_id': 'TXN-08102', 'avail_date': '2010-04-03', 'last_name': 'JOHNSON', 'first_name': 'MILTON', 'birthday': '2003-07-10'}, {'txn_id': 'TXN-64262', 'avail_date': '2018-11-23', 'last_name': 'HACKETT', 'first_name': 'MACI', 'birthday': '2005-06-20'}, {'txn_id': 'TXN-64262', 'avail_date': '2018-11-23', 'last_name': 'HACKETT', 'first_name': 'MACI', 'birthday': '2005-06-20'}, {'txn_id': 'TXN-64262', 'avail_date': '2018-11-23', 'last_name': 'HACKETT', 'first_name': 'MACI', 'birthday': '2005-06-20'}, {'txn_id': 'TXN-41934', 'avail_date': '2025-03-07', 'last_name': 'HANE', 'first_name': 'SYLVAN', 'birthday': '2007-07-02'}, {'txn_id': 'TXN-41934', 'avail_date': '2025-03-07', 'last_name': 'HANE', 'first_name': 'SYLVAN', 'birthday': '2007-07-02'}, {'txn_id': 'TXN-41934', 'avail_date': '2025-03-07', 'last_name': 'HANE', 'first_name': 'SYLVAN', 'birthday': '2007-07-02'}, {'txn_id': 'TXN-41934', 'avail_date': '2025-03-07', 'last_name': 'HANE', 'first_name': 'SYLVAN', 'birthday': '2007-07-02'}, {'txn_id': 'TXN-39050', 'avail_date': '2028-11-09', 'last_name': 'MAYER', 'first_name': 'TREMAINE', 'birthday': '1990-02-01'}, {'txn_id': 'TXN-39050', 'avail_date': '2028-11-09', 'last_name': 'MAYER', 'first_name': 'TREMAINE', 'birthday': '1990-02-01'}, {'txn_id': 'TXN-43150', 'avail_date': '2027-08-14', 'last_name': 'LEUSCHKE', 'first_name': 'ASHTON', 'birthday': '2004-08-23'}, {'txn_id': 'TXN-49423', 'avail_date': '2008-08-13', 'last_name': 'BERGE', 'first_name': 'RASHEED', 'birthday': '2010-02-05'}, {'txn_id': 'TXN-49423', 'avail_date': '2008-08-13', 'last_name': 'BERGE', 'first_name': 'RASHEED', 'birthday': '2010-02-05'}, {'txn_id': 'TXN-59988', 'avail_date': '2021-02-01', 'last_name': 'BASHIRIAN', 'first_name': 'BRICE', 'birthday': '2004-07-20'}, {'txn_id': 'TXN-08158', 'avail_date': '2023-08-05', 'last_name': 'BATZ', 'first_name': 'TIMMOTHY', 'birthday': '2008-10-06'}, {'txn_id': 'TXN-08158', 'avail_date': '2023-08-05', 'last_name': 'BATZ', 'first_name': 'TIMMOTHY', 'birthday': '2008-10-06'}, {'txn_id': 'TXN-15331', 'avail_date': '2025-05-02', 'last_name': 'SMITH', 'first_name': 'KACIE', 'birthday': '2002-10-28'}, {'txn_id': 'TXN-15331', 'avail_date': '2025-05-02', 'last_name': 'SMITH', 'first_name': 'KACIE', 'birthday': '2002-10-28'}, {'txn_id': 'TXN-15331', 'avail_date': '2025-05-02', 'last_name': 'SMITH', 'first_name': 'KACIE', 'birthday': '2002-10-28'}, {'txn_id': 'TXN-37609', 'avail_date': '2022-09-04', 'last_name': 'KUNDE', 'first_name': 'MARIANA', 'birthday': '1996-10-29'}, {'txn_id': 'TXN-31294', 'avail_date': '2018-01-04', 'last_name': 'BREITENBERG', 'first_name': 'MADGE', 'birthday': '2006-06-22'}, {'txn_id': 'TXN-31294', 'avail_date': '2018-01-04', 'last_name': 'BREITENBERG', 'first_name': 'MADGE', 'birthday': '2006-06-22'}, {'txn_id': 'TXN-31294', 'avail_date': '2018-01-04', 'last_name': 'BREITENBERG', 'first_name': 'MADGE', 'birthday': '2006-06-22'}, {'txn_id': 'TXN-38413', 'avail_date': '2025-03-29', 'last_name': 'KIHN', 'first_name': 'JESS', 'birthday': '2010-04-05'}, {'txn_id': 'TXN-51225', 'avail_date': '2029-02-07', 'last_name': 'MCCULLOUGH', 'first_name': 'KIRK', 'birthday': '1992-12-29'}, {'txn_id': 'TXN-35244', 'avail_date': '2005-11-23', 'last_name': 'HAMMES', 'first_name': 'EUNICE', 'birthday': '2006-06-13'}, {'txn_id': 'TXN-35244', 'avail_date': '2005-11-23', 'last_name': 'HAMMES', 'first_name': 'EUNICE', 'birthday': '2006-06-13'}, {'txn_id': 'TXN-21732', 'avail_date': '2017-03-16', 'last_name': 'TURCOTTE', 'first_name': 'HELLEN', 'birthday': '1996-03-25'}, {'txn_id': 'TXN-31732', 'avail_date': '2013-04-28', 'last_name': 'LOCKMAN', 'first_name': 'CHADD', 'birthday': '2003-06-17'}, {'txn_id': 'TXN-31732', 'avail_date': '2013-04-28', 'last_name': 'LOCKMAN', 'first_name': 'CHADD', 'birthday': '2003-06-17'}, {'txn_id': 'TXN-38645', 'avail_date': '2021-07-21', 'last_name': 'HAMMES', 'first_name': 'ANTOINETTE', 'birthday': '2001-07-20'}, {'txn_id': 'TXN-38645', 'avail_date': '2021-07-21', 'last_name': 'HAMMES', 'first_name': 'ANTOINETTE', 'birthday': '2001-07-20'}, {'txn_id': 'TXN-38645', 'avail_date': '2021-07-21', 'last_name': 'HAMMES', 'first_name': 'ANTOINETTE', 'birthday': '2001-07-20'}, {'txn_id': 'TXN-38645', 'avail_date': '2021-07-21', 'last_name': 'HAMMES', 'first_name': 'ANTOINETTE', 'birthday': '2001-07-20'}, {'txn_id': 'TXN-38645', 'avail_date': '2021-07-21', 'last_name': 'HAMMES', 'first_name': 'ANTOINETTE', 'birthday': '2001-07-20'}, {'txn_id': 'TXN-34790', 'avail_date': '2023-01-04', 'last_name': 'PADBERG', 'first_name': 'SHEMAR', 'birthday': '2010-10-25'}, {'txn_id': 'TXN-30063', 'avail_date': '2015-06-25', 'last_name': 'ZIEME', 'first_name': 'ROBYN', 'birthday': '1991-05-10'}, {'txn_id': 'TXN-30063', 'avail_date': '2015-06-25', 'last_name': 'ZIEME', 'first_name': 'ROBYN', 'birthday': '1991-05-10'}, {'txn_id': 'TXN-30063', 'avail_date': '2015-06-25', 'last_name': 'ZIEME', 'first_name': 'ROBYN', 'birthday': '1991-05-10'} ... 130553 parameters truncated ... {'txn_id': 'TXN-10845', 'avail_date': '2008-10-28', 'last_name': 'Skiles', 'first_name': 'Haskell', 'birthday': '1999-06-05'}, {'txn_id': 'TXN-41793', 'avail_date': '2010-06-13', 'last_name': 'Klocko', 'first_name': 'Jason', 'birthday': '2009-06-08'}, {'txn_id': 'TXN-41793', 'avail_date': '2010-06-13', 'last_name': 'Klocko', 'first_name': 'Jason', 'birthday': '2009-06-08'}, {'txn_id': 'TXN-41793', 'avail_date': '2010-06-13', 'last_name': 'Klocko', 'first_name': 'Jason', 'birthday': '2009-06-08'}, {'txn_id': 'TXN-60320', 'avail_date': '2019-08-27', 'last_name': 'Fahey', 'first_name': 'Trace', 'birthday': '2004-12-26'}, {'txn_id': 'TXN-34533', 'avail_date': '2028-07-26', 'last_name': 'Gutmann', 'first_name': 'Salvatore', 'birthday': '2007-06-12'}, {'txn_id': 'TXN-34533', 'avail_date': '2028-07-26', 'last_name': 'Gutmann', 'first_name': 'Salvatore', 'birthday': '2007-06-12'}, {'txn_id': 'TXN-09795', 'avail_date': '2016-05-07', 'last_name': 'Hammes', 'first_name': 'Luz', 'birthday': '1992-05-18'}, {'txn_id': 'TXN-09795', 'avail_date': '2016-05-07', 'last_name': 'Hammes', 'first_name': 'Luz', 'birthday': '1992-05-18'}, {'txn_id': 'TXN-52436', 'avail_date': '2022-01-28', 'last_name': 'Lindgren', 'first_name': 'Leonie', 'birthday': '1990-04-20'}, {'txn_id': 'TXN-52436', 'avail_date': '2022-01-28', 'last_name': 'Lindgren', 'first_name': 'Leonie', 'birthday': '1990-04-20'}, {'txn_id': 'TXN-03109', 'avail_date': '2021-03-17', 'last_name': 'Reichel', 'first_name': 'Murphy', 'birthday': '1992-01-29'}, {'txn_id': 'TXN-03109', 'avail_date': '2021-03-17', 'last_name': 'Reichel', 'first_name': 'Murphy', 'birthday': '1992-01-29'}, {'txn_id': 'TXN-03555', 'avail_date': '2013-08-12', 'last_name': 'Hoeger', 'first_name': 'Vena', 'birthday': '1999-02-28'}, {'txn_id': 'TXN-03555', 'avail_date': '2013-08-12', 'last_name': 'Hoeger', 'first_name': 'Vena', 'birthday': '1999-02-28'}, {'txn_id': 'TXN-43035', 'avail_date': '2022-05-28', 'last_name': 'Crona', 'first_name': 'Velma', 'birthday': '1999-06-16'}, {'txn_id': 'TXN-42151', 'avail_date': '2010-03-23', 'last_name': 'Hagenes', 'first_name': 'Ryann', 'birthday': '1991-09-13'}, {'txn_id': 'TXN-42151', 'avail_date': '2010-03-23', 'last_name': 'Hagenes', 'first_name': 'Ryann', 'birthday': '1991-09-13'}, {'txn_id': 'TXN-42151', 'avail_date': '2010-03-23', 'last_name': 'Hagenes', 'first_name': 'Ryann', 'birthday': '1991-09-13'}, {'txn_id': 'TXN-48422', 'avail_date': '2029-10-26', 'last_name': 'Kautzer', 'first_name': 'Lilliana', 'birthday': '2005-04-09'}, {'txn_id': 'TXN-48422', 'avail_date': '2029-10-26', 'last_name': 'Kautzer', 'first_name': 'Lilliana', 'birthday': '2005-04-09'}, {'txn_id': 'TXN-48422', 'avail_date': '2029-10-26', 'last_name': 'Kautzer', 'first_name': 'Lilliana', 'birthday': '2005-04-09'}, {'txn_id': 'TXN-37684', 'avail_date': '2014-12-04', 'last_name': 'Runte', 'first_name': 'Mike', 'birthday': '2007-06-15'}, {'txn_id': 'TXN-17092', 'avail_date': '2020-12-24', 'last_name': 'Douglas', 'first_name': 'Cathy', 'birthday': '2009-10-26'}, {'txn_id': 'TXN-17092', 'avail_date': '2020-12-24', 'last_name': 'Douglas', 'first_name': 'Cathy', 'birthday': '2009-10-26'}, {'txn_id': 'TXN-17092', 'avail_date': '2020-12-24', 'last_name': 'Douglas', 'first_name': 'Cathy', 'birthday': '2009-10-26'}, {'txn_id': 'TXN-17092', 'avail_date': '2020-12-24', 'last_name': 'Douglas', 'first_name': 'Cathy', 'birthday': '2009-10-26'}, {'txn_id': 'TXN-17092', 'avail_date': '2020-12-24', 'last_name': 'Douglas', 'first_name': 'Cathy', 'birthday': '2009-10-26'}, {'txn_id': 'TXN-59520', 'avail_date': '2015-07-18', 'last_name': 'Kessler', 'first_name': 'Russell', 'birthday': '1991-08-21'}, {'txn_id': 'TXN-08837', 'avail_date': '2014-04-28', 'last_name': 'Hettinger', 'first_name': 'Carlie', 'birthday': '1990-12-09'}, {'txn_id': 'TXN-08837', 'avail_date': '2014-04-28', 'last_name': 'Hettinger', 'first_name': 'Carlie', 'birthday': '1990-12-09'}, {'txn_id': 'TXN-52093', 'avail_date': '2025-05-31', 'last_name': 'Durgan', 'first_name': 'Trisha', 'birthday': '1994-10-29'}, {'txn_id': 'TXN-35117', 'avail_date': '2018-03-18', 'last_name': 'Anderson', 'first_name': 'Duncan', 'birthday': '2010-09-12'}, {'txn_id': 'TXN-35117', 'avail_date': '2018-03-18', 'last_name': 'Anderson', 'first_name': 'Duncan', 'birthday': '2010-09-12'}, {'txn_id': 'TXN-17937', 'avail_date': '2016-01-04', 'last_name': 'Torphy', 'first_name': 'Garret', 'birthday': '1998-11-26'}, {'txn_id': 'TXN-17937', 'avail_date': '2016-01-04', 'last_name': 'Torphy', 'first_name': 'Garret', 'birthday': '1998-11-26'}, {'txn_id': 'TXN-32813', 'avail_date': '2028-08-16', 'last_name': 'Predovic', 'first_name': 'Sage', 'birthday': '2007-10-07'}, {'txn_id': 'TXN-16095', 'avail_date': '2027-08-19', 'last_name': 'Bergstrom', 'first_name': 'Dedrick', 'birthday': '2000-04-15'}, {'txn_id': 'TXN-16095', 'avail_date': '2027-08-19', 'last_name': 'Bergstrom', 'first_name': 'Dedrick', 'birthday': '2000-04-15'}, {'txn_id': 'TXN-16095', 'avail_date': '2027-08-19', 'last_name': 'Bergstrom', 'first_name': 'Dedrick', 'birthday': '2000-04-15'}, {'txn_id': 'TXN-11897', 'avail_date': '2027-06-19', 'last_name': 'Reinger', 'first_name': 'Conrad', 'birthday': '1996-12-03'}, {'txn_id': 'TXN-11897', 'avail_date': '2027-06-19', 'last_name': 'Reinger', 'first_name': 'Conrad', 'birthday': '1996-12-03'}, {'txn_id': 'TXN-11897', 'avail_date': '2027-06-19', 'last_name': 'Reinger', 'first_name': 'Conrad', 'birthday': '1996-12-03'}, {'txn_id': 'TXN-43876', 'avail_date': '2021-11-13', 'last_name': 'Jewess', 'first_name': 'Lucio', 'birthday': '1996-07-05'}, {'txn_id': 'TXN-65468', 'avail_date': '2012-06-16', 'last_name': 'Cummings', 'first_name': 'Henry', 'birthday': '2005-08-14'}, {'txn_id': 'TXN-65468', 'avail_date': '2012-06-16', 'last_name': 'Cummings', 'first_name': 'Henry', 'birthday': '2005-08-14'}, {'txn_id': 'TXN-60822', 'avail_date': '2020-09-28', 'last_name': 'Feil', 'first_name': 'Jermey', 'birthday': '2010-06-15'}, {'txn_id': 'TXN-60822', 'avail_date': '2020-09-28', 'last_name': 'Feil', 'first_name': 'Jermey', 'birthday': '2010-06-15'}, {'txn_id': 'TXN-01784', 'avail_date': '2015-01-11', 'last_name': 'Schmidt', 'first_name': 'Emilie', 'birthday': '1996-05-21'}, {'txn_id': 'TXN-01784', 'avail_date': '2015-01-11', 'last_name': 'Schmidt', 'first_name': 'Emilie', 'birthday': '1996-05-21'}]]",
     "output_type": "error",
     "traceback": [
      "\u001b[1;31m---------------------------------------------------------------------------\u001b[0m",
      "\u001b[1;31mTypeError\u001b[0m                                 Traceback (most recent call last)",
      "File \u001b[1;32m~\\AppData\\Local\\Programs\\Python\\Python312\\Lib\\site-packages\\sqlalchemy\\engine\\base.py:1814\u001b[0m, in \u001b[0;36mConnection._execute_context\u001b[1;34m(self, dialect, constructor, statement, parameters, execution_options, *args, **kw)\u001b[0m\n\u001b[0;32m   1812\u001b[0m         conn \u001b[38;5;241m=\u001b[39m \u001b[38;5;28mself\u001b[39m\u001b[38;5;241m.\u001b[39m_revalidate_connection()\n\u001b[1;32m-> 1814\u001b[0m     context \u001b[38;5;241m=\u001b[39m \u001b[43mconstructor\u001b[49m\u001b[43m(\u001b[49m\n\u001b[0;32m   1815\u001b[0m \u001b[43m        \u001b[49m\u001b[43mdialect\u001b[49m\u001b[43m,\u001b[49m\u001b[43m \u001b[49m\u001b[38;5;28;43mself\u001b[39;49m\u001b[43m,\u001b[49m\u001b[43m \u001b[49m\u001b[43mconn\u001b[49m\u001b[43m,\u001b[49m\u001b[43m \u001b[49m\u001b[43mexecution_options\u001b[49m\u001b[43m,\u001b[49m\u001b[43m \u001b[49m\u001b[38;5;241;43m*\u001b[39;49m\u001b[43margs\u001b[49m\u001b[43m,\u001b[49m\u001b[43m \u001b[49m\u001b[38;5;241;43m*\u001b[39;49m\u001b[38;5;241;43m*\u001b[39;49m\u001b[43mkw\u001b[49m\n\u001b[0;32m   1816\u001b[0m \u001b[43m    \u001b[49m\u001b[43m)\u001b[49m\n\u001b[0;32m   1817\u001b[0m \u001b[38;5;28;01mexcept\u001b[39;00m (exc\u001b[38;5;241m.\u001b[39mPendingRollbackError, exc\u001b[38;5;241m.\u001b[39mResourceClosedError):\n",
      "File \u001b[1;32m~\\AppData\\Local\\Programs\\Python\\Python312\\Lib\\site-packages\\sqlalchemy\\engine\\default.py:1456\u001b[0m, in \u001b[0;36mDefaultExecutionContext._init_compiled\u001b[1;34m(cls, dialect, connection, dbapi_connection, execution_options, compiled, parameters, invoked_statement, extracted_parameters, cache_hit)\u001b[0m\n\u001b[0;32m   1454\u001b[0m \u001b[38;5;28;01mfor\u001b[39;00m compiled_params \u001b[38;5;129;01min\u001b[39;00m \u001b[38;5;28mself\u001b[39m\u001b[38;5;241m.\u001b[39mcompiled_parameters:\n\u001b[0;32m   1455\u001b[0m     l_param: List[Any] \u001b[38;5;241m=\u001b[39m [\n\u001b[1;32m-> 1456\u001b[0m         \u001b[43mflattened_processors\u001b[49m\u001b[43m[\u001b[49m\u001b[43mkey\u001b[49m\u001b[43m]\u001b[49m\u001b[43m(\u001b[49m\u001b[43mcompiled_params\u001b[49m\u001b[43m[\u001b[49m\u001b[43mkey\u001b[49m\u001b[43m]\u001b[49m\u001b[43m)\u001b[49m\n\u001b[0;32m   1457\u001b[0m         \u001b[38;5;28;01mif\u001b[39;00m key \u001b[38;5;129;01min\u001b[39;00m flattened_processors\n\u001b[0;32m   1458\u001b[0m         \u001b[38;5;28;01melse\u001b[39;00m compiled_params[key]\n\u001b[0;32m   1459\u001b[0m         \u001b[38;5;28;01mfor\u001b[39;00m key \u001b[38;5;129;01min\u001b[39;00m positiontup\n\u001b[0;32m   1460\u001b[0m     ]\n\u001b[0;32m   1461\u001b[0m     core_positional_parameters\u001b[38;5;241m.\u001b[39mappend(\n\u001b[0;32m   1462\u001b[0m         dialect\u001b[38;5;241m.\u001b[39mexecute_sequence_format(l_param)\n\u001b[0;32m   1463\u001b[0m     )\n",
      "File \u001b[1;32m~\\AppData\\Local\\Programs\\Python\\Python312\\Lib\\site-packages\\sqlalchemy\\dialects\\sqlite\\base.py:1142\u001b[0m, in \u001b[0;36mDATE.bind_processor.<locals>.process\u001b[1;34m(value)\u001b[0m\n\u001b[0;32m   1141\u001b[0m \u001b[38;5;28;01melse\u001b[39;00m:\n\u001b[1;32m-> 1142\u001b[0m     \u001b[38;5;28;01mraise\u001b[39;00m \u001b[38;5;167;01mTypeError\u001b[39;00m(\n\u001b[0;32m   1143\u001b[0m         \u001b[38;5;124m\"\u001b[39m\u001b[38;5;124mSQLite Date type only accepts Python \u001b[39m\u001b[38;5;124m\"\u001b[39m\n\u001b[0;32m   1144\u001b[0m         \u001b[38;5;124m\"\u001b[39m\u001b[38;5;124mdate objects as input.\u001b[39m\u001b[38;5;124m\"\u001b[39m\n\u001b[0;32m   1145\u001b[0m     )\n",
      "\u001b[1;31mTypeError\u001b[0m: SQLite Date type only accepts Python date objects as input.",
      "\nThe above exception was the direct cause of the following exception:\n",
      "\u001b[1;31mStatementError\u001b[0m                            Traceback (most recent call last)",
      "Cell \u001b[1;32mIn[21], line 2\u001b[0m\n\u001b[0;32m      1\u001b[0m engine \u001b[38;5;241m=\u001b[39m create_engine(\u001b[38;5;124m'\u001b[39m\u001b[38;5;124msqlite:///customer_transactions.db\u001b[39m\u001b[38;5;124m'\u001b[39m, echo\u001b[38;5;241m=\u001b[39m\u001b[38;5;28;01mTrue\u001b[39;00m)\n\u001b[1;32m----> 2\u001b[0m \u001b[43mdf_customer_transaction\u001b[49m\u001b[38;5;241;43m.\u001b[39;49m\u001b[43mto_sql\u001b[49m\u001b[43m(\u001b[49m\u001b[38;5;124;43m'\u001b[39;49m\u001b[38;5;124;43mcustomer_transactions\u001b[39;49m\u001b[38;5;124;43m'\u001b[39;49m\u001b[43m,\u001b[49m\u001b[43m \u001b[49m\u001b[43mcon\u001b[49m\u001b[38;5;241;43m=\u001b[39;49m\u001b[43mengine\u001b[49m\u001b[43m,\u001b[49m\u001b[43m \u001b[49m\u001b[43mif_exists\u001b[49m\u001b[38;5;241;43m=\u001b[39;49m\u001b[38;5;124;43m'\u001b[39;49m\u001b[38;5;124;43mreplace\u001b[39;49m\u001b[38;5;124;43m'\u001b[39;49m\u001b[43m,\u001b[49m\u001b[43m \u001b[49m\u001b[43mindex\u001b[49m\u001b[38;5;241;43m=\u001b[39;49m\u001b[38;5;28;43;01mFalse\u001b[39;49;00m\u001b[43m,\u001b[49m\n\u001b[0;32m      3\u001b[0m \u001b[43m                              \u001b[49m\u001b[43mdtype\u001b[49m\u001b[38;5;241;43m=\u001b[39;49m\u001b[43m{\u001b[49m\n\u001b[0;32m      4\u001b[0m \u001b[43m                                  \u001b[49m\u001b[38;5;124;43m\"\u001b[39;49m\u001b[38;5;124;43mtxn_id\u001b[39;49m\u001b[38;5;124;43m\"\u001b[39;49m\u001b[43m:\u001b[49m\u001b[43m \u001b[49m\u001b[43mVARCHAR\u001b[49m\u001b[43m(\u001b[49m\u001b[38;5;241;43m10\u001b[39;49m\u001b[43m)\u001b[49m\u001b[43m,\u001b[49m\n\u001b[0;32m      5\u001b[0m \u001b[43m                                  \u001b[49m\u001b[38;5;124;43m\"\u001b[39;49m\u001b[38;5;124;43mavail_date\u001b[39;49m\u001b[38;5;124;43m\"\u001b[39;49m\u001b[43m \u001b[49m\u001b[43m:\u001b[49m\u001b[43m \u001b[49m\u001b[43mDATE\u001b[49m\u001b[43m(\u001b[49m\u001b[43m)\u001b[49m\u001b[43m,\u001b[49m\n\u001b[0;32m      6\u001b[0m \u001b[43m                                  \u001b[49m\u001b[38;5;124;43m\"\u001b[39;49m\u001b[38;5;124;43mlast_name\u001b[39;49m\u001b[38;5;124;43m\"\u001b[39;49m\u001b[43m \u001b[49m\u001b[43m:\u001b[49m\u001b[43m \u001b[49m\u001b[43mVARCHAR\u001b[49m\u001b[43m(\u001b[49m\u001b[38;5;241;43m20\u001b[39;49m\u001b[43m)\u001b[49m\u001b[43m,\u001b[49m\n\u001b[0;32m      7\u001b[0m \u001b[43m                                  \u001b[49m\u001b[38;5;124;43m\"\u001b[39;49m\u001b[38;5;124;43mfirst_name\u001b[39;49m\u001b[38;5;124;43m\"\u001b[39;49m\u001b[43m \u001b[49m\u001b[43m:\u001b[49m\u001b[43m \u001b[49m\u001b[43mVARCHAR\u001b[49m\u001b[43m(\u001b[49m\u001b[38;5;241;43m20\u001b[39;49m\u001b[43m)\u001b[49m\u001b[43m,\u001b[49m\n\u001b[0;32m      8\u001b[0m \u001b[43m                                  \u001b[49m\u001b[38;5;124;43m\"\u001b[39;49m\u001b[38;5;124;43mbirthday\u001b[39;49m\u001b[38;5;124;43m\"\u001b[39;49m\u001b[43m \u001b[49m\u001b[43m:\u001b[49m\u001b[43m \u001b[49m\u001b[43mDATE\u001b[49m\u001b[43m(\u001b[49m\u001b[43m)\u001b[49m\n\u001b[0;32m      9\u001b[0m \u001b[43m                              \u001b[49m\u001b[43m}\u001b[49m\u001b[43m)\u001b[49m\n",
      "File \u001b[1;32m~\\AppData\\Local\\Programs\\Python\\Python312\\Lib\\site-packages\\pandas\\util\\_decorators.py:333\u001b[0m, in \u001b[0;36mdeprecate_nonkeyword_arguments.<locals>.decorate.<locals>.wrapper\u001b[1;34m(*args, **kwargs)\u001b[0m\n\u001b[0;32m    327\u001b[0m \u001b[38;5;28;01mif\u001b[39;00m \u001b[38;5;28mlen\u001b[39m(args) \u001b[38;5;241m>\u001b[39m num_allow_args:\n\u001b[0;32m    328\u001b[0m     warnings\u001b[38;5;241m.\u001b[39mwarn(\n\u001b[0;32m    329\u001b[0m         msg\u001b[38;5;241m.\u001b[39mformat(arguments\u001b[38;5;241m=\u001b[39m_format_argument_list(allow_args)),\n\u001b[0;32m    330\u001b[0m         \u001b[38;5;167;01mFutureWarning\u001b[39;00m,\n\u001b[0;32m    331\u001b[0m         stacklevel\u001b[38;5;241m=\u001b[39mfind_stack_level(),\n\u001b[0;32m    332\u001b[0m     )\n\u001b[1;32m--> 333\u001b[0m \u001b[38;5;28;01mreturn\u001b[39;00m \u001b[43mfunc\u001b[49m\u001b[43m(\u001b[49m\u001b[38;5;241;43m*\u001b[39;49m\u001b[43margs\u001b[49m\u001b[43m,\u001b[49m\u001b[43m \u001b[49m\u001b[38;5;241;43m*\u001b[39;49m\u001b[38;5;241;43m*\u001b[39;49m\u001b[43mkwargs\u001b[49m\u001b[43m)\u001b[49m\n",
      "File \u001b[1;32m~\\AppData\\Local\\Programs\\Python\\Python312\\Lib\\site-packages\\pandas\\core\\generic.py:3008\u001b[0m, in \u001b[0;36mNDFrame.to_sql\u001b[1;34m(self, name, con, schema, if_exists, index, index_label, chunksize, dtype, method)\u001b[0m\n\u001b[0;32m   2813\u001b[0m \u001b[38;5;250m\u001b[39m\u001b[38;5;124;03m\"\"\"\u001b[39;00m\n\u001b[0;32m   2814\u001b[0m \u001b[38;5;124;03mWrite records stored in a DataFrame to a SQL database.\u001b[39;00m\n\u001b[0;32m   2815\u001b[0m \n\u001b[1;32m   (...)\u001b[0m\n\u001b[0;32m   3004\u001b[0m \u001b[38;5;124;03m[(1,), (None,), (2,)]\u001b[39;00m\n\u001b[0;32m   3005\u001b[0m \u001b[38;5;124;03m\"\"\"\u001b[39;00m  \u001b[38;5;66;03m# noqa: E501\u001b[39;00m\n\u001b[0;32m   3006\u001b[0m \u001b[38;5;28;01mfrom\u001b[39;00m \u001b[38;5;21;01mpandas\u001b[39;00m\u001b[38;5;21;01m.\u001b[39;00m\u001b[38;5;21;01mio\u001b[39;00m \u001b[38;5;28;01mimport\u001b[39;00m sql\n\u001b[1;32m-> 3008\u001b[0m \u001b[38;5;28;01mreturn\u001b[39;00m \u001b[43msql\u001b[49m\u001b[38;5;241;43m.\u001b[39;49m\u001b[43mto_sql\u001b[49m\u001b[43m(\u001b[49m\n\u001b[0;32m   3009\u001b[0m \u001b[43m    \u001b[49m\u001b[38;5;28;43mself\u001b[39;49m\u001b[43m,\u001b[49m\n\u001b[0;32m   3010\u001b[0m \u001b[43m    \u001b[49m\u001b[43mname\u001b[49m\u001b[43m,\u001b[49m\n\u001b[0;32m   3011\u001b[0m \u001b[43m    \u001b[49m\u001b[43mcon\u001b[49m\u001b[43m,\u001b[49m\n\u001b[0;32m   3012\u001b[0m \u001b[43m    \u001b[49m\u001b[43mschema\u001b[49m\u001b[38;5;241;43m=\u001b[39;49m\u001b[43mschema\u001b[49m\u001b[43m,\u001b[49m\n\u001b[0;32m   3013\u001b[0m \u001b[43m    \u001b[49m\u001b[43mif_exists\u001b[49m\u001b[38;5;241;43m=\u001b[39;49m\u001b[43mif_exists\u001b[49m\u001b[43m,\u001b[49m\n\u001b[0;32m   3014\u001b[0m \u001b[43m    \u001b[49m\u001b[43mindex\u001b[49m\u001b[38;5;241;43m=\u001b[39;49m\u001b[43mindex\u001b[49m\u001b[43m,\u001b[49m\n\u001b[0;32m   3015\u001b[0m \u001b[43m    \u001b[49m\u001b[43mindex_label\u001b[49m\u001b[38;5;241;43m=\u001b[39;49m\u001b[43mindex_label\u001b[49m\u001b[43m,\u001b[49m\n\u001b[0;32m   3016\u001b[0m \u001b[43m    \u001b[49m\u001b[43mchunksize\u001b[49m\u001b[38;5;241;43m=\u001b[39;49m\u001b[43mchunksize\u001b[49m\u001b[43m,\u001b[49m\n\u001b[0;32m   3017\u001b[0m \u001b[43m    \u001b[49m\u001b[43mdtype\u001b[49m\u001b[38;5;241;43m=\u001b[39;49m\u001b[43mdtype\u001b[49m\u001b[43m,\u001b[49m\n\u001b[0;32m   3018\u001b[0m \u001b[43m    \u001b[49m\u001b[43mmethod\u001b[49m\u001b[38;5;241;43m=\u001b[39;49m\u001b[43mmethod\u001b[49m\u001b[43m,\u001b[49m\n\u001b[0;32m   3019\u001b[0m \u001b[43m\u001b[49m\u001b[43m)\u001b[49m\n",
      "File \u001b[1;32m~\\AppData\\Local\\Programs\\Python\\Python312\\Lib\\site-packages\\pandas\\io\\sql.py:788\u001b[0m, in \u001b[0;36mto_sql\u001b[1;34m(frame, name, con, schema, if_exists, index, index_label, chunksize, dtype, method, engine, **engine_kwargs)\u001b[0m\n\u001b[0;32m    783\u001b[0m     \u001b[38;5;28;01mraise\u001b[39;00m \u001b[38;5;167;01mNotImplementedError\u001b[39;00m(\n\u001b[0;32m    784\u001b[0m         \u001b[38;5;124m\"\u001b[39m\u001b[38;5;124m'\u001b[39m\u001b[38;5;124mframe\u001b[39m\u001b[38;5;124m'\u001b[39m\u001b[38;5;124m argument should be either a Series or a DataFrame\u001b[39m\u001b[38;5;124m\"\u001b[39m\n\u001b[0;32m    785\u001b[0m     )\n\u001b[0;32m    787\u001b[0m \u001b[38;5;28;01mwith\u001b[39;00m pandasSQL_builder(con, schema\u001b[38;5;241m=\u001b[39mschema, need_transaction\u001b[38;5;241m=\u001b[39m\u001b[38;5;28;01mTrue\u001b[39;00m) \u001b[38;5;28;01mas\u001b[39;00m pandas_sql:\n\u001b[1;32m--> 788\u001b[0m     \u001b[38;5;28;01mreturn\u001b[39;00m \u001b[43mpandas_sql\u001b[49m\u001b[38;5;241;43m.\u001b[39;49m\u001b[43mto_sql\u001b[49m\u001b[43m(\u001b[49m\n\u001b[0;32m    789\u001b[0m \u001b[43m        \u001b[49m\u001b[43mframe\u001b[49m\u001b[43m,\u001b[49m\n\u001b[0;32m    790\u001b[0m \u001b[43m        \u001b[49m\u001b[43mname\u001b[49m\u001b[43m,\u001b[49m\n\u001b[0;32m    791\u001b[0m \u001b[43m        \u001b[49m\u001b[43mif_exists\u001b[49m\u001b[38;5;241;43m=\u001b[39;49m\u001b[43mif_exists\u001b[49m\u001b[43m,\u001b[49m\n\u001b[0;32m    792\u001b[0m \u001b[43m        \u001b[49m\u001b[43mindex\u001b[49m\u001b[38;5;241;43m=\u001b[39;49m\u001b[43mindex\u001b[49m\u001b[43m,\u001b[49m\n\u001b[0;32m    793\u001b[0m \u001b[43m        \u001b[49m\u001b[43mindex_label\u001b[49m\u001b[38;5;241;43m=\u001b[39;49m\u001b[43mindex_label\u001b[49m\u001b[43m,\u001b[49m\n\u001b[0;32m    794\u001b[0m \u001b[43m        \u001b[49m\u001b[43mschema\u001b[49m\u001b[38;5;241;43m=\u001b[39;49m\u001b[43mschema\u001b[49m\u001b[43m,\u001b[49m\n\u001b[0;32m    795\u001b[0m \u001b[43m        \u001b[49m\u001b[43mchunksize\u001b[49m\u001b[38;5;241;43m=\u001b[39;49m\u001b[43mchunksize\u001b[49m\u001b[43m,\u001b[49m\n\u001b[0;32m    796\u001b[0m \u001b[43m        \u001b[49m\u001b[43mdtype\u001b[49m\u001b[38;5;241;43m=\u001b[39;49m\u001b[43mdtype\u001b[49m\u001b[43m,\u001b[49m\n\u001b[0;32m    797\u001b[0m \u001b[43m        \u001b[49m\u001b[43mmethod\u001b[49m\u001b[38;5;241;43m=\u001b[39;49m\u001b[43mmethod\u001b[49m\u001b[43m,\u001b[49m\n\u001b[0;32m    798\u001b[0m \u001b[43m        \u001b[49m\u001b[43mengine\u001b[49m\u001b[38;5;241;43m=\u001b[39;49m\u001b[43mengine\u001b[49m\u001b[43m,\u001b[49m\n\u001b[0;32m    799\u001b[0m \u001b[43m        \u001b[49m\u001b[38;5;241;43m*\u001b[39;49m\u001b[38;5;241;43m*\u001b[39;49m\u001b[43mengine_kwargs\u001b[49m\u001b[43m,\u001b[49m\n\u001b[0;32m    800\u001b[0m \u001b[43m    \u001b[49m\u001b[43m)\u001b[49m\n",
      "File \u001b[1;32m~\\AppData\\Local\\Programs\\Python\\Python312\\Lib\\site-packages\\pandas\\io\\sql.py:1958\u001b[0m, in \u001b[0;36mSQLDatabase.to_sql\u001b[1;34m(self, frame, name, if_exists, index, index_label, schema, chunksize, dtype, method, engine, **engine_kwargs)\u001b[0m\n\u001b[0;32m   1946\u001b[0m sql_engine \u001b[38;5;241m=\u001b[39m get_engine(engine)\n\u001b[0;32m   1948\u001b[0m table \u001b[38;5;241m=\u001b[39m \u001b[38;5;28mself\u001b[39m\u001b[38;5;241m.\u001b[39mprep_table(\n\u001b[0;32m   1949\u001b[0m     frame\u001b[38;5;241m=\u001b[39mframe,\n\u001b[0;32m   1950\u001b[0m     name\u001b[38;5;241m=\u001b[39mname,\n\u001b[1;32m   (...)\u001b[0m\n\u001b[0;32m   1955\u001b[0m     dtype\u001b[38;5;241m=\u001b[39mdtype,\n\u001b[0;32m   1956\u001b[0m )\n\u001b[1;32m-> 1958\u001b[0m total_inserted \u001b[38;5;241m=\u001b[39m \u001b[43msql_engine\u001b[49m\u001b[38;5;241;43m.\u001b[39;49m\u001b[43minsert_records\u001b[49m\u001b[43m(\u001b[49m\n\u001b[0;32m   1959\u001b[0m \u001b[43m    \u001b[49m\u001b[43mtable\u001b[49m\u001b[38;5;241;43m=\u001b[39;49m\u001b[43mtable\u001b[49m\u001b[43m,\u001b[49m\n\u001b[0;32m   1960\u001b[0m \u001b[43m    \u001b[49m\u001b[43mcon\u001b[49m\u001b[38;5;241;43m=\u001b[39;49m\u001b[38;5;28;43mself\u001b[39;49m\u001b[38;5;241;43m.\u001b[39;49m\u001b[43mcon\u001b[49m\u001b[43m,\u001b[49m\n\u001b[0;32m   1961\u001b[0m \u001b[43m    \u001b[49m\u001b[43mframe\u001b[49m\u001b[38;5;241;43m=\u001b[39;49m\u001b[43mframe\u001b[49m\u001b[43m,\u001b[49m\n\u001b[0;32m   1962\u001b[0m \u001b[43m    \u001b[49m\u001b[43mname\u001b[49m\u001b[38;5;241;43m=\u001b[39;49m\u001b[43mname\u001b[49m\u001b[43m,\u001b[49m\n\u001b[0;32m   1963\u001b[0m \u001b[43m    \u001b[49m\u001b[43mindex\u001b[49m\u001b[38;5;241;43m=\u001b[39;49m\u001b[43mindex\u001b[49m\u001b[43m,\u001b[49m\n\u001b[0;32m   1964\u001b[0m \u001b[43m    \u001b[49m\u001b[43mschema\u001b[49m\u001b[38;5;241;43m=\u001b[39;49m\u001b[43mschema\u001b[49m\u001b[43m,\u001b[49m\n\u001b[0;32m   1965\u001b[0m \u001b[43m    \u001b[49m\u001b[43mchunksize\u001b[49m\u001b[38;5;241;43m=\u001b[39;49m\u001b[43mchunksize\u001b[49m\u001b[43m,\u001b[49m\n\u001b[0;32m   1966\u001b[0m \u001b[43m    \u001b[49m\u001b[43mmethod\u001b[49m\u001b[38;5;241;43m=\u001b[39;49m\u001b[43mmethod\u001b[49m\u001b[43m,\u001b[49m\n\u001b[0;32m   1967\u001b[0m \u001b[43m    \u001b[49m\u001b[38;5;241;43m*\u001b[39;49m\u001b[38;5;241;43m*\u001b[39;49m\u001b[43mengine_kwargs\u001b[49m\u001b[43m,\u001b[49m\n\u001b[0;32m   1968\u001b[0m \u001b[43m\u001b[49m\u001b[43m)\u001b[49m\n\u001b[0;32m   1970\u001b[0m \u001b[38;5;28mself\u001b[39m\u001b[38;5;241m.\u001b[39mcheck_case_sensitive(name\u001b[38;5;241m=\u001b[39mname, schema\u001b[38;5;241m=\u001b[39mschema)\n\u001b[0;32m   1971\u001b[0m \u001b[38;5;28;01mreturn\u001b[39;00m total_inserted\n",
      "File \u001b[1;32m~\\AppData\\Local\\Programs\\Python\\Python312\\Lib\\site-packages\\pandas\\io\\sql.py:1507\u001b[0m, in \u001b[0;36mSQLAlchemyEngine.insert_records\u001b[1;34m(self, table, con, frame, name, index, schema, chunksize, method, **engine_kwargs)\u001b[0m\n\u001b[0;32m   1505\u001b[0m \u001b[38;5;28;01mif\u001b[39;00m re\u001b[38;5;241m.\u001b[39msearch(msg, err_text):\n\u001b[0;32m   1506\u001b[0m     \u001b[38;5;28;01mraise\u001b[39;00m \u001b[38;5;167;01mValueError\u001b[39;00m(\u001b[38;5;124m\"\u001b[39m\u001b[38;5;124minf cannot be used with MySQL\u001b[39m\u001b[38;5;124m\"\u001b[39m) \u001b[38;5;28;01mfrom\u001b[39;00m \u001b[38;5;21;01merr\u001b[39;00m\n\u001b[1;32m-> 1507\u001b[0m \u001b[38;5;28;01mraise\u001b[39;00m err\n",
      "File \u001b[1;32m~\\AppData\\Local\\Programs\\Python\\Python312\\Lib\\site-packages\\pandas\\io\\sql.py:1498\u001b[0m, in \u001b[0;36mSQLAlchemyEngine.insert_records\u001b[1;34m(self, table, con, frame, name, index, schema, chunksize, method, **engine_kwargs)\u001b[0m\n\u001b[0;32m   1495\u001b[0m \u001b[38;5;28;01mfrom\u001b[39;00m \u001b[38;5;21;01msqlalchemy\u001b[39;00m \u001b[38;5;28;01mimport\u001b[39;00m exc\n\u001b[0;32m   1497\u001b[0m \u001b[38;5;28;01mtry\u001b[39;00m:\n\u001b[1;32m-> 1498\u001b[0m     \u001b[38;5;28;01mreturn\u001b[39;00m \u001b[43mtable\u001b[49m\u001b[38;5;241;43m.\u001b[39;49m\u001b[43minsert\u001b[49m\u001b[43m(\u001b[49m\u001b[43mchunksize\u001b[49m\u001b[38;5;241;43m=\u001b[39;49m\u001b[43mchunksize\u001b[49m\u001b[43m,\u001b[49m\u001b[43m \u001b[49m\u001b[43mmethod\u001b[49m\u001b[38;5;241;43m=\u001b[39;49m\u001b[43mmethod\u001b[49m\u001b[43m)\u001b[49m\n\u001b[0;32m   1499\u001b[0m \u001b[38;5;28;01mexcept\u001b[39;00m exc\u001b[38;5;241m.\u001b[39mStatementError \u001b[38;5;28;01mas\u001b[39;00m err:\n\u001b[0;32m   1500\u001b[0m     \u001b[38;5;66;03m# GH34431\u001b[39;00m\n\u001b[0;32m   1501\u001b[0m     \u001b[38;5;66;03m# https://stackoverflow.com/a/67358288/6067848\u001b[39;00m\n\u001b[0;32m   1502\u001b[0m     msg \u001b[38;5;241m=\u001b[39m \u001b[38;5;124mr\u001b[39m\u001b[38;5;124m\"\"\"\u001b[39m\u001b[38;5;124m(\u001b[39m\u001b[38;5;124m\\\u001b[39m\u001b[38;5;124m(1054, \u001b[39m\u001b[38;5;124m\"\u001b[39m\u001b[38;5;124mUnknown column \u001b[39m\u001b[38;5;124m'\u001b[39m\u001b[38;5;124minf(e0)?\u001b[39m\u001b[38;5;124m'\u001b[39m\u001b[38;5;124m in \u001b[39m\u001b[38;5;124m'\u001b[39m\u001b[38;5;124mfield list\u001b[39m\u001b[38;5;124m'\u001b[39m\u001b[38;5;124m\"\u001b[39m\u001b[38;5;124m\\\u001b[39m\u001b[38;5;124m))(?#\u001b[39m\n\u001b[0;32m   1503\u001b[0m \u001b[38;5;124m    )|inf can not be used with MySQL\u001b[39m\u001b[38;5;124m\"\"\"\u001b[39m\n",
      "File \u001b[1;32m~\\AppData\\Local\\Programs\\Python\\Python312\\Lib\\site-packages\\pandas\\io\\sql.py:1059\u001b[0m, in \u001b[0;36mSQLTable.insert\u001b[1;34m(self, chunksize, method)\u001b[0m\n\u001b[0;32m   1056\u001b[0m     \u001b[38;5;28;01mbreak\u001b[39;00m\n\u001b[0;32m   1058\u001b[0m chunk_iter \u001b[38;5;241m=\u001b[39m \u001b[38;5;28mzip\u001b[39m(\u001b[38;5;241m*\u001b[39m(arr[start_i:end_i] \u001b[38;5;28;01mfor\u001b[39;00m arr \u001b[38;5;129;01min\u001b[39;00m data_list))\n\u001b[1;32m-> 1059\u001b[0m num_inserted \u001b[38;5;241m=\u001b[39m \u001b[43mexec_insert\u001b[49m\u001b[43m(\u001b[49m\u001b[43mconn\u001b[49m\u001b[43m,\u001b[49m\u001b[43m \u001b[49m\u001b[43mkeys\u001b[49m\u001b[43m,\u001b[49m\u001b[43m \u001b[49m\u001b[43mchunk_iter\u001b[49m\u001b[43m)\u001b[49m\n\u001b[0;32m   1060\u001b[0m \u001b[38;5;66;03m# GH 46891\u001b[39;00m\n\u001b[0;32m   1061\u001b[0m \u001b[38;5;28;01mif\u001b[39;00m num_inserted \u001b[38;5;129;01mis\u001b[39;00m \u001b[38;5;129;01mnot\u001b[39;00m \u001b[38;5;28;01mNone\u001b[39;00m:\n",
      "File \u001b[1;32m~\\AppData\\Local\\Programs\\Python\\Python312\\Lib\\site-packages\\pandas\\io\\sql.py:951\u001b[0m, in \u001b[0;36mSQLTable._execute_insert\u001b[1;34m(self, conn, keys, data_iter)\u001b[0m\n\u001b[0;32m    939\u001b[0m \u001b[38;5;250m\u001b[39m\u001b[38;5;124;03m\"\"\"\u001b[39;00m\n\u001b[0;32m    940\u001b[0m \u001b[38;5;124;03mExecute SQL statement inserting data\u001b[39;00m\n\u001b[0;32m    941\u001b[0m \n\u001b[1;32m   (...)\u001b[0m\n\u001b[0;32m    948\u001b[0m \u001b[38;5;124;03m   Each item contains a list of values to be inserted\u001b[39;00m\n\u001b[0;32m    949\u001b[0m \u001b[38;5;124;03m\"\"\"\u001b[39;00m\n\u001b[0;32m    950\u001b[0m data \u001b[38;5;241m=\u001b[39m [\u001b[38;5;28mdict\u001b[39m(\u001b[38;5;28mzip\u001b[39m(keys, row)) \u001b[38;5;28;01mfor\u001b[39;00m row \u001b[38;5;129;01min\u001b[39;00m data_iter]\n\u001b[1;32m--> 951\u001b[0m result \u001b[38;5;241m=\u001b[39m \u001b[43mconn\u001b[49m\u001b[38;5;241;43m.\u001b[39;49m\u001b[43mexecute\u001b[49m\u001b[43m(\u001b[49m\u001b[38;5;28;43mself\u001b[39;49m\u001b[38;5;241;43m.\u001b[39;49m\u001b[43mtable\u001b[49m\u001b[38;5;241;43m.\u001b[39;49m\u001b[43minsert\u001b[49m\u001b[43m(\u001b[49m\u001b[43m)\u001b[49m\u001b[43m,\u001b[49m\u001b[43m \u001b[49m\u001b[43mdata\u001b[49m\u001b[43m)\u001b[49m\n\u001b[0;32m    952\u001b[0m \u001b[38;5;28;01mreturn\u001b[39;00m result\u001b[38;5;241m.\u001b[39mrowcount\n",
      "File \u001b[1;32m~\\AppData\\Local\\Programs\\Python\\Python312\\Lib\\site-packages\\sqlalchemy\\engine\\base.py:1416\u001b[0m, in \u001b[0;36mConnection.execute\u001b[1;34m(self, statement, parameters, execution_options)\u001b[0m\n\u001b[0;32m   1414\u001b[0m     \u001b[38;5;28;01mraise\u001b[39;00m exc\u001b[38;5;241m.\u001b[39mObjectNotExecutableError(statement) \u001b[38;5;28;01mfrom\u001b[39;00m \u001b[38;5;21;01merr\u001b[39;00m\n\u001b[0;32m   1415\u001b[0m \u001b[38;5;28;01melse\u001b[39;00m:\n\u001b[1;32m-> 1416\u001b[0m     \u001b[38;5;28;01mreturn\u001b[39;00m \u001b[43mmeth\u001b[49m\u001b[43m(\u001b[49m\n\u001b[0;32m   1417\u001b[0m \u001b[43m        \u001b[49m\u001b[38;5;28;43mself\u001b[39;49m\u001b[43m,\u001b[49m\n\u001b[0;32m   1418\u001b[0m \u001b[43m        \u001b[49m\u001b[43mdistilled_parameters\u001b[49m\u001b[43m,\u001b[49m\n\u001b[0;32m   1419\u001b[0m \u001b[43m        \u001b[49m\u001b[43mexecution_options\u001b[49m\u001b[43m \u001b[49m\u001b[38;5;129;43;01mor\u001b[39;49;00m\u001b[43m \u001b[49m\u001b[43mNO_OPTIONS\u001b[49m\u001b[43m,\u001b[49m\n\u001b[0;32m   1420\u001b[0m \u001b[43m    \u001b[49m\u001b[43m)\u001b[49m\n",
      "File \u001b[1;32m~\\AppData\\Local\\Programs\\Python\\Python312\\Lib\\site-packages\\sqlalchemy\\sql\\elements.py:516\u001b[0m, in \u001b[0;36mClauseElement._execute_on_connection\u001b[1;34m(self, connection, distilled_params, execution_options)\u001b[0m\n\u001b[0;32m    514\u001b[0m     \u001b[38;5;28;01mif\u001b[39;00m TYPE_CHECKING:\n\u001b[0;32m    515\u001b[0m         \u001b[38;5;28;01massert\u001b[39;00m \u001b[38;5;28misinstance\u001b[39m(\u001b[38;5;28mself\u001b[39m, Executable)\n\u001b[1;32m--> 516\u001b[0m     \u001b[38;5;28;01mreturn\u001b[39;00m \u001b[43mconnection\u001b[49m\u001b[38;5;241;43m.\u001b[39;49m\u001b[43m_execute_clauseelement\u001b[49m\u001b[43m(\u001b[49m\n\u001b[0;32m    517\u001b[0m \u001b[43m        \u001b[49m\u001b[38;5;28;43mself\u001b[39;49m\u001b[43m,\u001b[49m\u001b[43m \u001b[49m\u001b[43mdistilled_params\u001b[49m\u001b[43m,\u001b[49m\u001b[43m \u001b[49m\u001b[43mexecution_options\u001b[49m\n\u001b[0;32m    518\u001b[0m \u001b[43m    \u001b[49m\u001b[43m)\u001b[49m\n\u001b[0;32m    519\u001b[0m \u001b[38;5;28;01melse\u001b[39;00m:\n\u001b[0;32m    520\u001b[0m     \u001b[38;5;28;01mraise\u001b[39;00m exc\u001b[38;5;241m.\u001b[39mObjectNotExecutableError(\u001b[38;5;28mself\u001b[39m)\n",
      "File \u001b[1;32m~\\AppData\\Local\\Programs\\Python\\Python312\\Lib\\site-packages\\sqlalchemy\\engine\\base.py:1639\u001b[0m, in \u001b[0;36mConnection._execute_clauseelement\u001b[1;34m(self, elem, distilled_parameters, execution_options)\u001b[0m\n\u001b[0;32m   1627\u001b[0m compiled_cache: Optional[CompiledCacheType] \u001b[38;5;241m=\u001b[39m execution_options\u001b[38;5;241m.\u001b[39mget(\n\u001b[0;32m   1628\u001b[0m     \u001b[38;5;124m\"\u001b[39m\u001b[38;5;124mcompiled_cache\u001b[39m\u001b[38;5;124m\"\u001b[39m, \u001b[38;5;28mself\u001b[39m\u001b[38;5;241m.\u001b[39mengine\u001b[38;5;241m.\u001b[39m_compiled_cache\n\u001b[0;32m   1629\u001b[0m )\n\u001b[0;32m   1631\u001b[0m compiled_sql, extracted_params, cache_hit \u001b[38;5;241m=\u001b[39m elem\u001b[38;5;241m.\u001b[39m_compile_w_cache(\n\u001b[0;32m   1632\u001b[0m     dialect\u001b[38;5;241m=\u001b[39mdialect,\n\u001b[0;32m   1633\u001b[0m     compiled_cache\u001b[38;5;241m=\u001b[39mcompiled_cache,\n\u001b[1;32m   (...)\u001b[0m\n\u001b[0;32m   1637\u001b[0m     linting\u001b[38;5;241m=\u001b[39m\u001b[38;5;28mself\u001b[39m\u001b[38;5;241m.\u001b[39mdialect\u001b[38;5;241m.\u001b[39mcompiler_linting \u001b[38;5;241m|\u001b[39m compiler\u001b[38;5;241m.\u001b[39mWARN_LINTING,\n\u001b[0;32m   1638\u001b[0m )\n\u001b[1;32m-> 1639\u001b[0m ret \u001b[38;5;241m=\u001b[39m \u001b[38;5;28;43mself\u001b[39;49m\u001b[38;5;241;43m.\u001b[39;49m\u001b[43m_execute_context\u001b[49m\u001b[43m(\u001b[49m\n\u001b[0;32m   1640\u001b[0m \u001b[43m    \u001b[49m\u001b[43mdialect\u001b[49m\u001b[43m,\u001b[49m\n\u001b[0;32m   1641\u001b[0m \u001b[43m    \u001b[49m\u001b[43mdialect\u001b[49m\u001b[38;5;241;43m.\u001b[39;49m\u001b[43mexecution_ctx_cls\u001b[49m\u001b[38;5;241;43m.\u001b[39;49m\u001b[43m_init_compiled\u001b[49m\u001b[43m,\u001b[49m\n\u001b[0;32m   1642\u001b[0m \u001b[43m    \u001b[49m\u001b[43mcompiled_sql\u001b[49m\u001b[43m,\u001b[49m\n\u001b[0;32m   1643\u001b[0m \u001b[43m    \u001b[49m\u001b[43mdistilled_parameters\u001b[49m\u001b[43m,\u001b[49m\n\u001b[0;32m   1644\u001b[0m \u001b[43m    \u001b[49m\u001b[43mexecution_options\u001b[49m\u001b[43m,\u001b[49m\n\u001b[0;32m   1645\u001b[0m \u001b[43m    \u001b[49m\u001b[43mcompiled_sql\u001b[49m\u001b[43m,\u001b[49m\n\u001b[0;32m   1646\u001b[0m \u001b[43m    \u001b[49m\u001b[43mdistilled_parameters\u001b[49m\u001b[43m,\u001b[49m\n\u001b[0;32m   1647\u001b[0m \u001b[43m    \u001b[49m\u001b[43melem\u001b[49m\u001b[43m,\u001b[49m\n\u001b[0;32m   1648\u001b[0m \u001b[43m    \u001b[49m\u001b[43mextracted_params\u001b[49m\u001b[43m,\u001b[49m\n\u001b[0;32m   1649\u001b[0m \u001b[43m    \u001b[49m\u001b[43mcache_hit\u001b[49m\u001b[38;5;241;43m=\u001b[39;49m\u001b[43mcache_hit\u001b[49m\u001b[43m,\u001b[49m\n\u001b[0;32m   1650\u001b[0m \u001b[43m\u001b[49m\u001b[43m)\u001b[49m\n\u001b[0;32m   1651\u001b[0m \u001b[38;5;28;01mif\u001b[39;00m has_events:\n\u001b[0;32m   1652\u001b[0m     \u001b[38;5;28mself\u001b[39m\u001b[38;5;241m.\u001b[39mdispatch\u001b[38;5;241m.\u001b[39mafter_execute(\n\u001b[0;32m   1653\u001b[0m         \u001b[38;5;28mself\u001b[39m,\n\u001b[0;32m   1654\u001b[0m         elem,\n\u001b[1;32m   (...)\u001b[0m\n\u001b[0;32m   1658\u001b[0m         ret,\n\u001b[0;32m   1659\u001b[0m     )\n",
      "File \u001b[1;32m~\\AppData\\Local\\Programs\\Python\\Python312\\Lib\\site-packages\\sqlalchemy\\engine\\base.py:1820\u001b[0m, in \u001b[0;36mConnection._execute_context\u001b[1;34m(self, dialect, constructor, statement, parameters, execution_options, *args, **kw)\u001b[0m\n\u001b[0;32m   1818\u001b[0m     \u001b[38;5;28;01mraise\u001b[39;00m\n\u001b[0;32m   1819\u001b[0m \u001b[38;5;28;01mexcept\u001b[39;00m \u001b[38;5;167;01mBaseException\u001b[39;00m \u001b[38;5;28;01mas\u001b[39;00m e:\n\u001b[1;32m-> 1820\u001b[0m     \u001b[38;5;28;43mself\u001b[39;49m\u001b[38;5;241;43m.\u001b[39;49m\u001b[43m_handle_dbapi_exception\u001b[49m\u001b[43m(\u001b[49m\n\u001b[0;32m   1821\u001b[0m \u001b[43m        \u001b[49m\u001b[43me\u001b[49m\u001b[43m,\u001b[49m\u001b[43m \u001b[49m\u001b[38;5;28;43mstr\u001b[39;49m\u001b[43m(\u001b[49m\u001b[43mstatement\u001b[49m\u001b[43m)\u001b[49m\u001b[43m,\u001b[49m\u001b[43m \u001b[49m\u001b[43mparameters\u001b[49m\u001b[43m,\u001b[49m\u001b[43m \u001b[49m\u001b[38;5;28;43;01mNone\u001b[39;49;00m\u001b[43m,\u001b[49m\u001b[43m \u001b[49m\u001b[38;5;28;43;01mNone\u001b[39;49;00m\n\u001b[0;32m   1822\u001b[0m \u001b[43m    \u001b[49m\u001b[43m)\u001b[49m\n\u001b[0;32m   1824\u001b[0m \u001b[38;5;28;01mif\u001b[39;00m (\n\u001b[0;32m   1825\u001b[0m     \u001b[38;5;28mself\u001b[39m\u001b[38;5;241m.\u001b[39m_transaction\n\u001b[0;32m   1826\u001b[0m     \u001b[38;5;129;01mand\u001b[39;00m \u001b[38;5;129;01mnot\u001b[39;00m \u001b[38;5;28mself\u001b[39m\u001b[38;5;241m.\u001b[39m_transaction\u001b[38;5;241m.\u001b[39mis_active\n\u001b[1;32m   (...)\u001b[0m\n\u001b[0;32m   1830\u001b[0m     )\n\u001b[0;32m   1831\u001b[0m ):\n\u001b[0;32m   1832\u001b[0m     \u001b[38;5;28mself\u001b[39m\u001b[38;5;241m.\u001b[39m_invalid_transaction()\n",
      "File \u001b[1;32m~\\AppData\\Local\\Programs\\Python\\Python312\\Lib\\site-packages\\sqlalchemy\\engine\\base.py:2343\u001b[0m, in \u001b[0;36mConnection._handle_dbapi_exception\u001b[1;34m(self, e, statement, parameters, cursor, context, is_sub_exec)\u001b[0m\n\u001b[0;32m   2341\u001b[0m \u001b[38;5;28;01melif\u001b[39;00m should_wrap:\n\u001b[0;32m   2342\u001b[0m     \u001b[38;5;28;01massert\u001b[39;00m sqlalchemy_exception \u001b[38;5;129;01mis\u001b[39;00m \u001b[38;5;129;01mnot\u001b[39;00m \u001b[38;5;28;01mNone\u001b[39;00m\n\u001b[1;32m-> 2343\u001b[0m     \u001b[38;5;28;01mraise\u001b[39;00m sqlalchemy_exception\u001b[38;5;241m.\u001b[39mwith_traceback(exc_info[\u001b[38;5;241m2\u001b[39m]) \u001b[38;5;28;01mfrom\u001b[39;00m \u001b[38;5;21;01me\u001b[39;00m\n\u001b[0;32m   2344\u001b[0m \u001b[38;5;28;01melse\u001b[39;00m:\n\u001b[0;32m   2345\u001b[0m     \u001b[38;5;28;01massert\u001b[39;00m exc_info[\u001b[38;5;241m1\u001b[39m] \u001b[38;5;129;01mis\u001b[39;00m \u001b[38;5;129;01mnot\u001b[39;00m \u001b[38;5;28;01mNone\u001b[39;00m\n",
      "File \u001b[1;32m~\\AppData\\Local\\Programs\\Python\\Python312\\Lib\\site-packages\\sqlalchemy\\engine\\base.py:1814\u001b[0m, in \u001b[0;36mConnection._execute_context\u001b[1;34m(self, dialect, constructor, statement, parameters, execution_options, *args, **kw)\u001b[0m\n\u001b[0;32m   1811\u001b[0m     \u001b[38;5;28;01mif\u001b[39;00m conn \u001b[38;5;129;01mis\u001b[39;00m \u001b[38;5;28;01mNone\u001b[39;00m:\n\u001b[0;32m   1812\u001b[0m         conn \u001b[38;5;241m=\u001b[39m \u001b[38;5;28mself\u001b[39m\u001b[38;5;241m.\u001b[39m_revalidate_connection()\n\u001b[1;32m-> 1814\u001b[0m     context \u001b[38;5;241m=\u001b[39m \u001b[43mconstructor\u001b[49m\u001b[43m(\u001b[49m\n\u001b[0;32m   1815\u001b[0m \u001b[43m        \u001b[49m\u001b[43mdialect\u001b[49m\u001b[43m,\u001b[49m\u001b[43m \u001b[49m\u001b[38;5;28;43mself\u001b[39;49m\u001b[43m,\u001b[49m\u001b[43m \u001b[49m\u001b[43mconn\u001b[49m\u001b[43m,\u001b[49m\u001b[43m \u001b[49m\u001b[43mexecution_options\u001b[49m\u001b[43m,\u001b[49m\u001b[43m \u001b[49m\u001b[38;5;241;43m*\u001b[39;49m\u001b[43margs\u001b[49m\u001b[43m,\u001b[49m\u001b[43m \u001b[49m\u001b[38;5;241;43m*\u001b[39;49m\u001b[38;5;241;43m*\u001b[39;49m\u001b[43mkw\u001b[49m\n\u001b[0;32m   1816\u001b[0m \u001b[43m    \u001b[49m\u001b[43m)\u001b[49m\n\u001b[0;32m   1817\u001b[0m \u001b[38;5;28;01mexcept\u001b[39;00m (exc\u001b[38;5;241m.\u001b[39mPendingRollbackError, exc\u001b[38;5;241m.\u001b[39mResourceClosedError):\n\u001b[0;32m   1818\u001b[0m     \u001b[38;5;28;01mraise\u001b[39;00m\n",
      "File \u001b[1;32m~\\AppData\\Local\\Programs\\Python\\Python312\\Lib\\site-packages\\sqlalchemy\\engine\\default.py:1456\u001b[0m, in \u001b[0;36mDefaultExecutionContext._init_compiled\u001b[1;34m(cls, dialect, connection, dbapi_connection, execution_options, compiled, parameters, invoked_statement, extracted_parameters, cache_hit)\u001b[0m\n\u001b[0;32m   1453\u001b[0m \u001b[38;5;28;01massert\u001b[39;00m positiontup \u001b[38;5;129;01mis\u001b[39;00m \u001b[38;5;129;01mnot\u001b[39;00m \u001b[38;5;28;01mNone\u001b[39;00m\n\u001b[0;32m   1454\u001b[0m \u001b[38;5;28;01mfor\u001b[39;00m compiled_params \u001b[38;5;129;01min\u001b[39;00m \u001b[38;5;28mself\u001b[39m\u001b[38;5;241m.\u001b[39mcompiled_parameters:\n\u001b[0;32m   1455\u001b[0m     l_param: List[Any] \u001b[38;5;241m=\u001b[39m [\n\u001b[1;32m-> 1456\u001b[0m         \u001b[43mflattened_processors\u001b[49m\u001b[43m[\u001b[49m\u001b[43mkey\u001b[49m\u001b[43m]\u001b[49m\u001b[43m(\u001b[49m\u001b[43mcompiled_params\u001b[49m\u001b[43m[\u001b[49m\u001b[43mkey\u001b[49m\u001b[43m]\u001b[49m\u001b[43m)\u001b[49m\n\u001b[0;32m   1457\u001b[0m         \u001b[38;5;28;01mif\u001b[39;00m key \u001b[38;5;129;01min\u001b[39;00m flattened_processors\n\u001b[0;32m   1458\u001b[0m         \u001b[38;5;28;01melse\u001b[39;00m compiled_params[key]\n\u001b[0;32m   1459\u001b[0m         \u001b[38;5;28;01mfor\u001b[39;00m key \u001b[38;5;129;01min\u001b[39;00m positiontup\n\u001b[0;32m   1460\u001b[0m     ]\n\u001b[0;32m   1461\u001b[0m     core_positional_parameters\u001b[38;5;241m.\u001b[39mappend(\n\u001b[0;32m   1462\u001b[0m         dialect\u001b[38;5;241m.\u001b[39mexecute_sequence_format(l_param)\n\u001b[0;32m   1463\u001b[0m     )\n\u001b[0;32m   1465\u001b[0m \u001b[38;5;28mself\u001b[39m\u001b[38;5;241m.\u001b[39mparameters \u001b[38;5;241m=\u001b[39m core_positional_parameters\n",
      "File \u001b[1;32m~\\AppData\\Local\\Programs\\Python\\Python312\\Lib\\site-packages\\sqlalchemy\\dialects\\sqlite\\base.py:1142\u001b[0m, in \u001b[0;36mDATE.bind_processor.<locals>.process\u001b[1;34m(value)\u001b[0m\n\u001b[0;32m   1136\u001b[0m     \u001b[38;5;28;01mreturn\u001b[39;00m format_ \u001b[38;5;241m%\u001b[39m {\n\u001b[0;32m   1137\u001b[0m         \u001b[38;5;124m\"\u001b[39m\u001b[38;5;124myear\u001b[39m\u001b[38;5;124m\"\u001b[39m: value\u001b[38;5;241m.\u001b[39myear,\n\u001b[0;32m   1138\u001b[0m         \u001b[38;5;124m\"\u001b[39m\u001b[38;5;124mmonth\u001b[39m\u001b[38;5;124m\"\u001b[39m: value\u001b[38;5;241m.\u001b[39mmonth,\n\u001b[0;32m   1139\u001b[0m         \u001b[38;5;124m\"\u001b[39m\u001b[38;5;124mday\u001b[39m\u001b[38;5;124m\"\u001b[39m: value\u001b[38;5;241m.\u001b[39mday,\n\u001b[0;32m   1140\u001b[0m     }\n\u001b[0;32m   1141\u001b[0m \u001b[38;5;28;01melse\u001b[39;00m:\n\u001b[1;32m-> 1142\u001b[0m     \u001b[38;5;28;01mraise\u001b[39;00m \u001b[38;5;167;01mTypeError\u001b[39;00m(\n\u001b[0;32m   1143\u001b[0m         \u001b[38;5;124m\"\u001b[39m\u001b[38;5;124mSQLite Date type only accepts Python \u001b[39m\u001b[38;5;124m\"\u001b[39m\n\u001b[0;32m   1144\u001b[0m         \u001b[38;5;124m\"\u001b[39m\u001b[38;5;124mdate objects as input.\u001b[39m\u001b[38;5;124m\"\u001b[39m\n\u001b[0;32m   1145\u001b[0m     )\n",
      "\u001b[1;31mStatementError\u001b[0m: (builtins.TypeError) SQLite Date type only accepts Python date objects as input.\n[SQL: INSERT INTO customer_transactions (txn_id, avail_date, last_name, first_name, birthday) VALUES (?, ?, ?, ?, ?)]\n[parameters: [{'txn_id': 'TXN-24546', 'avail_date': '2030-09-08', 'last_name': 'ORTIZ', 'first_name': 'EDUARDO', 'birthday': '1990-07-08'}, {'txn_id': 'TXN-14642', 'avail_date': '2026-05-26', 'last_name': 'NIENOW', 'first_name': 'LEA', 'birthday': '2000-11-26'}, {'txn_id': 'TXN-60295', 'avail_date': '2006-09-25', 'last_name': 'LESCH', 'first_name': 'FLETA', 'birthday': '1993-05-22'}, {'txn_id': 'TXN-60295', 'avail_date': '2006-09-25', 'last_name': 'LESCH', 'first_name': 'FLETA', 'birthday': '1993-05-22'}, {'txn_id': 'TXN-60295', 'avail_date': '2006-09-25', 'last_name': 'LESCH', 'first_name': 'FLETA', 'birthday': '1993-05-22'}, {'txn_id': 'TXN-60295', 'avail_date': '2006-09-25', 'last_name': 'LESCH', 'first_name': 'FLETA', 'birthday': '1993-05-22'}, {'txn_id': 'TXN-40462', 'avail_date': '2021-08-21', 'last_name': 'KUHN', 'first_name': 'TOD', 'birthday': '2002-11-25'}, {'txn_id': 'TXN-40462', 'avail_date': '2021-08-21', 'last_name': 'KUHN', 'first_name': 'TOD', 'birthday': '2002-11-25'}, {'txn_id': 'TXN-08102', 'avail_date': '2010-04-03', 'last_name': 'JOHNSON', 'first_name': 'MILTON', 'birthday': '2003-07-10'}, {'txn_id': 'TXN-08102', 'avail_date': '2010-04-03', 'last_name': 'JOHNSON', 'first_name': 'MILTON', 'birthday': '2003-07-10'}, {'txn_id': 'TXN-08102', 'avail_date': '2010-04-03', 'last_name': 'JOHNSON', 'first_name': 'MILTON', 'birthday': '2003-07-10'}, {'txn_id': 'TXN-08102', 'avail_date': '2010-04-03', 'last_name': 'JOHNSON', 'first_name': 'MILTON', 'birthday': '2003-07-10'}, {'txn_id': 'TXN-64262', 'avail_date': '2018-11-23', 'last_name': 'HACKETT', 'first_name': 'MACI', 'birthday': '2005-06-20'}, {'txn_id': 'TXN-64262', 'avail_date': '2018-11-23', 'last_name': 'HACKETT', 'first_name': 'MACI', 'birthday': '2005-06-20'}, {'txn_id': 'TXN-64262', 'avail_date': '2018-11-23', 'last_name': 'HACKETT', 'first_name': 'MACI', 'birthday': '2005-06-20'}, {'txn_id': 'TXN-41934', 'avail_date': '2025-03-07', 'last_name': 'HANE', 'first_name': 'SYLVAN', 'birthday': '2007-07-02'}, {'txn_id': 'TXN-41934', 'avail_date': '2025-03-07', 'last_name': 'HANE', 'first_name': 'SYLVAN', 'birthday': '2007-07-02'}, {'txn_id': 'TXN-41934', 'avail_date': '2025-03-07', 'last_name': 'HANE', 'first_name': 'SYLVAN', 'birthday': '2007-07-02'}, {'txn_id': 'TXN-41934', 'avail_date': '2025-03-07', 'last_name': 'HANE', 'first_name': 'SYLVAN', 'birthday': '2007-07-02'}, {'txn_id': 'TXN-39050', 'avail_date': '2028-11-09', 'last_name': 'MAYER', 'first_name': 'TREMAINE', 'birthday': '1990-02-01'}, {'txn_id': 'TXN-39050', 'avail_date': '2028-11-09', 'last_name': 'MAYER', 'first_name': 'TREMAINE', 'birthday': '1990-02-01'}, {'txn_id': 'TXN-43150', 'avail_date': '2027-08-14', 'last_name': 'LEUSCHKE', 'first_name': 'ASHTON', 'birthday': '2004-08-23'}, {'txn_id': 'TXN-49423', 'avail_date': '2008-08-13', 'last_name': 'BERGE', 'first_name': 'RASHEED', 'birthday': '2010-02-05'}, {'txn_id': 'TXN-49423', 'avail_date': '2008-08-13', 'last_name': 'BERGE', 'first_name': 'RASHEED', 'birthday': '2010-02-05'}, {'txn_id': 'TXN-59988', 'avail_date': '2021-02-01', 'last_name': 'BASHIRIAN', 'first_name': 'BRICE', 'birthday': '2004-07-20'}, {'txn_id': 'TXN-08158', 'avail_date': '2023-08-05', 'last_name': 'BATZ', 'first_name': 'TIMMOTHY', 'birthday': '2008-10-06'}, {'txn_id': 'TXN-08158', 'avail_date': '2023-08-05', 'last_name': 'BATZ', 'first_name': 'TIMMOTHY', 'birthday': '2008-10-06'}, {'txn_id': 'TXN-15331', 'avail_date': '2025-05-02', 'last_name': 'SMITH', 'first_name': 'KACIE', 'birthday': '2002-10-28'}, {'txn_id': 'TXN-15331', 'avail_date': '2025-05-02', 'last_name': 'SMITH', 'first_name': 'KACIE', 'birthday': '2002-10-28'}, {'txn_id': 'TXN-15331', 'avail_date': '2025-05-02', 'last_name': 'SMITH', 'first_name': 'KACIE', 'birthday': '2002-10-28'}, {'txn_id': 'TXN-37609', 'avail_date': '2022-09-04', 'last_name': 'KUNDE', 'first_name': 'MARIANA', 'birthday': '1996-10-29'}, {'txn_id': 'TXN-31294', 'avail_date': '2018-01-04', 'last_name': 'BREITENBERG', 'first_name': 'MADGE', 'birthday': '2006-06-22'}, {'txn_id': 'TXN-31294', 'avail_date': '2018-01-04', 'last_name': 'BREITENBERG', 'first_name': 'MADGE', 'birthday': '2006-06-22'}, {'txn_id': 'TXN-31294', 'avail_date': '2018-01-04', 'last_name': 'BREITENBERG', 'first_name': 'MADGE', 'birthday': '2006-06-22'}, {'txn_id': 'TXN-38413', 'avail_date': '2025-03-29', 'last_name': 'KIHN', 'first_name': 'JESS', 'birthday': '2010-04-05'}, {'txn_id': 'TXN-51225', 'avail_date': '2029-02-07', 'last_name': 'MCCULLOUGH', 'first_name': 'KIRK', 'birthday': '1992-12-29'}, {'txn_id': 'TXN-35244', 'avail_date': '2005-11-23', 'last_name': 'HAMMES', 'first_name': 'EUNICE', 'birthday': '2006-06-13'}, {'txn_id': 'TXN-35244', 'avail_date': '2005-11-23', 'last_name': 'HAMMES', 'first_name': 'EUNICE', 'birthday': '2006-06-13'}, {'txn_id': 'TXN-21732', 'avail_date': '2017-03-16', 'last_name': 'TURCOTTE', 'first_name': 'HELLEN', 'birthday': '1996-03-25'}, {'txn_id': 'TXN-31732', 'avail_date': '2013-04-28', 'last_name': 'LOCKMAN', 'first_name': 'CHADD', 'birthday': '2003-06-17'}, {'txn_id': 'TXN-31732', 'avail_date': '2013-04-28', 'last_name': 'LOCKMAN', 'first_name': 'CHADD', 'birthday': '2003-06-17'}, {'txn_id': 'TXN-38645', 'avail_date': '2021-07-21', 'last_name': 'HAMMES', 'first_name': 'ANTOINETTE', 'birthday': '2001-07-20'}, {'txn_id': 'TXN-38645', 'avail_date': '2021-07-21', 'last_name': 'HAMMES', 'first_name': 'ANTOINETTE', 'birthday': '2001-07-20'}, {'txn_id': 'TXN-38645', 'avail_date': '2021-07-21', 'last_name': 'HAMMES', 'first_name': 'ANTOINETTE', 'birthday': '2001-07-20'}, {'txn_id': 'TXN-38645', 'avail_date': '2021-07-21', 'last_name': 'HAMMES', 'first_name': 'ANTOINETTE', 'birthday': '2001-07-20'}, {'txn_id': 'TXN-38645', 'avail_date': '2021-07-21', 'last_name': 'HAMMES', 'first_name': 'ANTOINETTE', 'birthday': '2001-07-20'}, {'txn_id': 'TXN-34790', 'avail_date': '2023-01-04', 'last_name': 'PADBERG', 'first_name': 'SHEMAR', 'birthday': '2010-10-25'}, {'txn_id': 'TXN-30063', 'avail_date': '2015-06-25', 'last_name': 'ZIEME', 'first_name': 'ROBYN', 'birthday': '1991-05-10'}, {'txn_id': 'TXN-30063', 'avail_date': '2015-06-25', 'last_name': 'ZIEME', 'first_name': 'ROBYN', 'birthday': '1991-05-10'}, {'txn_id': 'TXN-30063', 'avail_date': '2015-06-25', 'last_name': 'ZIEME', 'first_name': 'ROBYN', 'birthday': '1991-05-10'} ... 130553 parameters truncated ... {'txn_id': 'TXN-10845', 'avail_date': '2008-10-28', 'last_name': 'Skiles', 'first_name': 'Haskell', 'birthday': '1999-06-05'}, {'txn_id': 'TXN-41793', 'avail_date': '2010-06-13', 'last_name': 'Klocko', 'first_name': 'Jason', 'birthday': '2009-06-08'}, {'txn_id': 'TXN-41793', 'avail_date': '2010-06-13', 'last_name': 'Klocko', 'first_name': 'Jason', 'birthday': '2009-06-08'}, {'txn_id': 'TXN-41793', 'avail_date': '2010-06-13', 'last_name': 'Klocko', 'first_name': 'Jason', 'birthday': '2009-06-08'}, {'txn_id': 'TXN-60320', 'avail_date': '2019-08-27', 'last_name': 'Fahey', 'first_name': 'Trace', 'birthday': '2004-12-26'}, {'txn_id': 'TXN-34533', 'avail_date': '2028-07-26', 'last_name': 'Gutmann', 'first_name': 'Salvatore', 'birthday': '2007-06-12'}, {'txn_id': 'TXN-34533', 'avail_date': '2028-07-26', 'last_name': 'Gutmann', 'first_name': 'Salvatore', 'birthday': '2007-06-12'}, {'txn_id': 'TXN-09795', 'avail_date': '2016-05-07', 'last_name': 'Hammes', 'first_name': 'Luz', 'birthday': '1992-05-18'}, {'txn_id': 'TXN-09795', 'avail_date': '2016-05-07', 'last_name': 'Hammes', 'first_name': 'Luz', 'birthday': '1992-05-18'}, {'txn_id': 'TXN-52436', 'avail_date': '2022-01-28', 'last_name': 'Lindgren', 'first_name': 'Leonie', 'birthday': '1990-04-20'}, {'txn_id': 'TXN-52436', 'avail_date': '2022-01-28', 'last_name': 'Lindgren', 'first_name': 'Leonie', 'birthday': '1990-04-20'}, {'txn_id': 'TXN-03109', 'avail_date': '2021-03-17', 'last_name': 'Reichel', 'first_name': 'Murphy', 'birthday': '1992-01-29'}, {'txn_id': 'TXN-03109', 'avail_date': '2021-03-17', 'last_name': 'Reichel', 'first_name': 'Murphy', 'birthday': '1992-01-29'}, {'txn_id': 'TXN-03555', 'avail_date': '2013-08-12', 'last_name': 'Hoeger', 'first_name': 'Vena', 'birthday': '1999-02-28'}, {'txn_id': 'TXN-03555', 'avail_date': '2013-08-12', 'last_name': 'Hoeger', 'first_name': 'Vena', 'birthday': '1999-02-28'}, {'txn_id': 'TXN-43035', 'avail_date': '2022-05-28', 'last_name': 'Crona', 'first_name': 'Velma', 'birthday': '1999-06-16'}, {'txn_id': 'TXN-42151', 'avail_date': '2010-03-23', 'last_name': 'Hagenes', 'first_name': 'Ryann', 'birthday': '1991-09-13'}, {'txn_id': 'TXN-42151', 'avail_date': '2010-03-23', 'last_name': 'Hagenes', 'first_name': 'Ryann', 'birthday': '1991-09-13'}, {'txn_id': 'TXN-42151', 'avail_date': '2010-03-23', 'last_name': 'Hagenes', 'first_name': 'Ryann', 'birthday': '1991-09-13'}, {'txn_id': 'TXN-48422', 'avail_date': '2029-10-26', 'last_name': 'Kautzer', 'first_name': 'Lilliana', 'birthday': '2005-04-09'}, {'txn_id': 'TXN-48422', 'avail_date': '2029-10-26', 'last_name': 'Kautzer', 'first_name': 'Lilliana', 'birthday': '2005-04-09'}, {'txn_id': 'TXN-48422', 'avail_date': '2029-10-26', 'last_name': 'Kautzer', 'first_name': 'Lilliana', 'birthday': '2005-04-09'}, {'txn_id': 'TXN-37684', 'avail_date': '2014-12-04', 'last_name': 'Runte', 'first_name': 'Mike', 'birthday': '2007-06-15'}, {'txn_id': 'TXN-17092', 'avail_date': '2020-12-24', 'last_name': 'Douglas', 'first_name': 'Cathy', 'birthday': '2009-10-26'}, {'txn_id': 'TXN-17092', 'avail_date': '2020-12-24', 'last_name': 'Douglas', 'first_name': 'Cathy', 'birthday': '2009-10-26'}, {'txn_id': 'TXN-17092', 'avail_date': '2020-12-24', 'last_name': 'Douglas', 'first_name': 'Cathy', 'birthday': '2009-10-26'}, {'txn_id': 'TXN-17092', 'avail_date': '2020-12-24', 'last_name': 'Douglas', 'first_name': 'Cathy', 'birthday': '2009-10-26'}, {'txn_id': 'TXN-17092', 'avail_date': '2020-12-24', 'last_name': 'Douglas', 'first_name': 'Cathy', 'birthday': '2009-10-26'}, {'txn_id': 'TXN-59520', 'avail_date': '2015-07-18', 'last_name': 'Kessler', 'first_name': 'Russell', 'birthday': '1991-08-21'}, {'txn_id': 'TXN-08837', 'avail_date': '2014-04-28', 'last_name': 'Hettinger', 'first_name': 'Carlie', 'birthday': '1990-12-09'}, {'txn_id': 'TXN-08837', 'avail_date': '2014-04-28', 'last_name': 'Hettinger', 'first_name': 'Carlie', 'birthday': '1990-12-09'}, {'txn_id': 'TXN-52093', 'avail_date': '2025-05-31', 'last_name': 'Durgan', 'first_name': 'Trisha', 'birthday': '1994-10-29'}, {'txn_id': 'TXN-35117', 'avail_date': '2018-03-18', 'last_name': 'Anderson', 'first_name': 'Duncan', 'birthday': '2010-09-12'}, {'txn_id': 'TXN-35117', 'avail_date': '2018-03-18', 'last_name': 'Anderson', 'first_name': 'Duncan', 'birthday': '2010-09-12'}, {'txn_id': 'TXN-17937', 'avail_date': '2016-01-04', 'last_name': 'Torphy', 'first_name': 'Garret', 'birthday': '1998-11-26'}, {'txn_id': 'TXN-17937', 'avail_date': '2016-01-04', 'last_name': 'Torphy', 'first_name': 'Garret', 'birthday': '1998-11-26'}, {'txn_id': 'TXN-32813', 'avail_date': '2028-08-16', 'last_name': 'Predovic', 'first_name': 'Sage', 'birthday': '2007-10-07'}, {'txn_id': 'TXN-16095', 'avail_date': '2027-08-19', 'last_name': 'Bergstrom', 'first_name': 'Dedrick', 'birthday': '2000-04-15'}, {'txn_id': 'TXN-16095', 'avail_date': '2027-08-19', 'last_name': 'Bergstrom', 'first_name': 'Dedrick', 'birthday': '2000-04-15'}, {'txn_id': 'TXN-16095', 'avail_date': '2027-08-19', 'last_name': 'Bergstrom', 'first_name': 'Dedrick', 'birthday': '2000-04-15'}, {'txn_id': 'TXN-11897', 'avail_date': '2027-06-19', 'last_name': 'Reinger', 'first_name': 'Conrad', 'birthday': '1996-12-03'}, {'txn_id': 'TXN-11897', 'avail_date': '2027-06-19', 'last_name': 'Reinger', 'first_name': 'Conrad', 'birthday': '1996-12-03'}, {'txn_id': 'TXN-11897', 'avail_date': '2027-06-19', 'last_name': 'Reinger', 'first_name': 'Conrad', 'birthday': '1996-12-03'}, {'txn_id': 'TXN-43876', 'avail_date': '2021-11-13', 'last_name': 'Jewess', 'first_name': 'Lucio', 'birthday': '1996-07-05'}, {'txn_id': 'TXN-65468', 'avail_date': '2012-06-16', 'last_name': 'Cummings', 'first_name': 'Henry', 'birthday': '2005-08-14'}, {'txn_id': 'TXN-65468', 'avail_date': '2012-06-16', 'last_name': 'Cummings', 'first_name': 'Henry', 'birthday': '2005-08-14'}, {'txn_id': 'TXN-60822', 'avail_date': '2020-09-28', 'last_name': 'Feil', 'first_name': 'Jermey', 'birthday': '2010-06-15'}, {'txn_id': 'TXN-60822', 'avail_date': '2020-09-28', 'last_name': 'Feil', 'first_name': 'Jermey', 'birthday': '2010-06-15'}, {'txn_id': 'TXN-01784', 'avail_date': '2015-01-11', 'last_name': 'Schmidt', 'first_name': 'Emilie', 'birthday': '1996-05-21'}, {'txn_id': 'TXN-01784', 'avail_date': '2015-01-11', 'last_name': 'Schmidt', 'first_name': 'Emilie', 'birthday': '1996-05-21'}]]"
     ]
    }
   ],
   "source": [
    "engine = create_engine('sqlite:///customer_transactions.db', echo=True)\n",
    "df_customer_transaction.to_sql('customer_transactions', con=engine, if_exists='replace', index=False,\n",
    "                              dtype={\n",
    "                                  \"txn_id\": VARCHAR(10),\n",
    "                                  \"avail_date\" : DATE(),\n",
    "                                  \"last_name\" : VARCHAR(20),\n",
    "                                  \"first_name\" : VARCHAR(20),\n",
    "                                  \"birthday\" : DATE()\n",
    "                              })\n"
   ]
  },
  {
   "cell_type": "code",
   "execution_count": null,
   "id": "3bdf3752-4e7e-477a-8ee6-531178fec7d9",
   "metadata": {},
   "outputs": [],
   "source": [
    "engine = create_engine('sqlite:///customer_transactions.db', echo=True)\n",
    "df_customer_transaction.to_sql('customer_transactions', con=engine, if_exists='replace', index=False,\n",
    "                              dtype={\n",
    "                                  \"txn_id\": VARCHAR(10),\n",
    "                                  \"last_name\" : VARCHAR(20),\n",
    "                                  \"first_name\" : VARCHAR(20),\n",
    "                              })\n"
   ]
  },
  {
   "cell_type": "raw",
   "id": "00d68b16-ccc4-4c23-ae44-9cc0f30d2648",
   "metadata": {},
   "source": [
    "# Cleaning the Database"
   ]
  },
  {
   "cell_type": "code",
   "execution_count": 11,
   "id": "4520428d-b9c9-49b2-b53d-dd686dfe9704",
   "metadata": {},
   "outputs": [],
   "source": [
    "## Checking for duplicates"
   ]
  },
  {
   "cell_type": "code",
   "execution_count": 12,
   "id": "f226337f-7ccb-4d48-b25b-2e973cb1a507",
   "metadata": {},
   "outputs": [],
   "source": [
    "##### Detects the duplicated data"
   ]
  },
  {
   "cell_type": "code",
   "execution_count": 8,
   "id": "451ba222-3805-4c7a-855c-d2aa485e335e",
   "metadata": {},
   "outputs": [
    {
     "name": "stdout",
     "output_type": "stream",
     "text": [
      "           txn_id  avail_date last_name first_name    birthday\n",
      "0       TXN-24546  2030-09-08     ORTIZ    EDUARDO  1990-07-08\n",
      "1       TXN-14642  2026-05-26    NIENOW        LEA  2000-11-26\n",
      "2       TXN-60295  2006-09-25     LESCH      FLETA  1993-05-22\n",
      "3       TXN-60295  2006-09-25     LESCH      FLETA  1993-05-22\n",
      "4       TXN-60295  2006-09-25     LESCH      FLETA  1993-05-22\n",
      "...           ...         ...       ...        ...         ...\n",
      "130648  TXN-65468  2012-06-16  Cummings      Henry  2005-08-14\n",
      "130649  TXN-60822  2020-09-28      Feil     Jermey  2010-06-15\n",
      "130650  TXN-60822  2020-09-28      Feil     Jermey  2010-06-15\n",
      "130651  TXN-01784  2015-01-11   Schmidt     Emilie  1996-05-21\n",
      "130652  TXN-01784  2015-01-11   Schmidt     Emilie  1996-05-21\n",
      "\n",
      "[103233 rows x 5 columns]\n"
     ]
    }
   ],
   "source": [
    "print(df_customer_transaction[df_customer_transaction['txn_id'].duplicated(keep=False)])"
   ]
  },
  {
   "cell_type": "code",
   "execution_count": null,
   "id": "00b918bb-26d7-40fd-8eb5-4d1c01a07fa2",
   "metadata": {},
   "outputs": [],
   "source": [
    "##### Stores the detected data on a variable "
   ]
  },
  {
   "cell_type": "code",
   "execution_count": 16,
   "id": "657e9565-759a-4dba-99e9-795968c5725a",
   "metadata": {},
   "outputs": [],
   "source": [
    "df_Duplicated_Customers = df_customer_transaction[df_customer_transaction.duplicated(keep=False)]"
   ]
  },
  {
   "cell_type": "code",
   "execution_count": null,
   "id": "d7ec5d1a-f8bf-4c40-9883-f521632e198d",
   "metadata": {},
   "outputs": [],
   "source": [
    "print(df_Duplicated_Customers)"
   ]
  },
  {
   "cell_type": "code",
   "execution_count": 9,
   "id": "06568334-fac4-45b3-8f3e-7f450997cf27",
   "metadata": {},
   "outputs": [],
   "source": [
    "df_DropDuplicated_Customers = df_customer_transaction.drop_duplicates()"
   ]
  },
  {
   "cell_type": "code",
   "execution_count": 23,
   "id": "caf6f81a-b1e8-43ba-b9c3-9283b6772f79",
   "metadata": {},
   "outputs": [
    {
     "name": "stdout",
     "output_type": "stream",
     "text": [
      "           txn_id  avail_date last_name first_name    birthday\n",
      "0       TXN-24546  2030-09-08     ORTIZ    EDUARDO  1990-07-08\n",
      "1       TXN-14642  2026-05-26    NIENOW        LEA  2000-11-26\n",
      "2       TXN-60295  2006-09-25     LESCH      FLETA  1993-05-22\n",
      "6       TXN-40462  2021-08-21      KUHN        TOD  2002-11-25\n",
      "8       TXN-08102  2010-04-03   JOHNSON     MILTON  2003-07-10\n",
      "...           ...         ...       ...        ...         ...\n",
      "130643  TXN-11897  2027-06-19   Reinger     Conrad  1996-12-03\n",
      "130646  TXN-43876  2021-11-13    Jewess      Lucio  1996-07-05\n",
      "130647  TXN-65468  2012-06-16  Cummings      Henry  2005-08-14\n",
      "130649  TXN-60822  2020-09-28      Feil     Jermey  2010-06-15\n",
      "130651  TXN-01784  2015-01-11   Schmidt     Emilie  1996-05-21\n",
      "\n",
      "[72355 rows x 5 columns]\n"
     ]
    }
   ],
   "source": [
    "print(df_DropDuplicated_Customers)"
   ]
  },
  {
   "cell_type": "code",
   "execution_count": 52,
   "id": "82c9aa9b-eac9-4f17-8287-9668acfc80b0",
   "metadata": {},
   "outputs": [
    {
     "name": "stdout",
     "output_type": "stream",
     "text": [
      "           txn_id  avail_date last_name first_name    birthday\n",
      "135     TXN-41845  2026-01-13   HACKETT    ANNAMAE  2001-12-11\n",
      "271     TXN-51508  2017-03-13     FRAMI       ZOIE  2003-02-26\n",
      "347     TXN-54642  2025-01-07   SCHMITT     CURTIS  1994-11-18\n",
      "428     TXN-12820  2027-11-29      LIND     HETTIE  1993-10-24\n",
      "478     TXN-43559  2012-12-30   REICHEL      ADOLF  2007-06-29\n",
      "...           ...         ...       ...        ...         ...\n",
      "130643  TXN-11897  2027-06-19   Reinger     Conrad  1996-12-03\n",
      "130646  TXN-43876  2021-11-13    Jewess      Lucio  1996-07-05\n",
      "130647  TXN-65468  2012-06-16  Cummings      Henry  2005-08-14\n",
      "130649  TXN-60822  2020-09-28      Feil     Jermey  2010-06-15\n",
      "130651  TXN-01784  2015-01-11   Schmidt     Emilie  1996-05-21\n",
      "\n",
      "[57615 rows x 5 columns]\n"
     ]
    }
   ],
   "source": [
    "print(df_DropDuplicated_Customers[df_DropDuplicated_Customers['first_name'].duplicated()])"
   ]
  },
  {
   "cell_type": "code",
   "execution_count": 10,
   "id": "0655002e-26d2-4386-96e2-4faef77c9bc9",
   "metadata": {},
   "outputs": [
    {
     "name": "stdout",
     "output_type": "stream",
     "text": [
      "2023-11-22 09:20:22,273 INFO sqlalchemy.engine.Engine BEGIN (implicit)\n",
      "2023-11-22 09:20:22,283 INFO sqlalchemy.engine.Engine PRAGMA main.table_info(\"customer_transactions\")\n",
      "2023-11-22 09:20:22,284 INFO sqlalchemy.engine.Engine [raw sql] ()\n",
      "2023-11-22 09:20:22,285 INFO sqlalchemy.engine.Engine PRAGMA temp.table_info(\"customer_transactions\")\n",
      "2023-11-22 09:20:22,285 INFO sqlalchemy.engine.Engine [raw sql] ()\n",
      "2023-11-22 09:20:22,286 INFO sqlalchemy.engine.Engine \n",
      "CREATE TABLE customer_transactions (\n",
      "\ttxn_id TEXT, \n",
      "\tavail_date TEXT, \n",
      "\tlast_name TEXT, \n",
      "\tfirst_name TEXT, \n",
      "\tbirthday TEXT\n",
      ")\n",
      "\n",
      "\n",
      "2023-11-22 09:20:22,286 INFO sqlalchemy.engine.Engine [no key 0.00042s] ()\n",
      "2023-11-22 09:20:22,597 INFO sqlalchemy.engine.Engine INSERT INTO customer_transactions (txn_id, avail_date, last_name, first_name, birthday) VALUES (?, ?, ?, ?, ?)\n",
      "2023-11-22 09:20:22,598 INFO sqlalchemy.engine.Engine [generated in 0.24913s] [('TXN-24546', '2030-09-08', 'ORTIZ', 'EDUARDO', '1990-07-08'), ('TXN-14642', '2026-05-26', 'NIENOW', 'LEA', '2000-11-26'), ('TXN-60295', '2006-09-25', 'LESCH', 'FLETA', '1993-05-22'), ('TXN-40462', '2021-08-21', 'KUHN', 'TOD', '2002-11-25'), ('TXN-08102', '2010-04-03', 'JOHNSON', 'MILTON', '2003-07-10'), ('TXN-64262', '2018-11-23', 'HACKETT', 'MACI', '2005-06-20'), ('TXN-41934', '2025-03-07', 'HANE', 'SYLVAN', '2007-07-02'), ('TXN-39050', '2028-11-09', 'MAYER', 'TREMAINE', '1990-02-01')  ... displaying 10 of 72355 total bound parameter sets ...  ('TXN-60822', '2020-09-28', 'Feil', 'Jermey', '2010-06-15'), ('TXN-01784', '2015-01-11', 'Schmidt', 'Emilie', '1996-05-21')]\n",
      "2023-11-22 09:20:22,701 INFO sqlalchemy.engine.Engine COMMIT\n"
     ]
    },
    {
     "data": {
      "text/plain": [
       "72355"
      ]
     },
     "execution_count": 10,
     "metadata": {},
     "output_type": "execute_result"
    }
   ],
   "source": [
    "engine = create_engine('sqlite:///Clean_customer_transactions.db', echo=True)\n",
    "df_DropDuplicated_Customers.to_sql('customer_transactions', con=engine, if_exists='replace', index=False)"
   ]
  },
  {
   "cell_type": "code",
   "execution_count": null,
   "id": "23403080-9385-476f-abc0-f19ecd3c040e",
   "metadata": {},
   "outputs": [],
   "source": []
  },
  {
   "cell_type": "code",
   "execution_count": null,
   "id": "5b89e158-f538-44d6-a9da-90ef6d339484",
   "metadata": {},
   "outputs": [],
   "source": []
  }
 ],
 "metadata": {
  "kernelspec": {
   "display_name": "Python 3 (ipykernel)",
   "language": "python",
   "name": "python3"
  },
  "language_info": {
   "codemirror_mode": {
    "name": "ipython",
    "version": 3
   },
   "file_extension": ".py",
   "mimetype": "text/x-python",
   "name": "python",
   "nbconvert_exporter": "python",
   "pygments_lexer": "ipython3",
   "version": "3.12.0"
  }
 },
 "nbformat": 4,
 "nbformat_minor": 5
}
