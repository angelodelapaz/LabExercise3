{
 "cells": [
  {
   "cell_type": "code",
   "execution_count": 1,
   "id": "2f85895e-7bbb-4606-9c4d-53ea16333025",
   "metadata": {},
   "outputs": [],
   "source": [
    "import pandas as pd\n",
    "import numpy as np"
   ]
  },
  {
   "cell_type": "code",
   "execution_count": null,
   "id": "4c6408f7-efca-4be8-97f3-d53e459f5e3b",
   "metadata": {},
   "outputs": [],
   "source": [
    "## Import classes to SQL "
   ]
  },
  {
   "cell_type": "code",
   "execution_count": 6,
   "id": "44ca5de3-80ed-40dc-81ea-469fa6d377f3",
   "metadata": {},
   "outputs": [],
   "source": [
    "#### Reads the JSON file (Pandas)"
   ]
  },
  {
   "cell_type": "code",
   "execution_count": 4,
   "id": "976c7ee6-64da-4411-a50e-2a8e8dbc11fa",
   "metadata": {},
   "outputs": [],
   "source": [
    "df_customer_transaction = pd.read_json(\"customer_transaction_info.json\")"
   ]
  },
  {
   "cell_type": "code",
   "execution_count": 8,
   "id": "0c2b26b0-12c8-4d1f-86a8-c4a172273c6d",
   "metadata": {},
   "outputs": [],
   "source": [
    "#### Shows the first number of students "
   ]
  },
  {
   "cell_type": "code",
   "execution_count": 3,
   "id": "acf19bbf-8b46-4c53-abee-da491f6db2a4",
   "metadata": {},
   "outputs": [
    {
     "data": {
      "text/html": [
       "<div>\n",
       "<style scoped>\n",
       "    .dataframe tbody tr th:only-of-type {\n",
       "        vertical-align: middle;\n",
       "    }\n",
       "\n",
       "    .dataframe tbody tr th {\n",
       "        vertical-align: top;\n",
       "    }\n",
       "\n",
       "    .dataframe thead th {\n",
       "        text-align: right;\n",
       "    }\n",
       "</style>\n",
       "<table border=\"1\" class=\"dataframe\">\n",
       "  <thead>\n",
       "    <tr style=\"text-align: right;\">\n",
       "      <th></th>\n",
       "      <th>txn_id</th>\n",
       "      <th>avail_date</th>\n",
       "      <th>last_name</th>\n",
       "      <th>first_name</th>\n",
       "      <th>birthday</th>\n",
       "    </tr>\n",
       "  </thead>\n",
       "  <tbody>\n",
       "    <tr>\n",
       "      <th>0</th>\n",
       "      <td>TXN-24546</td>\n",
       "      <td>2030-09-08</td>\n",
       "      <td>ORTIZ</td>\n",
       "      <td>EDUARDO</td>\n",
       "      <td>1990-07-08</td>\n",
       "    </tr>\n",
       "    <tr>\n",
       "      <th>1</th>\n",
       "      <td>TXN-14642</td>\n",
       "      <td>2026-05-26</td>\n",
       "      <td>NIENOW</td>\n",
       "      <td>LEA</td>\n",
       "      <td>2000-11-26</td>\n",
       "    </tr>\n",
       "    <tr>\n",
       "      <th>2</th>\n",
       "      <td>TXN-60295</td>\n",
       "      <td>2006-09-25</td>\n",
       "      <td>LESCH</td>\n",
       "      <td>FLETA</td>\n",
       "      <td>1993-05-22</td>\n",
       "    </tr>\n",
       "    <tr>\n",
       "      <th>3</th>\n",
       "      <td>TXN-60295</td>\n",
       "      <td>2006-09-25</td>\n",
       "      <td>LESCH</td>\n",
       "      <td>FLETA</td>\n",
       "      <td>1993-05-22</td>\n",
       "    </tr>\n",
       "    <tr>\n",
       "      <th>4</th>\n",
       "      <td>TXN-60295</td>\n",
       "      <td>2006-09-25</td>\n",
       "      <td>LESCH</td>\n",
       "      <td>FLETA</td>\n",
       "      <td>1993-05-22</td>\n",
       "    </tr>\n",
       "  </tbody>\n",
       "</table>\n",
       "</div>"
      ],
      "text/plain": [
       "      txn_id  avail_date last_name first_name    birthday\n",
       "0  TXN-24546  2030-09-08     ORTIZ    EDUARDO  1990-07-08\n",
       "1  TXN-14642  2026-05-26    NIENOW        LEA  2000-11-26\n",
       "2  TXN-60295  2006-09-25     LESCH      FLETA  1993-05-22\n",
       "3  TXN-60295  2006-09-25     LESCH      FLETA  1993-05-22\n",
       "4  TXN-60295  2006-09-25     LESCH      FLETA  1993-05-22"
      ]
     },
     "execution_count": 3,
     "metadata": {},
     "output_type": "execute_result"
    }
   ],
   "source": [
    "df_customer_transaction.head()"
   ]
  },
  {
   "cell_type": "code",
   "execution_count": 9,
   "id": "46b8e6e8-5f54-4578-9c89-6d5090a1b389",
   "metadata": {},
   "outputs": [],
   "source": [
    "#### Shows the length of columns (data) in the json file"
   ]
  },
  {
   "cell_type": "code",
   "execution_count": 4,
   "id": "dafde3d4-f335-4b08-bfc9-605372563217",
   "metadata": {},
   "outputs": [
    {
     "data": {
      "text/plain": [
       "130653"
      ]
     },
     "execution_count": 4,
     "metadata": {},
     "output_type": "execute_result"
    }
   ],
   "source": [
    "len(df_customer_transaction)"
   ]
  },
  {
   "cell_type": "code",
   "execution_count": 5,
   "id": "9766f9c8-b44e-439e-b0db-56e5d3816297",
   "metadata": {},
   "outputs": [
    {
     "data": {
      "text/html": [
       "<div>\n",
       "<style scoped>\n",
       "    .dataframe tbody tr th:only-of-type {\n",
       "        vertical-align: middle;\n",
       "    }\n",
       "\n",
       "    .dataframe tbody tr th {\n",
       "        vertical-align: top;\n",
       "    }\n",
       "\n",
       "    .dataframe thead th {\n",
       "        text-align: right;\n",
       "    }\n",
       "</style>\n",
       "<table border=\"1\" class=\"dataframe\">\n",
       "  <thead>\n",
       "    <tr style=\"text-align: right;\">\n",
       "      <th></th>\n",
       "      <th>txn_id</th>\n",
       "      <th>avail_date</th>\n",
       "      <th>last_name</th>\n",
       "      <th>first_name</th>\n",
       "      <th>birthday</th>\n",
       "    </tr>\n",
       "  </thead>\n",
       "  <tbody>\n",
       "    <tr>\n",
       "      <th>0</th>\n",
       "      <td>TXN-24546</td>\n",
       "      <td>2030-09-08</td>\n",
       "      <td>ORTIZ</td>\n",
       "      <td>EDUARDO</td>\n",
       "      <td>1990-07-08</td>\n",
       "    </tr>\n",
       "    <tr>\n",
       "      <th>1</th>\n",
       "      <td>TXN-14642</td>\n",
       "      <td>2026-05-26</td>\n",
       "      <td>NIENOW</td>\n",
       "      <td>LEA</td>\n",
       "      <td>2000-11-26</td>\n",
       "    </tr>\n",
       "    <tr>\n",
       "      <th>2</th>\n",
       "      <td>TXN-60295</td>\n",
       "      <td>2006-09-25</td>\n",
       "      <td>LESCH</td>\n",
       "      <td>FLETA</td>\n",
       "      <td>1993-05-22</td>\n",
       "    </tr>\n",
       "    <tr>\n",
       "      <th>3</th>\n",
       "      <td>TXN-60295</td>\n",
       "      <td>2006-09-25</td>\n",
       "      <td>LESCH</td>\n",
       "      <td>FLETA</td>\n",
       "      <td>1993-05-22</td>\n",
       "    </tr>\n",
       "    <tr>\n",
       "      <th>4</th>\n",
       "      <td>TXN-60295</td>\n",
       "      <td>2006-09-25</td>\n",
       "      <td>LESCH</td>\n",
       "      <td>FLETA</td>\n",
       "      <td>1993-05-22</td>\n",
       "    </tr>\n",
       "    <tr>\n",
       "      <th>...</th>\n",
       "      <td>...</td>\n",
       "      <td>...</td>\n",
       "      <td>...</td>\n",
       "      <td>...</td>\n",
       "      <td>...</td>\n",
       "    </tr>\n",
       "    <tr>\n",
       "      <th>130648</th>\n",
       "      <td>TXN-65468</td>\n",
       "      <td>2012-06-16</td>\n",
       "      <td>Cummings</td>\n",
       "      <td>Henry</td>\n",
       "      <td>2005-08-14</td>\n",
       "    </tr>\n",
       "    <tr>\n",
       "      <th>130649</th>\n",
       "      <td>TXN-60822</td>\n",
       "      <td>2020-09-28</td>\n",
       "      <td>Feil</td>\n",
       "      <td>Jermey</td>\n",
       "      <td>2010-06-15</td>\n",
       "    </tr>\n",
       "    <tr>\n",
       "      <th>130650</th>\n",
       "      <td>TXN-60822</td>\n",
       "      <td>2020-09-28</td>\n",
       "      <td>Feil</td>\n",
       "      <td>Jermey</td>\n",
       "      <td>2010-06-15</td>\n",
       "    </tr>\n",
       "    <tr>\n",
       "      <th>130651</th>\n",
       "      <td>TXN-01784</td>\n",
       "      <td>2015-01-11</td>\n",
       "      <td>Schmidt</td>\n",
       "      <td>Emilie</td>\n",
       "      <td>1996-05-21</td>\n",
       "    </tr>\n",
       "    <tr>\n",
       "      <th>130652</th>\n",
       "      <td>TXN-01784</td>\n",
       "      <td>2015-01-11</td>\n",
       "      <td>Schmidt</td>\n",
       "      <td>Emilie</td>\n",
       "      <td>1996-05-21</td>\n",
       "    </tr>\n",
       "  </tbody>\n",
       "</table>\n",
       "<p>130653 rows × 5 columns</p>\n",
       "</div>"
      ],
      "text/plain": [
       "           txn_id  avail_date last_name first_name    birthday\n",
       "0       TXN-24546  2030-09-08     ORTIZ    EDUARDO  1990-07-08\n",
       "1       TXN-14642  2026-05-26    NIENOW        LEA  2000-11-26\n",
       "2       TXN-60295  2006-09-25     LESCH      FLETA  1993-05-22\n",
       "3       TXN-60295  2006-09-25     LESCH      FLETA  1993-05-22\n",
       "4       TXN-60295  2006-09-25     LESCH      FLETA  1993-05-22\n",
       "...           ...         ...       ...        ...         ...\n",
       "130648  TXN-65468  2012-06-16  Cummings      Henry  2005-08-14\n",
       "130649  TXN-60822  2020-09-28      Feil     Jermey  2010-06-15\n",
       "130650  TXN-60822  2020-09-28      Feil     Jermey  2010-06-15\n",
       "130651  TXN-01784  2015-01-11   Schmidt     Emilie  1996-05-21\n",
       "130652  TXN-01784  2015-01-11   Schmidt     Emilie  1996-05-21\n",
       "\n",
       "[130653 rows x 5 columns]"
      ]
     },
     "execution_count": 5,
     "metadata": {},
     "output_type": "execute_result"
    }
   ],
   "source": [
    "df_customer_transaction.head(130654)"
   ]
  },
  {
   "cell_type": "code",
   "execution_count": null,
   "id": "1f03067f-531b-4d35-862c-10ef97ff16fd",
   "metadata": {},
   "outputs": [],
   "source": [
    "## Convert the original customer.json file to sqlite"
   ]
  },
  {
   "cell_type": "code",
   "execution_count": 2,
   "id": "e8c6b221-0ee2-409b-a254-60d15d517317",
   "metadata": {},
   "outputs": [],
   "source": [
    "from sqlalchemy import create_engine\n",
    "from sqlalchemy import VARCHAR, DATE"
   ]
  },
  {
   "cell_type": "raw",
   "id": "dd93224f-4764-4eb3-a2cd-870ba0f5e649",
   "metadata": {},
   "source": [
    "engine = create_engine('sqlite:///customer_transactions.db', echo=True)\n",
    "df_customer_transaction.to_sql('customer_transactions', con=engine, if_exists='replace', index=False)"
   ]
  },
  {
   "cell_type": "code",
   "execution_count": 5,
   "id": "4a6c4adc-2df6-4aa8-94e9-841cfe70ca25",
   "metadata": {},
   "outputs": [
    {
     "name": "stdout",
     "output_type": "stream",
     "text": [
      "2023-11-22 10:31:32,681 INFO sqlalchemy.engine.Engine BEGIN (implicit)\n",
      "2023-11-22 10:31:32,684 INFO sqlalchemy.engine.Engine PRAGMA main.table_info(\"customer_transactions\")\n",
      "2023-11-22 10:31:32,685 INFO sqlalchemy.engine.Engine [raw sql] ()\n",
      "2023-11-22 10:31:32,686 INFO sqlalchemy.engine.Engine PRAGMA temp.table_info(\"customer_transactions\")\n",
      "2023-11-22 10:31:32,687 INFO sqlalchemy.engine.Engine [raw sql] ()\n",
      "2023-11-22 10:31:32,688 INFO sqlalchemy.engine.Engine \n",
      "CREATE TABLE customer_transactions (\n",
      "\ttxn_id VARCHAR(10), \n",
      "\tavail_date DATE, \n",
      "\tlast_name VARCHAR(20), \n",
      "\tfirst_name VARCHAR(20), \n",
      "\tbirthday DATE\n",
      ")\n",
      "\n",
      "\n",
      "2023-11-22 10:31:32,688 INFO sqlalchemy.engine.Engine [no key 0.00044s] ()\n",
      "2023-11-22 10:31:33,407 INFO sqlalchemy.engine.Engine INSERT INTO customer_transactions (txn_id, avail_date, last_name, first_name, birthday) VALUES (?, ?, ?, ?, ?)\n",
      "2023-11-22 10:31:33,408 INFO sqlalchemy.engine.Engine [generated in 0.53061s] [('TXN-24546', '2030-09-08', 'ORTIZ', 'EDUARDO', '1990-07-08'), ('TXN-14642', '2026-05-26', 'NIENOW', 'LEA', '2000-11-26'), ('TXN-60295', '2006-09-25', 'LESCH', 'FLETA', '1993-05-22'), ('TXN-60295', '2006-09-25', 'LESCH', 'FLETA', '1993-05-22'), ('TXN-60295', '2006-09-25', 'LESCH', 'FLETA', '1993-05-22'), ('TXN-60295', '2006-09-25', 'LESCH', 'FLETA', '1993-05-22'), ('TXN-40462', '2021-08-21', 'KUHN', 'TOD', '2002-11-25'), ('TXN-40462', '2021-08-21', 'KUHN', 'TOD', '2002-11-25')  ... displaying 10 of 130653 total bound parameter sets ...  ('TXN-01784', '2015-01-11', 'Schmidt', 'Emilie', '1996-05-21'), ('TXN-01784', '2015-01-11', 'Schmidt', 'Emilie', '1996-05-21')]\n",
      "2023-11-22 10:31:33,554 INFO sqlalchemy.engine.Engine COMMIT\n"
     ]
    },
    {
     "data": {
      "text/plain": [
       "130653"
      ]
     },
     "execution_count": 5,
     "metadata": {},
     "output_type": "execute_result"
    }
   ],
   "source": [
    "df_customer_transaction['avail_date'] = pd.to_datetime(df_customer_transaction['avail_date'], errors='coerce')\n",
    "df_customer_transaction['birthday'] = pd.to_datetime(df_customer_transaction['birthday'], errors='coerce')\n",
    "engine = create_engine('sqlite:///customer_transactions.db', echo=True)\n",
    "df_customer_transaction.to_sql('customer_transactions', con=engine, if_exists='replace', index=False,\n",
    "                              dtype={\n",
    "                                  \"txn_id\": VARCHAR(10),\n",
    "                                  \"avail_date\" : DATE,\n",
    "                                  \"last_name\" : VARCHAR(20),\n",
    "                                  \"first_name\" : VARCHAR(20),\n",
    "                                  \"birthday\" : DATE,\n",
    "                              })\n"
   ]
  },
  {
   "cell_type": "raw",
   "id": "00d68b16-ccc4-4c23-ae44-9cc0f30d2648",
   "metadata": {},
   "source": [
    "# Cleaning the Database"
   ]
  },
  {
   "cell_type": "code",
   "execution_count": 11,
   "id": "4520428d-b9c9-49b2-b53d-dd686dfe9704",
   "metadata": {},
   "outputs": [],
   "source": [
    "## Checking for duplicates"
   ]
  },
  {
   "cell_type": "code",
   "execution_count": 12,
   "id": "f226337f-7ccb-4d48-b25b-2e973cb1a507",
   "metadata": {},
   "outputs": [],
   "source": [
    "##### Detects the duplicated data"
   ]
  },
  {
   "cell_type": "code",
   "execution_count": 8,
   "id": "451ba222-3805-4c7a-855c-d2aa485e335e",
   "metadata": {},
   "outputs": [
    {
     "name": "stdout",
     "output_type": "stream",
     "text": [
      "           txn_id  avail_date last_name first_name    birthday\n",
      "0       TXN-24546  2030-09-08     ORTIZ    EDUARDO  1990-07-08\n",
      "1       TXN-14642  2026-05-26    NIENOW        LEA  2000-11-26\n",
      "2       TXN-60295  2006-09-25     LESCH      FLETA  1993-05-22\n",
      "3       TXN-60295  2006-09-25     LESCH      FLETA  1993-05-22\n",
      "4       TXN-60295  2006-09-25     LESCH      FLETA  1993-05-22\n",
      "...           ...         ...       ...        ...         ...\n",
      "130648  TXN-65468  2012-06-16  Cummings      Henry  2005-08-14\n",
      "130649  TXN-60822  2020-09-28      Feil     Jermey  2010-06-15\n",
      "130650  TXN-60822  2020-09-28      Feil     Jermey  2010-06-15\n",
      "130651  TXN-01784  2015-01-11   Schmidt     Emilie  1996-05-21\n",
      "130652  TXN-01784  2015-01-11   Schmidt     Emilie  1996-05-21\n",
      "\n",
      "[103233 rows x 5 columns]\n"
     ]
    }
   ],
   "source": [
    "print(df_customer_transaction[df_customer_transaction['txn_id'].duplicated(keep=False)])"
   ]
  },
  {
   "cell_type": "code",
   "execution_count": null,
   "id": "00b918bb-26d7-40fd-8eb5-4d1c01a07fa2",
   "metadata": {},
   "outputs": [],
   "source": [
    "##### Stores the detected data on a variable "
   ]
  },
  {
   "cell_type": "code",
   "execution_count": 16,
   "id": "657e9565-759a-4dba-99e9-795968c5725a",
   "metadata": {},
   "outputs": [],
   "source": [
    "df_Duplicated_Customers = df_customer_transaction[df_customer_transaction.duplicated(keep=False)]"
   ]
  },
  {
   "cell_type": "code",
   "execution_count": null,
   "id": "d7ec5d1a-f8bf-4c40-9883-f521632e198d",
   "metadata": {},
   "outputs": [],
   "source": [
    "print(df_Duplicated_Customers)"
   ]
  },
  {
   "cell_type": "code",
   "execution_count": 9,
   "id": "06568334-fac4-45b3-8f3e-7f450997cf27",
   "metadata": {},
   "outputs": [],
   "source": [
    "df_DropDuplicated_Customers = df_customer_transaction.drop_duplicates()"
   ]
  },
  {
   "cell_type": "code",
   "execution_count": 23,
   "id": "caf6f81a-b1e8-43ba-b9c3-9283b6772f79",
   "metadata": {},
   "outputs": [
    {
     "name": "stdout",
     "output_type": "stream",
     "text": [
      "           txn_id  avail_date last_name first_name    birthday\n",
      "0       TXN-24546  2030-09-08     ORTIZ    EDUARDO  1990-07-08\n",
      "1       TXN-14642  2026-05-26    NIENOW        LEA  2000-11-26\n",
      "2       TXN-60295  2006-09-25     LESCH      FLETA  1993-05-22\n",
      "6       TXN-40462  2021-08-21      KUHN        TOD  2002-11-25\n",
      "8       TXN-08102  2010-04-03   JOHNSON     MILTON  2003-07-10\n",
      "...           ...         ...       ...        ...         ...\n",
      "130643  TXN-11897  2027-06-19   Reinger     Conrad  1996-12-03\n",
      "130646  TXN-43876  2021-11-13    Jewess      Lucio  1996-07-05\n",
      "130647  TXN-65468  2012-06-16  Cummings      Henry  2005-08-14\n",
      "130649  TXN-60822  2020-09-28      Feil     Jermey  2010-06-15\n",
      "130651  TXN-01784  2015-01-11   Schmidt     Emilie  1996-05-21\n",
      "\n",
      "[72355 rows x 5 columns]\n"
     ]
    }
   ],
   "source": [
    "print(df_DropDuplicated_Customers)"
   ]
  },
  {
   "cell_type": "code",
   "execution_count": 52,
   "id": "82c9aa9b-eac9-4f17-8287-9668acfc80b0",
   "metadata": {},
   "outputs": [
    {
     "name": "stdout",
     "output_type": "stream",
     "text": [
      "           txn_id  avail_date last_name first_name    birthday\n",
      "135     TXN-41845  2026-01-13   HACKETT    ANNAMAE  2001-12-11\n",
      "271     TXN-51508  2017-03-13     FRAMI       ZOIE  2003-02-26\n",
      "347     TXN-54642  2025-01-07   SCHMITT     CURTIS  1994-11-18\n",
      "428     TXN-12820  2027-11-29      LIND     HETTIE  1993-10-24\n",
      "478     TXN-43559  2012-12-30   REICHEL      ADOLF  2007-06-29\n",
      "...           ...         ...       ...        ...         ...\n",
      "130643  TXN-11897  2027-06-19   Reinger     Conrad  1996-12-03\n",
      "130646  TXN-43876  2021-11-13    Jewess      Lucio  1996-07-05\n",
      "130647  TXN-65468  2012-06-16  Cummings      Henry  2005-08-14\n",
      "130649  TXN-60822  2020-09-28      Feil     Jermey  2010-06-15\n",
      "130651  TXN-01784  2015-01-11   Schmidt     Emilie  1996-05-21\n",
      "\n",
      "[57615 rows x 5 columns]\n"
     ]
    }
   ],
   "source": [
    "print(df_DropDuplicated_Customers[df_DropDuplicated_Customers['first_name'].duplicated()])"
   ]
  },
  {
   "cell_type": "code",
   "execution_count": 10,
   "id": "0655002e-26d2-4386-96e2-4faef77c9bc9",
   "metadata": {},
   "outputs": [
    {
     "name": "stdout",
     "output_type": "stream",
     "text": [
      "2023-11-22 09:20:22,273 INFO sqlalchemy.engine.Engine BEGIN (implicit)\n",
      "2023-11-22 09:20:22,283 INFO sqlalchemy.engine.Engine PRAGMA main.table_info(\"customer_transactions\")\n",
      "2023-11-22 09:20:22,284 INFO sqlalchemy.engine.Engine [raw sql] ()\n",
      "2023-11-22 09:20:22,285 INFO sqlalchemy.engine.Engine PRAGMA temp.table_info(\"customer_transactions\")\n",
      "2023-11-22 09:20:22,285 INFO sqlalchemy.engine.Engine [raw sql] ()\n",
      "2023-11-22 09:20:22,286 INFO sqlalchemy.engine.Engine \n",
      "CREATE TABLE customer_transactions (\n",
      "\ttxn_id TEXT, \n",
      "\tavail_date TEXT, \n",
      "\tlast_name TEXT, \n",
      "\tfirst_name TEXT, \n",
      "\tbirthday TEXT\n",
      ")\n",
      "\n",
      "\n",
      "2023-11-22 09:20:22,286 INFO sqlalchemy.engine.Engine [no key 0.00042s] ()\n",
      "2023-11-22 09:20:22,597 INFO sqlalchemy.engine.Engine INSERT INTO customer_transactions (txn_id, avail_date, last_name, first_name, birthday) VALUES (?, ?, ?, ?, ?)\n",
      "2023-11-22 09:20:22,598 INFO sqlalchemy.engine.Engine [generated in 0.24913s] [('TXN-24546', '2030-09-08', 'ORTIZ', 'EDUARDO', '1990-07-08'), ('TXN-14642', '2026-05-26', 'NIENOW', 'LEA', '2000-11-26'), ('TXN-60295', '2006-09-25', 'LESCH', 'FLETA', '1993-05-22'), ('TXN-40462', '2021-08-21', 'KUHN', 'TOD', '2002-11-25'), ('TXN-08102', '2010-04-03', 'JOHNSON', 'MILTON', '2003-07-10'), ('TXN-64262', '2018-11-23', 'HACKETT', 'MACI', '2005-06-20'), ('TXN-41934', '2025-03-07', 'HANE', 'SYLVAN', '2007-07-02'), ('TXN-39050', '2028-11-09', 'MAYER', 'TREMAINE', '1990-02-01')  ... displaying 10 of 72355 total bound parameter sets ...  ('TXN-60822', '2020-09-28', 'Feil', 'Jermey', '2010-06-15'), ('TXN-01784', '2015-01-11', 'Schmidt', 'Emilie', '1996-05-21')]\n",
      "2023-11-22 09:20:22,701 INFO sqlalchemy.engine.Engine COMMIT\n"
     ]
    },
    {
     "data": {
      "text/plain": [
       "72355"
      ]
     },
     "execution_count": 10,
     "metadata": {},
     "output_type": "execute_result"
    }
   ],
   "source": [
    "engine = create_engine('sqlite:///Clean_customer_transactions.db', echo=True)\n",
    "df_DropDuplicated_Customers.to_sql('customer_transactions', con=engine, if_exists='replace', index=False)"
   ]
  },
  {
   "cell_type": "code",
   "execution_count": null,
   "id": "23403080-9385-476f-abc0-f19ecd3c040e",
   "metadata": {},
   "outputs": [],
   "source": []
  },
  {
   "cell_type": "code",
   "execution_count": null,
   "id": "5b89e158-f538-44d6-a9da-90ef6d339484",
   "metadata": {},
   "outputs": [],
   "source": []
  }
 ],
 "metadata": {
  "kernelspec": {
   "display_name": "Python 3 (ipykernel)",
   "language": "python",
   "name": "python3"
  },
  "language_info": {
   "codemirror_mode": {
    "name": "ipython",
    "version": 3
   },
   "file_extension": ".py",
   "mimetype": "text/x-python",
   "name": "python",
   "nbconvert_exporter": "python",
   "pygments_lexer": "ipython3",
   "version": "3.12.0"
  }
 },
 "nbformat": 4,
 "nbformat_minor": 5
}
