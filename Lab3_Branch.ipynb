{
 "cells": [
  {
   "cell_type": "code",
   "execution_count": 1,
   "metadata": {},
   "outputs": [],
   "source": [
    "import pandas as pd\n",
    "import numpy as np\n",
    "from sqlalchemy import create_engine,VARCHAR, DATE"
   ]
  },
  {
   "cell_type": "markdown",
   "metadata": {},
   "source": [
    "# <b>Importing Data <b>"
   ]
  },
  {
   "cell_type": "code",
   "execution_count": 2,
   "metadata": {},
   "outputs": [],
   "source": [
    "df_branch_service = pd.read_json(\"branch_service_transaction_info.json\")"
   ]
  },
  {
   "cell_type": "markdown",
   "metadata": {},
   "source": [
    "## DATA PROFILING"
   ]
  },
  {
   "cell_type": "markdown",
   "metadata": {},
   "source": [
    "## INITIAL SHAPE AND UNIQUE ROWS"
   ]
  },
  {
   "cell_type": "code",
   "execution_count": 3,
   "metadata": {},
   "outputs": [
    {
     "name": "stdout",
     "output_type": "stream",
     "text": [
      "Total rows and columns:  (130653, 4)\n",
      "Total Number of unique rows:  62354\n"
     ]
    }
   ],
   "source": [
    "print(\"Total rows and columns: \",df_branch_service.shape)\n",
    "print(\"Total Number of unique rows: \", df_branch_service['txn_id'].nunique())"
   ]
  },
  {
   "cell_type": "markdown",
   "metadata": {},
   "source": [
    "## Getting the key columns"
   ]
  },
  {
   "cell_type": "code",
   "execution_count": 4,
   "metadata": {},
   "outputs": [
    {
     "name": "stdout",
     "output_type": "stream",
     "text": [
      "Index(['txn_id', 'branch_name', 'service', 'price'], dtype='object')\n"
     ]
    }
   ],
   "source": [
    "print(df_branch_service.columns)"
   ]
  },
  {
   "cell_type": "code",
   "execution_count": null,
   "metadata": {},
   "outputs": [],
   "source": []
  },
  {
   "cell_type": "markdown",
   "metadata": {},
   "source": [
    "## Total number of rows with missing/null values"
   ]
  },
  {
   "cell_type": "code",
   "execution_count": 5,
   "metadata": {},
   "outputs": [
    {
     "name": "stdout",
     "output_type": "stream",
     "text": [
      "Total number of rows with a null or missing value:  33007\n"
     ]
    }
   ],
   "source": [
    "df_totalnulls = df_branch_service.isnull().any(axis=1).sum()\n",
    "empty_string_count = (df_branch_service == '').any(axis=1).sum()\n",
    "empty_string_count += (df_branch_service == 'N/A').any(axis=1).sum()\n",
    "print(\"Total number of rows with a null or missing value: \", df_totalnulls + empty_string_count)"
   ]
  },
  {
   "cell_type": "markdown",
   "metadata": {},
   "source": [
    "## Total Number of Exact Duplicates (Ground for Duplication)"
   ]
  },
  {
   "cell_type": "code",
   "execution_count": 6,
   "metadata": {},
   "outputs": [
    {
     "name": "stdout",
     "output_type": "stream",
     "text": [
      "12377\n"
     ]
    }
   ],
   "source": [
    "print(df_branch_service.duplicated().sum())"
   ]
  },
  {
   "cell_type": "markdown",
   "metadata": {},
   "source": [
    "## Total Number of Duplicated Transaction IDs  (One-Many Relationship)"
   ]
  },
  {
   "cell_type": "code",
   "execution_count": 7,
   "metadata": {},
   "outputs": [
    {
     "name": "stdout",
     "output_type": "stream",
     "text": [
      "68299\n"
     ]
    }
   ],
   "source": [
    "print(df_branch_service.duplicated(subset=['txn_id']).sum())"
   ]
  },
  {
   "cell_type": "markdown",
   "metadata": {},
   "source": [
    "## List of All Values per Column"
   ]
  },
  {
   "cell_type": "code",
   "execution_count": 8,
   "metadata": {},
   "outputs": [
    {
     "name": "stdout",
     "output_type": "stream",
     "text": [
      "['MallOfAsia' 'Starmall' 'SmallMall' 'MayMall' 'FrankMall' 'Megamall'\n",
      " 'RobinsonsMall' '' None 'N/A']\n",
      "['Manicure' 'HairColor' 'FootSpa' 'Rebond' 'Haircut' 'NailColor'\n",
      " 'Pedicure']\n",
      "[         nan   0.          30.1237897   66.12345678  77.987989\n",
      " 100.12123    400.23123     55.2324      88.09393   ]\n"
     ]
    }
   ],
   "source": [
    "print(df_branch_service['branch_name'].unique())\n",
    "print(df_branch_service['service'].unique()) \n",
    "print(df_branch_service['price'].unique()) "
   ]
  },
  {
   "cell_type": "markdown",
   "metadata": {},
   "source": [
    "## Frequency Distributions per Column"
   ]
  },
  {
   "cell_type": "markdown",
   "metadata": {},
   "source": [
    "### Transaction ID"
   ]
  },
  {
   "cell_type": "code",
   "execution_count": 9,
   "metadata": {},
   "outputs": [
    {
     "data": {
      "text/html": [
       "<div>\n",
       "<style scoped>\n",
       "    .dataframe tbody tr th:only-of-type {\n",
       "        vertical-align: middle;\n",
       "    }\n",
       "\n",
       "    .dataframe tbody tr th {\n",
       "        vertical-align: top;\n",
       "    }\n",
       "\n",
       "    .dataframe thead th {\n",
       "        text-align: right;\n",
       "    }\n",
       "</style>\n",
       "<table border=\"1\" class=\"dataframe\">\n",
       "  <thead>\n",
       "    <tr style=\"text-align: right;\">\n",
       "      <th></th>\n",
       "      <th>txn_id</th>\n",
       "    </tr>\n",
       "  </thead>\n",
       "  <tbody>\n",
       "    <tr>\n",
       "      <th>count</th>\n",
       "      <td>130653</td>\n",
       "    </tr>\n",
       "    <tr>\n",
       "      <th>unique</th>\n",
       "      <td>62354</td>\n",
       "    </tr>\n",
       "    <tr>\n",
       "      <th>top</th>\n",
       "      <td>TXN-06185</td>\n",
       "    </tr>\n",
       "    <tr>\n",
       "      <th>freq</th>\n",
       "      <td>18</td>\n",
       "    </tr>\n",
       "  </tbody>\n",
       "</table>\n",
       "</div>"
      ],
      "text/plain": [
       "           txn_id\n",
       "count      130653\n",
       "unique      62354\n",
       "top     TXN-06185\n",
       "freq           18"
      ]
     },
     "execution_count": 9,
     "metadata": {},
     "output_type": "execute_result"
    }
   ],
   "source": [
    "df_branch_service['txn_id'].describe().to_frame()"
   ]
  },
  {
   "cell_type": "markdown",
   "metadata": {},
   "source": [
    "### Service"
   ]
  },
  {
   "cell_type": "code",
   "execution_count": 10,
   "metadata": {},
   "outputs": [
    {
     "data": {
      "text/html": [
       "<div>\n",
       "<style scoped>\n",
       "    .dataframe tbody tr th:only-of-type {\n",
       "        vertical-align: middle;\n",
       "    }\n",
       "\n",
       "    .dataframe tbody tr th {\n",
       "        vertical-align: top;\n",
       "    }\n",
       "\n",
       "    .dataframe thead th {\n",
       "        text-align: right;\n",
       "    }\n",
       "</style>\n",
       "<table border=\"1\" class=\"dataframe\">\n",
       "  <thead>\n",
       "    <tr style=\"text-align: right;\">\n",
       "      <th></th>\n",
       "      <th>service</th>\n",
       "    </tr>\n",
       "  </thead>\n",
       "  <tbody>\n",
       "    <tr>\n",
       "      <th>count</th>\n",
       "      <td>130653</td>\n",
       "    </tr>\n",
       "    <tr>\n",
       "      <th>unique</th>\n",
       "      <td>7</td>\n",
       "    </tr>\n",
       "    <tr>\n",
       "      <th>top</th>\n",
       "      <td>NailColor</td>\n",
       "    </tr>\n",
       "    <tr>\n",
       "      <th>freq</th>\n",
       "      <td>19034</td>\n",
       "    </tr>\n",
       "  </tbody>\n",
       "</table>\n",
       "</div>"
      ],
      "text/plain": [
       "          service\n",
       "count      130653\n",
       "unique          7\n",
       "top     NailColor\n",
       "freq        19034"
      ]
     },
     "execution_count": 10,
     "metadata": {},
     "output_type": "execute_result"
    }
   ],
   "source": [
    "df_branch_service['service'].describe().to_frame()"
   ]
  },
  {
   "cell_type": "code",
   "execution_count": 11,
   "metadata": {},
   "outputs": [
    {
     "data": {
      "text/html": [
       "<div>\n",
       "<style scoped>\n",
       "    .dataframe tbody tr th:only-of-type {\n",
       "        vertical-align: middle;\n",
       "    }\n",
       "\n",
       "    .dataframe tbody tr th {\n",
       "        vertical-align: top;\n",
       "    }\n",
       "\n",
       "    .dataframe thead th {\n",
       "        text-align: right;\n",
       "    }\n",
       "</style>\n",
       "<table border=\"1\" class=\"dataframe\">\n",
       "  <thead>\n",
       "    <tr style=\"text-align: right;\">\n",
       "      <th></th>\n",
       "      <th>count</th>\n",
       "    </tr>\n",
       "    <tr>\n",
       "      <th>service</th>\n",
       "      <th></th>\n",
       "    </tr>\n",
       "  </thead>\n",
       "  <tbody>\n",
       "    <tr>\n",
       "      <th>NailColor</th>\n",
       "      <td>19034</td>\n",
       "    </tr>\n",
       "    <tr>\n",
       "      <th>Rebond</th>\n",
       "      <td>18776</td>\n",
       "    </tr>\n",
       "    <tr>\n",
       "      <th>Pedicure</th>\n",
       "      <td>18688</td>\n",
       "    </tr>\n",
       "    <tr>\n",
       "      <th>FootSpa</th>\n",
       "      <td>18676</td>\n",
       "    </tr>\n",
       "    <tr>\n",
       "      <th>Manicure</th>\n",
       "      <td>18648</td>\n",
       "    </tr>\n",
       "    <tr>\n",
       "      <th>HairColor</th>\n",
       "      <td>18537</td>\n",
       "    </tr>\n",
       "    <tr>\n",
       "      <th>Haircut</th>\n",
       "      <td>18294</td>\n",
       "    </tr>\n",
       "  </tbody>\n",
       "</table>\n",
       "</div>"
      ],
      "text/plain": [
       "           count\n",
       "service         \n",
       "NailColor  19034\n",
       "Rebond     18776\n",
       "Pedicure   18688\n",
       "FootSpa    18676\n",
       "Manicure   18648\n",
       "HairColor  18537\n",
       "Haircut    18294"
      ]
     },
     "execution_count": 11,
     "metadata": {},
     "output_type": "execute_result"
    }
   ],
   "source": [
    "df_branch_service['service'].value_counts().to_frame()"
   ]
  },
  {
   "cell_type": "markdown",
   "metadata": {},
   "source": [
    "### Branch Names"
   ]
  },
  {
   "cell_type": "code",
   "execution_count": 12,
   "metadata": {},
   "outputs": [
    {
     "data": {
      "text/html": [
       "<div>\n",
       "<style scoped>\n",
       "    .dataframe tbody tr th:only-of-type {\n",
       "        vertical-align: middle;\n",
       "    }\n",
       "\n",
       "    .dataframe tbody tr th {\n",
       "        vertical-align: top;\n",
       "    }\n",
       "\n",
       "    .dataframe thead th {\n",
       "        text-align: right;\n",
       "    }\n",
       "</style>\n",
       "<table border=\"1\" class=\"dataframe\">\n",
       "  <thead>\n",
       "    <tr style=\"text-align: right;\">\n",
       "      <th></th>\n",
       "      <th>branch_name</th>\n",
       "    </tr>\n",
       "  </thead>\n",
       "  <tbody>\n",
       "    <tr>\n",
       "      <th>count</th>\n",
       "      <td>120345</td>\n",
       "    </tr>\n",
       "    <tr>\n",
       "      <th>unique</th>\n",
       "      <td>9</td>\n",
       "    </tr>\n",
       "    <tr>\n",
       "      <th>top</th>\n",
       "      <td>SmallMall</td>\n",
       "    </tr>\n",
       "    <tr>\n",
       "      <th>freq</th>\n",
       "      <td>16830</td>\n",
       "    </tr>\n",
       "  </tbody>\n",
       "</table>\n",
       "</div>"
      ],
      "text/plain": [
       "       branch_name\n",
       "count       120345\n",
       "unique           9\n",
       "top      SmallMall\n",
       "freq         16830"
      ]
     },
     "execution_count": 12,
     "metadata": {},
     "output_type": "execute_result"
    }
   ],
   "source": [
    "df_branch_service['branch_name'].describe().to_frame()"
   ]
  },
  {
   "cell_type": "code",
   "execution_count": 13,
   "metadata": {},
   "outputs": [
    {
     "data": {
      "text/html": [
       "<div>\n",
       "<style scoped>\n",
       "    .dataframe tbody tr th:only-of-type {\n",
       "        vertical-align: middle;\n",
       "    }\n",
       "\n",
       "    .dataframe tbody tr th {\n",
       "        vertical-align: top;\n",
       "    }\n",
       "\n",
       "    .dataframe thead th {\n",
       "        text-align: right;\n",
       "    }\n",
       "</style>\n",
       "<table border=\"1\" class=\"dataframe\">\n",
       "  <thead>\n",
       "    <tr style=\"text-align: right;\">\n",
       "      <th></th>\n",
       "      <th>count</th>\n",
       "    </tr>\n",
       "    <tr>\n",
       "      <th>branch_name</th>\n",
       "      <th></th>\n",
       "    </tr>\n",
       "  </thead>\n",
       "  <tbody>\n",
       "    <tr>\n",
       "      <th>SmallMall</th>\n",
       "      <td>16830</td>\n",
       "    </tr>\n",
       "    <tr>\n",
       "      <th>Megamall</th>\n",
       "      <td>16651</td>\n",
       "    </tr>\n",
       "    <tr>\n",
       "      <th>MallOfAsia</th>\n",
       "      <td>16641</td>\n",
       "    </tr>\n",
       "    <tr>\n",
       "      <th>MayMall</th>\n",
       "      <td>16572</td>\n",
       "    </tr>\n",
       "    <tr>\n",
       "      <th>FrankMall</th>\n",
       "      <td>16532</td>\n",
       "    </tr>\n",
       "    <tr>\n",
       "      <th>RobinsonsMall</th>\n",
       "      <td>16520</td>\n",
       "    </tr>\n",
       "    <tr>\n",
       "      <th>Starmall</th>\n",
       "      <td>16308</td>\n",
       "    </tr>\n",
       "    <tr>\n",
       "      <th>N/A</th>\n",
       "      <td>2159</td>\n",
       "    </tr>\n",
       "    <tr>\n",
       "      <th></th>\n",
       "      <td>2132</td>\n",
       "    </tr>\n",
       "  </tbody>\n",
       "</table>\n",
       "</div>"
      ],
      "text/plain": [
       "               count\n",
       "branch_name         \n",
       "SmallMall      16830\n",
       "Megamall       16651\n",
       "MallOfAsia     16641\n",
       "MayMall        16572\n",
       "FrankMall      16532\n",
       "RobinsonsMall  16520\n",
       "Starmall       16308\n",
       "N/A             2159\n",
       "                2132"
      ]
     },
     "execution_count": 13,
     "metadata": {},
     "output_type": "execute_result"
    }
   ],
   "source": [
    "df_branch_service['branch_name'].value_counts().to_frame()"
   ]
  },
  {
   "cell_type": "markdown",
   "metadata": {},
   "source": [
    "### Price"
   ]
  },
  {
   "cell_type": "code",
   "execution_count": 14,
   "metadata": {},
   "outputs": [
    {
     "data": {
      "text/plain": [
       "count    110653.000000\n",
       "mean         95.966969\n",
       "std         115.874117\n",
       "min           0.000000\n",
       "25%          30.123790\n",
       "50%          66.123457\n",
       "75%          88.093930\n",
       "max         400.231230\n",
       "Name: price, dtype: float64"
      ]
     },
     "execution_count": 14,
     "metadata": {},
     "output_type": "execute_result"
    }
   ],
   "source": [
    "df_branch_service['price'].describe()"
   ]
  },
  {
   "cell_type": "markdown",
   "metadata": {},
   "source": [
    "## List of all Prices per Service"
   ]
  },
  {
   "cell_type": "code",
   "execution_count": 15,
   "metadata": {},
   "outputs": [
    {
     "name": "stdout",
     "output_type": "stream",
     "text": [
      "service\n",
      "FootSpa        [nan, 0.0, 100.12123]\n",
      "HairColor       [nan, 0.0, 88.09393]\n",
      "Haircut      [nan, 0.0, 66.12345678]\n",
      "Manicure         [nan, 0.0, 55.2324]\n",
      "NailColor     [nan, 0.0, 30.1237897]\n",
      "Pedicure       [nan, 0.0, 77.987989]\n",
      "Rebond         [nan, 0.0, 400.23123]\n",
      "Name: price, dtype: object\n"
     ]
    }
   ],
   "source": [
    "print(df_branch_service.groupby('service')['price'].unique())"
   ]
  },
  {
   "cell_type": "markdown",
   "metadata": {},
   "source": [
    "## Count of Services Provided per Branch"
   ]
  },
  {
   "cell_type": "code",
   "execution_count": 16,
   "metadata": {},
   "outputs": [
    {
     "name": "stdout",
     "output_type": "stream",
     "text": [
      "branch_name\n",
      "                 1\n",
      "FrankMall        7\n",
      "MallOfAsia       7\n",
      "MayMall          7\n",
      "Megamall         7\n",
      "N/A              1\n",
      "RobinsonsMall    7\n",
      "SmallMall        7\n",
      "Starmall         7\n",
      "Name: service, dtype: int64\n"
     ]
    }
   ],
   "source": [
    "service_list = df_branch_service.groupby('branch_name')['service'].nunique()\n",
    "print(service_list)"
   ]
  },
  {
   "cell_type": "markdown",
   "metadata": {},
   "source": [
    "## Null Checking of Branch Name (for removal)"
   ]
  },
  {
   "cell_type": "code",
   "execution_count": 17,
   "metadata": {},
   "outputs": [
    {
     "name": "stdout",
     "output_type": "stream",
     "text": [
      "           txn_id branch_name    service       price\n",
      "21      TXN-43150                Haircut         NaN\n",
      "24      TXN-59988        None     Rebond         NaN\n",
      "50      TXN-25855         N/A  NailColor         NaN\n",
      "66      TXN-08569        None     Rebond         NaN\n",
      "75      TXN-03974        None     Rebond         NaN\n",
      "...           ...         ...        ...         ...\n",
      "130602  TXN-39344        None   Manicure   55.232400\n",
      "130607  TXN-60320        None     Rebond  400.231230\n",
      "130618  TXN-43035        None  HairColor   88.093930\n",
      "130625  TXN-37684                Haircut   66.123457\n",
      "130646  TXN-43876                Haircut   66.123457\n",
      "\n",
      "[14599 rows x 4 columns]\n"
     ]
    }
   ],
   "source": [
    "filtered_branch = df_branch_service[(df_branch_service['branch_name'] == 'N/A') | (df_branch_service['branch_name'] == '') \n",
    "| (df_branch_service['branch_name'].isna())]\n",
    "print(filtered_branch)"
   ]
  },
  {
   "cell_type": "markdown",
   "metadata": {},
   "source": [
    "## Null Checking for Price (for fixing. One-One for service and price)"
   ]
  },
  {
   "cell_type": "code",
   "execution_count": 18,
   "metadata": {},
   "outputs": [
    {
     "name": "stdout",
     "output_type": "stream",
     "text": [
      "          txn_id    branch_name    service  price\n",
      "20000  TXN-05451        MayMall  HairColor    0.0\n",
      "20001  TXN-05451       Starmall  HairColor    0.0\n",
      "20002  TXN-02255      FrankMall     Rebond    0.0\n",
      "20003  TXN-02255       Megamall     Rebond    0.0\n",
      "20004  TXN-02255        MayMall     Rebond    0.0\n",
      "...          ...            ...        ...    ...\n",
      "39995  TXN-45930       Starmall    Haircut    0.0\n",
      "39996  TXN-03162  RobinsonsMall   Pedicure    0.0\n",
      "39997  TXN-03162        MayMall   Pedicure    0.0\n",
      "39998  TXN-16572       Megamall   Pedicure    0.0\n",
      "39999  TXN-16572      SmallMall   Pedicure    0.0\n",
      "\n",
      "[20000 rows x 4 columns]\n"
     ]
    }
   ],
   "source": [
    "filtered_price = df_branch_service[(df_branch_service['price'] == 0)] \n",
    "print(filtered_price)"
   ]
  },
  {
   "cell_type": "code",
   "execution_count": 19,
   "metadata": {},
   "outputs": [
    {
     "name": "stdout",
     "output_type": "stream",
     "text": [
      "          txn_id branch_name    service  price\n",
      "0      TXN-24546  MallOfAsia   Manicure    NaN\n",
      "1      TXN-14642    Starmall  HairColor    NaN\n",
      "2      TXN-60295   SmallMall    FootSpa    NaN\n",
      "3      TXN-60295    Starmall    FootSpa    NaN\n",
      "4      TXN-60295     MayMall    FootSpa    NaN\n",
      "...          ...         ...        ...    ...\n",
      "19995  TXN-11721        None  HairColor    NaN\n",
      "19996  TXN-64348  MallOfAsia    Haircut    NaN\n",
      "19997  TXN-64348  MallOfAsia    Haircut    NaN\n",
      "19998  TXN-64348  MallOfAsia    Haircut    NaN\n",
      "19999  TXN-05451    Megamall  HairColor    NaN\n",
      "\n",
      "[20000 rows x 4 columns]\n"
     ]
    }
   ],
   "source": [
    "filtered_price = (df_branch_service[df_branch_service['price'].isna()])\n",
    "print(filtered_price)"
   ]
  },
  {
   "cell_type": "markdown",
   "metadata": {},
   "source": [
    "## Null Checking of Service (for removal)"
   ]
  },
  {
   "cell_type": "code",
   "execution_count": 20,
   "metadata": {},
   "outputs": [
    {
     "name": "stdout",
     "output_type": "stream",
     "text": [
      "Empty DataFrame\n",
      "Columns: [txn_id, branch_name, service, price]\n",
      "Index: []\n"
     ]
    }
   ],
   "source": [
    "filtered_branch = df_branch_service[(df_branch_service['service'] == 'N/A') | (df_branch_service['service'] == '') \n",
    "| (df_branch_service['service'].isna())]\n",
    "print(filtered_branch)"
   ]
  },
  {
   "cell_type": "markdown",
   "metadata": {},
   "source": [
    "# END OF PROFILING"
   ]
  },
  {
   "cell_type": "markdown",
   "metadata": {},
   "source": [
    "### REMOVE DUPLICATES\n"
   ]
  },
  {
   "cell_type": "code",
   "execution_count": 21,
   "metadata": {},
   "outputs": [
    {
     "name": "stdout",
     "output_type": "stream",
     "text": [
      "(130653, 4)\n",
      "(118276, 4)\n"
     ]
    }
   ],
   "source": [
    "print(df_branch_service.shape)\n",
    "df_branch_service = df_branch_service.drop_duplicates()\n",
    "print(df_branch_service.shape)\n",
    "\n"
   ]
  },
  {
   "cell_type": "markdown",
   "metadata": {},
   "source": [
    "### Remove Duplicate Transaction IDs"
   ]
  },
  {
   "cell_type": "code",
   "execution_count": 22,
   "metadata": {},
   "outputs": [
    {
     "name": "stdout",
     "output_type": "stream",
     "text": [
      "(62354, 4)\n",
      "txn_id         62354\n",
      "branch_name        9\n",
      "service            7\n",
      "price              8\n",
      "dtype: int64\n"
     ]
    }
   ],
   "source": [
    "df_branch_service.drop_duplicates(subset=['txn_id'], inplace=True)\n",
    "\n",
    "print(df_branch_service.shape)\n",
    "print(df_branch_service.nunique())"
   ]
  },
  {
   "cell_type": "code",
   "execution_count": 23,
   "metadata": {},
   "outputs": [],
   "source": [
    "df_branch_service.to_parquet('parquets/branch_service_duplicates_removed.parquet')"
   ]
  },
  {
   "cell_type": "markdown",
   "metadata": {},
   "source": [
    "### REMOVE NULL VALUES"
   ]
  },
  {
   "cell_type": "code",
   "execution_count": 24,
   "metadata": {},
   "outputs": [
    {
     "name": "stdout",
     "output_type": "stream",
     "text": [
      "Null Values Dropped Currently at: (53474, 4)\n"
     ]
    }
   ],
   "source": [
    "df_branch_service = df_branch_service.dropna(subset=['branch_name'])\n",
    "df_branch_service = df_branch_service.dropna(subset=['service'])\n",
    "print('Null Values Dropped Currently at:',df_branch_service.shape)\n"
   ]
  },
  {
   "cell_type": "markdown",
   "metadata": {},
   "source": [
    "### REMOVE / REPLACE MISSING VALUES"
   ]
  },
  {
   "cell_type": "code",
   "execution_count": 25,
   "metadata": {},
   "outputs": [
    {
     "name": "stdout",
     "output_type": "stream",
     "text": [
      "(49784, 4)\n"
     ]
    }
   ],
   "source": [
    "df_branch_service = df_branch_service.drop(df_branch_service[df_branch_service['branch_name'] == ''].index)\n",
    "df_branch_service = df_branch_service.drop(df_branch_service[df_branch_service['branch_name'] == 'N/A'].index)\n",
    "\n",
    "# conditions to fill in missing prices\n",
    "serviceArray = ['Manicure', 'HairColor', 'FootSpa', 'Rebond', 'Haircut', 'NailColor', 'Pedicure']\n",
    "priceArray = [55.23, 88.09, 100.12, 400.23, 66.12, 30.12, 77.99]\n",
    "\n",
    "for i in range(len(serviceArray)):\n",
    "    df_branch_service.loc[(df_branch_service['service'] == serviceArray[i]) & (df_branch_service['price'].isnull()), 'price'] = priceArray[i]\n",
    "\n",
    "\n",
    "print(df_branch_service.shape)\n",
    "df_branch_service.to_parquet('parquets/branch_service_nullbranch_removed.parquet')"
   ]
  },
  {
   "cell_type": "markdown",
   "metadata": {},
   "source": [
    "### Formatting Values"
   ]
  },
  {
   "cell_type": "markdown",
   "metadata": {},
   "source": [
    "### CHANGE VALUES TO CAMELCASE"
   ]
  },
  {
   "cell_type": "code",
   "execution_count": 26,
   "metadata": {},
   "outputs": [],
   "source": [
    "df_branch_service.loc[df_branch_service['branch_name'] == 'Starmall', 'branch_name'] = 'StarMall'\n",
    "df_branch_service.loc[df_branch_service['branch_name'] == 'Megamall', 'branch_name'] = 'MegaMall'"
   ]
  },
  {
   "cell_type": "markdown",
   "metadata": {},
   "source": [
    "### ROUND  PRICES TO 2 DECIMAL PLACES"
   ]
  },
  {
   "cell_type": "code",
   "execution_count": 27,
   "metadata": {},
   "outputs": [],
   "source": [
    "df_branch_service = df_branch_service.round({'price': 2})"
   ]
  },
  {
   "cell_type": "code",
   "execution_count": 29,
   "metadata": {},
   "outputs": [],
   "source": [
    "df_branch_service.to_parquet('parquets/branch_service_formatted_values.parquet')"
   ]
  },
  {
   "cell_type": "code",
   "execution_count": 30,
   "metadata": {},
   "outputs": [
    {
     "data": {
      "text/html": [
       "<div>\n",
       "<style scoped>\n",
       "    .dataframe tbody tr th:only-of-type {\n",
       "        vertical-align: middle;\n",
       "    }\n",
       "\n",
       "    .dataframe tbody tr th {\n",
       "        vertical-align: top;\n",
       "    }\n",
       "\n",
       "    .dataframe thead th {\n",
       "        text-align: right;\n",
       "    }\n",
       "</style>\n",
       "<table border=\"1\" class=\"dataframe\">\n",
       "  <thead>\n",
       "    <tr style=\"text-align: right;\">\n",
       "      <th></th>\n",
       "      <th>txn_id</th>\n",
       "      <th>branch_name</th>\n",
       "      <th>service</th>\n",
       "      <th>price</th>\n",
       "    </tr>\n",
       "  </thead>\n",
       "  <tbody>\n",
       "    <tr>\n",
       "      <th>105465</th>\n",
       "      <td>TXN-00000</td>\n",
       "      <td>MallOfAsia</td>\n",
       "      <td>HairColor</td>\n",
       "      <td>88.09</td>\n",
       "    </tr>\n",
       "    <tr>\n",
       "      <th>102747</th>\n",
       "      <td>TXN-00001</td>\n",
       "      <td>MegaMall</td>\n",
       "      <td>Haircut</td>\n",
       "      <td>66.12</td>\n",
       "    </tr>\n",
       "    <tr>\n",
       "      <th>83113</th>\n",
       "      <td>TXN-00005</td>\n",
       "      <td>RobinsonsMall</td>\n",
       "      <td>Haircut</td>\n",
       "      <td>66.12</td>\n",
       "    </tr>\n",
       "    <tr>\n",
       "      <th>88556</th>\n",
       "      <td>TXN-00006</td>\n",
       "      <td>FrankMall</td>\n",
       "      <td>Pedicure</td>\n",
       "      <td>77.99</td>\n",
       "    </tr>\n",
       "    <tr>\n",
       "      <th>50273</th>\n",
       "      <td>TXN-00007</td>\n",
       "      <td>SmallMall</td>\n",
       "      <td>HairColor</td>\n",
       "      <td>88.09</td>\n",
       "    </tr>\n",
       "    <tr>\n",
       "      <th>69179</th>\n",
       "      <td>TXN-00008</td>\n",
       "      <td>FrankMall</td>\n",
       "      <td>Manicure</td>\n",
       "      <td>55.23</td>\n",
       "    </tr>\n",
       "    <tr>\n",
       "      <th>99529</th>\n",
       "      <td>TXN-00009</td>\n",
       "      <td>RobinsonsMall</td>\n",
       "      <td>HairColor</td>\n",
       "      <td>88.09</td>\n",
       "    </tr>\n",
       "    <tr>\n",
       "      <th>42495</th>\n",
       "      <td>TXN-00010</td>\n",
       "      <td>StarMall</td>\n",
       "      <td>HairColor</td>\n",
       "      <td>88.09</td>\n",
       "    </tr>\n",
       "    <tr>\n",
       "      <th>71998</th>\n",
       "      <td>TXN-00012</td>\n",
       "      <td>StarMall</td>\n",
       "      <td>Rebond</td>\n",
       "      <td>400.23</td>\n",
       "    </tr>\n",
       "    <tr>\n",
       "      <th>82114</th>\n",
       "      <td>TXN-00013</td>\n",
       "      <td>SmallMall</td>\n",
       "      <td>Manicure</td>\n",
       "      <td>55.23</td>\n",
       "    </tr>\n",
       "    <tr>\n",
       "      <th>85824</th>\n",
       "      <td>TXN-00014</td>\n",
       "      <td>StarMall</td>\n",
       "      <td>Pedicure</td>\n",
       "      <td>77.99</td>\n",
       "    </tr>\n",
       "    <tr>\n",
       "      <th>71964</th>\n",
       "      <td>TXN-00016</td>\n",
       "      <td>FrankMall</td>\n",
       "      <td>Manicure</td>\n",
       "      <td>55.23</td>\n",
       "    </tr>\n",
       "    <tr>\n",
       "      <th>53987</th>\n",
       "      <td>TXN-00018</td>\n",
       "      <td>MallOfAsia</td>\n",
       "      <td>Haircut</td>\n",
       "      <td>66.12</td>\n",
       "    </tr>\n",
       "    <tr>\n",
       "      <th>57339</th>\n",
       "      <td>TXN-00019</td>\n",
       "      <td>SmallMall</td>\n",
       "      <td>FootSpa</td>\n",
       "      <td>100.12</td>\n",
       "    </tr>\n",
       "    <tr>\n",
       "      <th>52903</th>\n",
       "      <td>TXN-00020</td>\n",
       "      <td>SmallMall</td>\n",
       "      <td>FootSpa</td>\n",
       "      <td>100.12</td>\n",
       "    </tr>\n",
       "    <tr>\n",
       "      <th>42559</th>\n",
       "      <td>TXN-00022</td>\n",
       "      <td>SmallMall</td>\n",
       "      <td>Rebond</td>\n",
       "      <td>400.23</td>\n",
       "    </tr>\n",
       "    <tr>\n",
       "      <th>69743</th>\n",
       "      <td>TXN-00023</td>\n",
       "      <td>SmallMall</td>\n",
       "      <td>Rebond</td>\n",
       "      <td>400.23</td>\n",
       "    </tr>\n",
       "    <tr>\n",
       "      <th>39455</th>\n",
       "      <td>TXN-00024</td>\n",
       "      <td>RobinsonsMall</td>\n",
       "      <td>Rebond</td>\n",
       "      <td>0.00</td>\n",
       "    </tr>\n",
       "    <tr>\n",
       "      <th>93846</th>\n",
       "      <td>TXN-00025</td>\n",
       "      <td>MayMall</td>\n",
       "      <td>Manicure</td>\n",
       "      <td>55.23</td>\n",
       "    </tr>\n",
       "    <tr>\n",
       "      <th>74858</th>\n",
       "      <td>TXN-00026</td>\n",
       "      <td>SmallMall</td>\n",
       "      <td>HairColor</td>\n",
       "      <td>88.09</td>\n",
       "    </tr>\n",
       "    <tr>\n",
       "      <th>24125</th>\n",
       "      <td>TXN-00027</td>\n",
       "      <td>SmallMall</td>\n",
       "      <td>Manicure</td>\n",
       "      <td>0.00</td>\n",
       "    </tr>\n",
       "    <tr>\n",
       "      <th>5074</th>\n",
       "      <td>TXN-00028</td>\n",
       "      <td>SmallMall</td>\n",
       "      <td>FootSpa</td>\n",
       "      <td>100.12</td>\n",
       "    </tr>\n",
       "    <tr>\n",
       "      <th>40128</th>\n",
       "      <td>TXN-00029</td>\n",
       "      <td>RobinsonsMall</td>\n",
       "      <td>Haircut</td>\n",
       "      <td>66.12</td>\n",
       "    </tr>\n",
       "    <tr>\n",
       "      <th>56620</th>\n",
       "      <td>TXN-00030</td>\n",
       "      <td>RobinsonsMall</td>\n",
       "      <td>FootSpa</td>\n",
       "      <td>100.12</td>\n",
       "    </tr>\n",
       "    <tr>\n",
       "      <th>2416</th>\n",
       "      <td>TXN-00031</td>\n",
       "      <td>MegaMall</td>\n",
       "      <td>Rebond</td>\n",
       "      <td>400.23</td>\n",
       "    </tr>\n",
       "    <tr>\n",
       "      <th>105916</th>\n",
       "      <td>TXN-00033</td>\n",
       "      <td>SmallMall</td>\n",
       "      <td>HairColor</td>\n",
       "      <td>88.09</td>\n",
       "    </tr>\n",
       "    <tr>\n",
       "      <th>2456</th>\n",
       "      <td>TXN-00035</td>\n",
       "      <td>RobinsonsMall</td>\n",
       "      <td>NailColor</td>\n",
       "      <td>30.12</td>\n",
       "    </tr>\n",
       "    <tr>\n",
       "      <th>4301</th>\n",
       "      <td>TXN-00038</td>\n",
       "      <td>RobinsonsMall</td>\n",
       "      <td>HairColor</td>\n",
       "      <td>88.09</td>\n",
       "    </tr>\n",
       "    <tr>\n",
       "      <th>86234</th>\n",
       "      <td>TXN-00039</td>\n",
       "      <td>MayMall</td>\n",
       "      <td>Manicure</td>\n",
       "      <td>55.23</td>\n",
       "    </tr>\n",
       "    <tr>\n",
       "      <th>35248</th>\n",
       "      <td>TXN-00040</td>\n",
       "      <td>StarMall</td>\n",
       "      <td>Rebond</td>\n",
       "      <td>0.00</td>\n",
       "    </tr>\n",
       "  </tbody>\n",
       "</table>\n",
       "</div>"
      ],
      "text/plain": [
       "           txn_id    branch_name    service   price\n",
       "105465  TXN-00000     MallOfAsia  HairColor   88.09\n",
       "102747  TXN-00001       MegaMall    Haircut   66.12\n",
       "83113   TXN-00005  RobinsonsMall    Haircut   66.12\n",
       "88556   TXN-00006      FrankMall   Pedicure   77.99\n",
       "50273   TXN-00007      SmallMall  HairColor   88.09\n",
       "69179   TXN-00008      FrankMall   Manicure   55.23\n",
       "99529   TXN-00009  RobinsonsMall  HairColor   88.09\n",
       "42495   TXN-00010       StarMall  HairColor   88.09\n",
       "71998   TXN-00012       StarMall     Rebond  400.23\n",
       "82114   TXN-00013      SmallMall   Manicure   55.23\n",
       "85824   TXN-00014       StarMall   Pedicure   77.99\n",
       "71964   TXN-00016      FrankMall   Manicure   55.23\n",
       "53987   TXN-00018     MallOfAsia    Haircut   66.12\n",
       "57339   TXN-00019      SmallMall    FootSpa  100.12\n",
       "52903   TXN-00020      SmallMall    FootSpa  100.12\n",
       "42559   TXN-00022      SmallMall     Rebond  400.23\n",
       "69743   TXN-00023      SmallMall     Rebond  400.23\n",
       "39455   TXN-00024  RobinsonsMall     Rebond    0.00\n",
       "93846   TXN-00025        MayMall   Manicure   55.23\n",
       "74858   TXN-00026      SmallMall  HairColor   88.09\n",
       "24125   TXN-00027      SmallMall   Manicure    0.00\n",
       "5074    TXN-00028      SmallMall    FootSpa  100.12\n",
       "40128   TXN-00029  RobinsonsMall    Haircut   66.12\n",
       "56620   TXN-00030  RobinsonsMall    FootSpa  100.12\n",
       "2416    TXN-00031       MegaMall     Rebond  400.23\n",
       "105916  TXN-00033      SmallMall  HairColor   88.09\n",
       "2456    TXN-00035  RobinsonsMall  NailColor   30.12\n",
       "4301    TXN-00038  RobinsonsMall  HairColor   88.09\n",
       "86234   TXN-00039        MayMall   Manicure   55.23\n",
       "35248   TXN-00040       StarMall     Rebond    0.00"
      ]
     },
     "execution_count": 30,
     "metadata": {},
     "output_type": "execute_result"
    }
   ],
   "source": [
    "df_branch_service.sort_values(by=['txn_id'], inplace=True, ascending=True)     \n",
    "df_branch_service.head(30)"
   ]
  },
  {
   "cell_type": "markdown",
   "metadata": {},
   "source": [
    "## Export to SQLite DB"
   ]
  },
  {
   "cell_type": "code",
   "execution_count": 31,
   "metadata": {},
   "outputs": [
    {
     "name": "stdout",
     "output_type": "stream",
     "text": [
      "2023-11-24 15:48:09,597 INFO sqlalchemy.engine.Engine BEGIN (implicit)\n",
      "2023-11-24 15:48:09,602 INFO sqlalchemy.engine.Engine PRAGMA main.table_info(\"branch_services\")\n",
      "2023-11-24 15:48:09,603 INFO sqlalchemy.engine.Engine [raw sql] ()\n",
      "2023-11-24 15:48:09,605 INFO sqlalchemy.engine.Engine PRAGMA main.table_info(\"branch_services\")\n",
      "2023-11-24 15:48:09,606 INFO sqlalchemy.engine.Engine [raw sql] ()\n",
      "2023-11-24 15:48:09,608 INFO sqlalchemy.engine.Engine SELECT name FROM sqlite_master WHERE type='table' AND name NOT LIKE 'sqlite~_%' ESCAPE '~' ORDER BY name\n",
      "2023-11-24 15:48:09,608 INFO sqlalchemy.engine.Engine [raw sql] ()\n",
      "2023-11-24 15:48:09,611 INFO sqlalchemy.engine.Engine SELECT name FROM sqlite_master WHERE type='view' AND name NOT LIKE 'sqlite~_%' ESCAPE '~' ORDER BY name\n",
      "2023-11-24 15:48:09,613 INFO sqlalchemy.engine.Engine [raw sql] ()\n",
      "2023-11-24 15:48:09,618 INFO sqlalchemy.engine.Engine PRAGMA main.table_xinfo(\"branch_services\")\n",
      "2023-11-24 15:48:09,619 INFO sqlalchemy.engine.Engine [raw sql] ()\n",
      "2023-11-24 15:48:09,622 INFO sqlalchemy.engine.Engine SELECT sql FROM  (SELECT * FROM sqlite_master UNION ALL   SELECT * FROM sqlite_temp_master) WHERE name = ? AND type in ('table', 'view')\n",
      "2023-11-24 15:48:09,623 INFO sqlalchemy.engine.Engine [raw sql] ('branch_services',)\n",
      "2023-11-24 15:48:09,625 INFO sqlalchemy.engine.Engine PRAGMA main.foreign_key_list(\"branch_services\")\n",
      "2023-11-24 15:48:09,627 INFO sqlalchemy.engine.Engine [raw sql] ()\n",
      "2023-11-24 15:48:09,628 INFO sqlalchemy.engine.Engine PRAGMA temp.foreign_key_list(\"branch_services\")\n",
      "2023-11-24 15:48:09,628 INFO sqlalchemy.engine.Engine [raw sql] ()\n",
      "2023-11-24 15:48:09,629 INFO sqlalchemy.engine.Engine SELECT sql FROM  (SELECT * FROM sqlite_master UNION ALL   SELECT * FROM sqlite_temp_master) WHERE name = ? AND type in ('table', 'view')\n",
      "2023-11-24 15:48:09,630 INFO sqlalchemy.engine.Engine [raw sql] ('branch_services',)\n",
      "2023-11-24 15:48:09,633 INFO sqlalchemy.engine.Engine PRAGMA main.index_list(\"branch_services\")\n",
      "2023-11-24 15:48:09,635 INFO sqlalchemy.engine.Engine [raw sql] ()\n",
      "2023-11-24 15:48:09,636 INFO sqlalchemy.engine.Engine PRAGMA temp.index_list(\"branch_services\")\n",
      "2023-11-24 15:48:09,637 INFO sqlalchemy.engine.Engine [raw sql] ()\n",
      "2023-11-24 15:48:09,638 INFO sqlalchemy.engine.Engine PRAGMA main.table_info(\"branch_services\")\n",
      "2023-11-24 15:48:09,639 INFO sqlalchemy.engine.Engine [raw sql] ()\n",
      "2023-11-24 15:48:09,639 INFO sqlalchemy.engine.Engine PRAGMA main.index_list(\"branch_services\")\n",
      "2023-11-24 15:48:09,640 INFO sqlalchemy.engine.Engine [raw sql] ()\n",
      "2023-11-24 15:48:09,641 INFO sqlalchemy.engine.Engine PRAGMA temp.index_list(\"branch_services\")\n",
      "2023-11-24 15:48:09,642 INFO sqlalchemy.engine.Engine [raw sql] ()\n",
      "2023-11-24 15:48:09,643 INFO sqlalchemy.engine.Engine PRAGMA main.table_info(\"branch_services\")\n",
      "2023-11-24 15:48:09,643 INFO sqlalchemy.engine.Engine [raw sql] ()\n",
      "2023-11-24 15:48:09,645 INFO sqlalchemy.engine.Engine SELECT sql FROM  (SELECT * FROM sqlite_master UNION ALL   SELECT * FROM sqlite_temp_master) WHERE name = ? AND type in ('table', 'view')\n",
      "2023-11-24 15:48:09,646 INFO sqlalchemy.engine.Engine [raw sql] ('branch_services',)\n",
      "2023-11-24 15:48:09,649 INFO sqlalchemy.engine.Engine \n",
      "DROP TABLE branch_services\n",
      "2023-11-24 15:48:09,651 INFO sqlalchemy.engine.Engine [no key 0.00210s] ()\n",
      "2023-11-24 15:48:09,674 INFO sqlalchemy.engine.Engine \n",
      "CREATE TABLE branch_services (\n",
      "\ttxn_id VARCHAR(10), \n",
      "\tbranch_name VARCHAR(20), \n",
      "\tservice VARCHAR(20), \n",
      "\tprice VARCHAR(20)\n",
      ")\n",
      "\n",
      "\n",
      "2023-11-24 15:48:09,676 INFO sqlalchemy.engine.Engine [no key 0.00194s] ()\n",
      "2023-11-24 15:48:10,051 INFO sqlalchemy.engine.Engine INSERT INTO branch_services (txn_id, branch_name, service, price) VALUES (?, ?, ?, ?)\n",
      "2023-11-24 15:48:10,053 INFO sqlalchemy.engine.Engine [generated in 0.17894s] [('TXN-00000', 'MallOfAsia', 'HairColor', 88.09), ('TXN-00001', 'MegaMall', 'Haircut', 66.12), ('TXN-00005', 'RobinsonsMall', 'Haircut', 66.12), ('TXN-00006', 'FrankMall', 'Pedicure', 77.99), ('TXN-00007', 'SmallMall', 'HairColor', 88.09), ('TXN-00008', 'FrankMall', 'Manicure', 55.23), ('TXN-00009', 'RobinsonsMall', 'HairColor', 88.09), ('TXN-00010', 'StarMall', 'HairColor', 88.09)  ... displaying 10 of 49784 total bound parameter sets ...  ('TXN-65532', 'FrankMall', 'NailColor', 30.12), ('TXN-65535', 'StarMall', 'NailColor', 30.12)]\n",
      "2023-11-24 15:48:10,208 INFO sqlalchemy.engine.Engine COMMIT\n"
     ]
    },
    {
     "data": {
      "text/plain": [
       "49784"
      ]
     },
     "execution_count": 31,
     "metadata": {},
     "output_type": "execute_result"
    }
   ],
   "source": [
    "engine = create_engine('sqlite:///branch_services.db', echo=True)\n",
    "df_branch_service.to_sql('branch_services', con=engine, if_exists='replace', index=False,\n",
    "                               dtype={\n",
    "                                   \"txn_id\": VARCHAR(10),\n",
    "                                   \"branch_name\" : VARCHAR(20),\n",
    "                                   \"service\" : VARCHAR(20),\n",
    "                                   \"price\" : VARCHAR(20),\n",
    "                               })"
   ]
  },
  {
   "cell_type": "raw",
   "metadata": {},
   "source": []
  },
  {
   "cell_type": "code",
   "execution_count": null,
   "metadata": {},
   "outputs": [],
   "source": []
  }
 ],
 "metadata": {
  "kernelspec": {
   "display_name": "Python 3 (ipykernel)",
   "language": "python",
   "name": "python3"
  },
  "language_info": {
   "codemirror_mode": {
    "name": "ipython",
    "version": 3
   },
   "file_extension": ".py",
   "mimetype": "text/x-python",
   "name": "python",
   "nbconvert_exporter": "python",
   "pygments_lexer": "ipython3",
   "version": "3.12.0"
  }
 },
 "nbformat": 4,
 "nbformat_minor": 4
}
