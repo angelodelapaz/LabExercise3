{
 "cells": [
  {
   "cell_type": "markdown",
   "metadata": {},
   "source": [
    "IMPORTS"
   ]
  },
  {
   "cell_type": "code",
   "execution_count": 37,
   "metadata": {},
   "outputs": [],
   "source": [
    "import pandas as pd\n",
    "import numpy as np"
   ]
  },
  {
   "cell_type": "markdown",
   "metadata": {},
   "source": [
    "# <b>Importing Data <b>"
   ]
  },
  {
   "cell_type": "code",
   "execution_count": 38,
   "metadata": {},
   "outputs": [],
   "source": [
    "df_branch_service = pd.read_json(\"branch_service_transaction_info.json\")"
   ]
  },
  {
   "cell_type": "markdown",
   "metadata": {},
   "source": [
    "## DATA PROFILING"
   ]
  },
  {
   "cell_type": "markdown",
   "metadata": {},
   "source": [
    "<b>INITIAL SHAPE ANG UNIQUE ROWS<b>"
   ]
  },
  {
   "cell_type": "code",
   "execution_count": 39,
   "metadata": {},
   "outputs": [
    {
     "name": "stdout",
     "output_type": "stream",
     "text": [
      "(130653, 4)\n",
      "62354\n"
     ]
    }
   ],
   "source": [
    "print(df_branch_service.shape)\n",
    "print(df_branch_service['txn_id'].nunique())\n"
   ]
  },
  {
   "cell_type": "code",
   "execution_count": 40,
   "metadata": {},
   "outputs": [
    {
     "data": {
      "text/plain": [
       "count    110653.000000\n",
       "mean         95.966969\n",
       "std         115.874117\n",
       "min           0.000000\n",
       "25%          30.123790\n",
       "50%          66.123457\n",
       "75%          88.093930\n",
       "max         400.231230\n",
       "Name: price, dtype: float64"
      ]
     },
     "execution_count": 40,
     "metadata": {},
     "output_type": "execute_result"
    }
   ],
   "source": [
    "df_branch_service['price'].describe()"
   ]
  },
  {
   "cell_type": "code",
   "execution_count": 41,
   "metadata": {},
   "outputs": [
    {
     "name": "stdout",
     "output_type": "stream",
     "text": [
      "['MallOfAsia' 'Starmall' 'SmallMall' 'MayMall' 'FrankMall' 'Megamall'\n",
      " 'RobinsonsMall' '' None 'N/A']\n",
      "['Manicure' 'HairColor' 'FootSpa' 'Rebond' 'Haircut' 'NailColor'\n",
      " 'Pedicure']\n",
      "[         nan   0.          30.1237897   66.12345678  77.987989\n",
      " 100.12123    400.23123     55.2324      88.09393   ]\n"
     ]
    }
   ],
   "source": [
    "print(df_branch_service['branch_name'].unique())   \n",
    "print(df_branch_service['service'].unique()) \n",
    "print(df_branch_service['price'].unique()) \n",
    "  "
   ]
  },
  {
   "cell_type": "markdown",
   "metadata": {},
   "source": [
    "### REMOVE DUPLICATES\n"
   ]
  },
  {
   "cell_type": "code",
   "execution_count": 42,
   "metadata": {},
   "outputs": [
    {
     "name": "stdout",
     "output_type": "stream",
     "text": [
      "(130653, 4)\n",
      "(118276, 4)\n"
     ]
    }
   ],
   "source": [
    "print(df_branch_service.shape)\n",
    "df_branch_service = df_branch_service.drop_duplicates()\n",
    "print(df_branch_service.shape)\n",
    "\n"
   ]
  },
  {
   "cell_type": "markdown",
   "metadata": {},
   "source": [
    "REMOVE ALMOST EXACT DUPLICATES"
   ]
  },
  {
   "cell_type": "code",
   "execution_count": 43,
   "metadata": {},
   "outputs": [
    {
     "name": "stdout",
     "output_type": "stream",
     "text": [
      "(62355, 4)\n",
      "txn_id         62354\n",
      "branch_name        9\n",
      "service            7\n",
      "price              8\n",
      "dtype: int64\n"
     ]
    }
   ],
   "source": [
    "cols = df_branch_service.columns.tolist()\n",
    "cols.remove('txn_id')\n",
    "\n",
    "for col in cols:\n",
    "    observed_cols = df_branch_service.drop(col, axis=1).columns.tolist()\n",
    "    df_branch_service.drop_duplicates(observed_cols, keep='first', inplace=True)\n",
    "\n",
    "print(df_branch_service.shape)\n",
    "print(df_branch_service.nunique())"
   ]
  },
  {
   "cell_type": "code",
   "execution_count": 44,
   "metadata": {},
   "outputs": [],
   "source": [
    "df_branch_service.to_parquet('branch_service_duplicates_removed.parquet')"
   ]
  },
  {
   "cell_type": "markdown",
   "metadata": {},
   "source": [
    "REMOVE NULL VALUES"
   ]
  },
  {
   "cell_type": "code",
   "execution_count": 45,
   "metadata": {},
   "outputs": [
    {
     "name": "stdout",
     "output_type": "stream",
     "text": [
      "(53475, 4)\n"
     ]
    }
   ],
   "source": [
    "df_branch_service = df_branch_service.dropna(subset=['branch_name'])\n",
    "df_branch_service = df_branch_service.dropna(subset=['service'])\n",
    "#df_branch_service = df_branch_service.dropna(subset=['price'])\n",
    "print(df_branch_service.shape)\n",
    "\n"
   ]
  },
  {
   "cell_type": "markdown",
   "metadata": {},
   "source": [
    "REMOVE MISSING VALUES"
   ]
  },
  {
   "cell_type": "code",
   "execution_count": 46,
   "metadata": {},
   "outputs": [
    {
     "name": "stdout",
     "output_type": "stream",
     "text": [
      "(49785, 4)\n"
     ]
    }
   ],
   "source": [
    "##df_branch_service = df_branch_service.drop(df_branch_service[df_branch_service['price'] == 0].index)\n",
    "df_branch_service = df_branch_service.drop(df_branch_service[df_branch_service['branch_name'] == ''].index)\n",
    "df_branch_service = df_branch_service.drop(df_branch_service[df_branch_service['branch_name'] == 'N/A'].index)\n",
    "\n",
    "\n",
    "\n",
    "print(df_branch_service.shape)\n",
    "df_branch_service.to_parquet('branch_service_nullbranch_removed.parquet')"
   ]
  },
  {
   "cell_type": "markdown",
   "metadata": {},
   "source": [
    "### Formatting Values"
   ]
  },
  {
   "cell_type": "markdown",
   "metadata": {},
   "source": [
    "CHANGE VALUES TO CAMELCASE"
   ]
  },
  {
   "cell_type": "code",
   "execution_count": 47,
   "metadata": {},
   "outputs": [],
   "source": [
    "df_branch_service.loc[df_branch_service['branch_name'] == 'Starmall', 'branch_name'] = 'StarMall'\n",
    "df_branch_service.loc[df_branch_service['branch_name'] == 'Megamall', 'branch_name'] = 'MegaMall'"
   ]
  },
  {
   "cell_type": "markdown",
   "metadata": {},
   "source": [
    "ROUND  PRICES TO 2 DECIMAL PLACES"
   ]
  },
  {
   "cell_type": "code",
   "execution_count": 48,
   "metadata": {},
   "outputs": [],
   "source": [
    "df_branch_service = df_branch_service.round({'price': 2})"
   ]
  },
  {
   "cell_type": "code",
   "execution_count": 49,
   "metadata": {},
   "outputs": [],
   "source": [
    "df_branch_service.to_parquet('branch_service_formatted_values.parquet')"
   ]
  },
  {
   "cell_type": "markdown",
   "metadata": {},
   "source": [
    "SHAUN TEST\n"
   ]
  },
  {
   "cell_type": "code",
   "execution_count": 50,
   "metadata": {},
   "outputs": [],
   "source": [
    "# conditions to fill in missing prices\n",
    "cond1 = (df_branch_service['service'] == 'Manicure') & (df_branch_service['price'].isnull())\n",
    "cond2 = (df_branch_service['service'] == 'HairColor') & (df_branch_service['price'].isnull())\n",
    "cond3 = (df_branch_service['service'] == 'FootSpa') & (df_branch_service['price'].isnull())\n",
    "cond4 = (df_branch_service['service'] == 'Rebond') & (df_branch_service['price'].isnull())\n",
    "cond5 = (df_branch_service['service'] == 'Haircut') & (df_branch_service['price'].isnull())\n",
    "cond6 = (df_branch_service['service'] == 'NailColor') & (df_branch_service['price'].isnull())\n",
    "cond7 = (df_branch_service['service'] == 'Pedicure') & (df_branch_service['price'].isnull())\n",
    "df_branch_service.loc[cond1, 'price'] = df_branch_service.loc[cond1, 'price'].fillna(55.23)\n",
    "df_branch_service.loc[cond2, 'price'] = df_branch_service.loc[cond2, 'price'].fillna(88.09)\n",
    "df_branch_service.loc[cond3, 'price'] = df_branch_service.loc[cond3, 'price'].fillna(100.12)\n",
    "df_branch_service.loc[cond4, 'price'] = df_branch_service.loc[cond4, 'price'].fillna(400.23)\n",
    "df_branch_service.loc[cond5, 'price'] = df_branch_service.loc[cond5, 'price'].fillna(66.12)\n",
    "df_branch_service.loc[cond6, 'price'] = df_branch_service.loc[cond6, 'price'].fillna(30.12)\n",
    "df_branch_service.loc[cond7, 'price'] = df_branch_service.loc[cond7, 'price'].fillna(77.99)"
   ]
  },
  {
   "cell_type": "markdown",
   "metadata": {},
   "source": [
    "CHECKER"
   ]
  },
  {
   "cell_type": "code",
   "execution_count": 51,
   "metadata": {},
   "outputs": [
    {
     "data": {
      "text/html": [
       "<div>\n",
       "<style scoped>\n",
       "    .dataframe tbody tr th:only-of-type {\n",
       "        vertical-align: middle;\n",
       "    }\n",
       "\n",
       "    .dataframe tbody tr th {\n",
       "        vertical-align: top;\n",
       "    }\n",
       "\n",
       "    .dataframe thead th {\n",
       "        text-align: right;\n",
       "    }\n",
       "</style>\n",
       "<table border=\"1\" class=\"dataframe\">\n",
       "  <thead>\n",
       "    <tr style=\"text-align: right;\">\n",
       "      <th></th>\n",
       "      <th>txn_id</th>\n",
       "      <th>branch_name</th>\n",
       "      <th>service</th>\n",
       "      <th>price</th>\n",
       "    </tr>\n",
       "  </thead>\n",
       "  <tbody>\n",
       "    <tr>\n",
       "      <th>0</th>\n",
       "      <td>TXN-24546</td>\n",
       "      <td>MallOfAsia</td>\n",
       "      <td>Manicure</td>\n",
       "      <td>55.23</td>\n",
       "    </tr>\n",
       "    <tr>\n",
       "      <th>1</th>\n",
       "      <td>TXN-14642</td>\n",
       "      <td>StarMall</td>\n",
       "      <td>HairColor</td>\n",
       "      <td>88.09</td>\n",
       "    </tr>\n",
       "    <tr>\n",
       "      <th>2</th>\n",
       "      <td>TXN-60295</td>\n",
       "      <td>SmallMall</td>\n",
       "      <td>FootSpa</td>\n",
       "      <td>100.12</td>\n",
       "    </tr>\n",
       "    <tr>\n",
       "      <th>6</th>\n",
       "      <td>TXN-40462</td>\n",
       "      <td>StarMall</td>\n",
       "      <td>HairColor</td>\n",
       "      <td>88.09</td>\n",
       "    </tr>\n",
       "    <tr>\n",
       "      <th>8</th>\n",
       "      <td>TXN-08102</td>\n",
       "      <td>RobinsonsMall</td>\n",
       "      <td>HairColor</td>\n",
       "      <td>88.09</td>\n",
       "    </tr>\n",
       "    <tr>\n",
       "      <th>12</th>\n",
       "      <td>TXN-64262</td>\n",
       "      <td>SmallMall</td>\n",
       "      <td>Rebond</td>\n",
       "      <td>400.23</td>\n",
       "    </tr>\n",
       "    <tr>\n",
       "      <th>15</th>\n",
       "      <td>TXN-41934</td>\n",
       "      <td>RobinsonsMall</td>\n",
       "      <td>HairColor</td>\n",
       "      <td>88.09</td>\n",
       "    </tr>\n",
       "    <tr>\n",
       "      <th>19</th>\n",
       "      <td>TXN-39050</td>\n",
       "      <td>StarMall</td>\n",
       "      <td>Manicure</td>\n",
       "      <td>55.23</td>\n",
       "    </tr>\n",
       "    <tr>\n",
       "      <th>22</th>\n",
       "      <td>TXN-49423</td>\n",
       "      <td>RobinsonsMall</td>\n",
       "      <td>Rebond</td>\n",
       "      <td>400.23</td>\n",
       "    </tr>\n",
       "    <tr>\n",
       "      <th>25</th>\n",
       "      <td>TXN-08158</td>\n",
       "      <td>MayMall</td>\n",
       "      <td>NailColor</td>\n",
       "      <td>30.12</td>\n",
       "    </tr>\n",
       "    <tr>\n",
       "      <th>27</th>\n",
       "      <td>TXN-15331</td>\n",
       "      <td>FrankMall</td>\n",
       "      <td>NailColor</td>\n",
       "      <td>30.12</td>\n",
       "    </tr>\n",
       "    <tr>\n",
       "      <th>30</th>\n",
       "      <td>TXN-37609</td>\n",
       "      <td>MallOfAsia</td>\n",
       "      <td>FootSpa</td>\n",
       "      <td>100.12</td>\n",
       "    </tr>\n",
       "    <tr>\n",
       "      <th>31</th>\n",
       "      <td>TXN-31294</td>\n",
       "      <td>RobinsonsMall</td>\n",
       "      <td>Haircut</td>\n",
       "      <td>66.12</td>\n",
       "    </tr>\n",
       "    <tr>\n",
       "      <th>34</th>\n",
       "      <td>TXN-38413</td>\n",
       "      <td>FrankMall</td>\n",
       "      <td>Manicure</td>\n",
       "      <td>55.23</td>\n",
       "    </tr>\n",
       "    <tr>\n",
       "      <th>35</th>\n",
       "      <td>TXN-51225</td>\n",
       "      <td>SmallMall</td>\n",
       "      <td>NailColor</td>\n",
       "      <td>30.12</td>\n",
       "    </tr>\n",
       "    <tr>\n",
       "      <th>36</th>\n",
       "      <td>TXN-35244</td>\n",
       "      <td>SmallMall</td>\n",
       "      <td>Manicure</td>\n",
       "      <td>55.23</td>\n",
       "    </tr>\n",
       "    <tr>\n",
       "      <th>38</th>\n",
       "      <td>TXN-21732</td>\n",
       "      <td>RobinsonsMall</td>\n",
       "      <td>FootSpa</td>\n",
       "      <td>100.12</td>\n",
       "    </tr>\n",
       "    <tr>\n",
       "      <th>39</th>\n",
       "      <td>TXN-31732</td>\n",
       "      <td>RobinsonsMall</td>\n",
       "      <td>Manicure</td>\n",
       "      <td>55.23</td>\n",
       "    </tr>\n",
       "    <tr>\n",
       "      <th>41</th>\n",
       "      <td>TXN-38645</td>\n",
       "      <td>MallOfAsia</td>\n",
       "      <td>Rebond</td>\n",
       "      <td>400.23</td>\n",
       "    </tr>\n",
       "    <tr>\n",
       "      <th>46</th>\n",
       "      <td>TXN-34790</td>\n",
       "      <td>MallOfAsia</td>\n",
       "      <td>Haircut</td>\n",
       "      <td>66.12</td>\n",
       "    </tr>\n",
       "    <tr>\n",
       "      <th>47</th>\n",
       "      <td>TXN-30063</td>\n",
       "      <td>MallOfAsia</td>\n",
       "      <td>Manicure</td>\n",
       "      <td>55.23</td>\n",
       "    </tr>\n",
       "    <tr>\n",
       "      <th>51</th>\n",
       "      <td>TXN-49488</td>\n",
       "      <td>StarMall</td>\n",
       "      <td>Pedicure</td>\n",
       "      <td>77.99</td>\n",
       "    </tr>\n",
       "    <tr>\n",
       "      <th>52</th>\n",
       "      <td>TXN-40005</td>\n",
       "      <td>SmallMall</td>\n",
       "      <td>Manicure</td>\n",
       "      <td>55.23</td>\n",
       "    </tr>\n",
       "    <tr>\n",
       "      <th>53</th>\n",
       "      <td>TXN-49288</td>\n",
       "      <td>RobinsonsMall</td>\n",
       "      <td>Rebond</td>\n",
       "      <td>400.23</td>\n",
       "    </tr>\n",
       "    <tr>\n",
       "      <th>55</th>\n",
       "      <td>TXN-40643</td>\n",
       "      <td>MayMall</td>\n",
       "      <td>HairColor</td>\n",
       "      <td>88.09</td>\n",
       "    </tr>\n",
       "    <tr>\n",
       "      <th>57</th>\n",
       "      <td>TXN-13842</td>\n",
       "      <td>MallOfAsia</td>\n",
       "      <td>Pedicure</td>\n",
       "      <td>77.99</td>\n",
       "    </tr>\n",
       "    <tr>\n",
       "      <th>58</th>\n",
       "      <td>TXN-21223</td>\n",
       "      <td>StarMall</td>\n",
       "      <td>Rebond</td>\n",
       "      <td>400.23</td>\n",
       "    </tr>\n",
       "    <tr>\n",
       "      <th>61</th>\n",
       "      <td>TXN-09306</td>\n",
       "      <td>MallOfAsia</td>\n",
       "      <td>Manicure</td>\n",
       "      <td>55.23</td>\n",
       "    </tr>\n",
       "    <tr>\n",
       "      <th>63</th>\n",
       "      <td>TXN-61437</td>\n",
       "      <td>MallOfAsia</td>\n",
       "      <td>Manicure</td>\n",
       "      <td>55.23</td>\n",
       "    </tr>\n",
       "    <tr>\n",
       "      <th>67</th>\n",
       "      <td>TXN-03550</td>\n",
       "      <td>MayMall</td>\n",
       "      <td>Rebond</td>\n",
       "      <td>400.23</td>\n",
       "    </tr>\n",
       "  </tbody>\n",
       "</table>\n",
       "</div>"
      ],
      "text/plain": [
       "       txn_id    branch_name    service   price\n",
       "0   TXN-24546     MallOfAsia   Manicure   55.23\n",
       "1   TXN-14642       StarMall  HairColor   88.09\n",
       "2   TXN-60295      SmallMall    FootSpa  100.12\n",
       "6   TXN-40462       StarMall  HairColor   88.09\n",
       "8   TXN-08102  RobinsonsMall  HairColor   88.09\n",
       "12  TXN-64262      SmallMall     Rebond  400.23\n",
       "15  TXN-41934  RobinsonsMall  HairColor   88.09\n",
       "19  TXN-39050       StarMall   Manicure   55.23\n",
       "22  TXN-49423  RobinsonsMall     Rebond  400.23\n",
       "25  TXN-08158        MayMall  NailColor   30.12\n",
       "27  TXN-15331      FrankMall  NailColor   30.12\n",
       "30  TXN-37609     MallOfAsia    FootSpa  100.12\n",
       "31  TXN-31294  RobinsonsMall    Haircut   66.12\n",
       "34  TXN-38413      FrankMall   Manicure   55.23\n",
       "35  TXN-51225      SmallMall  NailColor   30.12\n",
       "36  TXN-35244      SmallMall   Manicure   55.23\n",
       "38  TXN-21732  RobinsonsMall    FootSpa  100.12\n",
       "39  TXN-31732  RobinsonsMall   Manicure   55.23\n",
       "41  TXN-38645     MallOfAsia     Rebond  400.23\n",
       "46  TXN-34790     MallOfAsia    Haircut   66.12\n",
       "47  TXN-30063     MallOfAsia   Manicure   55.23\n",
       "51  TXN-49488       StarMall   Pedicure   77.99\n",
       "52  TXN-40005      SmallMall   Manicure   55.23\n",
       "53  TXN-49288  RobinsonsMall     Rebond  400.23\n",
       "55  TXN-40643        MayMall  HairColor   88.09\n",
       "57  TXN-13842     MallOfAsia   Pedicure   77.99\n",
       "58  TXN-21223       StarMall     Rebond  400.23\n",
       "61  TXN-09306     MallOfAsia   Manicure   55.23\n",
       "63  TXN-61437     MallOfAsia   Manicure   55.23\n",
       "67  TXN-03550        MayMall     Rebond  400.23"
      ]
     },
     "execution_count": 51,
     "metadata": {},
     "output_type": "execute_result"
    }
   ],
   "source": [
    "##df_branch_service.sort_values(by=['txn_id'], inplace=True, ascending=False)     \n",
    "df_branch_service.head(30)"
   ]
  }
 ],
 "metadata": {
  "kernelspec": {
   "display_name": "Python 3",
   "language": "python",
   "name": "python3"
  },
  "language_info": {
   "codemirror_mode": {
    "name": "ipython",
    "version": 3
   },
   "file_extension": ".py",
   "mimetype": "text/x-python",
   "name": "python",
   "nbconvert_exporter": "python",
   "pygments_lexer": "ipython3",
   "version": "3.11.4"
  }
 },
 "nbformat": 4,
 "nbformat_minor": 2
}
