{
 "cells": [
  {
   "cell_type": "markdown",
   "metadata": {},
   "source": [
    "IMPORTS"
   ]
  },
  {
   "cell_type": "code",
   "execution_count": 166,
   "metadata": {},
   "outputs": [],
   "source": [
    "import pandas as pd\n",
    "import numpy as np"
   ]
  },
  {
   "cell_type": "markdown",
   "metadata": {},
   "source": [
    "# <b>Importing Data <b>"
   ]
  },
  {
   "cell_type": "code",
   "execution_count": 167,
   "metadata": {},
   "outputs": [],
   "source": [
    "df_branch_service = pd.read_json(\"branch_service_transaction_info.json\")"
   ]
  },
  {
   "cell_type": "markdown",
   "metadata": {},
   "source": [
    "## DATA PROFILING"
   ]
  },
  {
   "cell_type": "markdown",
   "metadata": {},
   "source": [
    "<b>INITIAL SHAPE ANG UNIQUE ROWS<b>"
   ]
  },
  {
   "cell_type": "code",
   "execution_count": 168,
   "metadata": {},
   "outputs": [
    {
     "name": "stdout",
     "output_type": "stream",
     "text": [
      "(130653, 4)\n",
      "62354\n"
     ]
    }
   ],
   "source": [
    "print(df_branch_service.shape)\n",
    "print(df_branch_service['txn_id'].nunique())\n"
   ]
  },
  {
   "cell_type": "code",
   "execution_count": 169,
   "metadata": {},
   "outputs": [
    {
     "data": {
      "text/plain": [
       "count    110653.000000\n",
       "mean         95.966969\n",
       "std         115.874117\n",
       "min           0.000000\n",
       "25%          30.123790\n",
       "50%          66.123457\n",
       "75%          88.093930\n",
       "max         400.231230\n",
       "Name: price, dtype: float64"
      ]
     },
     "execution_count": 169,
     "metadata": {},
     "output_type": "execute_result"
    }
   ],
   "source": [
    "df_branch_service['price'].describe()"
   ]
  },
  {
   "cell_type": "code",
   "execution_count": 170,
   "metadata": {},
   "outputs": [
    {
     "name": "stdout",
     "output_type": "stream",
     "text": [
      "['MallOfAsia' 'Starmall' 'SmallMall' 'MayMall' 'FrankMall' 'Megamall'\n",
      " 'RobinsonsMall' '' None 'N/A']\n",
      "['Manicure' 'HairColor' 'FootSpa' 'Rebond' 'Haircut' 'NailColor'\n",
      " 'Pedicure']\n",
      "[         nan   0.          30.1237897   66.12345678  77.987989\n",
      " 100.12123    400.23123     55.2324      88.09393   ]\n"
     ]
    }
   ],
   "source": [
    "print(df_branch_service['branch_name'].unique())   \n",
    "print(df_branch_service['service'].unique()) \n",
    "print(df_branch_service['price'].unique()) \n",
    "  "
   ]
  },
  {
   "cell_type": "markdown",
   "metadata": {},
   "source": [
    "### REMOVE DUPLICATES\n"
   ]
  },
  {
   "cell_type": "code",
   "execution_count": 171,
   "metadata": {},
   "outputs": [
    {
     "name": "stdout",
     "output_type": "stream",
     "text": [
      "(130653, 4)\n",
      "(118276, 4)\n"
     ]
    }
   ],
   "source": [
    "print(df_branch_service.shape)\n",
    "df_branch_service = df_branch_service.drop_duplicates()\n",
    "print(df_branch_service.shape)\n",
    "\n"
   ]
  },
  {
   "cell_type": "markdown",
   "metadata": {},
   "source": [
    "REMOVE ALMOST EXACT DUPLICATES"
   ]
  },
  {
   "cell_type": "code",
   "execution_count": 172,
   "metadata": {},
   "outputs": [
    {
     "name": "stdout",
     "output_type": "stream",
     "text": [
      "(62355, 4)\n",
      "txn_id         62354\n",
      "branch_name        9\n",
      "service            7\n",
      "price              8\n",
      "dtype: int64\n"
     ]
    }
   ],
   "source": [
    "cols = df_branch_service.columns.tolist()\n",
    "cols.remove('txn_id')\n",
    "\n",
    "for col in cols:\n",
    "    observed_cols = df_branch_service.drop(col, axis=1).columns.tolist()\n",
    "    df_branch_service.drop_duplicates(observed_cols, keep='first', inplace=True)\n",
    "\n",
    "print(df_branch_service.shape)\n",
    "print(df_branch_service.nunique())"
   ]
  },
  {
   "cell_type": "code",
   "execution_count": 173,
   "metadata": {},
   "outputs": [],
   "source": [
    "df_branch_service.to_parquet('branch_service_duplicates_removed.parquet')"
   ]
  },
  {
   "cell_type": "markdown",
   "metadata": {},
   "source": [
    "REMOVE NULL VALUES"
   ]
  },
  {
   "cell_type": "code",
   "execution_count": 174,
   "metadata": {},
   "outputs": [
    {
     "name": "stdout",
     "output_type": "stream",
     "text": [
      "(43985, 4)\n"
     ]
    }
   ],
   "source": [
    "df_branch_service = df_branch_service.dropna(subset=['branch_name'])\n",
    "df_branch_service = df_branch_service.dropna(subset=['service'])\n",
    "df_branch_service = df_branch_service.dropna(subset=['price'])\n",
    "print(df_branch_service.shape)\n",
    "\n"
   ]
  },
  {
   "cell_type": "markdown",
   "metadata": {},
   "source": [
    "REMOVE MISSING VALUES"
   ]
  },
  {
   "cell_type": "code",
   "execution_count": 175,
   "metadata": {},
   "outputs": [
    {
     "name": "stdout",
     "output_type": "stream",
     "text": [
      "(40962, 4)\n"
     ]
    }
   ],
   "source": [
    "##df_branch_service = df_branch_service.drop(df_branch_service[df_branch_service['price'] == 0].index)\n",
    "df_branch_service = df_branch_service.drop(df_branch_service[df_branch_service['branch_name'] == ''].index)\n",
    "df_branch_service = df_branch_service.drop(df_branch_service[df_branch_service['branch_name'] == 'N/A'].index)\n",
    "\n",
    "\n",
    "\n",
    "print(df_branch_service.shape)\n",
    "df_branch_service.to_parquet('branch_service_nullbranch_removed.parquet')"
   ]
  },
  {
   "cell_type": "markdown",
   "metadata": {},
   "source": [
    "### Formatting Values"
   ]
  },
  {
   "cell_type": "markdown",
   "metadata": {},
   "source": [
    "CHANGE VALUES TO CAMELCASE"
   ]
  },
  {
   "cell_type": "code",
   "execution_count": 176,
   "metadata": {},
   "outputs": [],
   "source": [
    "df_branch_service.loc[df_branch_service['branch_name'] == 'Starmall', 'branch_name'] = 'StarMall'\n",
    "df_branch_service.loc[df_branch_service['branch_name'] == 'Megamall', 'branch_name'] = 'MegaMall'"
   ]
  },
  {
   "cell_type": "markdown",
   "metadata": {},
   "source": [
    "ROUND  PRICES TO 2 DECIMAL PLACES"
   ]
  },
  {
   "cell_type": "code",
   "execution_count": 177,
   "metadata": {},
   "outputs": [],
   "source": [
    "df_branch_service = df_branch_service.round({'price': 2})"
   ]
  },
  {
   "cell_type": "code",
   "execution_count": 178,
   "metadata": {},
   "outputs": [],
   "source": [
    "df_branch_service.to_parquet('branch_service_formatted_values.parquet')"
   ]
  },
  {
   "cell_type": "markdown",
   "metadata": {},
   "source": [
    "CHECKER"
   ]
  },
  {
   "cell_type": "code",
   "execution_count": 179,
   "metadata": {},
   "outputs": [
    {
     "data": {
      "text/html": [
       "<div>\n",
       "<style scoped>\n",
       "    .dataframe tbody tr th:only-of-type {\n",
       "        vertical-align: middle;\n",
       "    }\n",
       "\n",
       "    .dataframe tbody tr th {\n",
       "        vertical-align: top;\n",
       "    }\n",
       "\n",
       "    .dataframe thead th {\n",
       "        text-align: right;\n",
       "    }\n",
       "</style>\n",
       "<table border=\"1\" class=\"dataframe\">\n",
       "  <thead>\n",
       "    <tr style=\"text-align: right;\">\n",
       "      <th></th>\n",
       "      <th>txn_id</th>\n",
       "      <th>branch_name</th>\n",
       "      <th>service</th>\n",
       "      <th>price</th>\n",
       "    </tr>\n",
       "  </thead>\n",
       "  <tbody>\n",
       "    <tr>\n",
       "      <th>20000</th>\n",
       "      <td>TXN-05451</td>\n",
       "      <td>MayMall</td>\n",
       "      <td>HairColor</td>\n",
       "      <td>0.0</td>\n",
       "    </tr>\n",
       "    <tr>\n",
       "      <th>20002</th>\n",
       "      <td>TXN-02255</td>\n",
       "      <td>FrankMall</td>\n",
       "      <td>Rebond</td>\n",
       "      <td>0.0</td>\n",
       "    </tr>\n",
       "    <tr>\n",
       "      <th>20006</th>\n",
       "      <td>TXN-59105</td>\n",
       "      <td>FrankMall</td>\n",
       "      <td>FootSpa</td>\n",
       "      <td>0.0</td>\n",
       "    </tr>\n",
       "    <tr>\n",
       "      <th>20008</th>\n",
       "      <td>TXN-57176</td>\n",
       "      <td>MallOfAsia</td>\n",
       "      <td>Rebond</td>\n",
       "      <td>0.0</td>\n",
       "    </tr>\n",
       "    <tr>\n",
       "      <th>20011</th>\n",
       "      <td>TXN-13049</td>\n",
       "      <td>SmallMall</td>\n",
       "      <td>Pedicure</td>\n",
       "      <td>0.0</td>\n",
       "    </tr>\n",
       "    <tr>\n",
       "      <th>20013</th>\n",
       "      <td>TXN-54729</td>\n",
       "      <td>MallOfAsia</td>\n",
       "      <td>Rebond</td>\n",
       "      <td>0.0</td>\n",
       "    </tr>\n",
       "    <tr>\n",
       "      <th>20015</th>\n",
       "      <td>TXN-53352</td>\n",
       "      <td>StarMall</td>\n",
       "      <td>Rebond</td>\n",
       "      <td>0.0</td>\n",
       "    </tr>\n",
       "    <tr>\n",
       "      <th>20017</th>\n",
       "      <td>TXN-38984</td>\n",
       "      <td>FrankMall</td>\n",
       "      <td>NailColor</td>\n",
       "      <td>0.0</td>\n",
       "    </tr>\n",
       "    <tr>\n",
       "      <th>20020</th>\n",
       "      <td>TXN-13722</td>\n",
       "      <td>MayMall</td>\n",
       "      <td>Manicure</td>\n",
       "      <td>0.0</td>\n",
       "    </tr>\n",
       "    <tr>\n",
       "      <th>20022</th>\n",
       "      <td>TXN-59402</td>\n",
       "      <td>MegaMall</td>\n",
       "      <td>Rebond</td>\n",
       "      <td>0.0</td>\n",
       "    </tr>\n",
       "    <tr>\n",
       "      <th>20024</th>\n",
       "      <td>TXN-01461</td>\n",
       "      <td>FrankMall</td>\n",
       "      <td>Manicure</td>\n",
       "      <td>0.0</td>\n",
       "    </tr>\n",
       "    <tr>\n",
       "      <th>20029</th>\n",
       "      <td>TXN-24832</td>\n",
       "      <td>MegaMall</td>\n",
       "      <td>Haircut</td>\n",
       "      <td>0.0</td>\n",
       "    </tr>\n",
       "    <tr>\n",
       "      <th>20030</th>\n",
       "      <td>TXN-51051</td>\n",
       "      <td>MegaMall</td>\n",
       "      <td>HairColor</td>\n",
       "      <td>0.0</td>\n",
       "    </tr>\n",
       "    <tr>\n",
       "      <th>20032</th>\n",
       "      <td>TXN-64178</td>\n",
       "      <td>MegaMall</td>\n",
       "      <td>HairColor</td>\n",
       "      <td>0.0</td>\n",
       "    </tr>\n",
       "    <tr>\n",
       "      <th>20033</th>\n",
       "      <td>TXN-15444</td>\n",
       "      <td>RobinsonsMall</td>\n",
       "      <td>Pedicure</td>\n",
       "      <td>0.0</td>\n",
       "    </tr>\n",
       "    <tr>\n",
       "      <th>20037</th>\n",
       "      <td>TXN-57154</td>\n",
       "      <td>StarMall</td>\n",
       "      <td>HairColor</td>\n",
       "      <td>0.0</td>\n",
       "    </tr>\n",
       "    <tr>\n",
       "      <th>20038</th>\n",
       "      <td>TXN-03316</td>\n",
       "      <td>MegaMall</td>\n",
       "      <td>Manicure</td>\n",
       "      <td>0.0</td>\n",
       "    </tr>\n",
       "    <tr>\n",
       "      <th>20039</th>\n",
       "      <td>TXN-47030</td>\n",
       "      <td>RobinsonsMall</td>\n",
       "      <td>FootSpa</td>\n",
       "      <td>0.0</td>\n",
       "    </tr>\n",
       "    <tr>\n",
       "      <th>20041</th>\n",
       "      <td>TXN-43892</td>\n",
       "      <td>StarMall</td>\n",
       "      <td>HairColor</td>\n",
       "      <td>0.0</td>\n",
       "    </tr>\n",
       "    <tr>\n",
       "      <th>20045</th>\n",
       "      <td>TXN-64043</td>\n",
       "      <td>MegaMall</td>\n",
       "      <td>Haircut</td>\n",
       "      <td>0.0</td>\n",
       "    </tr>\n",
       "    <tr>\n",
       "      <th>20047</th>\n",
       "      <td>TXN-09082</td>\n",
       "      <td>SmallMall</td>\n",
       "      <td>Rebond</td>\n",
       "      <td>0.0</td>\n",
       "    </tr>\n",
       "    <tr>\n",
       "      <th>20049</th>\n",
       "      <td>TXN-23106</td>\n",
       "      <td>RobinsonsMall</td>\n",
       "      <td>NailColor</td>\n",
       "      <td>0.0</td>\n",
       "    </tr>\n",
       "    <tr>\n",
       "      <th>20052</th>\n",
       "      <td>TXN-28378</td>\n",
       "      <td>SmallMall</td>\n",
       "      <td>HairColor</td>\n",
       "      <td>0.0</td>\n",
       "    </tr>\n",
       "    <tr>\n",
       "      <th>20054</th>\n",
       "      <td>TXN-45177</td>\n",
       "      <td>MallOfAsia</td>\n",
       "      <td>Pedicure</td>\n",
       "      <td>0.0</td>\n",
       "    </tr>\n",
       "    <tr>\n",
       "      <th>20056</th>\n",
       "      <td>TXN-04870</td>\n",
       "      <td>MegaMall</td>\n",
       "      <td>HairColor</td>\n",
       "      <td>0.0</td>\n",
       "    </tr>\n",
       "    <tr>\n",
       "      <th>20059</th>\n",
       "      <td>TXN-59974</td>\n",
       "      <td>FrankMall</td>\n",
       "      <td>Pedicure</td>\n",
       "      <td>0.0</td>\n",
       "    </tr>\n",
       "    <tr>\n",
       "      <th>20061</th>\n",
       "      <td>TXN-06234</td>\n",
       "      <td>FrankMall</td>\n",
       "      <td>NailColor</td>\n",
       "      <td>0.0</td>\n",
       "    </tr>\n",
       "    <tr>\n",
       "      <th>20063</th>\n",
       "      <td>TXN-58907</td>\n",
       "      <td>MayMall</td>\n",
       "      <td>FootSpa</td>\n",
       "      <td>0.0</td>\n",
       "    </tr>\n",
       "    <tr>\n",
       "      <th>20064</th>\n",
       "      <td>TXN-33533</td>\n",
       "      <td>SmallMall</td>\n",
       "      <td>Haircut</td>\n",
       "      <td>0.0</td>\n",
       "    </tr>\n",
       "    <tr>\n",
       "      <th>20065</th>\n",
       "      <td>TXN-08954</td>\n",
       "      <td>MayMall</td>\n",
       "      <td>Haircut</td>\n",
       "      <td>0.0</td>\n",
       "    </tr>\n",
       "  </tbody>\n",
       "</table>\n",
       "</div>"
      ],
      "text/plain": [
       "          txn_id    branch_name    service  price\n",
       "20000  TXN-05451        MayMall  HairColor    0.0\n",
       "20002  TXN-02255      FrankMall     Rebond    0.0\n",
       "20006  TXN-59105      FrankMall    FootSpa    0.0\n",
       "20008  TXN-57176     MallOfAsia     Rebond    0.0\n",
       "20011  TXN-13049      SmallMall   Pedicure    0.0\n",
       "20013  TXN-54729     MallOfAsia     Rebond    0.0\n",
       "20015  TXN-53352       StarMall     Rebond    0.0\n",
       "20017  TXN-38984      FrankMall  NailColor    0.0\n",
       "20020  TXN-13722        MayMall   Manicure    0.0\n",
       "20022  TXN-59402       MegaMall     Rebond    0.0\n",
       "20024  TXN-01461      FrankMall   Manicure    0.0\n",
       "20029  TXN-24832       MegaMall    Haircut    0.0\n",
       "20030  TXN-51051       MegaMall  HairColor    0.0\n",
       "20032  TXN-64178       MegaMall  HairColor    0.0\n",
       "20033  TXN-15444  RobinsonsMall   Pedicure    0.0\n",
       "20037  TXN-57154       StarMall  HairColor    0.0\n",
       "20038  TXN-03316       MegaMall   Manicure    0.0\n",
       "20039  TXN-47030  RobinsonsMall    FootSpa    0.0\n",
       "20041  TXN-43892       StarMall  HairColor    0.0\n",
       "20045  TXN-64043       MegaMall    Haircut    0.0\n",
       "20047  TXN-09082      SmallMall     Rebond    0.0\n",
       "20049  TXN-23106  RobinsonsMall  NailColor    0.0\n",
       "20052  TXN-28378      SmallMall  HairColor    0.0\n",
       "20054  TXN-45177     MallOfAsia   Pedicure    0.0\n",
       "20056  TXN-04870       MegaMall  HairColor    0.0\n",
       "20059  TXN-59974      FrankMall   Pedicure    0.0\n",
       "20061  TXN-06234      FrankMall  NailColor    0.0\n",
       "20063  TXN-58907        MayMall    FootSpa    0.0\n",
       "20064  TXN-33533      SmallMall    Haircut    0.0\n",
       "20065  TXN-08954        MayMall    Haircut    0.0"
      ]
     },
     "execution_count": 179,
     "metadata": {},
     "output_type": "execute_result"
    }
   ],
   "source": [
    "##df_branch_service.sort_values(by=['txn_id'], inplace=True, ascending=False)     \n",
    "df_branch_service.head(30)"
   ]
  }
 ],
 "metadata": {
  "kernelspec": {
   "display_name": "Python 3",
   "language": "python",
   "name": "python3"
  },
  "language_info": {
   "codemirror_mode": {
    "name": "ipython",
    "version": 3
   },
   "file_extension": ".py",
   "mimetype": "text/x-python",
   "name": "python",
   "nbconvert_exporter": "python",
   "pygments_lexer": "ipython3",
   "version": "3.11.4"
  }
 },
 "nbformat": 4,
 "nbformat_minor": 2
}
