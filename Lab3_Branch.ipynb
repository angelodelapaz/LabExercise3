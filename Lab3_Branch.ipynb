{
 "cells": [
  {
   "cell_type": "markdown",
   "metadata": {},
   "source": [
    "IMPORTS"
   ]
  },
  {
   "cell_type": "code",
   "execution_count": 2,
   "metadata": {},
   "outputs": [],
   "source": [
    "import pandas as pd\n",
    "import numpy as np"
   ]
  },
  {
   "cell_type": "markdown",
   "metadata": {},
   "source": [
    "# <b>Importing Data <b>"
   ]
  },
  {
   "cell_type": "code",
   "execution_count": 3,
   "metadata": {},
   "outputs": [],
   "source": [
    "df_branch_service = pd.read_json(\"branch_service_transaction_info.json\")"
   ]
  },
  {
   "cell_type": "markdown",
   "metadata": {},
   "source": [
    "## DATA PROFILING"
   ]
  },
  {
   "cell_type": "markdown",
   "metadata": {},
   "source": [
    "<b>INITIAL SHAPE ANG UNIQUE ROWS<b>"
   ]
  },
  {
   "cell_type": "code",
   "execution_count": 4,
   "metadata": {},
   "outputs": [
    {
     "name": "stdout",
     "output_type": "stream",
     "text": [
      "(130653, 4)\n",
      "62354\n"
     ]
    }
   ],
   "source": [
    "print(df_branch_service.shape)\n",
    "print(df_branch_service['txn_id'].nunique())\n"
   ]
  },
  {
   "cell_type": "code",
   "execution_count": 5,
   "metadata": {},
   "outputs": [
    {
     "data": {
      "text/plain": [
       "count    110653.000000\n",
       "mean         95.966969\n",
       "std         115.874117\n",
       "min           0.000000\n",
       "25%          30.123790\n",
       "50%          66.123457\n",
       "75%          88.093930\n",
       "max         400.231230\n",
       "Name: price, dtype: float64"
      ]
     },
     "execution_count": 5,
     "metadata": {},
     "output_type": "execute_result"
    }
   ],
   "source": [
    "df_branch_service['price'].describe()"
   ]
  },
  {
   "cell_type": "code",
   "execution_count": 6,
   "metadata": {},
   "outputs": [
    {
     "name": "stdout",
     "output_type": "stream",
     "text": [
      "['MallOfAsia' 'Starmall' 'SmallMall' 'MayMall' 'FrankMall' 'Megamall'\n",
      " 'RobinsonsMall' '' None 'N/A']\n",
      "['Manicure' 'HairColor' 'FootSpa' 'Rebond' 'Haircut' 'NailColor'\n",
      " 'Pedicure']\n",
      "[         nan   0.          30.1237897   66.12345678  77.987989\n",
      " 100.12123    400.23123     55.2324      88.09393   ]\n"
     ]
    }
   ],
   "source": [
    "print(df_branch_service['branch_name'].unique())   \n",
    "print(df_branch_service['service'].unique()) \n",
    "print(df_branch_service['price'].unique()) \n",
    "  "
   ]
  },
  {
   "cell_type": "markdown",
   "metadata": {},
   "source": [
    "# END OF PROFILING"
   ]
  },
  {
   "cell_type": "markdown",
   "metadata": {},
   "source": [
    "### REMOVE DUPLICATES\n"
   ]
  },
  {
   "cell_type": "code",
   "execution_count": 7,
   "metadata": {},
   "outputs": [
    {
     "name": "stdout",
     "output_type": "stream",
     "text": [
      "(130653, 4)\n",
      "(118276, 4)\n"
     ]
    }
   ],
   "source": [
    "print(df_branch_service.shape)\n",
    "df_branch_service = df_branch_service.drop_duplicates()\n",
    "print(df_branch_service.shape)\n",
    "\n"
   ]
  },
  {
   "cell_type": "markdown",
   "metadata": {},
   "source": [
    "REMOVE ALMOST EXACT DUPLICATES"
   ]
  },
  {
   "cell_type": "code",
   "execution_count": 8,
   "metadata": {},
   "outputs": [
    {
     "name": "stdout",
     "output_type": "stream",
     "text": [
      "(62355, 4)\n",
      "txn_id         62354\n",
      "branch_name        9\n",
      "service            7\n",
      "price              8\n",
      "dtype: int64\n"
     ]
    }
   ],
   "source": [
    "cols = df_branch_service.columns.tolist()\n",
    "cols.remove('txn_id')\n",
    "\n",
    "for col in cols:\n",
    "    observed_cols = df_branch_service.drop(col, axis=1).columns.tolist()\n",
    "    df_branch_service.drop_duplicates(observed_cols, keep='first', inplace=True)\n",
    "\n",
    "print(df_branch_service.shape)\n",
    "print(df_branch_service.nunique())"
   ]
  },
  {
   "cell_type": "code",
   "execution_count": 9,
   "metadata": {},
   "outputs": [],
   "source": [
    "df_branch_service.to_parquet('branch_service_duplicates_removed.parquet')"
   ]
  },
  {
   "cell_type": "markdown",
   "metadata": {},
   "source": [
    "REMOVE NULL VALUES"
   ]
  },
  {
   "cell_type": "code",
   "execution_count": 10,
   "metadata": {},
   "outputs": [
    {
     "name": "stdout",
     "output_type": "stream",
     "text": [
      "Null Values Dropped Currently at: (53475, 4)\n"
     ]
    }
   ],
   "source": [
    "df_branch_service = df_branch_service.dropna(subset=['branch_name'])\n",
    "df_branch_service = df_branch_service.dropna(subset=['service'])\n",
    "print('Null Values Dropped Currently at:',df_branch_service.shape)\n"
   ]
  },
  {
   "cell_type": "markdown",
   "metadata": {},
   "source": [
    "REMOVE / REPLACE MISSING VALUES"
   ]
  },
  {
   "cell_type": "code",
   "execution_count": 11,
   "metadata": {},
   "outputs": [
    {
     "name": "stdout",
     "output_type": "stream",
     "text": [
      "(49785, 4)\n"
     ]
    }
   ],
   "source": [
    "df_branch_service = df_branch_service.drop(df_branch_service[df_branch_service['branch_name'] == ''].index)\n",
    "df_branch_service = df_branch_service.drop(df_branch_service[df_branch_service['branch_name'] == 'N/A'].index)\n",
    "\n",
    "# conditions to fill in missing prices\n",
    "serviceArray = ['Manicure', 'HairColor', 'FootSpa', 'Rebond', 'Haircut', 'NailColor', 'Pedicure']\n",
    "priceArray = [55.23, 88.09, 100.12, 400.23, 66.12, 30.12, 77.99]\n",
    "\n",
    "for i in range(len(serviceArray)):\n",
    "    df_branch_service.loc[(df_branch_service['service'] == serviceArray[i]) & (df_branch_service['price'].isnull()), 'price'] = priceArray[i]\n",
    "\n",
    "\n",
    "print(df_branch_service.shape)\n",
    "df_branch_service.to_parquet('branch_service_nullbranch_removed.parquet')"
   ]
  },
  {
   "cell_type": "markdown",
   "metadata": {},
   "source": [
    "### Formatting Values"
   ]
  },
  {
   "cell_type": "markdown",
   "metadata": {},
   "source": [
    "CHANGE VALUES TO CAMELCASE"
   ]
  },
  {
   "cell_type": "code",
   "execution_count": 12,
   "metadata": {},
   "outputs": [],
   "source": [
    "df_branch_service.loc[df_branch_service['branch_name'] == 'Starmall', 'branch_name'] = 'StarMall'\n",
    "df_branch_service.loc[df_branch_service['branch_name'] == 'Megamall', 'branch_name'] = 'MegaMall'"
   ]
  },
  {
   "cell_type": "markdown",
   "metadata": {},
   "source": [
    "ROUND  PRICES TO 2 DECIMAL PLACES"
   ]
  },
  {
   "cell_type": "code",
   "execution_count": 13,
   "metadata": {},
   "outputs": [],
   "source": [
    "df_branch_service = df_branch_service.round({'price': 2})"
   ]
  },
  {
   "cell_type": "code",
   "execution_count": 14,
   "metadata": {},
   "outputs": [],
   "source": [
    "df_branch_service.to_parquet('branch_service_formatted_values.parquet')"
   ]
  },
  {
   "cell_type": "markdown",
   "metadata": {},
   "source": [
    "SHAUN TEST\n"
   ]
  },
  {
   "cell_type": "markdown",
   "metadata": {},
   "source": [
    "CHECKER"
   ]
  },
  {
   "cell_type": "code",
   "execution_count": 15,
   "metadata": {},
   "outputs": [
    {
     "data": {
      "text/html": [
       "<div>\n",
       "<style scoped>\n",
       "    .dataframe tbody tr th:only-of-type {\n",
       "        vertical-align: middle;\n",
       "    }\n",
       "\n",
       "    .dataframe tbody tr th {\n",
       "        vertical-align: top;\n",
       "    }\n",
       "\n",
       "    .dataframe thead th {\n",
       "        text-align: right;\n",
       "    }\n",
       "</style>\n",
       "<table border=\"1\" class=\"dataframe\">\n",
       "  <thead>\n",
       "    <tr style=\"text-align: right;\">\n",
       "      <th></th>\n",
       "      <th>txn_id</th>\n",
       "      <th>branch_name</th>\n",
       "      <th>service</th>\n",
       "      <th>price</th>\n",
       "    </tr>\n",
       "  </thead>\n",
       "  <tbody>\n",
       "    <tr>\n",
       "      <th>105465</th>\n",
       "      <td>TXN-00000</td>\n",
       "      <td>MallOfAsia</td>\n",
       "      <td>HairColor</td>\n",
       "      <td>88.09</td>\n",
       "    </tr>\n",
       "    <tr>\n",
       "      <th>102747</th>\n",
       "      <td>TXN-00001</td>\n",
       "      <td>MegaMall</td>\n",
       "      <td>Haircut</td>\n",
       "      <td>66.12</td>\n",
       "    </tr>\n",
       "    <tr>\n",
       "      <th>83113</th>\n",
       "      <td>TXN-00005</td>\n",
       "      <td>RobinsonsMall</td>\n",
       "      <td>Haircut</td>\n",
       "      <td>66.12</td>\n",
       "    </tr>\n",
       "    <tr>\n",
       "      <th>88556</th>\n",
       "      <td>TXN-00006</td>\n",
       "      <td>FrankMall</td>\n",
       "      <td>Pedicure</td>\n",
       "      <td>77.99</td>\n",
       "    </tr>\n",
       "    <tr>\n",
       "      <th>50273</th>\n",
       "      <td>TXN-00007</td>\n",
       "      <td>SmallMall</td>\n",
       "      <td>HairColor</td>\n",
       "      <td>88.09</td>\n",
       "    </tr>\n",
       "    <tr>\n",
       "      <th>69179</th>\n",
       "      <td>TXN-00008</td>\n",
       "      <td>FrankMall</td>\n",
       "      <td>Manicure</td>\n",
       "      <td>55.23</td>\n",
       "    </tr>\n",
       "    <tr>\n",
       "      <th>99529</th>\n",
       "      <td>TXN-00009</td>\n",
       "      <td>RobinsonsMall</td>\n",
       "      <td>HairColor</td>\n",
       "      <td>88.09</td>\n",
       "    </tr>\n",
       "    <tr>\n",
       "      <th>42495</th>\n",
       "      <td>TXN-00010</td>\n",
       "      <td>StarMall</td>\n",
       "      <td>HairColor</td>\n",
       "      <td>88.09</td>\n",
       "    </tr>\n",
       "    <tr>\n",
       "      <th>71998</th>\n",
       "      <td>TXN-00012</td>\n",
       "      <td>StarMall</td>\n",
       "      <td>Rebond</td>\n",
       "      <td>400.23</td>\n",
       "    </tr>\n",
       "    <tr>\n",
       "      <th>82114</th>\n",
       "      <td>TXN-00013</td>\n",
       "      <td>SmallMall</td>\n",
       "      <td>Manicure</td>\n",
       "      <td>55.23</td>\n",
       "    </tr>\n",
       "    <tr>\n",
       "      <th>85824</th>\n",
       "      <td>TXN-00014</td>\n",
       "      <td>StarMall</td>\n",
       "      <td>Pedicure</td>\n",
       "      <td>77.99</td>\n",
       "    </tr>\n",
       "    <tr>\n",
       "      <th>71964</th>\n",
       "      <td>TXN-00016</td>\n",
       "      <td>FrankMall</td>\n",
       "      <td>Manicure</td>\n",
       "      <td>55.23</td>\n",
       "    </tr>\n",
       "    <tr>\n",
       "      <th>53987</th>\n",
       "      <td>TXN-00018</td>\n",
       "      <td>MallOfAsia</td>\n",
       "      <td>Haircut</td>\n",
       "      <td>66.12</td>\n",
       "    </tr>\n",
       "    <tr>\n",
       "      <th>57339</th>\n",
       "      <td>TXN-00019</td>\n",
       "      <td>SmallMall</td>\n",
       "      <td>FootSpa</td>\n",
       "      <td>100.12</td>\n",
       "    </tr>\n",
       "    <tr>\n",
       "      <th>52903</th>\n",
       "      <td>TXN-00020</td>\n",
       "      <td>SmallMall</td>\n",
       "      <td>FootSpa</td>\n",
       "      <td>100.12</td>\n",
       "    </tr>\n",
       "    <tr>\n",
       "      <th>42559</th>\n",
       "      <td>TXN-00022</td>\n",
       "      <td>SmallMall</td>\n",
       "      <td>Rebond</td>\n",
       "      <td>400.23</td>\n",
       "    </tr>\n",
       "    <tr>\n",
       "      <th>69743</th>\n",
       "      <td>TXN-00023</td>\n",
       "      <td>SmallMall</td>\n",
       "      <td>Rebond</td>\n",
       "      <td>400.23</td>\n",
       "    </tr>\n",
       "    <tr>\n",
       "      <th>39455</th>\n",
       "      <td>TXN-00024</td>\n",
       "      <td>RobinsonsMall</td>\n",
       "      <td>Rebond</td>\n",
       "      <td>0.00</td>\n",
       "    </tr>\n",
       "    <tr>\n",
       "      <th>93846</th>\n",
       "      <td>TXN-00025</td>\n",
       "      <td>MayMall</td>\n",
       "      <td>Manicure</td>\n",
       "      <td>55.23</td>\n",
       "    </tr>\n",
       "    <tr>\n",
       "      <th>74858</th>\n",
       "      <td>TXN-00026</td>\n",
       "      <td>SmallMall</td>\n",
       "      <td>HairColor</td>\n",
       "      <td>88.09</td>\n",
       "    </tr>\n",
       "    <tr>\n",
       "      <th>24125</th>\n",
       "      <td>TXN-00027</td>\n",
       "      <td>SmallMall</td>\n",
       "      <td>Manicure</td>\n",
       "      <td>0.00</td>\n",
       "    </tr>\n",
       "    <tr>\n",
       "      <th>5074</th>\n",
       "      <td>TXN-00028</td>\n",
       "      <td>SmallMall</td>\n",
       "      <td>FootSpa</td>\n",
       "      <td>100.12</td>\n",
       "    </tr>\n",
       "    <tr>\n",
       "      <th>40128</th>\n",
       "      <td>TXN-00029</td>\n",
       "      <td>RobinsonsMall</td>\n",
       "      <td>Haircut</td>\n",
       "      <td>66.12</td>\n",
       "    </tr>\n",
       "    <tr>\n",
       "      <th>56620</th>\n",
       "      <td>TXN-00030</td>\n",
       "      <td>RobinsonsMall</td>\n",
       "      <td>FootSpa</td>\n",
       "      <td>100.12</td>\n",
       "    </tr>\n",
       "    <tr>\n",
       "      <th>2416</th>\n",
       "      <td>TXN-00031</td>\n",
       "      <td>MegaMall</td>\n",
       "      <td>Rebond</td>\n",
       "      <td>400.23</td>\n",
       "    </tr>\n",
       "    <tr>\n",
       "      <th>105916</th>\n",
       "      <td>TXN-00033</td>\n",
       "      <td>SmallMall</td>\n",
       "      <td>HairColor</td>\n",
       "      <td>88.09</td>\n",
       "    </tr>\n",
       "    <tr>\n",
       "      <th>2456</th>\n",
       "      <td>TXN-00035</td>\n",
       "      <td>RobinsonsMall</td>\n",
       "      <td>NailColor</td>\n",
       "      <td>30.12</td>\n",
       "    </tr>\n",
       "    <tr>\n",
       "      <th>4301</th>\n",
       "      <td>TXN-00038</td>\n",
       "      <td>RobinsonsMall</td>\n",
       "      <td>HairColor</td>\n",
       "      <td>88.09</td>\n",
       "    </tr>\n",
       "    <tr>\n",
       "      <th>86234</th>\n",
       "      <td>TXN-00039</td>\n",
       "      <td>MayMall</td>\n",
       "      <td>Manicure</td>\n",
       "      <td>55.23</td>\n",
       "    </tr>\n",
       "    <tr>\n",
       "      <th>35248</th>\n",
       "      <td>TXN-00040</td>\n",
       "      <td>StarMall</td>\n",
       "      <td>Rebond</td>\n",
       "      <td>0.00</td>\n",
       "    </tr>\n",
       "  </tbody>\n",
       "</table>\n",
       "</div>"
      ],
      "text/plain": [
       "           txn_id    branch_name    service   price\n",
       "105465  TXN-00000     MallOfAsia  HairColor   88.09\n",
       "102747  TXN-00001       MegaMall    Haircut   66.12\n",
       "83113   TXN-00005  RobinsonsMall    Haircut   66.12\n",
       "88556   TXN-00006      FrankMall   Pedicure   77.99\n",
       "50273   TXN-00007      SmallMall  HairColor   88.09\n",
       "69179   TXN-00008      FrankMall   Manicure   55.23\n",
       "99529   TXN-00009  RobinsonsMall  HairColor   88.09\n",
       "42495   TXN-00010       StarMall  HairColor   88.09\n",
       "71998   TXN-00012       StarMall     Rebond  400.23\n",
       "82114   TXN-00013      SmallMall   Manicure   55.23\n",
       "85824   TXN-00014       StarMall   Pedicure   77.99\n",
       "71964   TXN-00016      FrankMall   Manicure   55.23\n",
       "53987   TXN-00018     MallOfAsia    Haircut   66.12\n",
       "57339   TXN-00019      SmallMall    FootSpa  100.12\n",
       "52903   TXN-00020      SmallMall    FootSpa  100.12\n",
       "42559   TXN-00022      SmallMall     Rebond  400.23\n",
       "69743   TXN-00023      SmallMall     Rebond  400.23\n",
       "39455   TXN-00024  RobinsonsMall     Rebond    0.00\n",
       "93846   TXN-00025        MayMall   Manicure   55.23\n",
       "74858   TXN-00026      SmallMall  HairColor   88.09\n",
       "24125   TXN-00027      SmallMall   Manicure    0.00\n",
       "5074    TXN-00028      SmallMall    FootSpa  100.12\n",
       "40128   TXN-00029  RobinsonsMall    Haircut   66.12\n",
       "56620   TXN-00030  RobinsonsMall    FootSpa  100.12\n",
       "2416    TXN-00031       MegaMall     Rebond  400.23\n",
       "105916  TXN-00033      SmallMall  HairColor   88.09\n",
       "2456    TXN-00035  RobinsonsMall  NailColor   30.12\n",
       "4301    TXN-00038  RobinsonsMall  HairColor   88.09\n",
       "86234   TXN-00039        MayMall   Manicure   55.23\n",
       "35248   TXN-00040       StarMall     Rebond    0.00"
      ]
     },
     "execution_count": 15,
     "metadata": {},
     "output_type": "execute_result"
    }
   ],
   "source": [
    "df_branch_service.sort_values(by=['txn_id'], inplace=True, ascending=True)     \n",
    "df_branch_service.head(30)"
   ]
  }
 ],
 "metadata": {
  "kernelspec": {
   "display_name": "Python 3",
   "language": "python",
   "name": "python3"
  },
  "language_info": {
   "codemirror_mode": {
    "name": "ipython",
    "version": 3
   },
   "file_extension": ".py",
   "mimetype": "text/x-python",
   "name": "python",
   "nbconvert_exporter": "python",
   "pygments_lexer": "ipython3",
   "version": "3.11.4"
  }
 },
 "nbformat": 4,
 "nbformat_minor": 2
}
