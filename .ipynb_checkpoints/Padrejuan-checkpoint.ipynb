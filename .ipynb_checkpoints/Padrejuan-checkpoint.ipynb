{
 "cells": [
  {
   "cell_type": "markdown",
   "id": "4b4dd4b3-0c1e-48f7-ae20-e408fc1fdd83",
   "metadata": {},
   "source": [
    "## Imports and Loading"
   ]
  },
  {
   "cell_type": "code",
   "execution_count": 1,
   "id": "6f3d060c-cf48-4f9e-a671-11d48a52fd43",
   "metadata": {},
   "outputs": [],
   "source": [
    "import pandas as pd\n",
    "import numpy as np\n",
    "import re\n",
    "import datetime\n",
    "df_branch_service = pd.read_json(\"branch_service_transaction_info.json\")\n",
    "df_customer_transaction = pd.read_json(\"customer_transaction_info.json\")"
   ]
  },
  {
   "cell_type": "markdown",
   "id": "4a6b2ea5-4b26-493c-86a1-ac38f96a663b",
   "metadata": {},
   "source": [
    "## Profiling the Data \n",
    "### Branch Service"
   ]
  },
  {
   "cell_type": "code",
   "execution_count": 2,
   "id": "062ed5ee-9261-4908-9074-6d22d0725130",
   "metadata": {},
   "outputs": [
    {
     "name": "stdout",
     "output_type": "stream",
     "text": [
      "(130653, 4)\n"
     ]
    }
   ],
   "source": [
    "print(df_branch_service.shape) # how many rows and columns"
   ]
  },
  {
   "cell_type": "code",
   "execution_count": 3,
   "id": "8cda75e2-c1c0-45f8-94a5-2e5213b555c8",
   "metadata": {},
   "outputs": [
    {
     "data": {
      "text/plain": [
       "array(['MallOfAsia', 'Starmall', 'SmallMall', 'MayMall', 'FrankMall',\n",
       "       'Megamall', 'RobinsonsMall', '', None, 'N/A'], dtype=object)"
      ]
     },
     "execution_count": 3,
     "metadata": {},
     "output_type": "execute_result"
    }
   ],
   "source": [
    "# get specific values for categories to check for consistency\n",
    "df_branch_service['branch_name'].unique()"
   ]
  },
  {
   "cell_type": "code",
   "execution_count": 4,
   "id": "3853ab2e-b16c-4d13-9a3b-67ea915bc3ed",
   "metadata": {},
   "outputs": [
    {
     "data": {
      "text/plain": [
       "array(['Manicure', 'HairColor', 'FootSpa', 'Rebond', 'Haircut',\n",
       "       'NailColor', 'Pedicure'], dtype=object)"
      ]
     },
     "execution_count": 4,
     "metadata": {},
     "output_type": "execute_result"
    }
   ],
   "source": [
    "df_branch_service['service'].unique()"
   ]
  },
  {
   "cell_type": "markdown",
   "id": "397d45c3-1d0b-48f4-8e84-1a0a114ad2db",
   "metadata": {},
   "source": [
    "## Data Cleaning\n",
    "### Remove Duplicates"
   ]
  },
  {
   "cell_type": "code",
   "execution_count": 5,
   "id": "cc38e910-4e2c-42fe-922c-f22b08e7e01b",
   "metadata": {},
   "outputs": [],
   "source": [
    "# remove same TXN_IDs\n",
    "df_branch_service = df_branch_service.drop_duplicates()\n",
    "df_branch_service.to_parquet(\"branch_service_duplicates_removed.parquet\")"
   ]
  },
  {
   "cell_type": "code",
   "execution_count": 6,
   "id": "260860e5-ef49-4804-9113-8686cb8afdea",
   "metadata": {},
   "outputs": [
    {
     "name": "stdout",
     "output_type": "stream",
     "text": [
      "(118276, 4)\n"
     ]
    }
   ],
   "source": [
    "print(df_branch_service.shape) # how many rows and columns after duplicate removal"
   ]
  },
  {
   "cell_type": "markdown",
   "id": "c9ef55e1-2f8f-4b72-88f7-dfe8df4670cb",
   "metadata": {},
   "source": [
    "## Round off the prices of branch"
   ]
  },
  {
   "cell_type": "code",
   "execution_count": 7,
   "id": "16624651-38f9-43a1-8413-0a7f2cbf838a",
   "metadata": {},
   "outputs": [],
   "source": [
    "df_branch_service['price'] = df_branch_service['price'].round(2)\n",
    "df_branch_service['price'].unique()\n",
    "df_branch_service.to_parquet(\"branch_service_prices_rounded.parquet\")"
   ]
  },
  {
   "cell_type": "markdown",
   "id": "3f3d9888-b2df-4f6d-a31f-bb53fe7aaa91",
   "metadata": {},
   "source": [
    "## Fill in missing values of null prices"
   ]
  },
  {
   "cell_type": "code",
   "execution_count": 8,
   "id": "acc59f90-b31a-4e0f-a734-6339d4cd672d",
   "metadata": {},
   "outputs": [],
   "source": [
    "# conditions to fill in missing prices\n",
    "cond1 = (df_branch_service['service'] == 'Manicure') & (df_branch_service['price'].isnull())\n",
    "cond2 = (df_branch_service['service'] == 'HairColor') & (df_branch_service['price'].isnull())\n",
    "cond3 = (df_branch_service['service'] == 'FootSpa') & (df_branch_service['price'].isnull())\n",
    "cond4 = (df_branch_service['service'] == 'Rebond') & (df_branch_service['price'].isnull())\n",
    "cond5 = (df_branch_service['service'] == 'Haircut') & (df_branch_service['price'].isnull())\n",
    "cond6 = (df_branch_service['service'] == 'NailColor') & (df_branch_service['price'].isnull())\n",
    "cond7 = (df_branch_service['service'] == 'Pedicure') & (df_branch_service['price'].isnull())\n",
    "df_branch_service.loc[cond1, 'price'] = df_branch_service.loc[cond1, 'price'].fillna(55.23)\n",
    "df_branch_service.loc[cond2, 'price'] = df_branch_service.loc[cond2, 'price'].fillna(88.09)\n",
    "df_branch_service.loc[cond3, 'price'] = df_branch_service.loc[cond3, 'price'].fillna(100.12)\n",
    "df_branch_service.loc[cond4, 'price'] = df_branch_service.loc[cond4, 'price'].fillna(400.23)\n",
    "df_branch_service.loc[cond5, 'price'] = df_branch_service.loc[cond5, 'price'].fillna(66.12)\n",
    "df_branch_service.loc[cond6, 'price'] = df_branch_service.loc[cond6, 'price'].fillna(30.12)\n",
    "df_branch_service.loc[cond7, 'price'] = df_branch_service.loc[cond7, 'price'].fillna(77.99)"
   ]
  },
  {
   "cell_type": "code",
   "execution_count": 9,
   "id": "1148e4da-7e91-480d-9a76-0299c7c27aa9",
   "metadata": {},
   "outputs": [],
   "source": [
    "df_branch_service['price'].unique()\n",
    "df_branch_service.to_parquet(\"branch_service_null_prices_filled.parquet\")"
   ]
  },
  {
   "cell_type": "markdown",
   "id": "d36cfae2-016e-4465-845d-fa6e388f2e97",
   "metadata": {},
   "source": [
    "## Drop null values and empty values for branch_name"
   ]
  },
  {
   "cell_type": "code",
   "execution_count": 10,
   "id": "cfba3664-e670-406d-ad98-6095754a3bb3",
   "metadata": {},
   "outputs": [
    {
     "name": "stdout",
     "output_type": "stream",
     "text": [
      "(103677, 4)\n"
     ]
    }
   ],
   "source": [
    "#Not enough assumptions to fill in missing data.\n",
    "df_branch_service = df_branch_service.drop(df_branch_service[df_branch_service['branch_name'] == ''].index)\n",
    "df_branch_service = df_branch_service.drop(df_branch_service[df_branch_service['branch_name'] == 'N/A'].index)\n",
    "df_branch_service = df_branch_service.drop(df_branch_service[df_branch_service['branch_name'].isnull()].index)\n",
    "print(df_branch_service.shape)\n",
    "df_branch_service.to_parquet(\"branch_service_null_branches_deleted.parquet\")"
   ]
  },
  {
   "cell_type": "markdown",
   "id": "5a06a218-7a6f-4a6a-91b6-6faa7f10f502",
   "metadata": {},
   "source": [
    "## Profiling the Data\n",
    "### Customer Transactions"
   ]
  },
  {
   "cell_type": "code",
   "execution_count": 11,
   "id": "4567eddb-c019-4812-9c23-74dd24a5a41a",
   "metadata": {},
   "outputs": [
    {
     "name": "stdout",
     "output_type": "stream",
     "text": [
      "(130653, 5)\n"
     ]
    }
   ],
   "source": [
    "print(df_customer_transaction.shape) # how many rows and columns"
   ]
  },
  {
   "cell_type": "code",
   "execution_count": 12,
   "id": "2bd52417-f73f-4bc2-86a7-ca8fc435acc1",
   "metadata": {},
   "outputs": [
    {
     "name": "stdout",
     "output_type": "stream",
     "text": [
      "62354\n"
     ]
    }
   ],
   "source": [
    "print(df_customer_transaction['txn_id'].nunique())"
   ]
  },
  {
   "cell_type": "markdown",
   "id": "8d2eff85-f9ed-4f04-9892-d925dccc1607",
   "metadata": {},
   "source": [
    "## Cleaning the Data"
   ]
  },
  {
   "cell_type": "code",
   "execution_count": 13,
   "id": "1b5f66c8-208e-497f-9782-2cd7b9126797",
   "metadata": {},
   "outputs": [
    {
     "name": "stdout",
     "output_type": "stream",
     "text": [
      "(72355, 5)\n"
     ]
    }
   ],
   "source": [
    "#remove duplicates\n",
    "df_customer_transaction = df_customer_transaction.drop_duplicates()\n",
    "print(df_customer_transaction.shape)\n",
    "df_customer_transaction.to_parquet(\"customer_transaction_removed_duplicates.parquet\")"
   ]
  },
  {
   "cell_type": "markdown",
   "id": "d077d123-f5f2-426c-97a8-537e02c3b005",
   "metadata": {},
   "source": [
    "## Removing whitespaces and special characters in the names of the customers"
   ]
  },
  {
   "cell_type": "code",
   "execution_count": 14,
   "id": "853edda0-0ac2-4d0d-a122-46342cba5cc3",
   "metadata": {},
   "outputs": [
    {
     "name": "stdout",
     "output_type": "stream",
     "text": [
      "           txn_id  avail_date last_name first_name    birthday\n",
      "0       TXN-24546  2030-09-08     ORTIZ    EDUARDO  1990-07-08\n",
      "1       TXN-14642  2026-05-26    NIENOW        LEA  2000-11-26\n",
      "2       TXN-60295  2006-09-25     LESCH      FLETA  1993-05-22\n",
      "6       TXN-40462  2021-08-21      KUHN        TOD  2002-11-25\n",
      "8       TXN-08102  2010-04-03   JOHNSON     MILTON  2003-07-10\n",
      "...           ...         ...       ...        ...         ...\n",
      "130643  TXN-11897  2027-06-19   Reinger     Conrad  1996-12-03\n",
      "130646  TXN-43876  2021-11-13    Jewess      Lucio  1996-07-05\n",
      "130647  TXN-65468  2012-06-16  Cummings      Henry  2005-08-14\n",
      "130649  TXN-60822  2020-09-28      Feil     Jermey  2010-06-15\n",
      "130651  TXN-01784  2015-01-11   Schmidt     Emilie  1996-05-21\n",
      "\n",
      "[72355 rows x 5 columns]\n"
     ]
    }
   ],
   "source": [
    "df_customer_transaction['last_name'] = df_customer_transaction['last_name'].str.replace(r'[^a-z0-9]', '', regex=True, flags = re.IGNORECASE)\n",
    "df_customer_transaction['first_name'] = df_customer_transaction['first_name'].str.replace(r'[^a-z0-9]', '', regex=True, flags = re.IGNORECASE)\n",
    "df_customer_transaction.to_parquet(\"customer_transaction_cleaned_names.parquet\")\n",
    "print(df_customer_transaction)"
   ]
  },
  {
   "cell_type": "markdown",
   "id": "98f6c086-1cfd-4425-96a3-76771c46b456",
   "metadata": {},
   "source": [
    "## Standardize the name format (Ex. Doe John)"
   ]
  },
  {
   "cell_type": "code",
   "execution_count": 15,
   "id": "867b9b2d-15b9-4051-aafb-be00c49990b2",
   "metadata": {},
   "outputs": [
    {
     "name": "stdout",
     "output_type": "stream",
     "text": [
      "           txn_id  avail_date last_name first_name    birthday\n",
      "0       TXN-24546  2030-09-08     Ortiz    Eduardo  1990-07-08\n",
      "1       TXN-14642  2026-05-26    Nienow        Lea  2000-11-26\n",
      "2       TXN-60295  2006-09-25     Lesch      Fleta  1993-05-22\n",
      "6       TXN-40462  2021-08-21      Kuhn        Tod  2002-11-25\n",
      "8       TXN-08102  2010-04-03   Johnson     Milton  2003-07-10\n",
      "...           ...         ...       ...        ...         ...\n",
      "130643  TXN-11897  2027-06-19   Reinger     Conrad  1996-12-03\n",
      "130646  TXN-43876  2021-11-13    Jewess      Lucio  1996-07-05\n",
      "130647  TXN-65468  2012-06-16  Cummings      Henry  2005-08-14\n",
      "130649  TXN-60822  2020-09-28      Feil     Jermey  2010-06-15\n",
      "130651  TXN-01784  2015-01-11   Schmidt     Emilie  1996-05-21\n",
      "\n",
      "[72355 rows x 5 columns]\n"
     ]
    }
   ],
   "source": [
    "df_customer_transaction['last_name'] = df_customer_transaction['last_name'].str.capitalize()\n",
    "df_customer_transaction['first_name'] = df_customer_transaction['first_name'].str.capitalize()\n",
    "df_customer_transaction.to_parquet(\"customer_transaction_formatted_names.parquet\")\n",
    "print(df_customer_transaction)"
   ]
  },
  {
   "cell_type": "markdown",
   "id": "084c50d0-c349-4195-9cb9-2b11d980be70",
   "metadata": {},
   "source": [
    "## Remove invalid dates from birthdays and avail dates"
   ]
  },
  {
   "cell_type": "code",
   "execution_count": 16,
   "id": "75d6eba4-29ed-4d99-b597-6af57cf4e458",
   "metadata": {},
   "outputs": [
    {
     "name": "stdout",
     "output_type": "stream",
     "text": [
      "           txn_id avail_date last_name first_name   birthday\n",
      "2       TXN-60295 2006-09-25     Lesch      Fleta 1993-05-22\n",
      "6       TXN-40462 2021-08-21      Kuhn        Tod 2002-11-25\n",
      "8       TXN-08102 2010-04-03   Johnson     Milton 2003-07-10\n",
      "12      TXN-64262 2018-11-23   Hackett       Maci 2005-06-20\n",
      "22      TXN-49423 2008-08-13     Berge    Rasheed 2010-02-05\n",
      "...           ...        ...       ...        ...        ...\n",
      "130637  TXN-17937 2016-01-04    Torphy     Garret 1998-11-26\n",
      "130646  TXN-43876 2021-11-13    Jewess      Lucio 1996-07-05\n",
      "130647  TXN-65468 2012-06-16  Cummings      Henry 2005-08-14\n",
      "130649  TXN-60822 2020-09-28      Feil     Jermey 2010-06-15\n",
      "130651  TXN-01784 2015-01-11   Schmidt     Emilie 1996-05-21\n",
      "\n",
      "[52515 rows x 5 columns]\n"
     ]
    }
   ],
   "source": [
    "df_customer_transaction['avail_date'] = pd.to_datetime(df_customer_transaction['avail_date'])\n",
    "df_customer_transaction['birthday'] = pd.to_datetime(df_customer_transaction['birthday'])\n",
    "df_customer_transaction = df_customer_transaction.drop(df_customer_transaction[df_customer_transaction['avail_date'] > datetime.datetime.now()].index)\n",
    "df_customer_transaction = df_customer_transaction.drop(df_customer_transaction[df_customer_transaction['birthday'] > datetime.datetime.now()].index)\n",
    "df_customer_transaction.to_parquet(\"customer_transaction_removed_invalid_dates.parquet\")\n",
    "print(df_customer_transaction)"
   ]
  },
  {
   "cell_type": "code",
   "execution_count": null,
   "id": "22f5a6d9-d195-4847-95ad-28d39ce558f1",
   "metadata": {},
   "outputs": [],
   "source": []
  }
 ],
 "metadata": {
  "kernelspec": {
   "display_name": "Python 3 (ipykernel)",
   "language": "python",
   "name": "python3"
  },
  "language_info": {
   "codemirror_mode": {
    "name": "ipython",
    "version": 3
   },
   "file_extension": ".py",
   "mimetype": "text/x-python",
   "name": "python",
   "nbconvert_exporter": "python",
   "pygments_lexer": "ipython3",
   "version": "3.12.0"
  }
 },
 "nbformat": 4,
 "nbformat_minor": 5
}
