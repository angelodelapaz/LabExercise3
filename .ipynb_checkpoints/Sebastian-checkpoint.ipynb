{
 "cells": [
  {
   "cell_type": "code",
   "execution_count": 2,
   "id": "2f85895e-7bbb-4606-9c4d-53ea16333025",
   "metadata": {},
   "outputs": [],
   "source": [
    "import pandas as pd\n",
    "import numpy as np"
   ]
  },
  {
   "cell_type": "code",
   "execution_count": 3,
   "id": "05ae53b0",
   "metadata": {},
   "outputs": [],
   "source": [
    "from datetime import date"
   ]
  },
  {
   "cell_type": "code",
   "execution_count": null,
   "id": "4c6408f7-efca-4be8-97f3-d53e459f5e3b",
   "metadata": {},
   "outputs": [],
   "source": [
    "## Import classes to SQL "
   ]
  },
  {
   "cell_type": "code",
   "execution_count": null,
   "id": "44ca5de3-80ed-40dc-81ea-469fa6d377f3",
   "metadata": {},
   "outputs": [],
   "source": [
    "#### Reads the JSON file (Pandas)"
   ]
  },
  {
   "cell_type": "code",
   "execution_count": 4,
   "id": "976c7ee6-64da-4411-a50e-2a8e8dbc11fa",
   "metadata": {},
   "outputs": [],
   "source": [
    "df_customer_transaction = pd.read_json(\"customer_transaction_info.json\")"
   ]
  },
  {
   "cell_type": "code",
   "execution_count": 8,
   "id": "f10e5d2a",
   "metadata": {},
   "outputs": [
    {
     "name": "stdout",
     "output_type": "stream",
     "text": [
      "           txn_id avail_date last_name first_name   birthday\n",
      "2       TXN-60295 2006-09-25     LESCH      FLETA 1993-05-22\n",
      "3       TXN-60295 2006-09-25     LESCH      FLETA 1993-05-22\n",
      "4       TXN-60295 2006-09-25     LESCH      FLETA 1993-05-22\n",
      "5       TXN-60295 2006-09-25     LESCH      FLETA 1993-05-22\n",
      "6       TXN-40462 2021-08-21      KUHN        TOD 2002-11-25\n",
      "...           ...        ...       ...        ...        ...\n",
      "130648  TXN-65468 2012-06-16  Cummings      Henry 2005-08-14\n",
      "130649  TXN-60822 2020-09-28      Feil     Jermey 2010-06-15\n",
      "130650  TXN-60822 2020-09-28      Feil     Jermey 2010-06-15\n",
      "130651  TXN-01784 2015-01-11   Schmidt     Emilie 1996-05-21\n",
      "130652  TXN-01784 2015-01-11   Schmidt     Emilie 1996-05-21\n",
      "\n",
      "[95106 rows x 5 columns]\n"
     ]
    }
   ],
   "source": [
    "df_customer_transaction['avail_date'] = pd.to_datetime(df_customer_transaction['avail_date'], errors='coerce')\n",
    "df_customer_transaction['birthday'] = pd.to_datetime(df_customer_transaction['birthday'], errors='coerce')\n",
    "df_filt = df_customer_transaction[(df_customer_transaction['avail_date'] <= pd.to_datetime(date.today()))]\n",
    "print(df_filt)"
   ]
  },
  {
   "cell_type": "code",
   "execution_count": null,
   "id": "0c2b26b0-12c8-4d1f-86a8-c4a172273c6d",
   "metadata": {},
   "outputs": [],
   "source": [
    "#### Shows the first number of students "
   ]
  },
  {
   "cell_type": "code",
   "execution_count": null,
   "id": "acf19bbf-8b46-4c53-abee-da491f6db2a4",
   "metadata": {},
   "outputs": [
    {
     "data": {
      "text/html": [
       "<div>\n",
       "<style scoped>\n",
       "    .dataframe tbody tr th:only-of-type {\n",
       "        vertical-align: middle;\n",
       "    }\n",
       "\n",
       "    .dataframe tbody tr th {\n",
       "        vertical-align: top;\n",
       "    }\n",
       "\n",
       "    .dataframe thead th {\n",
       "        text-align: right;\n",
       "    }\n",
       "</style>\n",
       "<table border=\"1\" class=\"dataframe\">\n",
       "  <thead>\n",
       "    <tr style=\"text-align: right;\">\n",
       "      <th></th>\n",
       "      <th>txn_id</th>\n",
       "      <th>avail_date</th>\n",
       "      <th>last_name</th>\n",
       "      <th>first_name</th>\n",
       "      <th>birthday</th>\n",
       "    </tr>\n",
       "  </thead>\n",
       "  <tbody>\n",
       "    <tr>\n",
       "      <th>0</th>\n",
       "      <td>TXN-24546</td>\n",
       "      <td>2030-09-08</td>\n",
       "      <td>ORTIZ</td>\n",
       "      <td>EDUARDO</td>\n",
       "      <td>1990-07-08</td>\n",
       "    </tr>\n",
       "    <tr>\n",
       "      <th>1</th>\n",
       "      <td>TXN-14642</td>\n",
       "      <td>2026-05-26</td>\n",
       "      <td>NIENOW</td>\n",
       "      <td>LEA</td>\n",
       "      <td>2000-11-26</td>\n",
       "    </tr>\n",
       "    <tr>\n",
       "      <th>2</th>\n",
       "      <td>TXN-60295</td>\n",
       "      <td>2006-09-25</td>\n",
       "      <td>LESCH</td>\n",
       "      <td>FLETA</td>\n",
       "      <td>1993-05-22</td>\n",
       "    </tr>\n",
       "    <tr>\n",
       "      <th>3</th>\n",
       "      <td>TXN-60295</td>\n",
       "      <td>2006-09-25</td>\n",
       "      <td>LESCH</td>\n",
       "      <td>FLETA</td>\n",
       "      <td>1993-05-22</td>\n",
       "    </tr>\n",
       "    <tr>\n",
       "      <th>4</th>\n",
       "      <td>TXN-60295</td>\n",
       "      <td>2006-09-25</td>\n",
       "      <td>LESCH</td>\n",
       "      <td>FLETA</td>\n",
       "      <td>1993-05-22</td>\n",
       "    </tr>\n",
       "  </tbody>\n",
       "</table>\n",
       "</div>"
      ],
      "text/plain": [
       "      txn_id  avail_date last_name first_name    birthday\n",
       "0  TXN-24546  2030-09-08     ORTIZ    EDUARDO  1990-07-08\n",
       "1  TXN-14642  2026-05-26    NIENOW        LEA  2000-11-26\n",
       "2  TXN-60295  2006-09-25     LESCH      FLETA  1993-05-22\n",
       "3  TXN-60295  2006-09-25     LESCH      FLETA  1993-05-22\n",
       "4  TXN-60295  2006-09-25     LESCH      FLETA  1993-05-22"
      ]
     },
     "execution_count": 6,
     "metadata": {},
     "output_type": "execute_result"
    }
   ],
   "source": [
    "df_customer_transaction.head()"
   ]
  },
  {
   "cell_type": "code",
   "execution_count": null,
   "id": "46b8e6e8-5f54-4578-9c89-6d5090a1b389",
   "metadata": {},
   "outputs": [],
   "source": [
    "#### Shows the length of columns (data) in the json file"
   ]
  },
  {
   "cell_type": "code",
   "execution_count": null,
   "id": "dafde3d4-f335-4b08-bfc9-605372563217",
   "metadata": {},
   "outputs": [
    {
     "data": {
      "text/plain": [
       "130653"
      ]
     },
     "execution_count": 8,
     "metadata": {},
     "output_type": "execute_result"
    }
   ],
   "source": [
    "len(df_customer_transaction)"
   ]
  },
  {
   "cell_type": "code",
   "execution_count": null,
   "id": "9766f9c8-b44e-439e-b0db-56e5d3816297",
   "metadata": {},
   "outputs": [
    {
     "data": {
      "text/html": [
       "<div>\n",
       "<style scoped>\n",
       "    .dataframe tbody tr th:only-of-type {\n",
       "        vertical-align: middle;\n",
       "    }\n",
       "\n",
       "    .dataframe tbody tr th {\n",
       "        vertical-align: top;\n",
       "    }\n",
       "\n",
       "    .dataframe thead th {\n",
       "        text-align: right;\n",
       "    }\n",
       "</style>\n",
       "<table border=\"1\" class=\"dataframe\">\n",
       "  <thead>\n",
       "    <tr style=\"text-align: right;\">\n",
       "      <th></th>\n",
       "      <th>txn_id</th>\n",
       "      <th>avail_date</th>\n",
       "      <th>last_name</th>\n",
       "      <th>first_name</th>\n",
       "      <th>birthday</th>\n",
       "    </tr>\n",
       "  </thead>\n",
       "  <tbody>\n",
       "    <tr>\n",
       "      <th>0</th>\n",
       "      <td>TXN-24546</td>\n",
       "      <td>2030-09-08</td>\n",
       "      <td>ORTIZ</td>\n",
       "      <td>EDUARDO</td>\n",
       "      <td>1990-07-08</td>\n",
       "    </tr>\n",
       "    <tr>\n",
       "      <th>1</th>\n",
       "      <td>TXN-14642</td>\n",
       "      <td>2026-05-26</td>\n",
       "      <td>NIENOW</td>\n",
       "      <td>LEA</td>\n",
       "      <td>2000-11-26</td>\n",
       "    </tr>\n",
       "    <tr>\n",
       "      <th>2</th>\n",
       "      <td>TXN-60295</td>\n",
       "      <td>2006-09-25</td>\n",
       "      <td>LESCH</td>\n",
       "      <td>FLETA</td>\n",
       "      <td>1993-05-22</td>\n",
       "    </tr>\n",
       "    <tr>\n",
       "      <th>3</th>\n",
       "      <td>TXN-60295</td>\n",
       "      <td>2006-09-25</td>\n",
       "      <td>LESCH</td>\n",
       "      <td>FLETA</td>\n",
       "      <td>1993-05-22</td>\n",
       "    </tr>\n",
       "    <tr>\n",
       "      <th>4</th>\n",
       "      <td>TXN-60295</td>\n",
       "      <td>2006-09-25</td>\n",
       "      <td>LESCH</td>\n",
       "      <td>FLETA</td>\n",
       "      <td>1993-05-22</td>\n",
       "    </tr>\n",
       "    <tr>\n",
       "      <th>...</th>\n",
       "      <td>...</td>\n",
       "      <td>...</td>\n",
       "      <td>...</td>\n",
       "      <td>...</td>\n",
       "      <td>...</td>\n",
       "    </tr>\n",
       "    <tr>\n",
       "      <th>130648</th>\n",
       "      <td>TXN-65468</td>\n",
       "      <td>2012-06-16</td>\n",
       "      <td>Cummings</td>\n",
       "      <td>Henry</td>\n",
       "      <td>2005-08-14</td>\n",
       "    </tr>\n",
       "    <tr>\n",
       "      <th>130649</th>\n",
       "      <td>TXN-60822</td>\n",
       "      <td>2020-09-28</td>\n",
       "      <td>Feil</td>\n",
       "      <td>Jermey</td>\n",
       "      <td>2010-06-15</td>\n",
       "    </tr>\n",
       "    <tr>\n",
       "      <th>130650</th>\n",
       "      <td>TXN-60822</td>\n",
       "      <td>2020-09-28</td>\n",
       "      <td>Feil</td>\n",
       "      <td>Jermey</td>\n",
       "      <td>2010-06-15</td>\n",
       "    </tr>\n",
       "    <tr>\n",
       "      <th>130651</th>\n",
       "      <td>TXN-01784</td>\n",
       "      <td>2015-01-11</td>\n",
       "      <td>Schmidt</td>\n",
       "      <td>Emilie</td>\n",
       "      <td>1996-05-21</td>\n",
       "    </tr>\n",
       "    <tr>\n",
       "      <th>130652</th>\n",
       "      <td>TXN-01784</td>\n",
       "      <td>2015-01-11</td>\n",
       "      <td>Schmidt</td>\n",
       "      <td>Emilie</td>\n",
       "      <td>1996-05-21</td>\n",
       "    </tr>\n",
       "  </tbody>\n",
       "</table>\n",
       "<p>130653 rows × 5 columns</p>\n",
       "</div>"
      ],
      "text/plain": [
       "           txn_id  avail_date last_name first_name    birthday\n",
       "0       TXN-24546  2030-09-08     ORTIZ    EDUARDO  1990-07-08\n",
       "1       TXN-14642  2026-05-26    NIENOW        LEA  2000-11-26\n",
       "2       TXN-60295  2006-09-25     LESCH      FLETA  1993-05-22\n",
       "3       TXN-60295  2006-09-25     LESCH      FLETA  1993-05-22\n",
       "4       TXN-60295  2006-09-25     LESCH      FLETA  1993-05-22\n",
       "...           ...         ...       ...        ...         ...\n",
       "130648  TXN-65468  2012-06-16  Cummings      Henry  2005-08-14\n",
       "130649  TXN-60822  2020-09-28      Feil     Jermey  2010-06-15\n",
       "130650  TXN-60822  2020-09-28      Feil     Jermey  2010-06-15\n",
       "130651  TXN-01784  2015-01-11   Schmidt     Emilie  1996-05-21\n",
       "130652  TXN-01784  2015-01-11   Schmidt     Emilie  1996-05-21\n",
       "\n",
       "[130653 rows x 5 columns]"
      ]
     },
     "execution_count": 9,
     "metadata": {},
     "output_type": "execute_result"
    }
   ],
   "source": [
    "df_customer_transaction.head(130654)"
   ]
  },
  {
   "cell_type": "code",
   "execution_count": null,
   "id": "1f03067f-531b-4d35-862c-10ef97ff16fd",
   "metadata": {},
   "outputs": [],
   "source": [
    "## Convert the original customer.json file to sqlite"
   ]
  },
  {
   "cell_type": "code",
   "execution_count": null,
   "id": "e8c6b221-0ee2-409b-a254-60d15d517317",
   "metadata": {},
   "outputs": [],
   "source": [
    "from sqlalchemy import create_engine\n",
    "from sqlalchemy import VARCHAR, DATE"
   ]
  },
  {
   "cell_type": "raw",
   "id": "dd93224f-4764-4eb3-a2cd-870ba0f5e649",
   "metadata": {},
   "source": [
    "engine = create_engine('sqlite:///customer_transactions.db', echo=True)\n",
    "df_customer_transaction.to_sql('customer_transactions', con=engine, if_exists='replace', index=False)"
   ]
  },
  {
   "cell_type": "code",
   "execution_count": null,
   "id": "4a6c4adc-2df6-4aa8-94e9-841cfe70ca25",
   "metadata": {},
   "outputs": [
    {
     "name": "stdout",
     "output_type": "stream",
     "text": [
      "2023-11-22 22:29:27,137 INFO sqlalchemy.engine.Engine BEGIN (implicit)\n",
      "2023-11-22 22:29:27,139 INFO sqlalchemy.engine.Engine PRAGMA main.table_info(\"customer_transactions\")\n",
      "2023-11-22 22:29:27,139 INFO sqlalchemy.engine.Engine [raw sql] ()\n",
      "2023-11-22 22:29:27,140 INFO sqlalchemy.engine.Engine PRAGMA main.table_info(\"customer_transactions\")\n",
      "2023-11-22 22:29:27,141 INFO sqlalchemy.engine.Engine [raw sql] ()\n",
      "2023-11-22 22:29:27,141 INFO sqlalchemy.engine.Engine SELECT name FROM sqlite_master WHERE type='table' AND name NOT LIKE 'sqlite~_%' ESCAPE '~' ORDER BY name\n",
      "2023-11-22 22:29:27,141 INFO sqlalchemy.engine.Engine [raw sql] ()\n",
      "2023-11-22 22:29:27,142 INFO sqlalchemy.engine.Engine SELECT name FROM sqlite_master WHERE type='view' AND name NOT LIKE 'sqlite~_%' ESCAPE '~' ORDER BY name\n",
      "2023-11-22 22:29:27,143 INFO sqlalchemy.engine.Engine [raw sql] ()\n",
      "2023-11-22 22:29:27,143 INFO sqlalchemy.engine.Engine PRAGMA main.table_xinfo(\"customer_transactions\")\n",
      "2023-11-22 22:29:27,144 INFO sqlalchemy.engine.Engine [raw sql] ()\n",
      "2023-11-22 22:29:27,145 INFO sqlalchemy.engine.Engine SELECT sql FROM  (SELECT * FROM sqlite_master UNION ALL   SELECT * FROM sqlite_temp_master) WHERE name = ? AND type in ('table', 'view')\n",
      "2023-11-22 22:29:27,145 INFO sqlalchemy.engine.Engine [raw sql] ('customer_transactions',)\n",
      "2023-11-22 22:29:27,146 INFO sqlalchemy.engine.Engine PRAGMA main.foreign_key_list(\"customer_transactions\")\n",
      "2023-11-22 22:29:27,147 INFO sqlalchemy.engine.Engine [raw sql] ()\n",
      "2023-11-22 22:29:27,147 INFO sqlalchemy.engine.Engine PRAGMA temp.foreign_key_list(\"customer_transactions\")\n",
      "2023-11-22 22:29:27,148 INFO sqlalchemy.engine.Engine [raw sql] ()\n",
      "2023-11-22 22:29:27,149 INFO sqlalchemy.engine.Engine SELECT sql FROM  (SELECT * FROM sqlite_master UNION ALL   SELECT * FROM sqlite_temp_master) WHERE name = ? AND type in ('table', 'view')\n",
      "2023-11-22 22:29:27,149 INFO sqlalchemy.engine.Engine [raw sql] ('customer_transactions',)\n",
      "2023-11-22 22:29:27,151 INFO sqlalchemy.engine.Engine PRAGMA main.index_list(\"customer_transactions\")\n",
      "2023-11-22 22:29:27,152 INFO sqlalchemy.engine.Engine [raw sql] ()\n",
      "2023-11-22 22:29:27,153 INFO sqlalchemy.engine.Engine PRAGMA temp.index_list(\"customer_transactions\")\n",
      "2023-11-22 22:29:27,153 INFO sqlalchemy.engine.Engine [raw sql] ()\n",
      "2023-11-22 22:29:27,154 INFO sqlalchemy.engine.Engine PRAGMA main.table_info(\"customer_transactions\")\n",
      "2023-11-22 22:29:27,155 INFO sqlalchemy.engine.Engine [raw sql] ()\n",
      "2023-11-22 22:29:27,156 INFO sqlalchemy.engine.Engine PRAGMA main.index_list(\"customer_transactions\")\n",
      "2023-11-22 22:29:27,157 INFO sqlalchemy.engine.Engine [raw sql] ()\n",
      "2023-11-22 22:29:27,157 INFO sqlalchemy.engine.Engine PRAGMA temp.index_list(\"customer_transactions\")\n",
      "2023-11-22 22:29:27,158 INFO sqlalchemy.engine.Engine [raw sql] ()\n",
      "2023-11-22 22:29:27,158 INFO sqlalchemy.engine.Engine PRAGMA main.table_info(\"customer_transactions\")\n",
      "2023-11-22 22:29:27,158 INFO sqlalchemy.engine.Engine [raw sql] ()\n",
      "2023-11-22 22:29:27,159 INFO sqlalchemy.engine.Engine SELECT sql FROM  (SELECT * FROM sqlite_master UNION ALL   SELECT * FROM sqlite_temp_master) WHERE name = ? AND type in ('table', 'view')\n",
      "2023-11-22 22:29:27,159 INFO sqlalchemy.engine.Engine [raw sql] ('customer_transactions',)\n",
      "2023-11-22 22:29:27,163 INFO sqlalchemy.engine.Engine \n",
      "DROP TABLE customer_transactions\n",
      "2023-11-22 22:29:27,163 INFO sqlalchemy.engine.Engine [no key 0.00067s] ()\n",
      "2023-11-22 22:29:27,178 INFO sqlalchemy.engine.Engine \n",
      "CREATE TABLE customer_transactions (\n",
      "\ttxn_id VARCHAR(10), \n",
      "\tavail_date DATE, \n",
      "\tlast_name VARCHAR(20), \n",
      "\tfirst_name VARCHAR(20), \n",
      "\tbirthday DATE\n",
      ")\n",
      "\n",
      "\n",
      "2023-11-22 22:29:27,179 INFO sqlalchemy.engine.Engine [no key 0.00077s] ()\n",
      "2023-11-22 22:29:27,839 INFO sqlalchemy.engine.Engine INSERT INTO customer_transactions (txn_id, avail_date, last_name, first_name, birthday) VALUES (?, ?, ?, ?, ?)\n",
      "2023-11-22 22:29:27,839 INFO sqlalchemy.engine.Engine [generated in 0.50928s] [('TXN-24546', '2030-09-08', 'ORTIZ', 'EDUARDO', '1990-07-08'), ('TXN-14642', '2026-05-26', 'NIENOW', 'LEA', '2000-11-26'), ('TXN-60295', '2006-09-25', 'LESCH', 'FLETA', '1993-05-22'), ('TXN-60295', '2006-09-25', 'LESCH', 'FLETA', '1993-05-22'), ('TXN-60295', '2006-09-25', 'LESCH', 'FLETA', '1993-05-22'), ('TXN-60295', '2006-09-25', 'LESCH', 'FLETA', '1993-05-22'), ('TXN-40462', '2021-08-21', 'KUHN', 'TOD', '2002-11-25'), ('TXN-40462', '2021-08-21', 'KUHN', 'TOD', '2002-11-25')  ... displaying 10 of 130653 total bound parameter sets ...  ('TXN-01784', '2015-01-11', 'Schmidt', 'Emilie', '1996-05-21'), ('TXN-01784', '2015-01-11', 'Schmidt', 'Emilie', '1996-05-21')]\n",
      "2023-11-22 22:29:27,997 INFO sqlalchemy.engine.Engine COMMIT\n"
     ]
    },
    {
     "data": {
      "text/plain": [
       "130653"
      ]
     },
     "execution_count": 12,
     "metadata": {},
     "output_type": "execute_result"
    }
   ],
   "source": [
    "df_customer_transaction['avail_date'] = pd.to_datetime(df_customer_transaction['avail_date'], errors='coerce')\n",
    "df_customer_transaction['birthday'] = pd.to_datetime(df_customer_transaction['birthday'], errors='coerce')\n",
    "engine = create_engine('sqlite:///customer_transactions.db', echo=True)\n",
    "df_customer_transaction.to_sql('customer_transactions', con=engine, if_exists='replace', index=False,\n",
    "                              dtype={\n",
    "                                  \"txn_id\": VARCHAR(10),\n",
    "                                  \"avail_date\" : DATE,\n",
    "                                  \"last_name\" : VARCHAR(20),\n",
    "                                  \"first_name\" : VARCHAR(20),\n",
    "                                  \"birthday\" : DATE,\n",
    "                              })\n"
   ]
  },
  {
   "cell_type": "raw",
   "id": "00d68b16-ccc4-4c23-ae44-9cc0f30d2648",
   "metadata": {},
   "source": [
    "# Cleaning the Database"
   ]
  },
  {
   "cell_type": "code",
   "execution_count": null,
   "id": "4520428d-b9c9-49b2-b53d-dd686dfe9704",
   "metadata": {},
   "outputs": [],
   "source": [
    "## Checking for duplicates"
   ]
  },
  {
   "cell_type": "code",
   "execution_count": null,
   "id": "f226337f-7ccb-4d48-b25b-2e973cb1a507",
   "metadata": {},
   "outputs": [],
   "source": [
    "##### Detects the duplicated data"
   ]
  },
  {
   "cell_type": "code",
   "execution_count": null,
   "id": "451ba222-3805-4c7a-855c-d2aa485e335e",
   "metadata": {},
   "outputs": [
    {
     "name": "stdout",
     "output_type": "stream",
     "text": [
      "           txn_id avail_date last_name first_name   birthday\n",
      "0       TXN-24546 2030-09-08     ORTIZ    EDUARDO 1990-07-08\n",
      "1       TXN-14642 2026-05-26    NIENOW        LEA 2000-11-26\n",
      "2       TXN-60295 2006-09-25     LESCH      FLETA 1993-05-22\n",
      "3       TXN-60295 2006-09-25     LESCH      FLETA 1993-05-22\n",
      "4       TXN-60295 2006-09-25     LESCH      FLETA 1993-05-22\n",
      "...           ...        ...       ...        ...        ...\n",
      "130648  TXN-65468 2012-06-16  Cummings      Henry 2005-08-14\n",
      "130649  TXN-60822 2020-09-28      Feil     Jermey 2010-06-15\n",
      "130650  TXN-60822 2020-09-28      Feil     Jermey 2010-06-15\n",
      "130651  TXN-01784 2015-01-11   Schmidt     Emilie 1996-05-21\n",
      "130652  TXN-01784 2015-01-11   Schmidt     Emilie 1996-05-21\n",
      "\n",
      "[103233 rows x 5 columns]\n"
     ]
    }
   ],
   "source": [
    "print(df_customer_transaction[df_customer_transaction['txn_id'].duplicated(keep=False)])"
   ]
  },
  {
   "cell_type": "code",
   "execution_count": null,
   "id": "00b918bb-26d7-40fd-8eb5-4d1c01a07fa2",
   "metadata": {},
   "outputs": [],
   "source": [
    "##### Stores the detected data on a variable "
   ]
  },
  {
   "cell_type": "code",
   "execution_count": null,
   "id": "657e9565-759a-4dba-99e9-795968c5725a",
   "metadata": {},
   "outputs": [],
   "source": [
    "df_Duplicated_Customers = df_customer_transaction[df_customer_transaction.duplicated(keep=False)]"
   ]
  },
  {
   "cell_type": "code",
   "execution_count": null,
   "id": "d7ec5d1a-f8bf-4c40-9883-f521632e198d",
   "metadata": {},
   "outputs": [
    {
     "name": "stdout",
     "output_type": "stream",
     "text": [
      "           txn_id avail_date last_name first_name   birthday\n",
      "2       TXN-60295 2006-09-25     LESCH      FLETA 1993-05-22\n",
      "3       TXN-60295 2006-09-25     LESCH      FLETA 1993-05-22\n",
      "4       TXN-60295 2006-09-25     LESCH      FLETA 1993-05-22\n",
      "5       TXN-60295 2006-09-25     LESCH      FLETA 1993-05-22\n",
      "6       TXN-40462 2021-08-21      KUHN        TOD 2002-11-25\n",
      "...           ...        ...       ...        ...        ...\n",
      "130648  TXN-65468 2012-06-16  Cummings      Henry 2005-08-14\n",
      "130649  TXN-60822 2020-09-28      Feil     Jermey 2010-06-15\n",
      "130650  TXN-60822 2020-09-28      Feil     Jermey 2010-06-15\n",
      "130651  TXN-01784 2015-01-11   Schmidt     Emilie 1996-05-21\n",
      "130652  TXN-01784 2015-01-11   Schmidt     Emilie 1996-05-21\n",
      "\n",
      "[92814 rows x 5 columns]\n"
     ]
    }
   ],
   "source": [
    "print(df_Duplicated_Customers)"
   ]
  },
  {
   "cell_type": "code",
   "execution_count": null,
   "id": "06568334-fac4-45b3-8f3e-7f450997cf27",
   "metadata": {},
   "outputs": [],
   "source": [
    "df_DropDuplicated_Customers = df_customer_transaction.drop_duplicates()"
   ]
  },
  {
   "cell_type": "code",
   "execution_count": null,
   "id": "caf6f81a-b1e8-43ba-b9c3-9283b6772f79",
   "metadata": {},
   "outputs": [
    {
     "name": "stdout",
     "output_type": "stream",
     "text": [
      "           txn_id avail_date last_name first_name   birthday\n",
      "0       TXN-24546 2030-09-08     ORTIZ    EDUARDO 1990-07-08\n",
      "1       TXN-14642 2026-05-26    NIENOW        LEA 2000-11-26\n",
      "2       TXN-60295 2006-09-25     LESCH      FLETA 1993-05-22\n",
      "6       TXN-40462 2021-08-21      KUHN        TOD 2002-11-25\n",
      "8       TXN-08102 2010-04-03   JOHNSON     MILTON 2003-07-10\n",
      "...           ...        ...       ...        ...        ...\n",
      "130643  TXN-11897 2027-06-19   Reinger     Conrad 1996-12-03\n",
      "130646  TXN-43876 2021-11-13    Jewess      Lucio 1996-07-05\n",
      "130647  TXN-65468 2012-06-16  Cummings      Henry 2005-08-14\n",
      "130649  TXN-60822 2020-09-28      Feil     Jermey 2010-06-15\n",
      "130651  TXN-01784 2015-01-11   Schmidt     Emilie 1996-05-21\n",
      "\n",
      "[72355 rows x 5 columns]\n"
     ]
    }
   ],
   "source": [
    "print(df_DropDuplicated_Customers)"
   ]
  },
  {
   "cell_type": "code",
   "execution_count": null,
   "id": "82c9aa9b-eac9-4f17-8287-9668acfc80b0",
   "metadata": {},
   "outputs": [
    {
     "ename": "InvalidIndexError",
     "evalue": "(0         True\n1         True\n2         True\n6         True\n8         True\n          ... \n130643    True\n130646    True\n130647    True\n130649    True\n130651    True\nName: first_name, Length: 72355, dtype: bool, 0         True\n1         True\n2         True\n6         True\n8         True\n          ... \n130643    True\n130646    True\n130647    True\n130649    True\n130651    True\nName: last_name, Length: 72355, dtype: bool)",
     "output_type": "error",
     "traceback": [
      "\u001b[1;31m---------------------------------------------------------------------------\u001b[0m",
      "\u001b[1;31mTypeError\u001b[0m                                 Traceback (most recent call last)",
      "File \u001b[1;32m~\\AppData\\Local\\Programs\\Python\\Python312\\Lib\\site-packages\\pandas\\core\\indexes\\base.py:3790\u001b[0m, in \u001b[0;36mIndex.get_loc\u001b[1;34m(self, key)\u001b[0m\n\u001b[0;32m   3789\u001b[0m \u001b[39mtry\u001b[39;00m:\n\u001b[1;32m-> 3790\u001b[0m     \u001b[39mreturn\u001b[39;00m \u001b[39mself\u001b[39;49m\u001b[39m.\u001b[39;49m_engine\u001b[39m.\u001b[39;49mget_loc(casted_key)\n\u001b[0;32m   3791\u001b[0m \u001b[39mexcept\u001b[39;00m \u001b[39mKeyError\u001b[39;00m \u001b[39mas\u001b[39;00m err:\n",
      "File \u001b[1;32mindex.pyx:152\u001b[0m, in \u001b[0;36mpandas._libs.index.IndexEngine.get_loc\u001b[1;34m()\u001b[0m\n",
      "File \u001b[1;32mindex.pyx:158\u001b[0m, in \u001b[0;36mpandas._libs.index.IndexEngine.get_loc\u001b[1;34m()\u001b[0m\n",
      "\u001b[1;31mTypeError\u001b[0m: '(0         True\n1         True\n2         True\n6         True\n8         True\n          ... \n130643    True\n130646    True\n130647    True\n130649    True\n130651    True\nName: first_name, Length: 72355, dtype: bool, 0         True\n1         True\n2         True\n6         True\n8         True\n          ... \n130643    True\n130646    True\n130647    True\n130649    True\n130651    True\nName: last_name, Length: 72355, dtype: bool)' is an invalid key",
      "\nDuring handling of the above exception, another exception occurred:\n",
      "\u001b[1;31mInvalidIndexError\u001b[0m                         Traceback (most recent call last)",
      "\u001b[1;32mc:\\Users\\nigel\\Documents\\LabExercise3\\Sebastian.ipynb Cell 23\u001b[0m line \u001b[0;36m1\n\u001b[1;32m----> <a href='vscode-notebook-cell:/c%3A/Users/nigel/Documents/LabExercise3/Sebastian.ipynb#X31sZmlsZQ%3D%3D?line=0'>1</a>\u001b[0m \u001b[39mprint\u001b[39m(df_DropDuplicated_Customers[df_DropDuplicated_Customers[\u001b[39m'\u001b[39;49m\u001b[39mfirst_name\u001b[39;49m\u001b[39m'\u001b[39;49m]\u001b[39m.\u001b[39;49mstr\u001b[39m.\u001b[39;49misalpha(), df_DropDuplicated_Customers[\u001b[39m'\u001b[39;49m\u001b[39mlast_name\u001b[39;49m\u001b[39m'\u001b[39;49m]\u001b[39m.\u001b[39;49mstr\u001b[39m.\u001b[39;49misalpha()])\n",
      "File \u001b[1;32m~\\AppData\\Local\\Programs\\Python\\Python312\\Lib\\site-packages\\pandas\\core\\frame.py:3893\u001b[0m, in \u001b[0;36mDataFrame.__getitem__\u001b[1;34m(self, key)\u001b[0m\n\u001b[0;32m   3891\u001b[0m \u001b[39mif\u001b[39;00m \u001b[39mself\u001b[39m\u001b[39m.\u001b[39mcolumns\u001b[39m.\u001b[39mnlevels \u001b[39m>\u001b[39m \u001b[39m1\u001b[39m:\n\u001b[0;32m   3892\u001b[0m     \u001b[39mreturn\u001b[39;00m \u001b[39mself\u001b[39m\u001b[39m.\u001b[39m_getitem_multilevel(key)\n\u001b[1;32m-> 3893\u001b[0m indexer \u001b[39m=\u001b[39m \u001b[39mself\u001b[39;49m\u001b[39m.\u001b[39;49mcolumns\u001b[39m.\u001b[39;49mget_loc(key)\n\u001b[0;32m   3894\u001b[0m \u001b[39mif\u001b[39;00m is_integer(indexer):\n\u001b[0;32m   3895\u001b[0m     indexer \u001b[39m=\u001b[39m [indexer]\n",
      "File \u001b[1;32m~\\AppData\\Local\\Programs\\Python\\Python312\\Lib\\site-packages\\pandas\\core\\indexes\\base.py:3802\u001b[0m, in \u001b[0;36mIndex.get_loc\u001b[1;34m(self, key)\u001b[0m\n\u001b[0;32m   3797\u001b[0m     \u001b[39mraise\u001b[39;00m \u001b[39mKeyError\u001b[39;00m(key) \u001b[39mfrom\u001b[39;00m \u001b[39merr\u001b[39;00m\n\u001b[0;32m   3798\u001b[0m \u001b[39mexcept\u001b[39;00m \u001b[39mTypeError\u001b[39;00m:\n\u001b[0;32m   3799\u001b[0m     \u001b[39m# If we have a listlike key, _check_indexing_error will raise\u001b[39;00m\n\u001b[0;32m   3800\u001b[0m     \u001b[39m#  InvalidIndexError. Otherwise we fall through and re-raise\u001b[39;00m\n\u001b[0;32m   3801\u001b[0m     \u001b[39m#  the TypeError.\u001b[39;00m\n\u001b[1;32m-> 3802\u001b[0m     \u001b[39mself\u001b[39;49m\u001b[39m.\u001b[39;49m_check_indexing_error(key)\n\u001b[0;32m   3803\u001b[0m     \u001b[39mraise\u001b[39;00m\n",
      "File \u001b[1;32m~\\AppData\\Local\\Programs\\Python\\Python312\\Lib\\site-packages\\pandas\\core\\indexes\\base.py:5974\u001b[0m, in \u001b[0;36mIndex._check_indexing_error\u001b[1;34m(self, key)\u001b[0m\n\u001b[0;32m   5970\u001b[0m \u001b[39mdef\u001b[39;00m \u001b[39m_check_indexing_error\u001b[39m(\u001b[39mself\u001b[39m, key):\n\u001b[0;32m   5971\u001b[0m     \u001b[39mif\u001b[39;00m \u001b[39mnot\u001b[39;00m is_scalar(key):\n\u001b[0;32m   5972\u001b[0m         \u001b[39m# if key is not a scalar, directly raise an error (the code below\u001b[39;00m\n\u001b[0;32m   5973\u001b[0m         \u001b[39m# would convert to numpy arrays and raise later any way) - GH29926\u001b[39;00m\n\u001b[1;32m-> 5974\u001b[0m         \u001b[39mraise\u001b[39;00m InvalidIndexError(key)\n",
      "\u001b[1;31mInvalidIndexError\u001b[0m: (0         True\n1         True\n2         True\n6         True\n8         True\n          ... \n130643    True\n130646    True\n130647    True\n130649    True\n130651    True\nName: first_name, Length: 72355, dtype: bool, 0         True\n1         True\n2         True\n6         True\n8         True\n          ... \n130643    True\n130646    True\n130647    True\n130649    True\n130651    True\nName: last_name, Length: 72355, dtype: bool)"
     ]
    }
   ],
   "source": [
    "print(df_DropDuplicated_Customers[df_DropDuplicated_Customers['first_name'].str.isalpha(), df_DropDuplicated_Customers['l_name'].str.isalpha()])"
   ]
  },
  {
   "cell_type": "code",
   "execution_count": null,
   "id": "0655002e-26d2-4386-96e2-4faef77c9bc9",
   "metadata": {},
   "outputs": [
    {
     "name": "stdout",
     "output_type": "stream",
     "text": [
      "2023-11-22 11:15:01,390 INFO sqlalchemy.engine.Engine BEGIN (implicit)\n",
      "2023-11-22 11:15:01,400 INFO sqlalchemy.engine.Engine PRAGMA main.table_info(\"customer_transactions\")\n",
      "2023-11-22 11:15:01,400 INFO sqlalchemy.engine.Engine [raw sql] ()\n",
      "2023-11-22 11:15:01,401 INFO sqlalchemy.engine.Engine PRAGMA main.table_info(\"customer_transactions\")\n",
      "2023-11-22 11:15:01,402 INFO sqlalchemy.engine.Engine [raw sql] ()\n",
      "2023-11-22 11:15:01,402 INFO sqlalchemy.engine.Engine SELECT name FROM sqlite_master WHERE type='table' AND name NOT LIKE 'sqlite~_%' ESCAPE '~' ORDER BY name\n",
      "2023-11-22 11:15:01,402 INFO sqlalchemy.engine.Engine [raw sql] ()\n",
      "2023-11-22 11:15:01,404 INFO sqlalchemy.engine.Engine SELECT name FROM sqlite_master WHERE type='view' AND name NOT LIKE 'sqlite~_%' ESCAPE '~' ORDER BY name\n",
      "2023-11-22 11:15:01,405 INFO sqlalchemy.engine.Engine [raw sql] ()\n",
      "2023-11-22 11:15:01,405 INFO sqlalchemy.engine.Engine PRAGMA main.table_xinfo(\"customer_transactions\")\n",
      "2023-11-22 11:15:01,406 INFO sqlalchemy.engine.Engine [raw sql] ()\n",
      "2023-11-22 11:15:01,407 INFO sqlalchemy.engine.Engine SELECT sql FROM  (SELECT * FROM sqlite_master UNION ALL   SELECT * FROM sqlite_temp_master) WHERE name = ? AND type in ('table', 'view')\n",
      "2023-11-22 11:15:01,407 INFO sqlalchemy.engine.Engine [raw sql] ('customer_transactions',)\n",
      "2023-11-22 11:15:01,408 INFO sqlalchemy.engine.Engine PRAGMA main.foreign_key_list(\"customer_transactions\")\n",
      "2023-11-22 11:15:01,408 INFO sqlalchemy.engine.Engine [raw sql] ()\n",
      "2023-11-22 11:15:01,409 INFO sqlalchemy.engine.Engine PRAGMA temp.foreign_key_list(\"customer_transactions\")\n",
      "2023-11-22 11:15:01,409 INFO sqlalchemy.engine.Engine [raw sql] ()\n",
      "2023-11-22 11:15:01,410 INFO sqlalchemy.engine.Engine SELECT sql FROM  (SELECT * FROM sqlite_master UNION ALL   SELECT * FROM sqlite_temp_master) WHERE name = ? AND type in ('table', 'view')\n",
      "2023-11-22 11:15:01,410 INFO sqlalchemy.engine.Engine [raw sql] ('customer_transactions',)\n",
      "2023-11-22 11:15:01,411 INFO sqlalchemy.engine.Engine PRAGMA main.index_list(\"customer_transactions\")\n",
      "2023-11-22 11:15:01,411 INFO sqlalchemy.engine.Engine [raw sql] ()\n",
      "2023-11-22 11:15:01,412 INFO sqlalchemy.engine.Engine PRAGMA temp.index_list(\"customer_transactions\")\n",
      "2023-11-22 11:15:01,412 INFO sqlalchemy.engine.Engine [raw sql] ()\n",
      "2023-11-22 11:15:01,412 INFO sqlalchemy.engine.Engine PRAGMA main.table_info(\"customer_transactions\")\n",
      "2023-11-22 11:15:01,412 INFO sqlalchemy.engine.Engine [raw sql] ()\n",
      "2023-11-22 11:15:01,414 INFO sqlalchemy.engine.Engine PRAGMA main.index_list(\"customer_transactions\")\n",
      "2023-11-22 11:15:01,414 INFO sqlalchemy.engine.Engine [raw sql] ()\n",
      "2023-11-22 11:15:01,415 INFO sqlalchemy.engine.Engine PRAGMA temp.index_list(\"customer_transactions\")\n",
      "2023-11-22 11:15:01,415 INFO sqlalchemy.engine.Engine [raw sql] ()\n",
      "2023-11-22 11:15:01,416 INFO sqlalchemy.engine.Engine PRAGMA main.table_info(\"customer_transactions\")\n",
      "2023-11-22 11:15:01,416 INFO sqlalchemy.engine.Engine [raw sql] ()\n",
      "2023-11-22 11:15:01,417 INFO sqlalchemy.engine.Engine SELECT sql FROM  (SELECT * FROM sqlite_master UNION ALL   SELECT * FROM sqlite_temp_master) WHERE name = ? AND type in ('table', 'view')\n",
      "2023-11-22 11:15:01,417 INFO sqlalchemy.engine.Engine [raw sql] ('customer_transactions',)\n",
      "2023-11-22 11:15:01,419 INFO sqlalchemy.engine.Engine \n",
      "DROP TABLE customer_transactions\n",
      "2023-11-22 11:15:01,419 INFO sqlalchemy.engine.Engine [no key 0.00038s] ()\n",
      "2023-11-22 11:15:01,428 INFO sqlalchemy.engine.Engine \n",
      "CREATE TABLE customer_transactions (\n",
      "\ttxn_id TEXT, \n",
      "\tavail_date DATETIME, \n",
      "\tlast_name TEXT, \n",
      "\tfirst_name TEXT, \n",
      "\tbirthday DATETIME\n",
      ")\n",
      "\n",
      "\n",
      "2023-11-22 11:15:01,428 INFO sqlalchemy.engine.Engine [no key 0.00084s] ()\n",
      "2023-11-22 11:15:01,935 INFO sqlalchemy.engine.Engine INSERT INTO customer_transactions (txn_id, avail_date, last_name, first_name, birthday) VALUES (?, ?, ?, ?, ?)\n",
      "2023-11-22 11:15:01,936 INFO sqlalchemy.engine.Engine [generated in 0.40596s] [('TXN-24546', '2030-09-08 00:00:00.000000', 'ORTIZ', 'EDUARDO', '1990-07-08 00:00:00.000000'), ('TXN-14642', '2026-05-26 00:00:00.000000', 'NIENOW', 'LEA', '2000-11-26 00:00:00.000000'), ('TXN-60295', '2006-09-25 00:00:00.000000', 'LESCH', 'FLETA', '1993-05-22 00:00:00.000000'), ('TXN-40462', '2021-08-21 00:00:00.000000', 'KUHN', 'TOD', '2002-11-25 00:00:00.000000'), ('TXN-08102', '2010-04-03 00:00:00.000000', 'JOHNSON', 'MILTON', '2003-07-10 00:00:00.000000'), ('TXN-64262', '2018-11-23 00:00:00.000000', 'HACKETT', 'MACI', '2005-06-20 00:00:00.000000'), ('TXN-41934', '2025-03-07 00:00:00.000000', 'HANE', 'SYLVAN', '2007-07-02 00:00:00.000000'), ('TXN-39050', '2028-11-09 00:00:00.000000', 'MAYER', 'TREMAINE', '1990-02-01 00:00:00.000000')  ... displaying 10 of 72355 total bound parameter sets ...  ('TXN-60822', '2020-09-28 00:00:00.000000', 'Feil', 'Jermey', '2010-06-15 00:00:00.000000'), ('TXN-01784', '2015-01-11 00:00:00.000000', 'Schmidt', 'Emilie', '1996-05-21 00:00:00.000000')]\n",
      "2023-11-22 11:15:02,051 INFO sqlalchemy.engine.Engine COMMIT\n"
     ]
    },
    {
     "data": {
      "text/plain": [
       "72355"
      ]
     },
     "execution_count": 10,
     "metadata": {},
     "output_type": "execute_result"
    }
   ],
   "source": [
    "engine = create_engine('sqlite:///Clean_customer_transactions.db', echo=True)\n",
    "df_DropDuplicated_Customers.to_sql('customer_transactions', con=engine, if_exists='replace', index=False)"
   ]
  },
  {
   "cell_type": "markdown",
   "id": "10aa34ba",
   "metadata": {},
   "source": [
    "## Dates"
   ]
  }
 ],
 "metadata": {
  "kernelspec": {
   "display_name": "Python 3 (ipykernel)",
   "language": "python",
   "name": "python3"
  },
  "language_info": {
   "codemirror_mode": {
    "name": "ipython",
    "version": 3
   },
   "file_extension": ".py",
   "mimetype": "text/x-python",
   "name": "python",
   "nbconvert_exporter": "python",
   "pygments_lexer": "ipython3",
   "version": "3.12.0"
  }
 },
 "nbformat": 4,
 "nbformat_minor": 5
}
